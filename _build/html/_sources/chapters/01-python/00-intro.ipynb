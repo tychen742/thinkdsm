{
 "cells": [
  {
   "cell_type": "markdown",
   "id": "ac5232f3",
   "metadata": {},
   "source": [
    "# Introduction to the Python \n",
    "\n",
    "This Python introduction is designed for individuals who already have some programming experience. If you feel that you need a stronger background beyond the basics of programming, you may want to consider taking a short online tutorials that is specifically geared towards Python beginners.\n",
    "\n"
   ]
  }
 ],
 "metadata": {
  "language_info": {
   "name": "python"
  }
 },
 "nbformat": 4,
 "nbformat_minor": 5
}
