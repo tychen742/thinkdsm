{
 "cells": [
  {
   "cell_type": "markdown",
   "id": "4ca9814b",
   "metadata": {},
   "source": [
    "# Introduction to NumPy\n",
    "\n",
    "NumPy, or Numerical Python, is the foundation for Pythonic data science, machine learning, and scientific libraries like **pandas**, **scikit-learn**, and **TensorFlow**. Learning NumPy is to understand the basics of how these other tools work. NumPy (or Numpy) is basically a linear algebra library for Python. Numpy is important for Data Science because almost all of the libraries in the PyData Ecosystem rely on NumPy as one of their main building blocks. \n",
    "\n",
    "NumPy provides built-in tools for math, statistics, and linear algebra. NumPy makes numerical computing in Python **fast, efficient, and powerful**."
   ]
  },
  {
   "cell_type": "markdown",
   "id": "e4b7e9c0",
   "metadata": {},
   "source": [
    "## NumPy Data Structure\n",
    "\n",
    "The primary data structure in NumPy is the N-dimensional array, or `ndarray`. NumPy's arrays are a list of lists in Python, but more compact than Python lists. In essence, a Python list is an array of pointers to heterogenous Python objects, while a NumPy array is an array of uniform values of the same type ({numref}`c-vs-python-list`). Python lists there are more flexible, but Numpy arrays are smaller in file size and access in reading and writing items is much faster {cite}`Martelli_2009`.\n",
    "\n",
    "<!-- , at least 4 bytes per pointer plus 16 bytes for even the smallest Python object (4 for type pointer, 4 for reference count, 4 for value -- and the memory allocators rounds up to 16).  -->\n",
    "\n",
    "<!-- (4 bytes each for single-precision numbers and 8 bytes double-precision).  -->\n",
    "\n",
    "\n",
    "```{figure} ../images/c-vs-python-list.png\n",
    "---\n",
    "width: 350px\n",
    "name: c-vs-python-list\n",
    "alt: c-vs-python-list\n",
    "align: center\n",
    "---\n",
    "Difference between C and Python lists {cite}`Vanderplas_2022`\n",
    "```\n",
    "\n",
    "<!-- <img src=\"../images/c-vs-python-list.png\"\n",
    "alt=\"c-vs-python-list\"\n",
    "style = \"width: 350px\"> \n",
    "name= \"c-vs-python-list\"\n",
    "caption = Difference between C and Python lists {cite}`Vanderplas_2022`\n",
    "-->"
   ]
  },
  {
   "cell_type": "markdown",
   "id": "6882eaa8",
   "metadata": {},
   "source": [
    "## Installing NumPy\n",
    "\n",
    "To install NumPy, do one of the following:\n",
    "At command line, navigate to your project directory (dsm), activate the virtual environment, then use the `pip install` [package] syntax: \n",
    "```\n",
    "pip install numpy\n",
    "```\n",
    "<!-- <code>\n",
    "pip install numpy\n",
    "</code> -->"
   ]
  },
  {
   "cell_type": "markdown",
   "id": "a0bb0dc3",
   "metadata": {},
   "source": [
    "You should see the installation happens like:\n",
    "\n",
    "```python\n",
    "(.venv) tychen✪macː~/workspace/dsm$ pip install numpy\n",
    "Collecting numpy\n",
    "Downloading numpy-2.3.3-cp312-cp312-macosx_14_0_arm64.whl.metadata (62 kB)\n",
    "     ━━━━━━━━━━━━━━━━━━━━━━━━━━━━━━━━━━━━━━━━ 62.1/62.1 kB 1.3 MB/s eta 0:00:00\n",
    "Downloading numpy-2.3.3-cp312-cp312-macosx_14_0_arm64.whl (5.1 MB)\n",
    "   ━━━━━━━━━━━━━━━━━━━━━━━━━━━━━━━━━━━━━━━━ 5.1/5.1 MB 4.1 MB/s eta 0:00:00\n",
    "Installing collected packages: numpy\n",
    "Successfully installed numpy-2.3.3\n",
    "```\n"
   ]
  },
  {
   "cell_type": "markdown",
   "id": "01edd9f6",
   "metadata": {},
   "source": [
    "```{note}\n",
    "Alternatively, in a Jupyter notebook, you may issue `%pip install` [package] in a code cell to install packages just like like `pip install` [package] in the command line. You will see people use `!pip install` as well. `!pip` runs pip as a shell command, while `%pip` is a Jupyter magic function that works in the current running notebook kernel, which allows you to customize your notebooks. \n",
    "\n",
    "Don't forget to comment out your `pip` commands in the cells, or it will keep running every time you run the cells.\n",
    "```"
   ]
  },
  {
   "cell_type": "markdown",
   "id": "f671df0f",
   "metadata": {
    "vscode": {
     "languageId": "plaintext"
    }
   },
   "source": [
    "## Using NumPy\n",
    "\n",
    "Once you've installed NumPy you can import it as a library:"
   ]
  },
  {
   "cell_type": "code",
   "execution_count": null,
   "id": "3f2f0955",
   "metadata": {
    "vscode": {
     "languageId": "plaintext"
    }
   },
   "outputs": [],
   "source": [
    "import numpy as np"
   ]
  },
  {
   "cell_type": "markdown",
   "id": "c9d368e5",
   "metadata": {},
   "source": [
    "Numpy has many built-in functions and capabilities. For example:\n",
    "```\n",
    "arr = np.array([1, 2, 3, 4, 5])     ### creating array\n",
    "print(np.mean(arr))                 # mean\n",
    "print(np.std(arr))                  # standard deviation\n",
    "\n",
    "```\n",
    "\n",
    "Here we will focus on some of the most important aspects of Numpy: \n",
    "- vectors\n",
    "- arrays\n",
    "- matrices \n",
    "- number generation. "
   ]
  },
  {
   "cell_type": "markdown",
   "id": "1869378f",
   "metadata": {},
   "source": [
    "## NumPy Arrays\n",
    "\n",
    "NumPy arrays (n-dimensional array, or `ndarray`) NumPy is like a super-powered list that can store numbers in rows and columns. NumPy arrays essentially come in two flavors: vectors and matrices. Vectors are strictly 1-d arrays has only one axis, and matrices are 2-d arrays with two axes: (rows, columns).\n",
    "\n",
    " Mastering arrays, vectorization, and broadcasting will give you a strong foundation for data science and beyond."
   ]
  },
  {
   "cell_type": "markdown",
   "id": "c34df133",
   "metadata": {},
   "source": [
    "### Creating Arrays from Lists\n",
    "You can create an array by directly casting a list to an array. Let us create some lists first:"
   ]
  },
  {
   "cell_type": "code",
   "execution_count": null,
   "id": "22177e00",
   "metadata": {
    "vscode": {
     "languageId": "plaintext"
    }
   },
   "outputs": [],
   "source": [
    "nums_list = [1,2,3]\n",
    "nums_list"
   ]
  },
  {
   "cell_type": "code",
   "execution_count": null,
   "id": "9e36a8c0",
   "metadata": {
    "vscode": {
     "languageId": "plaintext"
    }
   },
   "outputs": [],
   "source": [
    "type(nums_list)"
   ]
  },
  {
   "cell_type": "markdown",
   "id": "2fb0d37c",
   "metadata": {},
   "source": [
    "Now let's cast the list into a numpy array using numpy's `array()` method."
   ]
  },
  {
   "cell_type": "code",
   "execution_count": null,
   "id": "052c3ec5",
   "metadata": {
    "vscode": {
     "languageId": "plaintext"
    }
   },
   "outputs": [],
   "source": [
    "arr = np.array(nums_list)       ### casting a list to a numpy array\n",
    "arr"
   ]
  },
  {
   "cell_type": "code",
   "execution_count": null,
   "id": "eb205e65",
   "metadata": {
    "vscode": {
     "languageId": "plaintext"
    }
   },
   "outputs": [],
   "source": [
    "type(arr)                   ### data type: numpy.ndarray "
   ]
  },
  {
   "cell_type": "markdown",
   "id": "1ec1be56",
   "metadata": {},
   "source": [
    "Casting a Python list of lists into NumPy array:"
   ]
  },
  {
   "cell_type": "code",
   "execution_count": null,
   "id": "6dbb8021",
   "metadata": {
    "vscode": {
     "languageId": "plaintext"
    }
   },
   "outputs": [],
   "source": [
    "arr = np.array([[1, 2, 3],\n",
    "                [4, 5, 6]])\n",
    "print(arr)"
   ]
  },
  {
   "cell_type": "code",
   "execution_count": null,
   "id": "f9cea458",
   "metadata": {
    "vscode": {
     "languageId": "plaintext"
    }
   },
   "outputs": [],
   "source": [
    "list_of_list = [[1,2,3],[4,5,6],[7,8,9]]\n",
    "list_of_list"
   ]
  },
  {
   "cell_type": "markdown",
   "id": "f485f346",
   "metadata": {},
   "source": [
    "Compare the result of evaluation of the Python list above with the NumPy array:"
   ]
  },
  {
   "cell_type": "code",
   "execution_count": null,
   "id": "a1ee280d",
   "metadata": {
    "vscode": {
     "languageId": "plaintext"
    }
   },
   "outputs": [],
   "source": [
    "np.array(list_of_list)"
   ]
  },
  {
   "cell_type": "code",
   "execution_count": null,
   "id": "8a5b2c99",
   "metadata": {
    "vscode": {
     "languageId": "plaintext"
    }
   },
   "outputs": [],
   "source": []
  },
  {
   "cell_type": "markdown",
   "id": "87bb0814",
   "metadata": {
    "vscode": {
     "languageId": "plaintext"
    }
   },
   "source": [
    "### Vectorized Operations \n",
    "\n",
    "NumPy does math on whole arrays at once, which much faster than using loops."
   ]
  },
  {
   "cell_type": "code",
   "execution_count": null,
   "id": "f1391225",
   "metadata": {
    "vscode": {
     "languageId": "plaintext"
    }
   },
   "outputs": [],
   "source": [
    "arr = np.array([1, 2, 3, 4])\n",
    "print(arr * 2)              # multiply each element by 2\n",
    "print(arr + 5)              # add 5 to each element"
   ]
  },
  {
   "cell_type": "markdown",
   "id": "696dd572",
   "metadata": {},
   "source": [
    "### Broadcasting\n",
    "\n",
    "NumPy can combine arrays of different shapes by \\\"stretching\\\" one to match the other."
   ]
  },
  {
   "cell_type": "code",
   "execution_count": null,
   "id": "df7d7722",
   "metadata": {
    "vscode": {
     "languageId": "plaintext"
    }
   },
   "outputs": [],
   "source": [
    "A = np.array([[1, 2, 3],\n",
    "              [4, 5, 6]])\n",
    "\n",
    "B = np.array([10, 20, 30])\n",
    "\n",
    "print(A + B)"
   ]
  },
  {
   "cell_type": "markdown",
   "id": "de2d630f",
   "metadata": {},
   "source": [
    "### NumPy Array Methods\n",
    "\n",
    "NumPy arrays (ndarrays) provide a rich set of methods for various operations, including creation, manipulation, and mathematical computations.\n",
    "\n",
    "#### Array Creation Methods:\n",
    "\n",
    "- `np.array()`: Creates an array from a Python list or tuple.\n",
    "- `np.arange()`: Generates an array with evenly spaced values within a given interval.\n",
    "- `np.zeros()` / `np.ones()` / `np.full()`: Creates arrays filled with zeros, ones, or a specified value, respectively.\n",
    "- `np.zeros_like()` / `np.ones_like()` / `np.full_like()`: Creates arrays with the same shape and data type as another array, filled with zeros, ones, or a specified value.\n",
    "- `np.empty()`: Creates an uninitialized array of a given shape and data type.\n",
    "- `np.identity()`: Returns the identity array (a square array with ones on the main diagonal and zeros elsewhere).\n",
    "\n",
    "#### Array Manipulation Methods:\n",
    "\n",
    "- `reshape()`: Changes the shape of an array without changing its data.\n",
    "- `transpose()`: Swaps the axes of an array.\n",
    "- `flatten()`: Returns a copy of the array collapsed into one dimension.\n",
    "- `resize()`: Changes the shape and size of an array in-place.\n",
    "- `concatenate()` / `stack()`: Joins arrays along an existing or new axis.\n",
    "- `split()`: Divides an array into multiple sub-arrays.\n",
    "\n",
    "#### Mathematical and Statistical Methods:\n",
    "\n",
    "- `sum()` / `min()` / `max()` / `mean()` / `std()`: Computes the sum, minimum, maximum, mean, and standard deviation of array elements, optionally along a specified axis.\n",
    "- `cumsum()` / `cumprod()`: Computes the cumulative sum or product of elements along an axis.\n",
    "- `sqrt()` / `exp()` / `log()`: Applies element-wise mathematical functions like square root, exponential, and logarithm.\n",
    "- `dot()`: Performs matrix multiplication.\n",
    "\n",
    "#### Other Useful Methods/Attributes:\n",
    "\n",
    "- `dtype`: Returns the data type of the array elements.\n",
    "- `ndim`: Returns the number of dimensions of the array.\n",
    "- `itemsize`: Returns the size in bytes of each element in the array.\n",
    "- `copy()`: Returns a copy of the array.\n",
    "- `fill()`: Fills the array with a scalar value.\n",
    "- `clip()`: Limits the values in an array to a specified range.\n"
   ]
  },
  {
   "cell_type": "markdown",
   "id": "0bd1a617",
   "metadata": {},
   "source": [
    "## Built-in Methods\n",
    "\n",
    "There are lots of built-in ways to generate Arrays"
   ]
  },
  {
   "cell_type": "markdown",
   "id": "617e3277",
   "metadata": {},
   "source": [
    "### arange\n",
    "\n",
    "Return evenly spaced values within a given interval."
   ]
  },
  {
   "cell_type": "code",
   "execution_count": null,
   "id": "f2ef0a31",
   "metadata": {
    "vscode": {
     "languageId": "plaintext"
    }
   },
   "outputs": [],
   "source": [
    "np.arange(0,10)"
   ]
  },
  {
   "cell_type": "code",
   "execution_count": null,
   "id": "ab73b61b",
   "metadata": {
    "vscode": {
     "languageId": "plaintext"
    }
   },
   "outputs": [],
   "source": [
    "np.arange(0,11,2)"
   ]
  },
  {
   "cell_type": "markdown",
   "id": "f6242edb",
   "metadata": {},
   "source": [
    "### zeros and ones\n",
    "\n",
    "Generate arrays of zeros or ones"
   ]
  },
  {
   "cell_type": "code",
   "execution_count": null,
   "id": "50c32872",
   "metadata": {
    "vscode": {
     "languageId": "plaintext"
    }
   },
   "outputs": [],
   "source": [
    "np.zeros(3)"
   ]
  },
  {
   "cell_type": "code",
   "execution_count": null,
   "id": "fcfc3ac3",
   "metadata": {
    "vscode": {
     "languageId": "plaintext"
    }
   },
   "outputs": [],
   "source": [
    "np.zeros((5,5))"
   ]
  },
  {
   "cell_type": "code",
   "execution_count": null,
   "id": "064ed195",
   "metadata": {
    "vscode": {
     "languageId": "plaintext"
    }
   },
   "outputs": [],
   "source": [
    "np.ones(3)"
   ]
  },
  {
   "cell_type": "code",
   "execution_count": null,
   "id": "7e09b387",
   "metadata": {
    "vscode": {
     "languageId": "plaintext"
    }
   },
   "outputs": [],
   "source": [
    "np.ones((3,3))"
   ]
  },
  {
   "cell_type": "markdown",
   "id": "b19e5a9d",
   "metadata": {},
   "source": [
    "### linspace\n",
    "Return evenly spaced numbers over a specified interval."
   ]
  },
  {
   "cell_type": "code",
   "execution_count": null,
   "id": "949c7cae",
   "metadata": {
    "vscode": {
     "languageId": "plaintext"
    }
   },
   "outputs": [],
   "source": [
    "np.linspace(0,10,3)"
   ]
  },
  {
   "cell_type": "code",
   "execution_count": null,
   "id": "42681d21",
   "metadata": {
    "vscode": {
     "languageId": "plaintext"
    }
   },
   "outputs": [],
   "source": [
    "np.linspace(0,10,50)"
   ]
  },
  {
   "cell_type": "markdown",
   "id": "54c454f3",
   "metadata": {},
   "source": [
    "### eye\n",
    "Creates an identity matrix"
   ]
  },
  {
   "cell_type": "code",
   "execution_count": null,
   "id": "75a6a9cd",
   "metadata": {
    "vscode": {
     "languageId": "plaintext"
    }
   },
   "outputs": [],
   "source": [
    "np.eye(4)"
   ]
  },
  {
   "cell_type": "markdown",
   "id": "fbd28c05",
   "metadata": {},
   "source": [
    "## Random \n",
    "\n",
    "Numpy also has lots of ways to create random number arrays:\n",
    "\n",
    "### rand\n",
    "Create an array of the given shape and populate it with\n",
    "random samples from a uniform distribution\n",
    "over ``[0, 1)``."
   ]
  },
  {
   "cell_type": "code",
   "execution_count": null,
   "id": "30e291f8",
   "metadata": {
    "vscode": {
     "languageId": "plaintext"
    }
   },
   "outputs": [],
   "source": [
    "np.random.rand(5)"
   ]
  },
  {
   "cell_type": "code",
   "execution_count": null,
   "id": "bca6c174",
   "metadata": {
    "vscode": {
     "languageId": "plaintext"
    }
   },
   "outputs": [],
   "source": [
    "np.random.rand(5,5)"
   ]
  },
  {
   "cell_type": "markdown",
   "id": "beed780c",
   "metadata": {},
   "source": [
    "### randn\n",
    "\n",
    "Return a sample (or samples) from the \"standard normal\" distribution. Unlike rand which is uniform:"
   ]
  },
  {
   "cell_type": "code",
   "execution_count": null,
   "id": "9cab8b0d",
   "metadata": {
    "vscode": {
     "languageId": "plaintext"
    }
   },
   "outputs": [],
   "source": [
    "np.random.randn(5)"
   ]
  },
  {
   "cell_type": "code",
   "execution_count": null,
   "id": "a30ef62b",
   "metadata": {
    "vscode": {
     "languageId": "plaintext"
    }
   },
   "outputs": [],
   "source": [
    "np.random.randn(5,5)"
   ]
  },
  {
   "cell_type": "markdown",
   "id": "abcf3888",
   "metadata": {},
   "source": [
    "### randint\n",
    "Return random integers from `low` (inclusive) to `high` (exclusive)."
   ]
  },
  {
   "cell_type": "code",
   "execution_count": null,
   "id": "ff97dd41",
   "metadata": {
    "vscode": {
     "languageId": "plaintext"
    }
   },
   "outputs": [],
   "source": [
    "np.random.randint(1,100)"
   ]
  },
  {
   "cell_type": "code",
   "execution_count": null,
   "id": "0b273d57",
   "metadata": {
    "vscode": {
     "languageId": "plaintext"
    }
   },
   "outputs": [],
   "source": [
    "np.random.randint(1,100,10)"
   ]
  },
  {
   "cell_type": "markdown",
   "id": "6801dbfb",
   "metadata": {},
   "source": [
    "## Array Attributes and Methods\n",
    "\n",
    "Let's discuss some useful attributes and methods or an array:"
   ]
  },
  {
   "cell_type": "code",
   "execution_count": null,
   "id": "f353161f",
   "metadata": {
    "vscode": {
     "languageId": "plaintext"
    }
   },
   "outputs": [],
   "source": [
    "arr = np.arange(25)\n",
    "ranarr = np.random.randint(0,50,10)"
   ]
  },
  {
   "cell_type": "code",
   "execution_count": null,
   "id": "a3d89c4f",
   "metadata": {
    "vscode": {
     "languageId": "plaintext"
    }
   },
   "outputs": [],
   "source": [
    "arr"
   ]
  },
  {
   "cell_type": "code",
   "execution_count": null,
   "id": "6f1351f9",
   "metadata": {
    "vscode": {
     "languageId": "plaintext"
    }
   },
   "outputs": [],
   "source": [
    "ranarr"
   ]
  },
  {
   "cell_type": "markdown",
   "id": "45b330e0",
   "metadata": {},
   "source": [
    "## Reshape\n",
    "Returns an array containing the same data with a new shape."
   ]
  },
  {
   "cell_type": "code",
   "execution_count": null,
   "id": "dcc187cd",
   "metadata": {
    "vscode": {
     "languageId": "plaintext"
    }
   },
   "outputs": [],
   "source": [
    "arr.reshape(5,5)"
   ]
  },
  {
   "cell_type": "markdown",
   "id": "b1e2bb5e",
   "metadata": {},
   "source": [
    "### max,min,argmax,argmin\n",
    "\n",
    "These are useful methods for finding max or min values. Or to find their index locations using argmin or argmax"
   ]
  },
  {
   "cell_type": "code",
   "execution_count": null,
   "id": "d9f94783",
   "metadata": {
    "vscode": {
     "languageId": "plaintext"
    }
   },
   "outputs": [],
   "source": [
    "ranarr"
   ]
  },
  {
   "cell_type": "code",
   "execution_count": null,
   "id": "fc93a5f0",
   "metadata": {
    "vscode": {
     "languageId": "plaintext"
    }
   },
   "outputs": [],
   "source": [
    "ranarr.max()"
   ]
  },
  {
   "cell_type": "code",
   "execution_count": null,
   "id": "3697a621",
   "metadata": {
    "vscode": {
     "languageId": "plaintext"
    }
   },
   "outputs": [],
   "source": [
    "ranarr.argmax()"
   ]
  },
  {
   "cell_type": "code",
   "execution_count": null,
   "id": "c67e1c22",
   "metadata": {
    "vscode": {
     "languageId": "plaintext"
    }
   },
   "outputs": [],
   "source": [
    "ranarr.min()"
   ]
  },
  {
   "cell_type": "code",
   "execution_count": null,
   "id": "0e70db85",
   "metadata": {
    "vscode": {
     "languageId": "plaintext"
    }
   },
   "outputs": [],
   "source": [
    "ranarr.argmin()"
   ]
  },
  {
   "cell_type": "markdown",
   "id": "a9bd0add",
   "metadata": {},
   "source": [
    "## Shape\n",
    "\n",
    "Shape is an attribute that arrays have (not a method):"
   ]
  },
  {
   "cell_type": "code",
   "execution_count": null,
   "id": "28b69a0b",
   "metadata": {
    "vscode": {
     "languageId": "plaintext"
    }
   },
   "outputs": [],
   "source": [
    "# Vector\n",
    "arr.shape"
   ]
  },
  {
   "cell_type": "code",
   "execution_count": null,
   "id": "ac3976f1",
   "metadata": {
    "vscode": {
     "languageId": "plaintext"
    }
   },
   "outputs": [],
   "source": [
    "# Notice the two sets of brackets\n",
    "arr.reshape(1,25)"
   ]
  },
  {
   "cell_type": "code",
   "execution_count": null,
   "id": "67b461df",
   "metadata": {
    "vscode": {
     "languageId": "plaintext"
    }
   },
   "outputs": [],
   "source": [
    "arr.reshape(1,25).shape"
   ]
  },
  {
   "cell_type": "code",
   "execution_count": null,
   "id": "76436d0f",
   "metadata": {
    "vscode": {
     "languageId": "plaintext"
    }
   },
   "outputs": [],
   "source": [
    "arr.reshape(25,1)"
   ]
  },
  {
   "cell_type": "code",
   "execution_count": null,
   "id": "9853911a",
   "metadata": {
    "vscode": {
     "languageId": "plaintext"
    }
   },
   "outputs": [],
   "source": [
    "arr.reshape(25,1).shape"
   ]
  },
  {
   "cell_type": "markdown",
   "id": "56b44ab8",
   "metadata": {},
   "source": [
    "### dtype\n",
    "\n",
    "You can also grab the data type of the object in the array:"
   ]
  },
  {
   "cell_type": "code",
   "execution_count": null,
   "id": "a0338134",
   "metadata": {
    "vscode": {
     "languageId": "plaintext"
    }
   },
   "outputs": [],
   "source": [
    "arr.dtype"
   ]
  }
 ],
 "metadata": {
  "language_info": {
   "name": "python"
  }
 },
 "nbformat": 4,
 "nbformat_minor": 5
}
