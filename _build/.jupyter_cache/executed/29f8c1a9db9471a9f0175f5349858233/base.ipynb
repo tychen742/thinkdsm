{
 "cells": [
  {
   "cell_type": "code",
   "execution_count": 1,
   "id": "a9e5f62c",
   "metadata": {
    "vscode": {
     "languageId": "plaintext"
    }
   },
   "outputs": [],
   "source": [
    "import numpy as np"
   ]
  }
 ],
 "metadata": {
  "language_info": {
   "codemirror_mode": {
    "name": "ipython",
    "version": 3
   },
   "file_extension": ".py",
   "mimetype": "text/x-python",
   "name": "python",
   "nbconvert_exporter": "python",
   "pygments_lexer": "ipython3",
   "version": "3.13.7"
  }
 },
 "nbformat": 4,
 "nbformat_minor": 5
}