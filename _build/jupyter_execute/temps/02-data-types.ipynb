{
 "cells": [
  {
   "cell_type": "markdown",
   "id": "9597a66c",
   "metadata": {
    "vscode": {
     "languageId": "plaintext"
    }
   },
   "source": [
    "# Python Data Types\n",
    "\n",
    "In this lecture, we begin our discussion of Python by going over basic data types. The lecture demonstrates where to find the Jupyter notebooks for this series and how to access the Python crash course notebook."
   ]
  },
  {
   "cell_type": "markdown",
   "id": "c3d199d6",
   "metadata": {
    "vscode": {
     "languageId": "plaintext"
    }
   },
   "source": [
    "## 1. Numbers\n",
    "Python has two basic number types: the integer (e.g., 1) and the floating point number (e.g., 1.0). With either of these numbers, you can perform basic arithmetic as expected.\n",
    "Python Code Sample"
   ]
  },
  {
   "cell_type": "code",
   "execution_count": 1,
   "id": "1ab80eec",
   "metadata": {},
   "outputs": [
    {
     "data": {
      "text/plain": [
       "16"
      ]
     },
     "execution_count": 1,
     "metadata": {},
     "output_type": "execute_result"
    }
   ],
   "source": [
    "1 + 1\n",
    "1 * 3\n",
    "1 / 2\n",
    "2 ** 4"
   ]
  },
  {
   "cell_type": "markdown",
   "id": "59f9d4c3-c602-4ea7-98b2-c635aaa5c7a1",
   "metadata": {},
   "source": [
    "For addition, use the plus sign. For multiplication, use the asterisk. Division is performed with a forward slash. Note that dividing two integers results in a floating point number. For exponents, use two asterisks together. Python follows the order of operations, and you can use parentheses to clarify the order.\n",
    "Python Code Sample"
   ]
  },
  {
   "cell_type": "code",
   "execution_count": 2,
   "id": "f82ef7e2-7d04-4f9a-a866-e092d2fbf152",
   "metadata": {},
   "outputs": [
    {
     "data": {
      "text/plain": [
       "32"
      ]
     },
     "execution_count": 2,
     "metadata": {},
     "output_type": "execute_result"
    }
   ],
   "source": [
    "2 + 3 * 5 + 5\n",
    "2 + 3 * (5 + 5)"
   ]
  },
  {
   "cell_type": "markdown",
   "id": "05478c63-17da-4426-8a54-011501a0f619",
   "metadata": {},
   "source": [
    "The modulus operation (also known as the mod function) is represented by the percent sign in Python. It returns what remains after the division.\n",
    "Python Code Sample"
   ]
  },
  {
   "cell_type": "code",
   "execution_count": 3,
   "id": "67644ac9-a5dd-494a-871f-33fa6f98a77c",
   "metadata": {},
   "outputs": [
    {
     "data": {
      "text/plain": [
       "0"
      ]
     },
     "execution_count": 3,
     "metadata": {},
     "output_type": "execute_result"
    }
   ],
   "source": [
    "4 % 2\n",
    "5 % 2\n",
    "8 % 2"
   ]
  },
  {
   "cell_type": "markdown",
   "id": "b5144b0c-6268-4975-8e70-39c9dedd5a6a",
   "metadata": {},
   "source": [
    "Variable Assignments\n",
    "Variables are assigned using the equal sign. Choose a variable name and assign an object or data type to it.\n",
    "Python Code Sample"
   ]
  },
  {
   "cell_type": "code",
   "execution_count": 4,
   "id": "3ac1fcd0-c9da-4f5b-b6d1-ddf5f622d7d1",
   "metadata": {},
   "outputs": [],
   "source": [
    "var = 2\n",
    "x = 2\n",
    "y = 3\n",
    "x + y\n",
    "x = x + x"
   ]
  },
  {
   "cell_type": "markdown",
   "id": "d3b810f6-9440-49ff-bcb5-76f05dab517a",
   "metadata": {},
   "source": [
    "Variable names should not start with numbers or special symbols. Use lowercase letters, and to chain together multiple words, use underscores.\n",
    "Python Code Sample"
   ]
  },
  {
   "cell_type": "code",
   "execution_count": 5,
   "id": "0fbfdad4-05fc-461f-ba03-16940dcab0eb",
   "metadata": {},
   "outputs": [],
   "source": [
    "#12var = 12\n",
    "#$var = 5\n",
    "name_of_var = 10"
   ]
  },
  {
   "cell_type": "markdown",
   "id": "41d07a9b-f690-4cd8-b49c-5f3d453ef3d2",
   "metadata": {},
   "source": [
    "## 2. Strings\n",
    "Strings can be created using single or double quotes. You can also wrap double quotes around single quotes if you need to include a quote inside the string.\n",
    "Python Code Sample"
   ]
  },
  {
   "cell_type": "code",
   "execution_count": 6,
   "id": "d637b906-d327-49ab-85e3-d69d3ea79e02",
   "metadata": {},
   "outputs": [
    {
     "data": {
      "text/plain": [
       "\"I can't go\""
      ]
     },
     "execution_count": 6,
     "metadata": {},
     "output_type": "execute_result"
    }
   ],
   "source": [
    "'hello'\n",
    "\"hello\"\n",
    "\"I can't go\""
   ]
  },
  {
   "cell_type": "markdown",
   "id": "a3d5846a-7c57-4fbe-a717-adb80ae2e552",
   "metadata": {},
   "source": [
    "Printing Strings and Print Formatting\n",
    "Assign a string to a variable and print it. In Jupyter Notebook, typing the variable name displays the value, but to officially display output in Python, use the print statement."
   ]
  },
  {
   "cell_type": "code",
   "execution_count": 7,
   "id": "71ef3189-cd15-4d18-b0c6-6fc7fe5b68d7",
   "metadata": {},
   "outputs": [
    {
     "name": "stdout",
     "output_type": "stream",
     "text": [
      "hello\n"
     ]
    }
   ],
   "source": [
    "x = 'hello'\n",
    "print(x)"
   ]
  },
  {
   "cell_type": "markdown",
   "id": "ad455719-f573-48d3-988b-b5f3945177e7",
   "metadata": {},
   "source": [
    "### Print Formatting with .format()\n",
    "You can format print statements by inserting curly brackets in your string and using the .format() method to fill them with variable values."
   ]
  },
  {
   "cell_type": "code",
   "execution_count": 8,
   "id": "8c4dbc68-321e-4c09-b29c-546b56a45548",
   "metadata": {},
   "outputs": [
    {
     "name": "stdout",
     "output_type": "stream",
     "text": [
      "My number is 12 and my name is Sam\n"
     ]
    }
   ],
   "source": [
    "num = 12\n",
    "name = 'Sam'\n",
    "print('My number is {} and my name is {}'.format(num, name))"
   ]
  },
  {
   "cell_type": "markdown",
   "id": "33193bd1-dfd0-4a18-b532-fd551fc50404",
   "metadata": {},
   "source": [
    "You can also use **named placeholders** inside the curly brackets and specify which variable fills each placeholder in the .format() call.\n",
    "Python Code Sample"
   ]
  },
  {
   "cell_type": "code",
   "execution_count": 9,
   "id": "db26225e-af7e-48c4-9dba-155dead06ff4",
   "metadata": {},
   "outputs": [
    {
     "name": "stdout",
     "output_type": "stream",
     "text": [
      "My number is 12 and my name is Sam. More: 12\n"
     ]
    }
   ],
   "source": [
    "print('My number is {one} and my name is {two}. More: {one}'.format(one=num, two=name))"
   ]
  },
  {
   "cell_type": "markdown",
   "id": "f0e012d3-cdfb-4715-9645-3bed328249d9",
   "metadata": {},
   "source": [
    "### Indexing and Slicing Strings\n",
    "Strings are sequences of characters. You can access specific elements using square bracket notation. Python indexing starts at zero.\n",
    "Python Code Sample\n"
   ]
  },
  {
   "cell_type": "code",
   "execution_count": 10,
   "id": "42cd55da-2334-457e-863d-33d06e3fa2f8",
   "metadata": {},
   "outputs": [
    {
     "data": {
      "text/plain": [
       "'o'"
      ]
     },
     "execution_count": 10,
     "metadata": {},
     "output_type": "execute_result"
    }
   ],
   "source": [
    "s = 'hello'\n",
    "s[0]\n",
    "s[4]"
   ]
  },
  {
   "cell_type": "markdown",
   "id": "648eef09-2de3-437c-b656-644cc75e36b9",
   "metadata": {},
   "source": [
    "Slice notation allows you to grab parts of a string. Use a colon to specify the start and end indices. The end index is not included.\n",
    "Python Code Sample"
   ]
  },
  {
   "cell_type": "code",
   "execution_count": 11,
   "id": "3e6a4cbe-09b1-4192-bf94-aca83cc7ed15",
   "metadata": {},
   "outputs": [
    {
     "data": {
      "text/plain": [
       "'def'"
      ]
     },
     "execution_count": 11,
     "metadata": {},
     "output_type": "execute_result"
    }
   ],
   "source": [
    "s = 'abcdefghijk'\n",
    "s[0:]\n",
    "s[:3]\n",
    "s[3:6]"
   ]
  },
  {
   "cell_type": "markdown",
   "id": "5648b95c-53bc-49d7-ba4a-331cb551b5ba",
   "metadata": {},
   "source": [
    "## 3. Lists\n",
    "Lists are sequences of elements in square brackets, separated by commas. Lists can contain any data type, including other lists.\n",
    "Python Code Sample\n"
   ]
  },
  {
   "cell_type": "code",
   "execution_count": 12,
   "id": "2ee8336f-3ed5-48a4-bd1c-890c28c33ad1",
   "metadata": {},
   "outputs": [],
   "source": [
    "my_list = ['a', 'b', 'c']\n",
    "my_list.append('d')\n",
    "my_list[0]\n",
    "my_list[1:3]\n",
    "my_list[0] = 'NEW'"
   ]
  },
  {
   "cell_type": "markdown",
   "id": "6c0f52c7-7b2c-49a0-9776-1c4c76ea5627",
   "metadata": {},
   "source": [
    "Lists can be nested inside each other. You can access elements in nested lists by chaining square brackets.\n",
    "Python Code Sample"
   ]
  },
  {
   "cell_type": "code",
   "execution_count": 13,
   "id": "5f8c1b65-280b-44d8-92d4-2425110e389e",
   "metadata": {},
   "outputs": [
    {
     "data": {
      "text/plain": [
       "4"
      ]
     },
     "execution_count": 13,
     "metadata": {},
     "output_type": "execute_result"
    }
   ],
   "source": [
    "lst = [1, 2, [3, 4]]\n",
    "lst[2][1]"
   ]
  },
  {
   "cell_type": "markdown",
   "id": "02293c9b-73f3-4dfd-8233-f9d64f4e3e76",
   "metadata": {},
   "source": [
    "For deeper nesting, continue stacking brackets to access the desired element.\n",
    "Python Code Sample"
   ]
  },
  {
   "cell_type": "code",
   "execution_count": 14,
   "id": "866e7118-8652-4e16-a9ea-ac8f1380ce31",
   "metadata": {},
   "outputs": [
    {
     "name": "stdout",
     "output_type": "stream",
     "text": [
      "target\n"
     ]
    }
   ],
   "source": [
    "nest = [1, 2, 3, [4, 5, ['target']]]\n",
    "nest[3][2][0]\n",
    "print(nest[3][2][0])"
   ]
  },
  {
   "cell_type": "markdown",
   "id": "bcc4b36f",
   "metadata": {},
   "source": [
    "## Conclusion\n",
    "In this lecture, we covered lists, slice notation, how to grab things from an index, strings, print formatting, basic variable assignments, and basic arithmetic.\n",
    "Key Takeaways\n",
    "* Python supports basic arithmetic operations and variable assignments using intuitive syntax.\n",
    "* Strings can be created with single or double quotes and support indexing and slicing.\n",
    "* Print formatting allows dynamic insertion of variables into strings using the .format() method.\n",
    "* Lists are ordered sequences that support indexing, slicing, appending, and nesting.\n"
   ]
  },
  {
   "cell_type": "code",
   "execution_count": null,
   "id": "675cf97b-958a-4b26-a843-7e633975c20d",
   "metadata": {},
   "outputs": [],
   "source": []
  }
 ],
 "metadata": {
  "kernelspec": {
   "display_name": ".venv",
   "language": "python",
   "name": "python3"
  },
  "language_info": {
   "codemirror_mode": {
    "name": "ipython",
    "version": 3
   },
   "file_extension": ".py",
   "mimetype": "text/x-python",
   "name": "python",
   "nbconvert_exporter": "python",
   "pygments_lexer": "ipython3",
   "version": "3.13.3"
  }
 },
 "nbformat": 4,
 "nbformat_minor": 5
}