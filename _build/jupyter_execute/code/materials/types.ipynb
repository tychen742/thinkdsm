{
 "cells": [
  {
   "cell_type": "markdown",
   "id": "211bf1b7",
   "metadata": {},
   "source": [
    "Types\n",
    "====\n",
    "All values in programming have types:\n",
    "\n",
    "* Integer: -1, 0, 1, 2, 3, 4, 5...\n",
    "* Float: -12.3, 0.001, 3.14159, 5.0\n",
    "* String: 'Helloooo Newman'\n",
    "* List: [1, 2, 3, 4, 5]\n",
    "\n",
    "These types are important, because they tell the program how to act.\n",
    "\n",
    "For example, the plus sign does different things to strings and numbers."
   ]
  },
  {
   "cell_type": "code",
   "execution_count": 1,
   "id": "f10afdfb",
   "metadata": {
    "collapsed": false
   },
   "outputs": [
    {
     "data": {
      "text/plain": [
       "'BradPitt'"
      ]
     },
     "execution_count": 1,
     "metadata": {},
     "output_type": "execute_result"
    }
   ],
   "source": [
    "'Brad' + 'Pitt'"
   ]
  },
  {
   "cell_type": "code",
   "execution_count": 2,
   "id": "be853171",
   "metadata": {
    "collapsed": false
   },
   "outputs": [
    {
     "data": {
      "text/plain": [
       "77"
      ]
     },
     "execution_count": 2,
     "metadata": {},
     "output_type": "execute_result"
    }
   ],
   "source": [
    "75 + 2"
   ]
  },
  {
   "cell_type": "markdown",
   "id": "47d38a55",
   "metadata": {},
   "source": [
    "Types can also cause confusion."
   ]
  },
  {
   "cell_type": "code",
   "execution_count": 3,
   "id": "48ecfeae",
   "metadata": {
    "collapsed": false
   },
   "outputs": [
    {
     "data": {
      "text/plain": [
       "7.5"
      ]
     },
     "execution_count": 3,
     "metadata": {},
     "output_type": "execute_result"
    }
   ],
   "source": [
    "15.0 / 2"
   ]
  },
  {
   "cell_type": "code",
   "execution_count": 4,
   "id": "3e7be5b3",
   "metadata": {
    "collapsed": false
   },
   "outputs": [
    {
     "data": {
      "text/plain": [
       "7"
      ]
     },
     "execution_count": 4,
     "metadata": {},
     "output_type": "execute_result"
    }
   ],
   "source": [
    "15 / 2"
   ]
  },
  {
   "cell_type": "markdown",
   "id": "65647018",
   "metadata": {},
   "source": [
    "The surprising result that 15 / 2 = 7 happens because computer folks like commands that involve two objects of the same type to result in another object of that type, but in science we really want 15 / 2 = 7.5. The easy way to make sure that this happens is to add a special line to the beginning of any program that will do math."
   ]
  },
  {
   "cell_type": "code",
   "execution_count": 5,
   "id": "6cffcf63",
   "metadata": {
    "collapsed": false
   },
   "outputs": [
    {
     "data": {
      "text/plain": [
       "7.5"
      ]
     },
     "execution_count": 5,
     "metadata": {},
     "output_type": "execute_result"
    }
   ],
   "source": [
    "from __future__ import division\n",
    "15 / 2"
   ]
  },
  {
   "cell_type": "markdown",
   "id": "22fc462d",
   "metadata": {},
   "source": [
    "This line will make a little more sense once you learn about modules, but basically it tells Python to use the kind of division that the newest version of Python uses, which is that one that makes sense to everyone but computer scientists.\n",
    "\n",
    "A full list of Python's built-in types is available at:\n",
    "http://docs.python.org/library/types.html"
   ]
  }
 ],
 "metadata": {},
 "nbformat": 4,
 "nbformat_minor": 5
}