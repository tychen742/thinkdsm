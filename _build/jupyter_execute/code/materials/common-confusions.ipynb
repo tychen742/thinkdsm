{
 "cells": [
  {
   "cell_type": "markdown",
   "id": "9df7c20b",
   "metadata": {},
   "source": [
    "Common points of confusion\n",
    "==========================\n",
    "Learning to program is hard and there are lots of points of confusion among beginners.\n",
    "Here are some reminders and demonstrations to help overcome some of the most common."
   ]
  },
  {
   "cell_type": "markdown",
   "id": "8559ff57",
   "metadata": {},
   "source": [
    "Functions\n",
    "---------\n",
    "\n",
    "* You have to call/run/execute a function for it to do anything.\n",
    "* You must store the output of the function to work with it (or use it immediately)\n",
    "* You must ``return`` something from the function to us it.\n",
    "Variables inside the function do not exist after the function has finished executing.\n",
    "This ``return`` is the last thing done by the function.\n",
    "\n",
    "\n",
    "### Python Tutor demo\n",
    "On it's own, the following function does nothing"
   ]
  },
  {
   "cell_type": "code",
   "execution_count": 1,
   "id": "b12be3dc",
   "metadata": {
    "collapsed": false
   },
   "outputs": [],
   "source": [
    "def concatenate(string1, string2):\n",
    "    combined_string = string1 + string2\n",
    "    return combined_string"
   ]
  },
  {
   "cell_type": "markdown",
   "id": "089e4bfd",
   "metadata": {},
   "source": [
    "If we call it but do not do something with the output, it is lost."
   ]
  },
  {
   "cell_type": "code",
   "execution_count": 2,
   "id": "e58527d7",
   "metadata": {
    "collapsed": false
   },
   "outputs": [
    {
     "ename": "NameError",
     "evalue": "name 'combined_string' is not defined",
     "output_type": "error",
     "traceback": [
      "\u001b[1;31m---------------------------------------------------------------------------\u001b[0m\n\u001b[1;31mNameError\u001b[0m                                 Traceback (most recent call last)",
      "\u001b[1;32m<ipython-input-2-882da32f77aa>\u001b[0m in \u001b[0;36m<module>\u001b[1;34m()\u001b[0m\n\u001b[0;32m      1\u001b[0m \u001b[0mconcatenate\u001b[0m\u001b[1;33m(\u001b[0m\u001b[1;34m'ethan'\u001b[0m\u001b[1;33m,\u001b[0m \u001b[1;34m'white'\u001b[0m\u001b[1;33m)\u001b[0m\u001b[1;33m\u001b[0m\u001b[0m\n\u001b[1;32m----> 2\u001b[1;33m \u001b[1;32mprint\u001b[0m \u001b[0mcombined_string\u001b[0m\u001b[1;33m\u001b[0m\u001b[0m\n\u001b[0m",
      "\u001b[1;31mNameError\u001b[0m: name 'combined_string' is not defined"
     ]
    }
   ],
   "source": [
    "concatenate('ethan', 'white')\n",
    "print combined_string"
   ]
  },
  {
   "cell_type": "markdown",
   "id": "59737834",
   "metadata": {},
   "source": [
    "If we store the output then we can use it, or we can use it directly."
   ]
  },
  {
   "cell_type": "code",
   "execution_count": 3,
   "id": "fe70758f",
   "metadata": {
    "collapsed": false
   },
   "outputs": [
    {
     "name": "stdout",
     "output_type": "stream",
     "text": [
      "ethanwhite\n"
     ]
    }
   ],
   "source": [
    "result = concatenate('ethan', 'white')\n",
    "print result"
   ]
  },
  {
   "cell_type": "code",
   "execution_count": 4,
   "id": "66d4874d",
   "metadata": {
    "collapsed": false
   },
   "outputs": [
    {
     "name": "stdout",
     "output_type": "stream",
     "text": [
      "The name of our professor is ethan white\n"
     ]
    }
   ],
   "source": [
    "print \"The name of our professor is %s\" % concatenate('ethan ', 'white')"
   ]
  },
  {
   "cell_type": "markdown",
   "id": "f8876143",
   "metadata": {},
   "source": [
    "But, this only works if we have returned the value explicitly."
   ]
  },
  {
   "cell_type": "code",
   "execution_count": 5,
   "id": "dc22efd0",
   "metadata": {
    "collapsed": false
   },
   "outputs": [
    {
     "name": "stdout",
     "output_type": "stream",
     "text": [
      "None\n"
     ]
    }
   ],
   "source": [
    "def concatenate(string1, string2):\n",
    "    combined_string = string1 + string2\n",
    "\n",
    "result = concatenate('ethan', 'white')\n",
    "print result"
   ]
  },
  {
   "cell_type": "markdown",
   "id": "e9df151d",
   "metadata": {},
   "source": [
    "If/elif/else\n",
    "------------\n",
    "Only one set of commands in an if/elif/else block will execute. If multiple sets\n",
    "of conditions are met, then the first set of conditions will be used.\n"
   ]
  },
  {
   "cell_type": "code",
   "execution_count": 6,
   "id": "62e9b0e3",
   "metadata": {
    "collapsed": false
   },
   "outputs": [
    {
     "name": "stdout",
     "output_type": "stream",
     "text": [
      "2\n"
     ]
    }
   ],
   "source": [
    "a = 10\n",
    "b = 20\n",
    "if a > 15:\n",
    "    print 1\n",
    "elif a == 10 and b < 100:\n",
    "    print 2\n",
    "elif b == 20:\n",
    "    print 3\n",
    "else:\n",
    "    print 4"
   ]
  },
  {
   "cell_type": "markdown",
   "id": "cfc3c22e",
   "metadata": {},
   "source": [
    "If we wanted to actually check all of the conditions, regardless of what had\n",
    "already happened, then we would just want a series of if statements."
   ]
  },
  {
   "cell_type": "code",
   "execution_count": 7,
   "id": "c0cbdb9c",
   "metadata": {
    "collapsed": false
   },
   "outputs": [
    {
     "name": "stdout",
     "output_type": "stream",
     "text": [
      "2\n",
      "3\n"
     ]
    }
   ],
   "source": [
    "a = 10\n",
    "b = 20\n",
    "if a > 15:\n",
    "    print 1\n",
    "if a == 10 and b < 100:\n",
    "    print 2\n",
    "if b == 20:\n",
    "    print 3\n",
    "else:\n",
    "    print 4"
   ]
  },
  {
   "cell_type": "markdown",
   "id": "05828a79",
   "metadata": {},
   "source": [
    "However, in this case the ``else`` will only apply to the last if statement."
   ]
  },
  {
   "cell_type": "markdown",
   "id": "747ffe5d",
   "metadata": {},
   "source": [
    "Methods\n",
    "-------\n",
    "Methods are functions that are attached to particular objects and they operate on those objects.\n",
    "As a result, sometimes they do not require arguments (but sometimes they do)."
   ]
  },
  {
   "cell_type": "code",
   "execution_count": 8,
   "id": "ad3b20c8",
   "metadata": {
    "collapsed": false
   },
   "outputs": [
    {
     "name": "stdout",
     "output_type": "stream",
     "text": [
      "HELLO WORLD\n",
      "3\n"
     ]
    }
   ],
   "source": [
    "mystring = \"hello world\"\n",
    "print mystring.upper()\n",
    "print mystring.count('l')"
   ]
  },
  {
   "cell_type": "markdown",
   "id": "f866d6b6",
   "metadata": {},
   "source": [
    "### List methods often return ``None``\n",
    "\n",
    "In contrast to String methods, methods that work on lists often change the list\n",
    "and return a special keyword ``None``."
   ]
  },
  {
   "cell_type": "code",
   "execution_count": 9,
   "id": "48861b44",
   "metadata": {
    "collapsed": false
   },
   "outputs": [
    {
     "name": "stdout",
     "output_type": "stream",
     "text": [
      "None\n",
      "[1, 2, 3, 4, 7]\n"
     ]
    }
   ],
   "source": [
    "mylist = [1, 3, 4, 2, 7]\n",
    "print mylist.sort()\n",
    "print mylist"
   ]
  },
  {
   "cell_type": "markdown",
   "id": "f93f15ee",
   "metadata": {},
   "source": [
    "This means that an easy mistake to make is to treat lists methods like we do most things\n",
    "and end up replacing our list with ``None``."
   ]
  },
  {
   "cell_type": "code",
   "execution_count": 10,
   "id": "a75cddec",
   "metadata": {
    "collapsed": false
   },
   "outputs": [
    {
     "name": "stdout",
     "output_type": "stream",
     "text": [
      "None\n"
     ]
    }
   ],
   "source": [
    "mylist = [1, 3, 4, 2, 7]\n",
    "mylist = mylist.sort()\n",
    "print mylist"
   ]
  }
 ],
 "metadata": {},
 "nbformat": 4,
 "nbformat_minor": 5
}