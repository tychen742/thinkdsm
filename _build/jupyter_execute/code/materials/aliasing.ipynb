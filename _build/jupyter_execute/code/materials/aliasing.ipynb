{
 "cells": [
  {
   "cell_type": "markdown",
   "id": "cd8d1e46",
   "metadata": {},
   "source": [
    "# Aliasing"
   ]
  },
  {
   "cell_type": "code",
   "execution_count": 2,
   "id": "8a8bd685",
   "metadata": {
    "collapsed": false
   },
   "outputs": [
    {
     "name": "stdout",
     "output_type": "stream",
     "text": [
      "[1, 2, 3, 4]\n",
      "[1, 2, 3, 4]\n"
     ]
    }
   ],
   "source": [
    "lista = [4, 2, 1, 3]\n",
    "listb = lista\n",
    "lista.sort()\n",
    "print lista\n",
    "print listb"
   ]
  },
  {
   "cell_type": "code",
   "execution_count": 4,
   "id": "49d22aa8",
   "metadata": {
    "collapsed": false
   },
   "outputs": [
    {
     "name": "stdout",
     "output_type": "stream",
     "text": [
      "140157595946952\n",
      "140157595946952\n"
     ]
    }
   ],
   "source": [
    "print id(lista)\n",
    "print id(listb)"
   ]
  },
  {
   "cell_type": "code",
   "execution_count": 6,
   "id": "987a1f77",
   "metadata": {
    "collapsed": false
   },
   "outputs": [
    {
     "name": "stdout",
     "output_type": "stream",
     "text": [
      "[1, 1, 1, 2, 2, 3, 3, 4, 5, 5]\n"
     ]
    }
   ],
   "source": [
    "import numpy as np\n",
    "\n",
    "def get_sorted_cumsum(numbers):\n",
    "    numbers.sort()\n",
    "    cum_sum = np.cumsum(numbers)\n",
    "    return cum_sum\n",
    "\n",
    "mynumbers = [5, 2, 1, 3, 3, 2, 5, 4, 1, 1]\n",
    "sorted_cumsum = get_sorted_cumsum(mynumbers)\n",
    "print mynumbers"
   ]
  },
  {
   "cell_type": "code",
   "execution_count": 7,
   "id": "67db56f9",
   "metadata": {
    "collapsed": false
   },
   "outputs": [
    {
     "name": "stdout",
     "output_type": "stream",
     "text": [
      "[1, 2, 3, 4]\n",
      "[4, 2, 1, 3]\n"
     ]
    }
   ],
   "source": [
    "lista = [4, 2, 1, 3]\n",
    "listb = lista[:]\n",
    "lista.sort()\n",
    "print lista\n",
    "print listb"
   ]
  }
 ],
 "metadata": {},
 "nbformat": 4,
 "nbformat_minor": 5
}