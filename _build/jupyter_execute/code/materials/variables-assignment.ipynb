{
 "cells": [
  {
   "cell_type": "markdown",
   "id": "0d8f89c9",
   "metadata": {},
   "source": [
    "Variables & Assignment\n",
    "======================\n",
    "A variable is a name that has a value associated with it.\n",
    "\n",
    "You can assign a value to a variable name using the equals sign."
   ]
  },
  {
   "cell_type": "code",
   "execution_count": 1,
   "id": "250c462a",
   "metadata": {
    "collapsed": true
   },
   "outputs": [],
   "source": [
    "tail_length_mm = 27"
   ]
  },
  {
   "cell_type": "markdown",
   "id": "978d11ef",
   "metadata": {},
   "source": [
    "On the left hand side of the equals is the name of the variable. On the right hand side is that value that is assigned to it.\n",
    "\n",
    "The variable name then works just like typing it's value."
   ]
  },
  {
   "cell_type": "code",
   "execution_count": 2,
   "id": "12c2ac34",
   "metadata": {
    "collapsed": false
   },
   "outputs": [
    {
     "data": {
      "text/plain": [
       "27"
      ]
     },
     "execution_count": 2,
     "metadata": {},
     "output_type": "execute_result"
    }
   ],
   "source": [
    "tail_length_mm"
   ]
  },
  {
   "cell_type": "code",
   "execution_count": 3,
   "id": "379c925e",
   "metadata": {
    "collapsed": false
   },
   "outputs": [
    {
     "data": {
      "text/plain": [
       "64"
      ]
     },
     "execution_count": 3,
     "metadata": {},
     "output_type": "execute_result"
    }
   ],
   "source": [
    "10 + tail_length_mm * 2"
   ]
  },
  {
   "cell_type": "markdown",
   "id": "5e2a3079",
   "metadata": {},
   "source": [
    "The value of the variable won't change unless you assign a new value to that variable.\n",
    "\n",
    "The value of one variable can also be assigned to another variable."
   ]
  },
  {
   "cell_type": "code",
   "execution_count": 4,
   "id": "990170ce",
   "metadata": {
    "collapsed": false
   },
   "outputs": [
    {
     "data": {
      "text/plain": [
       "27"
      ]
     },
     "execution_count": 4,
     "metadata": {},
     "output_type": "execute_result"
    }
   ],
   "source": [
    "focal_tail_length = tail_length_mm\n",
    "focal_tail_length"
   ]
  },
  {
   "cell_type": "markdown",
   "id": "09f03d64",
   "metadata": {},
   "source": [
    "Or we can do a calculation with a variable and then assign it to a new variable."
   ]
  },
  {
   "cell_type": "code",
   "execution_count": 5,
   "id": "0b5bc5fc",
   "metadata": {
    "collapsed": false
   },
   "outputs": [
    {
     "data": {
      "text/plain": [
       "1"
      ]
     },
     "execution_count": 5,
     "metadata": {},
     "output_type": "execute_result"
    }
   ],
   "source": [
    "mass_g = 1000\n",
    "mass_kg = mass_g / 1000\n",
    "mass_kg"
   ]
  },
  {
   "cell_type": "code",
   "execution_count": 6,
   "id": "81219e2f",
   "metadata": {
    "collapsed": false
   },
   "outputs": [
    {
     "name": "stdout",
     "output_type": "stream",
     "text": [
      "12"
     ]
    }
   ],
   "source": [
    "x = 10\n",
    "y = 2\n",
    "x_plus_y = x + y\n",
    "print(x_plus_y)"
   ]
  },
  {
   "cell_type": "markdown",
   "id": "64829bb6",
   "metadata": {},
   "source": [
    "Changing the value assigned to a variable does not change anything that has already happened. It only changes things that happen after the change."
   ]
  },
  {
   "cell_type": "code",
   "execution_count": 7,
   "id": "85ebc046",
   "metadata": {
    "collapsed": false
   },
   "outputs": [
    {
     "name": "stdout",
     "output_type": "stream",
     "text": [
      "300"
     ]
    }
   ],
   "source": [
    "genome_length = 600\n",
    "half_genome_length = genome_length / 2\n",
    "genome_length = 1000\n",
    "print(half_genome_length)"
   ]
  },
  {
   "cell_type": "markdown",
   "id": "9571d3a0",
   "metadata": {},
   "source": [
    "We can also use the same variable on both sides of an equals sign. This is conterintuitive from a mathematical perspective as we would never expect to see x = x + 5, but it's perfectly fine in programming."
   ]
  },
  {
   "cell_type": "code",
   "execution_count": 8,
   "id": "8cf39a89",
   "metadata": {
    "collapsed": false
   },
   "outputs": [
    {
     "data": {
      "text/plain": [
       "15"
      ]
     },
     "execution_count": 8,
     "metadata": {},
     "output_type": "execute_result"
    }
   ],
   "source": [
    "x = 10\n",
    "x = x + 5\n",
    "x"
   ]
  },
  {
   "cell_type": "markdown",
   "id": "48ca8f8c",
   "metadata": {},
   "source": [
    "This works because the expression on the right hand side of the equation is evaluated first. Specifically, the order of operations is:\n",
    "\n",
    "1. Look up the current value of x\n",
    "2. Add 5 to that value\n",
    "3. Assign the value resulting from the addition to x\n",
    "\n",
    "Updating the value of a variable like this is a common paradigm in programming."
   ]
  }
 ],
 "metadata": {},
 "nbformat": 4,
 "nbformat_minor": 5
}