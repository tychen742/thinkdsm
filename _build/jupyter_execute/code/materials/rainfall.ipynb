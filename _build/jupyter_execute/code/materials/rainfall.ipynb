{
 "cells": [
  {
   "cell_type": "markdown",
   "id": "079048ca",
   "metadata": {},
   "source": [
    "The Rainfall Problem\n",
    "====================\n",
    "At Yale University in the 1980s, Elliot Soloway gave the same assignment regularly in his Pascal\n",
    "programming class [Soloway et al. 1983]:\n",
    "Write a program that repeatedly reads in positive integers, until it reads the integer 99999. After\n",
    "seeing 99999, it should print out the average.\n",
    "Called “The Rainfall Problem,” it became one of the most studied problems in the early years\n",
    "of computing education research."
   ]
  },
  {
   "cell_type": "code",
   "execution_count": 1,
   "id": "d072e5b8",
   "metadata": {
    "collapsed": false
   },
   "outputs": [
    {
     "name": "stdout",
     "output_type": "stream",
     "text": [
      "1\n"
     ]
    }
   ],
   "source": [
    "a = raw_input()"
   ]
  }
 ],
 "metadata": {},
 "nbformat": 4,
 "nbformat_minor": 5
}