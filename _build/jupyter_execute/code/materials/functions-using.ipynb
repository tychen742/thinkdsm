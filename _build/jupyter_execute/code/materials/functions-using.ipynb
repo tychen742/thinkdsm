{
 "cells": [
  {
   "cell_type": "markdown",
   "id": "bbbc468c",
   "metadata": {},
   "source": [
    "Using Built-in Functions\n",
    "========================\n",
    "A function is basically a complicated expression. It is a command that returns a value, but hides the details of how that value is determined. This is useful because we typically don't want to look at the details of how numbers are rounded or lists of numbers are sorted.\n",
    "\n",
    "Python has a number of built-in functions for performing common tasks. For example, if we want to determine the absolute value of a number, we use abs()."
   ]
  },
  {
   "cell_type": "code",
   "execution_count": 1,
   "id": "23b37c40",
   "metadata": {
    "collapsed": false
   },
   "outputs": [
    {
     "data": {
      "text/plain": [
       "2"
      ]
     },
     "execution_count": 1,
     "metadata": {},
     "output_type": "execute_result"
    }
   ],
   "source": [
    "abs(-2)"
   ]
  },
  {
   "cell_type": "markdown",
   "id": "09f17991",
   "metadata": {},
   "source": [
    "A function call is composed of two parts, the name of the function and the arguments that the function requires to calculate the value it returns. In the example above abs() is the name of the function, and -2 is the argument.\n",
    "\n",
    "Functions can take multiple arguments. For example, if we want to round pi to two decimal places we would use the round function with the arguments 3.14159 and 2, where the first argument is the number to be rounded and the second argument is the number of decimal points to round it to."
   ]
  },
  {
   "cell_type": "code",
   "execution_count": 2,
   "id": "b2d49258",
   "metadata": {
    "collapsed": false
   },
   "outputs": [
    {
     "data": {
      "text/plain": [
       "3.14"
      ]
     },
     "execution_count": 2,
     "metadata": {},
     "output_type": "execute_result"
    }
   ],
   "source": [
    "round(3.14159, 2)"
   ]
  },
  {
   "cell_type": "markdown",
   "id": "aaa026ed",
   "metadata": {},
   "source": [
    "Python has lots of built-in functions including:\n",
    "\n",
    "* abs(): Absolute value\n",
    "* sum(): The sum of the numbers in a list\n",
    "* type(): Returns the type of a variable\n",
    "* max(): The maximum value from a list\n",
    "* min(): The minimum value from a list\n",
    "* str(): The string version of a variable\n",
    "* int(): The integer version of a variable\n",
    "* float(): The floating point version of a variable\n",
    "\n",
    "A full list of Python's built-in functions is available at:\n",
    "http://docs.python.org/library/functions.html"
   ]
  },
  {
   "cell_type": "markdown",
   "id": "f4fbc2a1",
   "metadata": {},
   "source": [
    "Calling functions\n",
    "-----------------\n",
    "When we call a function in a program we include it's name and the specific arguments that we want it to evaluate. The function can be used just as if we had typed in the value it returned."
   ]
  },
  {
   "cell_type": "code",
   "execution_count": 3,
   "id": "1a3cc73d",
   "metadata": {
    "collapsed": false
   },
   "outputs": [
    {
     "data": {
      "text/plain": [
       "3"
      ]
     },
     "execution_count": 3,
     "metadata": {},
     "output_type": "execute_result"
    }
   ],
   "source": [
    "abs(-1) + 2"
   ]
  },
  {
   "cell_type": "code",
   "execution_count": 4,
   "id": "f0341352",
   "metadata": {
    "collapsed": false
   },
   "outputs": [
    {
     "data": {
      "text/plain": [
       "3.14"
      ]
     },
     "execution_count": 4,
     "metadata": {},
     "output_type": "execute_result"
    }
   ],
   "source": [
    "pi_approx = round(3.14159, 2)\n",
    "pi_approx"
   ]
  },
  {
   "cell_type": "code",
   "execution_count": 5,
   "id": "2d53be90",
   "metadata": {
    "collapsed": false
   },
   "outputs": [
    {
     "name": "stdout",
     "output_type": "stream",
     "text": [
      "10.142"
     ]
    }
   ],
   "source": [
    "print(round(3.14159 + abs(-7), 3))"
   ]
  }
 ],
 "metadata": {},
 "nbformat": 4,
 "nbformat_minor": 5
}