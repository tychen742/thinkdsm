{
 "cells": [
  {
   "cell_type": "markdown",
   "id": "1d34f1ee",
   "metadata": {},
   "source": [
    "IPython Notebooks\n",
    "=================\n",
    "This is an IPython Notebook. It's basically a system that allows you to easily combine text and code in a single location in the browser. You can modify and execute the code right inside the browser and see what happens.\n",
    "\n",
    "These notebooks will typically be available in one of two ways\n",
    "\n",
    "* As a simple webpage that you can't modify for use as a reference. This notebook is available [here](http://nbviewer.ipython.org/urls/github.com/weecology/progbio/raw/master/ipynbs/ipython-notebook.ipynb).\n",
    "* As a downloadable file that you can open in your own browser, modify, and execute the code. This notebook is available [here](https://raw.github.com/weecology/progbio/master/ipynbs/ipython-notebook.ipynb)."
   ]
  },
  {
   "cell_type": "markdown",
   "id": "31b1fa19",
   "metadata": {},
   "source": [
    "Installing IPython Notebook\n",
    "===========================\n",
    "If you want to interact directly with notebooks you'll need to install the IPython Notebook system. The easiest way to do this is probably just to install the [Enthought Python Distribution](http://www.enthought.com/products/epd.php), which is free for students and academics. If you're using Ubuntu it can be easily installed using the package manager:\n",
    "\n",
    "`sudo apt-get install ipython-notebook`"
   ]
  },
  {
   "cell_type": "markdown",
   "id": "d6402ed0",
   "metadata": {},
   "source": [
    "Opening a Notebook\n",
    "==================\n",
    "If you simply want to view a Notebook you can do so by providing a link to that notebook to the, totally awesome, [IPython Notebook Viewer](http://nbviewer.ipython.org/). The primary links to notebooks for this class will all take you directly to a displayed version of the notebook using the viewer.\n",
    "\n",
    "If you want to open the notebook on your own computer so that you can interact with it:\n",
    "\n",
    "1. Download the notebook (it should have a ipynb extension)\n",
    "2. Open a shell or command prompt (for Windows users just type `cmd` into search box)\n",
    "3. Navigate to the directory where the notebook is stored\n",
    "4. Enter `ipython notebook` and press Enter\n",
    "5. Your browser will open and you can then select the desired notebook\n",
    "\n",
    "If this doesn't work it probably means that Python hasn't been properly added to your PATH."
   ]
  },
  {
   "cell_type": "markdown",
   "id": "b5bf7c29",
   "metadata": {},
   "source": [
    "Want to Know More?\n",
    "==================\n",
    "Go checkout the official [IPython Notebook page](http://ipython.org/ipython-doc/dev/interactive/htmlnotebook.html)."
   ]
  }
 ],
 "metadata": {},
 "nbformat": 4,
 "nbformat_minor": 5
}