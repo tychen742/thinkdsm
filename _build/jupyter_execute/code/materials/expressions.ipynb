{
 "cells": [
  {
   "cell_type": "markdown",
   "id": "3505f8be",
   "metadata": {},
   "source": [
    "Expressions\n",
    "===========\n",
    "An expression is a command that returns a value. For example, if our command adds two numbers together then the valued returned is their sum."
   ]
  },
  {
   "cell_type": "code",
   "execution_count": 1,
   "id": "a23c7fdd",
   "metadata": {
    "collapsed": false
   },
   "outputs": [
    {
     "data": {
      "text/plain": [
       "4"
      ]
     },
     "execution_count": 1,
     "metadata": {},
     "output_type": "execute_result"
    }
   ],
   "source": [
    "2 + 2"
   ]
  },
  {
   "cell_type": "markdown",
   "id": "67d67d22",
   "metadata": {},
   "source": [
    "If the command is to get the absolute value of a number, it returns the absolute value."
   ]
  },
  {
   "cell_type": "code",
   "execution_count": 2,
   "id": "b54cc0df",
   "metadata": {
    "collapsed": false
   },
   "outputs": [
    {
     "data": {
      "text/plain": [
       "2"
      ]
     },
     "execution_count": 2,
     "metadata": {},
     "output_type": "execute_result"
    }
   ],
   "source": [
    "abs(-2)"
   ]
  },
  {
   "cell_type": "markdown",
   "id": "a7f34486",
   "metadata": {},
   "source": [
    "The order of operations for mathmatical operations is the standard order."
   ]
  },
  {
   "cell_type": "code",
   "execution_count": 3,
   "id": "8340c841",
   "metadata": {
    "collapsed": false
   },
   "outputs": [
    {
     "data": {
      "text/plain": [
       "13"
      ]
     },
     "execution_count": 3,
     "metadata": {},
     "output_type": "execute_result"
    }
   ],
   "source": [
    "3 + 5 * 2"
   ]
  }
 ],
 "metadata": {},
 "nbformat": 4,
 "nbformat_minor": 5
}