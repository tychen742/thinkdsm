{
 "cells": [
  {
   "cell_type": "markdown",
   "id": "a3cd2b29",
   "metadata": {},
   "source": [
    "For Loops\n",
    "=========\n",
    "\n",
    "One of the most powerful aspects of computer programs is their ability to\n",
    "perform repetion, which is the ability to do something many times.\n",
    "One of the main forms of repetition is the *for loop*, which does something\n",
    "a certain number of times."
   ]
  },
  {
   "cell_type": "markdown",
   "id": "7f4a1748",
   "metadata": {},
   "source": [
    "Looping over a list\n",
    "-------------------\n",
    "\n",
    "The most common use of for loops is to do the same thing to every item in a list.\n",
    "Python makes it easy to do this. The basic structure is simple\n",
    "\n",
    "    for item in list_of_items:\n",
    "        block\n",
    "\n",
    "where ``block`` is an indented list of Python commands.\n",
    "The first time through the loop the first object in ``list_of_items`` is assigned\n",
    "to ``item``. The second time through the loop the second object in the list is\n",
    "assigned to ``item`` and so on until the end of the this.\n",
    "\n",
    "For example, if we have a list of the nobel gases and want to print them out one\n",
    "at a time while mentioning that they are a nobel gas we would use a program like this."
   ]
  },
  {
   "cell_type": "code",
   "execution_count": 1,
   "id": "84a57c6e",
   "metadata": {
    "collapsed": false
   },
   "outputs": [
    {
     "name": "stdout",
     "output_type": "stream",
     "text": [
      "He is a nobel gas.\n",
      "Ne is a nobel gas.\n",
      "Ar is a nobel gas.\n",
      "Kr is a nobel gas.\n",
      "Xe is a nobel gas.\n",
      "Rn is a nobel gas.\n"
     ]
    }
   ],
   "source": [
    "nobel_gases = ['He', 'Ne', 'Ar', 'Kr', 'Xe', 'Rn']\n",
    "for gas in nobel_gases:\n",
    "    print \"%s is a nobel gas.\" % gas"
   ]
  },
  {
   "cell_type": "markdown",
   "id": "540be4a8",
   "metadata": {},
   "source": [
    "Looping over integers\n",
    "---------------------\n",
    "This most common approach to using for loops across different programming\n",
    "languages is to loop over a set of integers, often using those integers as\n",
    "indexes for items in a list. We can do this in Python using the ``range()``\n",
    "function.\n",
    "\n",
    "###Range\n",
    "``range()`` simple generates a list of integers when given starting and ending values.\n",
    "The list includes the starting value and goes up to, but does not include,\n",
    "the end value."
   ]
  },
  {
   "cell_type": "code",
   "execution_count": 2,
   "id": "492baaa8",
   "metadata": {
    "collapsed": false
   },
   "outputs": [
    {
     "data": {
      "text/plain": [
       "[1, 2, 3, 4, 5, 6, 7, 8, 9]"
      ]
     },
     "execution_count": 2,
     "metadata": {},
     "output_type": "execute_result"
    }
   ],
   "source": [
    "range(1, 10)"
   ]
  },
  {
   "cell_type": "markdown",
   "id": "3352a2e5",
   "metadata": {},
   "source": [
    "If we leave out the start value then Python just assumes that it is equal to zero."
   ]
  },
  {
   "cell_type": "code",
   "execution_count": 3,
   "id": "da7aed3b",
   "metadata": {
    "collapsed": false
   },
   "outputs": [
    {
     "data": {
      "text/plain": [
       "[0, 1, 2, 3, 4]"
      ]
     },
     "execution_count": 3,
     "metadata": {},
     "output_type": "execute_result"
    }
   ],
   "source": [
    "range(5)"
   ]
  },
  {
   "cell_type": "markdown",
   "id": "1c44e9bd",
   "metadata": {},
   "source": [
    "And we can also use integer steps that are greater than 1."
   ]
  },
  {
   "cell_type": "code",
   "execution_count": 5,
   "id": "d15f06f3",
   "metadata": {
    "collapsed": false
   },
   "outputs": [
    {
     "data": {
      "text/plain": [
       "[0, 2, 4, 6, 8]"
      ]
     },
     "execution_count": 5,
     "metadata": {},
     "output_type": "execute_result"
    }
   ],
   "source": [
    "range(0, 10, 2)"
   ]
  },
  {
   "cell_type": "markdown",
   "id": "4a39d6bf",
   "metadata": {},
   "source": [
    "###Looping with Range\n",
    "\n",
    "Using range we can loop over integers/positions."
   ]
  },
  {
   "cell_type": "code",
   "execution_count": 6,
   "id": "71318fd2",
   "metadata": {
    "collapsed": false
   },
   "outputs": [
    {
     "name": "stdout",
     "output_type": "stream",
     "text": [
      "0\n",
      "1\n",
      "2\n",
      "3\n",
      "4\n",
      "5\n",
      "6\n",
      "7\n",
      "8\n",
      "9\n"
     ]
    }
   ],
   "source": [
    "positions = range(10)\n",
    "for i in positions:\n",
    "    print i"
   ]
  },
  {
   "cell_type": "markdown",
   "id": "e2fac2a3",
   "metadata": {},
   "source": [
    "Or, more simply"
   ]
  },
  {
   "cell_type": "code",
   "execution_count": 7,
   "id": "4aaf4ea1",
   "metadata": {
    "collapsed": false
   },
   "outputs": [
    {
     "name": "stdout",
     "output_type": "stream",
     "text": [
      "0\n",
      "1\n",
      "2\n",
      "3\n",
      "4\n",
      "5\n",
      "6\n",
      "7\n",
      "8\n",
      "9\n"
     ]
    }
   ],
   "source": [
    "for i in range(10):\n",
    "    print i"
   ]
  },
  {
   "cell_type": "markdown",
   "id": "c059449e",
   "metadata": {},
   "source": [
    "We could use this to rewrite our nobel gas program as follows:"
   ]
  },
  {
   "cell_type": "code",
   "execution_count": 8,
   "id": "7a52c357",
   "metadata": {
    "collapsed": false
   },
   "outputs": [
    {
     "name": "stdout",
     "output_type": "stream",
     "text": [
      "He is a nobel gas.\n",
      "Ne is a nobel gas.\n",
      "Ar is a nobel gas.\n",
      "Kr is a nobel gas.\n",
      "Xe is a nobel gas.\n",
      "Rn is a nobel gas.\n"
     ]
    }
   ],
   "source": [
    "nobel_gases = ['He', 'Ne', 'Ar', 'Kr', 'Xe', 'Rn']\n",
    "for i in range(len(nobel_gases)):\n",
    "    print \"%s is a nobel gas.\" % nobel_gases[i]"
   ]
  },
  {
   "cell_type": "markdown",
   "id": "b7391b08",
   "metadata": {},
   "source": [
    "Looping over more than one list\n",
    "===============================\n",
    "\n",
    "Looping over the indexes of a list is most useful if we have more than\n",
    "one list that we want to access at the same time. For example, if\n",
    "we also have a list of the atomic numbers of the nobel gases and\n",
    "we want to print out each gas along with it's atomic number we would\n",
    "modify our program as follows."
   ]
  },
  {
   "cell_type": "code",
   "execution_count": 9,
   "id": "d52e2a31",
   "metadata": {
    "collapsed": false
   },
   "outputs": [
    {
     "name": "stdout",
     "output_type": "stream",
     "text": [
      "He is a nobel gas with an atomic number of 2.\n",
      "Ne is a nobel gas with an atomic number of 10.\n",
      "Ar is a nobel gas with an atomic number of 18.\n",
      "Kr is a nobel gas with an atomic number of 36.\n",
      "Xe is a nobel gas with an atomic number of 54.\n",
      "Rn is a nobel gas with an atomic number of 86.\n"
     ]
    }
   ],
   "source": [
    "nobel_gases = ['He', 'Ne', 'Ar', 'Kr', 'Xe', 'Rn']\n",
    "atomic_numbers = [2, 10, 18, 36, 54, 86]\n",
    "for i in range(len(nobel_gases)):\n",
    "    print \"%s is a nobel gas with an atomic number of %s.\" % (nobel_gases[i], atomic_numbers[i])"
   ]
  },
  {
   "cell_type": "markdown",
   "id": "972a7410",
   "metadata": {},
   "source": [
    "### Enumerate\n",
    "\n",
    "This is such a common idiom in programming that Python provides an alternative\n",
    "approach that is often easier to read using the ``enumerate()`` function. This\n",
    "function returns something like a list that includes both the first value in a \n",
    "list and its position. For example,"
   ]
  },
  {
   "cell_type": "code",
   "execution_count": 11,
   "id": "1c86e6b6",
   "metadata": {
    "collapsed": false
   },
   "outputs": [
    {
     "name": "stdout",
     "output_type": "stream",
     "text": [
      "0 He\n",
      "1 Ne\n",
      "2 Ar\n",
      "3 Kr\n",
      "4 Xe\n",
      "5 Rn\n"
     ]
    }
   ],
   "source": [
    "nobel_gases = ['He', 'Ne', 'Ar', 'Kr', 'Xe', 'Rn']\n",
    "for i, gas in enumerate(nobel_gases):\n",
    "    print i, gas"
   ]
  },
  {
   "cell_type": "markdown",
   "id": "fe8c2f12",
   "metadata": {},
   "source": [
    "This alows us to rewrite out atomic number program as"
   ]
  },
  {
   "cell_type": "code",
   "execution_count": 13,
   "id": "76db1875",
   "metadata": {
    "collapsed": false
   },
   "outputs": [
    {
     "name": "stdout",
     "output_type": "stream",
     "text": [
      "He is a nobel gas with an atomic number of 2.\n",
      "Ne is a nobel gas with an atomic number of 10.\n",
      "Ar is a nobel gas with an atomic number of 18.\n",
      "Kr is a nobel gas with an atomic number of 36.\n",
      "Xe is a nobel gas with an atomic number of 54.\n",
      "Rn is a nobel gas with an atomic number of 86.\n"
     ]
    }
   ],
   "source": [
    "nobel_gases = ['He', 'Ne', 'Ar', 'Kr', 'Xe', 'Rn']\n",
    "atomic_numbers = [2, 10, 18, 36, 54, 86]\n",
    "for i, gas in enumerate(nobel_gases):\n",
    "    print \"%s is a nobel gas with an atomic number of %s.\" % (gas, atomic_numbers[i])"
   ]
  },
  {
   "cell_type": "markdown",
   "id": "d167c9a8",
   "metadata": {},
   "source": [
    "Which is arguably easier to read."
   ]
  }
 ],
 "metadata": {},
 "nbformat": 4,
 "nbformat_minor": 5
}