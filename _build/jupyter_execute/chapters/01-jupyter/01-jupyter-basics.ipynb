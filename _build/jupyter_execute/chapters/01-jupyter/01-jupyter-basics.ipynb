{
 "cells": [
  {
   "cell_type": "markdown",
   "id": "a1bbc373",
   "metadata": {},
   "source": [
    "# Jupyter Notebook\n",
    "\n",
    "We are going to use Jupyter Notebooks intensively in this course. Jupyter Notebook is an important part of the Python ecosystem and is widely used by the data science and machine learning community for its capability of combining code and notes together. As an alternative, you can use Google Colab, which is actually also Jupyter Notebook. This chapter provides a comprehensive overview of the Jupyter Notebook system, including how to install it, how to use it effectively, and how to navigate its environment.\n",
    "\n",
    "````{note}\n",
    "Some prefer to use Anaconda to manage Jupyter Notebook. We use the Python package installer ```pip``` for simplicity and better project control. The popular IDE VS Code can also run Jupyter Notebook, but the user experience is different.\n",
    "````\n",
    "\n",
    "## 1. Installing Jupyter Notebook\n",
    "\n",
    "To install and start using Jupyter Notebook, follow the four steps below.\n",
    "\n",
    "1. Check Python installation\n",
    "2. Create Project directory\n",
    "3. Create Python virtual environment (venv)\n",
    "4. Start Jupyter Notebook\n",
    "\n",
    "### 1.1. Check Python installation\n",
    "\n",
    "If you are a macOS or Linux user, your OS has a version of Python installed already. You may issue `python` or `python3` to see the version of the system default Python version. The Windows OS, however, does not ship with a Python installed. There are two ways to install Python in Windows: through Windows Store or by downloading an installer from python.org.\n",
    "\n",
    "- If you have installed Python through the Windows Store:\n",
    "  - PATH environment variable: Your PATH environment variable will be set to this installation automatically.\n",
    "  - The \"py launcher\": However, the py.exe launcher, which provides a convenient way to manage and select different Python versions, will not be included when the Python installation.\n",
    "- If you chose to install Python by downloading a Python installer from python.org, you will have the opportunity to:\n",
    "  - Use admin privileges when installing py.exe, and\n",
    "  - Add python.exe to the PATH environment variable.\n",
    "\n",
    "```{figure} ../../images/python_windows_install.png\n",
    "---\n",
    "width: 500px\n",
    "name: python_windows_install\n",
    "---\n",
    "Python Installation Options in Windows\n",
    "```\n",
    "\n",
    "- When `py` is issued successfully, you should see the Python version message shown as below. Otherwise you need to install Python.\n",
    "\n",
    "From time to time, you might want to check the Python versions you have in your Windows system. It's then advised to click and choose both options:\n",
    "\n",
    "- To see if Python is installed, you may type `py` at the CLI (PowerShell)\n",
    "\n",
    "```{figure} ../../images/python_windows_py.png\n",
    "---\n",
    "width: 450px\n",
    "label: python_windows_py\n",
    "name: python_windows_py\n",
    "---\n",
    "Check Python Installation in Windows\n",
    "```\n",
    "\n",
    "### 1.2. Create Project Directory\n",
    "\n",
    "### 1.3. Create Python virtual environment (venv)\n",
    "\n",
    "### 1.4. Activate the venv\n",
    "\n",
    "To activate your virtual environment, in the CLI, type:\n",
    "\n",
    "- `$ source .venv/bin/activate` # (mac), or\n",
    "- `$ .\\.venv\\Script\\activate` # (Windows)\n",
    "\n",
    "When the virtual envrionment is successfully activated, you will see `(.venv) ` appears before the shell prompt line.\n",
    "\n",
    "### 1.5. Launch Jupyter Notebook\n",
    "\n",
    "To open a Jupyter Notebook, open the PowerShell (Windows) or Terminal (macOS) CLI, and type the following command and press Enter (**with the venv activated**):\n",
    "\n",
    "```\n",
    "$ jupyter notebook\n",
    "```\n",
    "\n",
    "This command will start a Jupyter Notebook from the present working directory in your default browser.\n",
    "\n",
    "## 2. Using Jupyter Notebook Interface\n",
    "\n",
    "When you launch Jupyter Notebook, it opens in your browser. Navigate the Jupyter Notebook Homepage and you will see the files and folders in the directory where you start Jupyter Notebook (`$ jupyter notebook`).\n",
    "\n",
    "### 2.1. Creating and Renaming Notebooks\n",
    "\n",
    "To create a new notebook, click the 'New' button and select the desired Python environment (_Python3 (ipykernel)_). The new notebook will have a title called \"Untitled.\" To rename a notebook, click on the title (i.e., 'Untitled') and enter a new name.\n",
    "\n",
    "### 2.2. \"hello world\"\n",
    "\n",
    "Jupyter Notebooks use code cells to execute Python code. For example, to print a message:"
   ]
  },
  {
   "cell_type": "code",
   "execution_count": 1,
   "id": "48fa44f2",
   "metadata": {},
   "outputs": [
    {
     "name": "stdout",
     "output_type": "stream",
     "text": [
      "hello world\n"
     ]
    }
   ],
   "source": [
    "print(\"hello world\")"
   ]
  },
  {
   "cell_type": "markdown",
   "id": "f8b54011",
   "metadata": {},
   "source": [
    "You can run a cell by clicking on the 'Run' icon or by using the keyboard shortcut Shift+Enter. The output appears below the cell. For expressions like 1 + 1, the result is displayed automatically unless you use the print function."
   ]
  },
  {
   "cell_type": "code",
   "execution_count": 2,
   "id": "f3ff39fc",
   "metadata": {},
   "outputs": [
    {
     "data": {
      "text/plain": [
       "2"
      ]
     },
     "execution_count": 2,
     "metadata": {},
     "output_type": "execute_result"
    }
   ],
   "source": [
    "1 + 1"
   ]
  },
  {
   "cell_type": "markdown",
   "id": "a3515fbf",
   "metadata": {},
   "source": [
    "### Keyboard Shortcuts\n",
    "\n",
    "- Shift+Enter: Runs the current cell and moves to the next.\n",
    "- a: add a new cell above\n",
    "- b: add a new cell below\n",
    "- dd: delete the highlighted cell.\n",
    "\n",
    "These shortcuts help streamline your workflow.\n",
    "\n",
    "### Saving and Exporting Notebooks\n",
    "\n",
    "- You can save your notebook by clicking the save icon or pressing Ctrl+S. Jupyter Notebooks have an autosave feature that saves every two minutes.\n",
    "- To export your notebook, go to File > Download As and select your preferred format, such as .py for Python scripts or .html for web viewing.\n",
    "\n",
    "### Restarting and Interrupting the Kernel\n",
    "\n",
    "If you encounter an infinite loop or need to restart your Python environment, go to the 'Kernel' menu and select 'Restart'. This will reset the notebook's kernel, stopping any running code. You can also use 'Interrupt' to stop a specific cell, though it may not always work with problematic loops.\n",
    "\n",
    "### Accessing Help and Shortcuts\n",
    "\n",
    "The 'Help' menu provides documentation for libraries and the notebook itself. You can also find a list of keyboard shortcuts under Help > Keyboard Shortcuts.\n",
    "\n",
    "### Code and Markdown Cells\n",
    "\n",
    "To create a markdown cell, change the cell type from 'Code' to 'Markdown'. Markdown cells are useful for taking notes and support formatting such as headings, bold, italics, bullet points, and even LaTeX for equations.\n",
    "\n",
    "If your code is not running, ensure the cell is set to 'Code' and not 'Markdown'. To switch, select the cell and change its type accordingly.\n",
    "\n",
    "## Conclusion\n",
    "\n",
    "The Jupyter Notebook system is a powerful tool for interactive coding and note-taking. Instead of using proprietary tools such as Tableau or PowerBI, it is now common for data scientists to use Python and Jupyter Notebook Remember that the notebook will start in your current directory, so use the cd command to navigate as needed.\n",
    "\n",
    "Key Takeaways\n",
    "\n",
    "- Jupyter Notebooks allow for interactive Python coding and note-taking in one environment.\n",
    "- Use PowerShell or Terminal to launch Jupyter Notebooks and navigate directories as needed.\n",
    "- Code cells execute Python code, while markdown cells are for formatted notes and documentation.\n",
    "- Keyboard shortcuts like Shift+Enter and A, B, DD to streamline workflow in notebooks.\n",
    "- Notebooks can be saved, exported, and kernels restarted or interrupted for troubleshooting.\n",
    "\n",
    "## Resources\n",
    "\n",
    "- [How to Install Python on Your System: A Guide](https://realpython.com/installing-python/#windows-how-to-check-or-get-python) from realpython.com\n",
    "- [How to Install Python on Windows 10](https://www.digitalocean.com/community/tutorials/install-python-windows-10)"
   ]
  }
 ],
 "metadata": {
  "jupytext": {
   "cell_metadata_filter": "-all",
   "formats": "md:myst",
   "text_representation": {
    "extension": ".md",
    "format_name": "myst",
    "format_version": 0.13,
    "jupytext_version": "1.17.2"
   }
  },
  "kernelspec": {
   "display_name": "Python 3 (ipykernel)",
   "language": "python",
   "name": "python3"
  },
  "language_info": {
   "codemirror_mode": {
    "name": "ipython",
    "version": 3
   },
   "file_extension": ".py",
   "mimetype": "text/x-python",
   "name": "python",
   "nbconvert_exporter": "python",
   "pygments_lexer": "ipython3",
   "version": "3.13.3"
  },
  "source_map": [
   14,
   102,
   104,
   108,
   110
  ]
 },
 "nbformat": 4,
 "nbformat_minor": 5
}