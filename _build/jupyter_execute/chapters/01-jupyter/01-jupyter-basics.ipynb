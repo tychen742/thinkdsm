{
 "cells": [
  {
   "cell_type": "markdown",
   "id": "f2277248",
   "metadata": {},
   "source": [
    "# Jupyter Notebooks Overview\n",
    "\n",
    "We are going to use Jupyter Notebooks intensively in this course. \n",
    "This chapter provides a comprehensive overview of the Jupyter Notebook system, including how to install it, how to use it effectively, and how to navigate its environment.\n",
    "\n",
    "\n",
    "## Installing Jupyter Notebook\n",
    "\n",
    "```{note} \n",
    "Some prefer to use Anaconda to manage Jupyter Notebook. We use the Python package installer ```pip``` for simplicity and better project control.  \n",
    "```\n",
    "1. Install Python \n",
    "Opening Jupyter Notebooks\n",
    "To open a Jupyter Notebook, use the command prompt (Windows) or terminal (Mac OS). Type the following command and press Enter:\n",
    "\n",
    "none Code Sample\n",
    "jupyter notebook\n",
    "This command will start a Jupyter Notebook in the current directory. To change directories, use the cd command followed by the folder name. For example, to navigate to the Downloads folder:\n",
    "\n",
    "none Code Sample\n",
    "cd Downloads\n",
    "On Windows, use dir to list directory contents. On Mac, use ls. To clear the terminal, use cls on Windows or clear on Mac.\n",
    "\n",
    "Navigating the Jupyter Notebook Interface\n",
    "When you launch Jupyter Notebook, it opens in your browser. Navigate to the folder where you unzipped the course files. Each section of the course has its own folder, and within those, you will find the relevant notebook files.\n",
    "\n",
    "Creating and Renaming Notebooks\n",
    "To create a new notebook, click 'New' and select the desired Python environment. To rename a notebook, click on the title (e.g., 'Untitled') and enter a new name.\n",
    "\n",
    "Using Code Cells\n",
    "Jupyter Notebooks use code cells to execute Python code. For example, to print a message:\n",
    "\n",
    "python Code Sample\n",
    "print(\"Hello\")\n",
    "You can run a cell by clicking 'Run' or by using the keyboard shortcut Shift+Enter. The output appears below the cell. For expressions like 1 + 1, the result is displayed automatically unless you use the print function.\n",
    "\n",
    "python Code Sample\n",
    "1 + 1\n",
    "Keyboard Shortcuts\n",
    "Shift+Enter: Runs the current cell and moves to the next.\n",
    "Alt+Enter: Runs the current cell and inserts a new cell below.\n",
    "These shortcuts help streamline your workflow.\n",
    "\n",
    "Saving and Exporting Notebooks\n",
    "You can save your notebook by clicking the save icon or pressing Ctrl+S. Jupyter Notebooks have an autosave feature that saves every two minutes. To export your notebook, go to File > Download As and select your preferred format, such as .py for Python scripts or .html for web viewing.\n",
    "\n",
    "Restarting and Interrupting the Kernel\n",
    "If you encounter an infinite loop or need to restart your Python environment, go to the 'Kernel' menu and select 'Restart'. This will reset the notebook's kernel, stopping any running code. You can also use 'Interrupt' to stop a specific cell, though it may not always work with problematic loops.\n",
    "\n",
    "Accessing Help and Shortcuts\n",
    "The 'Help' menu provides documentation for libraries and the notebook itself. You can also find a list of keyboard shortcuts under Help > Keyboard Shortcuts.\n",
    "\n",
    "Exercises and Markdown Cells\n",
    "Each exercise in the course has an associated solutions file. Work on the exercise file first before checking the solutions. Exercise files contain questions and cells for your answers. Some cells are markdown cells, which display formatted text instead of code.\n",
    "\n",
    "To create a markdown cell, change the cell type from 'Code' to 'Markdown'. Markdown cells are useful for taking notes and support formatting such as headings, bold, italics, bullet points, and even LaTeX for equations.\n",
    "\n",
    "Switching Between Code and Markdown Cells\n",
    "If your code is not running, ensure the cell is set to 'Code' and not 'Markdown'. To switch, select the cell and change its type accordingly.\n",
    "\n",
    "Practical Tips for Exercises\n",
    "When working on exercises, use Alt+Enter to insert new cells for your answers without overwriting existing outputs. Shift+Enter runs the cell. This approach helps keep your work organized and prevents accidental overwriting.\n",
    "\n",
    "Conclusion\n",
    "The Jupyter Notebook system is a powerful tool for interactive coding and note-taking. If you have questions, use the QA forums for assistance. Remember that the notebook will start in your current directory, so use the cd command to navigate as needed.\n",
    "\n",
    "Key Takeaways\n",
    "Jupyter Notebooks allow for interactive Python coding and note-taking in one environment.\n",
    "Use the command prompt or terminal to launch Jupyter Notebooks and navigate directories as needed.\n",
    "Code cells execute Python code, while markdown cells are for formatted notes and documentation.\n",
    "Keyboard shortcuts like Shift+Enter and Alt+Enter streamline workflow in notebooks.\n",
    "Notebooks can be saved, exported, and kernels restarted or interrupted for troubleshooting."
   ]
  }
 ],
 "metadata": {
  "jupytext": {
   "cell_metadata_filter": "-all",
   "formats": "md:myst",
   "text_representation": {
    "extension": ".md",
    "format_name": "myst",
    "format_version": 0.13,
    "jupytext_version": "1.17.2"
   }
  },
  "kernelspec": {
   "display_name": "Python 3 (ipykernel)",
   "language": "python",
   "name": "python3"
  },
  "language_info": {
   "codemirror_mode": {
    "name": "ipython",
    "version": 3
   },
   "file_extension": ".py",
   "mimetype": "text/x-python",
   "name": "python",
   "nbconvert_exporter": "python",
   "pygments_lexer": "ipython3",
   "version": "3.13.3"
  },
  "source_map": [
   14
  ]
 },
 "nbformat": 4,
 "nbformat_minor": 5
}