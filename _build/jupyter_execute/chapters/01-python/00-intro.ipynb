{
 "cells": [
  {
   "cell_type": "markdown",
   "id": "ac5232f3",
   "metadata": {},
   "source": [
    "# Introduction to the Python \n",
    "\n",
    "This Python introduction is designed for individuals who already have some programming experience. If you feel that you need a stronger background beyond the basics of programming, you may want to consider taking a short online tutorials that is specifically geared towards Python beginners.\n",
    "\n"
   ]
  }
 ],
 "metadata": {
  "language_info": {
   "codemirror_mode": {
    "name": "ipython",
    "version": 3
   },
   "file_extension": ".py",
   "mimetype": "text/x-python",
   "name": "python",
   "nbconvert_exporter": "python",
   "pygments_lexer": "ipython3",
   "version": "3.13.3"
  }
 },
 "nbformat": 4,
 "nbformat_minor": 5
}