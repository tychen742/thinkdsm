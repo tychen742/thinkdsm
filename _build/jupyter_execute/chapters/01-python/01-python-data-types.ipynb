{
 "cells": [
  {
   "cell_type": "markdown",
   "id": "9597a66c",
   "metadata": {
    "vscode": {
     "languageId": "plaintext"
    }
   },
   "source": [
    "# Python Introduction - Part 1\n",
    "\n",
    "In this lecture, we begin our discussion of Python by going over basic data types. The lecture demonstrates where to find the Jupyter notebooks for this series and how to access the Python crash course notebook."
   ]
  },
  {
   "cell_type": "markdown",
   "id": "c3d199d6",
   "metadata": {
    "vscode": {
     "languageId": "plaintext"
    }
   },
   "source": [
    "## Data Types: Basic Numbers and Arithmetic\n",
    "Python has two basic number types: the integer (e.g., 1) and the floating point number (e.g., 1.0). With either of these numbers, you can perform basic arithmetic as expected.\n",
    "Python Code Sample"
   ]
  },
  {
   "cell_type": "code",
   "execution_count": 1,
   "id": "1ab80eec",
   "metadata": {
    "vscode": {
     "languageId": "plaintext"
    }
   },
   "outputs": [
    {
     "data": {
      "text/plain": [
       "16"
      ]
     },
     "execution_count": 1,
     "metadata": {},
     "output_type": "execute_result"
    }
   ],
   "source": [
    "1 + 1\n",
    "1 * 3\n",
    "1 / 2\n",
    "2 ** 4"
   ]
  },
  {
   "cell_type": "markdown",
   "id": "bcc4b36f",
   "metadata": {},
   "source": [
    "\n",
    "\n",
    "\n",
    "For addition, use the plus sign. For multiplication, use the asterisk. Division is performed with a forward slash. Note that dividing two integers results in a floating point number. For exponents, use two asterisks together. Python follows the order of operations, and you can use parentheses to clarify the order.\n",
    "Python Code Sample\n",
    "\n",
    "2 + 3 * 5 + 5\n",
    "2 + 3 * (5 + 5)\n",
    "The modulus operation (also known as the mod function) is represented by the percent sign in Python. It returns what remains after the division.\n",
    "Python Code Sample\n",
    "\n",
    "4 % 2\n",
    "5 % 2\n",
    "8 % 2\n",
    "Variable Assignments\n",
    "Variables are assigned using the equal sign. Choose a variable name and assign an object or data type to it.\n",
    "Python Code Sample\n",
    "\n",
    "var = 2\n",
    "x = 2\n",
    "y = 3\n",
    "x + y\n",
    "x = x + x\n",
    "Variable names should not start with numbers or special symbols. Use lowercase letters, and to chain together multiple words, use underscores.\n",
    "Python Code Sample\n",
    "\n",
    "#12var = 12\n",
    "#$var = 5\n",
    "name_of_var = 10\n",
    "Strings in Python\n",
    "Strings can be created using single or double quotes. You can also wrap double quotes around single quotes if you need to include a quote inside the string.\n",
    "Python Code Sample\n",
    "\n",
    "'hello'\n",
    "\"hello\"\n",
    "\"I can't go\"\n",
    "Printing Strings and Print Formatting\n",
    "Assign a string to a variable and print it. In Jupyter Notebook, typing the variable name displays the value, but to officially display output in Python, use the print statement.\n",
    "Python Code Sample\n",
    "\n",
    "x = 'hello'\n",
    "print(x)\n",
    "Print Formatting with .format()\n",
    "You can format print statements by inserting curly brackets in your string and using the .format() method to fill them with variable values.\n",
    "Python Code Sample\n",
    "\n",
    "num = 12\n",
    "name = 'Sam'\n",
    "print('My number is {} and my name is {}'.format(num, name))\n",
    "You can also use named placeholders inside the curly brackets and specify which variable fills each placeholder in the .format() call.\n",
    "Python Code Sample\n",
    "\n",
    "print('My number is {one} and my name is {two}. More: {one}'.format(one=num, two=name))\n",
    "Indexing and Slicing Strings\n",
    "Strings are sequences of characters. You can access specific elements using square bracket notation. Python indexing starts at zero.\n",
    "Python Code Sample\n",
    "\n",
    "s = 'hello'\n",
    "s[0]\n",
    "s[4]\n",
    "Slice notation allows you to grab parts of a string. Use a colon to specify the start and end indices. The end index is not included.\n",
    "Python Code Sample\n",
    "\n",
    "s = 'abcdefghijk'\n",
    "s[0:]\n",
    "s[:3]\n",
    "s[3:6]\n",
    "Lists in Python\n",
    "Lists are sequences of elements in square brackets, separated by commas. Lists can contain any data type, including other lists.\n",
    "Python Code Sample\n",
    "\n",
    "my_list = ['a', 'b', 'c']\n",
    "my_list.append('d')\n",
    "my_list[0]\n",
    "my_list[1:3]\n",
    "my_list[0] = 'NEW'\n",
    "Lists can be nested inside each other. You can access elements in nested lists by chaining square brackets.\n",
    "Python Code Sample\n",
    "\n",
    "lst = [1, 2, [3, 4]]\n",
    "lst[2][1]\n",
    "For deeper nesting, continue stacking brackets to access the desired element.\n",
    "Python Code Sample\n",
    "\n",
    "nest = [1, 2, 3, [4, 5, ['target']]]\n",
    "nest[3][2][0]\n",
    "print(nest[3][2][0])\n",
    "Conclusion\n",
    "In this lecture, we covered lists, slice notation, how to grab things from an index, strings, print formatting, basic variable assignments, and basic arithmetic.\n",
    "Key Takeaways\n",
    "* Python supports basic arithmetic operations and variable assignments using intuitive syntax.\n",
    "* Strings can be created with single or double quotes and support indexing and slicing.\n",
    "* Print formatting allows dynamic insertion of variables into strings using the .format() method.\n",
    "* Lists are ordered sequences that support indexing, slicing, appending, and nesting.\n"
   ]
  }
 ],
 "metadata": {
  "language_info": {
   "codemirror_mode": {
    "name": "ipython",
    "version": 3
   },
   "file_extension": ".py",
   "mimetype": "text/x-python",
   "name": "python",
   "nbconvert_exporter": "python",
   "pygments_lexer": "ipython3",
   "version": "3.13.3"
  }
 },
 "nbformat": 4,
 "nbformat_minor": 5
}