{
 "cells": [
  {
   "cell_type": "markdown",
   "id": "28b1cb63",
   "metadata": {},
   "source": [
    "# Python Basics\n",
    "\n",
    "This chapter introduces three fundamental areas of Python you'll use immediately: \n",
    "1. variables, \n",
    "2. operators,  \n",
    "3. Python built-in data types\n",
    "4. the print() function."
   ]
  }
 ],
 "metadata": {
  "display_name": "Python (ipykernel)",
  "jupytext": {
   "formats": "md:myst",
   "text_representation": {
    "extension": ".md",
    "format_name": "myst",
    "format_version": 0.13,
    "jupytext_version": "1.17.2"
   }
  },
  "kernelspec": {
   "display_name": "python3",
   "language": "python",
   "name": "python3"
  },
  "source_map": [
   15
  ]
 },
 "nbformat": 4,
 "nbformat_minor": 5
}