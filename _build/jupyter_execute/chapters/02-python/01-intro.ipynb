{
 "cells": [
  {
   "cell_type": "markdown",
   "id": "5c58118c",
   "metadata": {},
   "source": [
    "# Python Basics\n",
    "\n",
    "This chapter introduces three fundamental areas of Python you'll use immediately: \n",
    "1. variables, \n",
    "2. operators,  \n",
    "3. Python built-in data types\n",
    "4. the print() method"
   ]
  }
 ],
 "metadata": {
  "display_name": "Python (ipykernel)",
  "jupytext": {
   "formats": "md:myst",
   "text_representation": {
    "extension": ".md",
    "format_name": "myst",
    "format_version": 0.13,
    "jupytext_version": "1.17.2"
   }
  },
  "kernelspec": {
   "display_name": "python3",
   "language": "python",
   "name": "python3"
  },
  "language_info": {
   "codemirror_mode": {
    "name": "ipython",
    "version": 3
   },
   "file_extension": ".py",
   "mimetype": "text/x-python",
   "name": "python",
   "nbconvert_exporter": "python",
   "pygments_lexer": "ipython3",
   "version": "3.13.3"
  },
  "source_map": [
   15
  ]
 },
 "nbformat": 4,
 "nbformat_minor": 5
}