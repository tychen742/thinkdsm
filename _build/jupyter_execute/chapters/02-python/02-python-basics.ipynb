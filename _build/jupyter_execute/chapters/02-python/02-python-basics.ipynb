{
 "cells": [
  {
   "cell_type": "markdown",
   "id": "fe0670c7",
   "metadata": {},
   "source": [
    "# Python Basics\n",
    "\n",
    "## Variables\n",
    "\n",
    "**Variables** are names that reference **objects** in memory. You create them with the assignment operator (the equal sign, e.g., x = 2) and can reassign them to different objects. Use descriptive, lowercase names with underscores for readability, avoid starting names with digits or symbols.\n",
    "\n",
    "```{note}\n",
    "**Object?** In Python, a variable is a symbolic name or label that refers to an object in memory. In Python, everything is an object. This includes numbers, strings, lists, dictionaries, functions, classes, and even modules. An object is an instance of a class, which serves as a blueprint defining the object's attributes (data) and methods. Each object has a unique identity (memory address), a type (its class), and a value. (see [PEP 8](https://peps.python.org/pep-0008/) for Python coding conventions)\n",
    "```\n",
    "\n",
    "### Variable Assignments\n",
    "\n",
    "Variables are assigned using the equal sign. Choose a variable name and assign an object or data type to it."
   ]
  },
  {
   "cell_type": "code",
   "execution_count": null,
   "id": "5b6fe5f3",
   "metadata": {},
   "outputs": [],
   "source": [
    "var = 2\n",
    "x = 2\n",
    "y = 3\n",
    "x + y\n",
    "x = x + x"
   ]
  },
  {
   "cell_type": "markdown",
   "id": "75448c21",
   "metadata": {},
   "source": [
    "Variable names should not start with numbers or special symbols. Use lowercase letters, and to chain together multiple words, use underscores."
   ]
  },
  {
   "cell_type": "code",
   "execution_count": null,
   "id": "4446963e",
   "metadata": {},
   "outputs": [],
   "source": [
    "#12var = 12\n",
    "#$var = 5\n",
    "name_of_var = 10"
   ]
  },
  {
   "cell_type": "markdown",
   "id": "cddff146",
   "metadata": {},
   "source": [
    "## Operators\n",
    "\n",
    "**Operators** let you perform common processing on variables. There are 7 main operators:\n",
    "\n",
    "1. assignment operators perform assignments and augmented assignments (e.g., `=, +=`).\n",
    "2. arithmetic operators perform calculations (e.g., `+`, `-`, `*`, `/`, `%`, `**`) (note that / yields a floating-point and you usually can't divide by 0).\n",
    "3. comparison operators evaluate relationships (e.g., `==`, `!=`, `<`, `>`, `<=`, `>=`).\n",
    "4. logical operators combine boolean expressions (`and`, `or`, `not`; e.g., `x == x and y > z`).\n",
    "5. bitwise operators (`&`, `|`, `^`, `<<`, `>>`; e.g., `x & y`).\n",
    "6. identity operators compare the objects whereas the equality operator compare two values (`is`, `is not` (e.g., `a is b`)).\n",
    "7. membership operators (`in, not in` (`x in my_list)1`).\n",
    "\n",
    "Operator **precedence**: Python follows standard mathematical order of operations (PEMDAS: Parentheses, Exponents, Multiplication and Division from left to right, then Addition and Subtraction from left to right). For example:"
   ]
  },
  {
   "cell_type": "code",
   "execution_count": null,
   "id": "1996b9c5",
   "metadata": {},
   "outputs": [],
   "source": [
    "2 + 3 * 5 + 5\n",
    "2 + 3 * (5 + 5)"
   ]
  },
  {
   "cell_type": "markdown",
   "id": "85882770",
   "metadata": {},
   "source": [
    "The modulus operation (also known as the mod function) is represented by the percent sign in Python. It returns what remains after the division. Modulus is useful in the operations of cycles/repetition and clock arithmetic."
   ]
  },
  {
   "cell_type": "code",
   "execution_count": null,
   "id": "4d22cd29",
   "metadata": {},
   "outputs": [],
   "source": [
    "4 % 2\n",
    "5 % 2\n",
    "8 % 2"
   ]
  },
  {
   "cell_type": "markdown",
   "id": "40f30213",
   "metadata": {},
   "source": [
    "## Data Types\n",
    "\n",
    "**Data types** define the kind of values you work with. Python has [standard types](https://docs.python.org/3/library/stdtypes.html) built into the interpreter. The commonly used ones are:\n",
    "\n",
    "1. numerics: `int`, `float`, `complex`\n",
    "2. boolean: `bool` (for true/false logic)\n",
    "3. sequence: `list`, `tuple`, `range` (lists are ordered, mutable collections allowing nesting and various types for elements)\n",
    "4. text sequence: `str` (note that strings for text that support _indexing and slicing_)\n",
    "5. set: set, frozenset\n",
    "6. mapping: map\n",
    "\n",
    "```{figure} ../../images/python-data-types.png\n",
    "---\n",
    "width: 500px\n",
    "name: python-data-types\n",
    "---\n",
    "[Python built-in data types](https://www.scaler.com/topics/type-casting-in-python/)\n",
    "```\n",
    "\n",
    "### Numbers\n",
    "\n",
    "Python has three basic number types: the integer (e.g., 1), the floating point number (e.g., 1.0), and the complex number. Standard mathematical order of operation is followed for basic arithmetic operations. Note that dividing two integers results in a floating point number and dividing by zero will generate an error."
   ]
  },
  {
   "cell_type": "code",
   "execution_count": null,
   "id": "209a9a36",
   "metadata": {},
   "outputs": [],
   "source": [
    "1 + 1         \n",
    "1 * 3         \n",
    "1 / 2         \n",
    "2 / 2             ### output 1.0, not 1\n",
    "2 ** 4        \n",
    "2 + 3 * 5 + 5     ### 22\n",
    "2 + 3 * (5 + 5)   ### 32"
   ]
  },
  {
   "cell_type": "markdown",
   "id": "d1035df7",
   "metadata": {},
   "source": [
    "The modulus operation (also known as the mod function) is represented by the percent sign. It returns what remains after the division:"
   ]
  },
  {
   "cell_type": "code",
   "execution_count": null,
   "id": "5fad64f6",
   "metadata": {},
   "outputs": [],
   "source": [
    "4 % 2\n",
    "5 % 2\n",
    "8 % 2"
   ]
  },
  {
   "cell_type": "markdown",
   "id": "b56f1836",
   "metadata": {},
   "source": [
    "### Strings\n",
    "\n",
    "Strings can be created using single or double quotes. You can also wrap double quotes around single quotes if you need to include a quote inside the string."
   ]
  },
  {
   "cell_type": "code",
   "execution_count": null,
   "id": "490a9a02",
   "metadata": {},
   "outputs": [],
   "source": [
    "'hello'\n",
    "\"hello\"\n",
    "\"I can't go\""
   ]
  },
  {
   "cell_type": "markdown",
   "id": "eb9dd855",
   "metadata": {},
   "source": [
    "#### Indexing and Slicing Strings\n",
    "\n",
    "Strings are **sequences** of characters. You can access specific elements using **square bracket notation**. Python indexing starts at zero."
   ]
  },
  {
   "cell_type": "code",
   "execution_count": null,
   "id": "61c45313",
   "metadata": {},
   "outputs": [],
   "source": [
    "s = 'hello'\n",
    "s[0]\n",
    "s[4]"
   ]
  },
  {
   "cell_type": "markdown",
   "id": "a3009683",
   "metadata": {},
   "source": [
    "**Slice notation** allows you to grab parts of a string. Use a colon to specify the start and end indices. The end index is not included."
   ]
  },
  {
   "cell_type": "code",
   "execution_count": null,
   "id": "5056b5d0",
   "metadata": {},
   "outputs": [],
   "source": [
    "s = 'abcdefghijk'\n",
    "s[0:]\n",
    "s[:3]\n",
    "s[3:6]"
   ]
  },
  {
   "cell_type": "markdown",
   "id": "4fd600c2",
   "metadata": {},
   "source": [
    "### Lists\n",
    "\n",
    "Lists are sequences of elements (similar to the array in many other languages) in **square brackets**, separated by _commas_. Lists can contain any data type, including other lists."
   ]
  },
  {
   "cell_type": "code",
   "execution_count": null,
   "id": "76c5d415",
   "metadata": {},
   "outputs": [],
   "source": [
    "my_list = ['a', 'b', 'c']\n",
    "my_list.append('d')\n",
    "my_list[0]\n",
    "my_list[1:3]\n",
    "my_list[0] = 'NEW'"
   ]
  },
  {
   "cell_type": "markdown",
   "id": "a21f38b7",
   "metadata": {},
   "source": [
    "Lists can be nested inside each other. You can access elements in nested lists by chaining square brackets."
   ]
  },
  {
   "cell_type": "code",
   "execution_count": null,
   "id": "16a14dc6",
   "metadata": {},
   "outputs": [],
   "source": [
    "lst = [1, 2, [3, 4]]\n",
    "lst[2][1]             ### 4"
   ]
  },
  {
   "cell_type": "markdown",
   "id": "f43add85",
   "metadata": {},
   "source": [
    "For deeper nesting, continue stacking brackets to access the desired element."
   ]
  },
  {
   "cell_type": "code",
   "execution_count": null,
   "id": "164da3d8",
   "metadata": {},
   "outputs": [],
   "source": [
    "nest = [1, 2, 3, [4, 5, ['target']]]\n",
    "nest[3][2][0]                         ### 'target'\n",
    "print(nest[3][2][0])                  ### target"
   ]
  },
  {
   "cell_type": "markdown",
   "id": "5c9b9128",
   "metadata": {},
   "source": [
    "## Keywords and Built-in Functions\n",
    "\n",
    "### Python Keywords\n",
    "In programming, keywords are predefined, reserved words with special meanings that define the structure and syntax of a programming language. Keywords have predefined meanings and cannot be used as **identifiers** (such as variable names, function names, or class names). For example, trying to create a value with a keyword as the variable name will cause a syntax error:"
   ]
  },
  {
   "cell_type": "code",
   "execution_count": null,
   "id": "dda5bb8b",
   "metadata": {},
   "outputs": [],
   "source": [
    ">>> True = \"this is true\"\n",
    "  File \"<python-input-0>\", line 1\n",
    "    True = \"this is true\"\n",
    "    ^^^^\n",
    "SyntaxError: cannot assign to True\n",
    ">>>"
   ]
  },
  {
   "cell_type": "markdown",
   "id": "52d2b8fe",
   "metadata": {},
   "source": [
    "There are currently 35 [keywords](https://docs.python.org/3/reference/lexical_analysis.html#keywords) and four soft keywords in Python.\n",
    "\n",
    "::::{grid}\n",
    ":gutter: 5\n",
    "\n",
    ":::{grid-item}\n",
    "False  \n",
    "await  \n",
    "else  \n",
    "import  \n",
    "pass\n",
    ":::\n",
    ":::{grid-item}\n",
    "None  \n",
    "break  \n",
    "except  \n",
    "in  \n",
    "raise\n",
    ":::\n",
    ":::{grid-item}\n",
    "True  \n",
    "class  \n",
    "finally  \n",
    "is  \n",
    "return\n",
    ":::\n",
    ":::{grid-item}\n",
    "and  \n",
    "continue  \n",
    "for  \n",
    "lambda  \n",
    "try\n",
    ":::\n",
    ":::{grid-item}\n",
    "as  \n",
    "def  \n",
    "from  \n",
    "nonlocal  \n",
    "while\n",
    ":::\n",
    ":::{grid-item}\n",
    "assert  \n",
    "del  \n",
    "global  \n",
    "not  \n",
    "with\n",
    ":::\n",
    ":::{grid-item}\n",
    "async  \n",
    "elif  \n",
    "if  \n",
    "or  \n",
    "yield\n",
    ":::\n",
    "::::\n",
    "\n",
    "### Python Built-iin Functions\n",
    "The Python interpreter has a number of functions and types built into it that are always available. Built-iin functions come prepackaged with the language and are ready-to-use, so you don’t need to import any modules to access them. Built-in functions represent the essential capabilities of the programming language such as:\n",
    "- working with data types \n",
    "- performing calculations \n",
    "- handling input/output  \n",
    "\n",
    "Some examples of built-in functions are: \n",
    "- `print()`) for displaying output) \n",
    "- `len()` for finding the length of a sequence \n",
    "- `type()` for checking the data type of a value \n",
    "- `range()` for generating sequences of numbers \n",
    "- `input()` for reading user input\n",
    "\n",
    "A number of the built-in functions are constructor functions that can perform type casting. For example:"
   ]
  },
  {
   "cell_type": "code",
   "execution_count": null,
   "id": "fa9b0ca2",
   "metadata": {},
   "outputs": [],
   "source": [
    ">>> x = int(1)   # x will be 1\n",
    ">>> y = int(2.8) # y will be 2\n",
    ">>> z = int(\"3\") # z will be 3"
   ]
  },
  {
   "cell_type": "markdown",
   "id": "8e3f4ee8",
   "metadata": {},
   "source": [
    "```{figure} ../../images/python-builtin-functions.png\n",
    "---\n",
    "width: 400px\n",
    "name: python-builtin-functions\n",
    "---\n",
    "[Python Built-iin Functions](https://docs.python.org/3/library/functions.html#built-in-functions)\n",
    "```\n",
    "\n",
    "\n",
    "\n",
    "## Input and Output\n",
    "\n",
    "In Python, basic input and output operations are handled primarily by the input() and print() functions.\n",
    "\n",
    "### input()\n",
    "\n",
    "The input() function is used to obtain user input from the command line. It displays a prompt for the user to enter text and press Enter. The function then returns the entered text as a string."
   ]
  },
  {
   "cell_type": "code",
   "execution_count": null,
   "id": "04718eb6",
   "metadata": {},
   "outputs": [],
   "source": [
    "name = input(\"Enter your name: \")\n",
    "print(f\"Hello, {name}!\")"
   ]
  },
  {
   "cell_type": "code",
   "execution_count": null,
   "id": "d4045692",
   "metadata": {},
   "outputs": [],
   "source": [
    ">>> num = input(\"Enter an integer between 1 and 10: \")\n",
    "Enter an integer between 1 and 10: 7\n",
    ">>> num\n",
    "'7'\n",
    ">>> type(num)\n",
    "<class 'str'>\n",
    ">>>"
   ]
  },
  {
   "cell_type": "markdown",
   "id": "8e15f181",
   "metadata": {},
   "source": [
    "### print()\n",
    "\n",
    "The print function is a Python built-in function that output text. In Jupyter Notebook, typing the variable name displays the value, but to officially display output in Python, we use the `print` statement.\n",
    "\n",
    "You can pass a string **literal** directly to print() as an argument:"
   ]
  },
  {
   "cell_type": "code",
   "execution_count": null,
   "id": "abdd7fd9",
   "metadata": {},
   "outputs": [],
   "source": [
    ">>> print(\"Please wait while the professor is thinking...\")\n",
    "Please wait while the professor is thinking..."
   ]
  },
  {
   "cell_type": "markdown",
   "id": "7107d097",
   "metadata": {},
   "source": [
    "Mostly, you pass **variables** to print() instead of a string literal:"
   ]
  },
  {
   "cell_type": "code",
   "execution_count": null,
   "id": "84c78fdc",
   "metadata": {},
   "outputs": [],
   "source": [
    "greeting = 'hello world'\n",
    "print(greeting)"
   ]
  },
  {
   "cell_type": "markdown",
   "id": "b49c3787",
   "metadata": {},
   "source": [
    "You can also pass **expressions** to print():"
   ]
  },
  {
   "cell_type": "code",
   "execution_count": null,
   "id": "472d894f",
   "metadata": {},
   "outputs": [],
   "source": [
    ">>> x = 10\n",
    ">>> y = 2\n",
    ">>> print( x**y )\n",
    "100\n",
    ">>>"
   ]
  },
  {
   "cell_type": "markdown",
   "id": "10e1a633",
   "metadata": {},
   "source": [
    "print() also accepts **multiple arguments** separated by **comma**:"
   ]
  },
  {
   "cell_type": "code",
   "execution_count": null,
   "id": "71c96633",
   "metadata": {},
   "outputs": [],
   "source": [
    ">>> name = \"Dr. Chen\"\n",
    ">>> age = 35\n",
    ">>> print(name, age)\n",
    "Dr. Chen 35\n",
    ">>> "
   ]
  },
  {
   "cell_type": "markdown",
   "id": "4fa2bd8e",
   "metadata": {},
   "source": [
    "You can also mix **expressions** with literals when printing using commas (a space between each item will be added):"
   ]
  },
  {
   "cell_type": "code",
   "execution_count": null,
   "id": "0e78dae1",
   "metadata": {},
   "outputs": [],
   "source": [
    "name = \"Bob\"\n",
    "age = 25\n",
    "print(\"Hello,\", name, \"! You are\", age, \"years old.\")"
   ]
  },
  {
   "cell_type": "markdown",
   "id": "279ca34a",
   "metadata": {},
   "source": [
    "If you use **concatenation** (`+`) to join the arguments, you have to cast the arguments to string (note that concatenation does not add commas between arguments):"
   ]
  },
  {
   "cell_type": "code",
   "execution_count": null,
   "id": "36435516",
   "metadata": {},
   "outputs": [],
   "source": [
    ">>> print(name, age)\n",
    "Dr. Chen 35\n",
    ">>> print(name + age)\n",
    "Traceback (most recent call last):\n",
    "  File \"<python-input-4>\", line 1, in <module>\n",
    "    print(name + age)\n",
    "          ~~~~~^~~~~\n",
    "TypeError: can only concatenate str (not \"int\") to str\n",
    ">>> print(name + str(age))\n",
    "Dr. Chen35\n",
    ">>> "
   ]
  },
  {
   "cell_type": "markdown",
   "id": "7006c1ee",
   "metadata": {},
   "source": [
    "**F-strings**, also called formatted string literals, are string literals that have an `f` before the opening quotation mark. They can include Python expressions enclosed in **curly braces**. Python will replace those expressions with their resulting values. F-strings are more flexible and readable and therefore is in general preferred for string formatting:"
   ]
  },
  {
   "cell_type": "code",
   "execution_count": null,
   "id": "c1eabc81",
   "metadata": {},
   "outputs": [],
   "source": [
    ">>> name = \"Dr. Chen\"\n",
    ">>> age = 35\n",
    ">>> print(f\"Hi, {name}, you are {age} years old!\")\n",
    "Hi, Dr. Chen, you are 35 years old!\n",
    ">>> "
   ]
  },
  {
   "cell_type": "markdown",
   "id": "7744e02f",
   "metadata": {},
   "source": [
    "The `end` and `sep` parameters in the print function are used to control the output format. `end` (default to `\\n`, the newline character) controls what character(s) are printed at the end of the printed text; `sep` (default to `\\\\` for ) specifies the separator between the values that are passed to the print() function. \n",
    "\n",
    "In the example below, we want to print the full path to your project folder by setting the `sep` parameter:\n",
    "\n",
    "````{tab-set}\n",
    "```{tab-item} Windows\n",
    "```python\n",
    ">>> import os\n",
    ">>> print(\"C:\\\\\", \"User\", os.getlogin(), \"workspace\", \"dsm\", sep=\"\\\\\")\n",
    "C:\\\\User\\tychen\\workspace\\dsm\n",
    "```\n",
    "\n",
    "```{tab-item} macOS\n",
    "```python\n",
    ">>> import os\n",
    ">>> print(\"/Users\", os.getlogin(), \"workspace\", \"dsm\", sep='/')\n",
    "/Users/tychen/workspace/dsm\n",
    ">>> \n",
    "```\n",
    "````\n",
    "In this example below, we want to print all the output in one line (because each print output by default has a new line character at the end of the line) by setting the `end` parameter to a space."
   ]
  },
  {
   "cell_type": "code",
   "execution_count": null,
   "id": "b4146a1d",
   "metadata": {},
   "outputs": [],
   "source": [
    ">>> for num in range(5):\n",
    "...     print(num)\n",
    "...\n",
    "0\n",
    "1\n",
    "2\n",
    "3\n",
    "4\n",
    "\n",
    ">>> for num in range(5):\n",
    "...     print(num, end=\" \")\n",
    "...\n",
    "0 1 2 3 4 >>>"
   ]
  },
  {
   "cell_type": "markdown",
   "id": "f8c76be2",
   "metadata": {},
   "source": [
    "## Error Messages\n",
    "\n",
    "Divide by zero error:"
   ]
  },
  {
   "cell_type": "code",
   "execution_count": null,
   "id": "c2ed5466",
   "metadata": {},
   "outputs": [],
   "source": [
    ">>> x = 100\n",
    ">>> x / 0\n",
    "Traceback (most recent call last):\n",
    "  File \"<python-input-1>\", line 1, in <module>\n",
    "    x / 0\n",
    "    ~~^~~\n",
    "ZeroDivisionError: division by zero\n",
    ">>> "
   ]
  },
  {
   "cell_type": "markdown",
   "id": "4a7cd101",
   "metadata": {},
   "source": [
    "Syntax error:"
   ]
  },
  {
   "cell_type": "code",
   "execution_count": null,
   "id": "2b39ca70",
   "metadata": {},
   "outputs": [],
   "source": [
    ">>> import os\n",
    ">>> print(f\"Hello, {0s.getlogin()}! How are you?\")\n",
    "  File \"<python-input-12>\", line 1\n",
    "    print(f\"Hello, {0s.getlogin()}! How are you?\")\n",
    "                    **^**\n",
    "SyntaxError: invalid decimal literal\n",
    ">>> print(f\"Hello, {os.getlogin()}! How are you?\")\n",
    "Hello, tychen! How are you?\n",
    ">>>"
   ]
  },
  {
   "cell_type": "markdown",
   "id": "09256804",
   "metadata": {},
   "source": [
    "## Conclusion\n",
    "\n",
    "In this lecture, we covered lists, slice notation, how to grab things from an index, strings, print formatting, basic variable assignments, and basic arithmetic.\n",
    "Key Takeaways\n",
    "\n",
    "- Python supports basic arithmetic operations and variable assignments using intuitive syntax.\n",
    "- Strings can be created with single or double quotes and support indexing and slicing.\n",
    "- Print formatting allows dynamic insertion of variables into strings using the .format() method.\n",
    "- Lists are ordered sequences that support indexing, slicing, appending, and nesting.\n",
    "\n",
    "## Resources\n",
    "\n",
    "- Python (programming language). (2024, February 20). In Wikipedia. https://en.wikipedia.org/wiki/Python_(programming_language)"
   ]
  },
  {
   "cell_type": "code",
   "execution_count": null,
   "id": "9805e252",
   "metadata": {},
   "outputs": [],
   "source": []
  },
  {
   "cell_type": "markdown",
   "id": "bdc16d71",
   "metadata": {},
   "source": [
    "```{bibliography}\n",
    "\n",
    "```"
   ]
  }
 ],
 "metadata": {
  "display_name": "Python (ipykernel)",
  "jupytext": {
   "formats": "md:myst",
   "text_representation": {
    "extension": ".md",
    "format_name": "myst",
    "format_version": 0.13,
    "jupytext_version": "1.17.2"
   }
  },
  "kernelspec": {
   "display_name": "python3",
   "language": "python",
   "name": "python3"
  },
  "source_map": [
   15,
   31,
   37,
   41,
   45,
   61,
   64,
   68,
   72,
   97,
   105,
   109,
   113,
   119,
   123,
   129,
   133,
   137,
   142,
   148,
   154,
   158,
   161,
   165,
   169,
   176,
   183,
   255,
   259,
   280,
   285,
   293,
   301,
   304,
   308,
   311,
   315,
   321,
   324,
   330,
   333,
   337,
   341,
   353,
   357,
   363,
   387,
   401,
   406,
   415,
   418,
   428,
   444,
   446
  ]
 },
 "nbformat": 4,
 "nbformat_minor": 5
}