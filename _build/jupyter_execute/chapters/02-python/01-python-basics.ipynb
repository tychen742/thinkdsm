{
 "cells": [
  {
   "cell_type": "markdown",
   "id": "5cb12355",
   "metadata": {},
   "source": [
    "# Python Basics\n",
    "\n",
    "This chapter introduces three fundamental areas of Python you'll use immediately: \n",
    "1. variables, \n",
    "2. operators,  \n",
    "3. Python built-in data types\n",
    "4. the print() method\n",
    "\n",
    "## Variables\n",
    "**Variables** are names that reference **objects** in memory. You create them with the assignment operator (the equal sign, e.g., x = 2) and can reassign them to different objects. Use descriptive, lowercase names with underscores for readability, avoid starting names with digits or symbols.\n",
    "\n",
    "```{note} \n",
    "**Object?** In Python, a variable is a symbolic name or label that refers to an object in memory. In Python, everything is an object. This includes numbers, strings, lists, dictionaries, functions, classes, and even modules. An object is an instance of a class, which serves as a blueprint defining the object's attributes (data) and methods. Each object has a unique identity (memory address), a type (its class), and a value. (see [PEP 8](https://peps.python.org/pep-0008/) for Python coding conventions)\n",
    "```\n",
    "\n",
    "### Variable Assignments\n",
    "Variables are assigned using the equal sign. Choose a variable name and assign an object or data type to it."
   ]
  },
  {
   "cell_type": "code",
   "execution_count": 1,
   "id": "9ded99b1",
   "metadata": {},
   "outputs": [],
   "source": [
    "var = 2\n",
    "x = 2\n",
    "y = 3\n",
    "x + y\n",
    "x = x + x"
   ]
  },
  {
   "cell_type": "markdown",
   "id": "d566f543",
   "metadata": {},
   "source": [
    "Variable names should not start with numbers or special symbols. Use lowercase letters, and to chain together multiple words, use underscores."
   ]
  },
  {
   "cell_type": "code",
   "execution_count": 2,
   "id": "ddb6dac5",
   "metadata": {},
   "outputs": [],
   "source": [
    "#12var = 12\n",
    "#$var = 5\n",
    "name_of_var = 10"
   ]
  },
  {
   "cell_type": "markdown",
   "id": "fe5a6dab",
   "metadata": {},
   "source": [
    "## Operators\n",
    "**Operators** let you perform common processing on variables. There are 7 main operators: \n",
    "1. assignment operators perform assignments and augmented assignments (e.g., `=, +=`).\n",
    "2. arithmetic operators perform calculations (e.g., `+`, `-`, `*`, `/`, `%`, `**`) (note that / yields a floating-point and you usually can't divide by 0).\n",
    "3. comparison operators evaluate relationships (e.g., `==`, `!=`, `<`, `>`, `<=`, `>=`).\n",
    "4. logical operators combine boolean expressions (`and`, `or`, `not`; e.g., `x == x and y > z`).\n",
    "5. bitwise operators (`&`, `|`, `^`, `<<`, `>>`; e.g., `x & y`).\n",
    "6. identity operators compare the objects whereas the equality operator compare two values (`is`, `is not` (e.g., `a is b`)).\n",
    "7. membership operators (`in, not in` (`x in my_list)1`). \n",
    "\n",
    "Operator **precedence**: Python follows standard mathematical order of operations (PEMDAS: Parentheses, Exponents, Multiplication and Division from left to right, then Addition and Subtraction from left to right). For example:"
   ]
  },
  {
   "cell_type": "code",
   "execution_count": 3,
   "id": "f774bd35",
   "metadata": {},
   "outputs": [
    {
     "data": {
      "text/plain": [
       "32"
      ]
     },
     "execution_count": 3,
     "metadata": {},
     "output_type": "execute_result"
    }
   ],
   "source": [
    "2 + 3 * 5 + 5\n",
    "2 + 3 * (5 + 5)"
   ]
  },
  {
   "cell_type": "markdown",
   "id": "5c52e38c",
   "metadata": {},
   "source": [
    "The modulus operation (also known as the mod function) is represented by the percent sign in Python. It returns what remains after the division. Modulus is useful in the operations of cycles/repetition and clock arithmetic."
   ]
  },
  {
   "cell_type": "code",
   "execution_count": 4,
   "id": "cd92bb2c",
   "metadata": {},
   "outputs": [
    {
     "data": {
      "text/plain": [
       "0"
      ]
     },
     "execution_count": 4,
     "metadata": {},
     "output_type": "execute_result"
    }
   ],
   "source": [
    "4 % 2\n",
    "5 % 2\n",
    "8 % 2"
   ]
  },
  {
   "cell_type": "markdown",
   "id": "f335b7ca",
   "metadata": {},
   "source": [
    "## Data Types\n",
    "**Data types** define the kind of values you work with. Python has [standard types](https://docs.python.org/3/library/stdtypes.html) built into the interpreter. The commonly used ones are:\n",
    "1. numerics: `int`, `float`, `complex`\n",
    "2. boolean: `bool` (for true/false logic)\n",
    "3. sequence: `list`, `tuple`, `range` (lists are ordered, mutable collections allowing nesting and various types for elements)\n",
    "4. text sequence: ```str``` (note that strings for text that support _indexing and slicing_)\n",
    "5. set: set, frozenset\n",
    "6. mapping: map\n",
    "\n",
    "```{figure} ../../images/python-data-types.png\n",
    "---\n",
    "width: 500px\n",
    "name: python-data-types\n",
    "---\n",
    "[Python built-in data types](https://www.scaler.com/topics/type-casting-in-python/)\n",
    "```\n",
    "\n",
    "\n",
    "\n",
    "### Numbers\n",
    "Python has two basic number types: the integer (e.g., 1) and the floating point number (e.g., 1.0). With either of these numbers, you can perform basic arithmetic as expected.\n",
    "Python Code Sample"
   ]
  },
  {
   "cell_type": "code",
   "execution_count": 5,
   "id": "0691c2fd",
   "metadata": {},
   "outputs": [
    {
     "data": {
      "text/plain": [
       "16"
      ]
     },
     "execution_count": 5,
     "metadata": {},
     "output_type": "execute_result"
    }
   ],
   "source": [
    "1 + 1\n",
    "1 * 3\n",
    "1 / 2\n",
    "2 ** 4"
   ]
  },
  {
   "cell_type": "markdown",
   "id": "caa7fbf0",
   "metadata": {},
   "source": [
    "For addition, use the plus sign. For multiplication, use the asterisk. Division is performed with a forward slash. Note that dividing two integers results in a floating point number. For exponents, use two asterisks together. Python follows the order of operations, and you can use parentheses to clarify the order.\n",
    "Python Code Sample"
   ]
  },
  {
   "cell_type": "code",
   "execution_count": 6,
   "id": "47311c17",
   "metadata": {},
   "outputs": [
    {
     "data": {
      "text/plain": [
       "32"
      ]
     },
     "execution_count": 6,
     "metadata": {},
     "output_type": "execute_result"
    }
   ],
   "source": [
    "2 + 3 * 5 + 5\n",
    "2 + 3 * (5 + 5)"
   ]
  },
  {
   "cell_type": "markdown",
   "id": "e33d4fe1",
   "metadata": {},
   "source": [
    "The modulus operation (also known as the mod function) is represented by the percent sign in Python. It returns what remains after the division.\n",
    "Python Code Sample"
   ]
  },
  {
   "cell_type": "code",
   "execution_count": 7,
   "id": "cac45862",
   "metadata": {},
   "outputs": [
    {
     "data": {
      "text/plain": [
       "0"
      ]
     },
     "execution_count": 7,
     "metadata": {},
     "output_type": "execute_result"
    }
   ],
   "source": [
    "4 % 2\n",
    "5 % 2\n",
    "8 % 2"
   ]
  },
  {
   "cell_type": "markdown",
   "id": "b7995437",
   "metadata": {},
   "source": [
    "### Strings \n",
    "Strings can be created using single or double quotes. You can also wrap double quotes around single quotes if you need to include a quote inside the string."
   ]
  },
  {
   "cell_type": "code",
   "execution_count": 8,
   "id": "4faa9128",
   "metadata": {},
   "outputs": [
    {
     "data": {
      "text/plain": [
       "\"I can't go\""
      ]
     },
     "execution_count": 8,
     "metadata": {},
     "output_type": "execute_result"
    }
   ],
   "source": [
    "'hello'\n",
    "\"hello\"\n",
    "\"I can't go\""
   ]
  },
  {
   "cell_type": "markdown",
   "id": "7d93e7d7",
   "metadata": {},
   "source": [
    "#### Indexing and Slicing Strings\n",
    "Strings are sequences of characters. You can access specific elements using square bracket notation. Python indexing starts at zero."
   ]
  },
  {
   "cell_type": "code",
   "execution_count": 9,
   "id": "22c78c45",
   "metadata": {},
   "outputs": [
    {
     "data": {
      "text/plain": [
       "'o'"
      ]
     },
     "execution_count": 9,
     "metadata": {},
     "output_type": "execute_result"
    }
   ],
   "source": [
    "s = 'hello'\n",
    "s[0]\n",
    "s[4]"
   ]
  },
  {
   "cell_type": "markdown",
   "id": "8fc14484",
   "metadata": {},
   "source": [
    "**Slice notation** allows you to grab parts of a string. Use a colon to specify the start and end indices. The end index is not included."
   ]
  },
  {
   "cell_type": "code",
   "execution_count": 10,
   "id": "fc1d6bf1",
   "metadata": {},
   "outputs": [
    {
     "data": {
      "text/plain": [
       "'def'"
      ]
     },
     "execution_count": 10,
     "metadata": {},
     "output_type": "execute_result"
    }
   ],
   "source": [
    "s = 'abcdefghijk'\n",
    "s[0:]\n",
    "s[:3]\n",
    "s[3:6]"
   ]
  },
  {
   "cell_type": "markdown",
   "id": "40f6df8a",
   "metadata": {},
   "source": [
    "### Lists\n",
    "Lists are sequences of elements in square brackets, separated by commas. Lists can contain any data type, including other lists."
   ]
  },
  {
   "cell_type": "code",
   "execution_count": 11,
   "id": "0bca88e1",
   "metadata": {},
   "outputs": [],
   "source": [
    "my_list = ['a', 'b', 'c']\n",
    "my_list.append('d')\n",
    "my_list[0]\n",
    "my_list[1:3]\n",
    "my_list[0] = 'NEW'"
   ]
  },
  {
   "cell_type": "markdown",
   "id": "3f4daa2e",
   "metadata": {},
   "source": [
    "Lists can be nested inside each other. You can access elements in nested lists by chaining square brackets."
   ]
  },
  {
   "cell_type": "code",
   "execution_count": 12,
   "id": "a85ecfd6",
   "metadata": {},
   "outputs": [
    {
     "data": {
      "text/plain": [
       "4"
      ]
     },
     "execution_count": 12,
     "metadata": {},
     "output_type": "execute_result"
    }
   ],
   "source": [
    "lst = [1, 2, [3, 4]]\n",
    "lst[2][1]"
   ]
  },
  {
   "cell_type": "markdown",
   "id": "43c6123b",
   "metadata": {},
   "source": [
    "For deeper nesting, continue stacking brackets to access the desired element."
   ]
  },
  {
   "cell_type": "code",
   "execution_count": 13,
   "id": "dd7f81b7",
   "metadata": {},
   "outputs": [
    {
     "name": "stdout",
     "output_type": "stream",
     "text": [
      "target\n"
     ]
    }
   ],
   "source": [
    "nest = [1, 2, 3, [4, 5, ['target']]]\n",
    "nest[3][2][0]\n",
    "print(nest[3][2][0])"
   ]
  },
  {
   "cell_type": "markdown",
   "id": "d65ad25a",
   "metadata": {},
   "source": [
    "## print()\n",
    "In Jupyter Notebook, typing the variable name displays the value, but to officially display output in Python, use the print statement."
   ]
  },
  {
   "cell_type": "code",
   "execution_count": 14,
   "id": "c6507aef",
   "metadata": {},
   "outputs": [
    {
     "name": "stdout",
     "output_type": "stream",
     "text": [
      "hello\n"
     ]
    }
   ],
   "source": [
    "x = 'hello'\n",
    "print(x)"
   ]
  },
  {
   "cell_type": "markdown",
   "id": "ad80e6ba",
   "metadata": {},
   "source": [
    "### Print Formatting \n",
    "You can format print statements by inserting **curly brackets** in your string and using the **.format()** method to fill them with variable values."
   ]
  },
  {
   "cell_type": "code",
   "execution_count": 15,
   "id": "0e908c41",
   "metadata": {},
   "outputs": [
    {
     "name": "stdout",
     "output_type": "stream",
     "text": [
      "My number is 12 and my name is Sam\n"
     ]
    }
   ],
   "source": [
    "num = 12\n",
    "name = 'Sam'\n",
    "print('My number is {} and my name is {}'.format(num, name))"
   ]
  },
  {
   "cell_type": "markdown",
   "id": "16cd3e9d",
   "metadata": {},
   "source": [
    "You can also use **named placeholders** inside the curly brackets and specify which variable fills each placeholder in the .format() call."
   ]
  },
  {
   "cell_type": "code",
   "execution_count": 16,
   "id": "ab73d386",
   "metadata": {},
   "outputs": [
    {
     "name": "stdout",
     "output_type": "stream",
     "text": [
      "My number is 12 and my name is Sam. More: 12\n"
     ]
    }
   ],
   "source": [
    "print('My number is {one} and my name is {two}. More: {one}'.format(one=num, two=name))"
   ]
  },
  {
   "cell_type": "markdown",
   "id": "b5d94773",
   "metadata": {},
   "source": [
    "## Conclusion\n",
    "In this lecture, we covered lists, slice notation, how to grab things from an index, strings, print formatting, basic variable assignments, and basic arithmetic.\n",
    "Key Takeaways\n",
    "* Python supports basic arithmetic operations and variable assignments using intuitive syntax.\n",
    "* Strings can be created with single or double quotes and support indexing and slicing.\n",
    "* Print formatting allows dynamic insertion of variables into strings using the .format() method.\n",
    "* Lists are ordered sequences that support indexing, slicing, appending, and nesting.\n",
    "\n",
    "\n",
    "## Resources\n",
    "- Python (programming language). (2024, February 20). In Wikipedia. https://en.wikipedia.org/wiki/Python_(programming_language)"
   ]
  },
  {
   "cell_type": "code",
   "execution_count": null,
   "id": "36d555b6",
   "metadata": {},
   "outputs": [],
   "source": []
  },
  {
   "cell_type": "markdown",
   "id": "649d1982",
   "metadata": {},
   "source": [
    "```{bibliography}\n",
    "```"
   ]
  }
 ],
 "metadata": {
  "display_name": "Python (ipykernel)",
  "jupytext": {
   "formats": "md:myst",
   "text_representation": {
    "extension": ".md",
    "format_name": "myst",
    "format_version": 0.13,
    "jupytext_version": "1.17.2"
   }
  },
  "kernelspec": {
   "display_name": "python3",
   "language": "python",
   "name": "python3"
  },
  "language_info": {
   "codemirror_mode": {
    "name": "ipython",
    "version": 3
   },
   "file_extension": ".py",
   "mimetype": "text/x-python",
   "name": "python",
   "nbconvert_exporter": "python",
   "pygments_lexer": "ipython3",
   "version": "3.13.3"
  },
  "source_map": [
   15,
   35,
   41,
   45,
   49,
   63,
   66,
   70,
   74,
   99,
   104,
   109,
   112,
   117,
   121,
   126,
   130,
   135,
   139,
   143,
   148,
   153,
   159,
   163,
   166,
   169,
   173,
   178,
   181,
   186,
   190,
   194,
   196,
   212,
   214
  ]
 },
 "nbformat": 4,
 "nbformat_minor": 5
}