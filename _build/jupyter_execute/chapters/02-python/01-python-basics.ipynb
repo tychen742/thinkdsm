{
 "cells": [
  {
   "cell_type": "markdown",
   "id": "dd835386",
   "metadata": {},
   "source": [
    "# Python Basics\n",
    "\n",
    "This section introduces three fundamental areas of Python you'll use immediately: variables, operators, and data types.\n",
    "\n",
    "**Variables** are names that reference objects in memory. You create them with the assignment operator (the equal sign, e.g., x = 2) and can reassign them to different objects. Use descriptive, lowercase names with underscores for readability, avoid starting names with digits or symbols.\n",
    "\n",
    "```{note} \n",
    "**Object?** In Python, a variable is a symbolic name or label that refers to an object in memory. In Python, everything is an object. This includes numbers, strings, lists, dictionaries, functions, classes, and even modules. An object is an instance of a class, which serves as a blueprint defining the object's attributes (data) and methods. Each object has a unique identity (memory address), a type (its class), and a value. (see [PEP 8](https://peps.python.org/pep-0008/) for Python coding conventions)\n",
    "```\n",
    "\n",
    "**Operators** let you perform common processing on variables. There are 7 main operators: \n",
    "1. assignment operators perform assignments and augmented assignments (e.g., ```=, +=```), \n",
    "2. arithmetic operators perform calculations (e.g., ```+, -, *, /, %, **```) (note that / yields a floating-point and you usually can't divide by 0), \n",
    "3. comparison operators evaluate relationships (e.g., ```==, !=, <, >, <=, >=```), \n",
    "4. logical operators combine boolean expressions (and, or, not; e.g., ```x == x and y > z```), \n",
    "5. bitwise operators (```&, |, ^, <<, >>```; e.g., ```x & y```),\n",
    "6. identity operators compare the objects whereas the equality operator compare two values (```is, is not``` (e.g., ```a is b```)), and\n",
    "7. membership operators (```in, not in``` (```x in my_list)1```).  \n",
    "\n",
    "Operator precedence follows standard mathematical rules, and you can use parentheses to ensure the order of evaluation you intend.\n",
    "\n",
    "**Data types** define the kind of values you work with. Python has [standard types](https://docs.python.org/3/library/stdtypes.html) built into the interpreter. The commonly used ones are:\n",
    "1. numerics: ```int```, ```float```, ```complex```\n",
    "2. boolean: ```bool``` (for true/false logic)\n",
    "3. sequence: ```list```, ```tuple```, ```range``` (lists are ordered, mutable collections allowing nesting and various types for elements)\n",
    "4. text sequence: ```str``` (note that strings for text that support _indexing and slicing_)\n",
    "5. set: set, frozenset\n",
    "6. mapping: map\n",
    "\n",
    "\n",
    "2 ** 4\n",
    "```\n",
    "\n",
    "For addition, use the plus sign. For multiplication, use the asterisk. Division is performed with a forward slash. Note that dividing two integers results in a floating point number. For exponents, use two asterisks together. Python follows the order of operations, and you can use parentheses to clarify the order.\n",
    "\n",
    "```{code-cell}\n",
    "2 + 3 * 5 + 5\n",
    "2 + 3 * (5 + 5)\n",
    "```\n",
    "\n",
    "The modulus operation (also known as the mod function) is represented by the percent sign in Python. It returns what remains after the division."
   ]
  },
  {
   "cell_type": "code",
   "execution_count": 1,
   "id": "be6f88c5",
   "metadata": {},
   "outputs": [
    {
     "data": {
      "text/plain": [
       "0"
      ]
     },
     "execution_count": 1,
     "metadata": {},
     "output_type": "execute_result"
    }
   ],
   "source": [
    "4 % 2\n",
    "5 % 2\n",
    "8 % 2"
   ]
  },
  {
   "cell_type": "markdown",
   "id": "f3b03d5d",
   "metadata": {},
   "source": [
    "Variable Assignments\n",
    "Variables are assigned using the equal sign. Choose a variable name and assign an object or data type to it."
   ]
  },
  {
   "cell_type": "code",
   "execution_count": 2,
   "id": "80382347",
   "metadata": {},
   "outputs": [],
   "source": [
    "var = 2\n",
    "x = 2\n",
    "y = 3\n",
    "x + y\n",
    "x = x + x"
   ]
  },
  {
   "cell_type": "markdown",
   "id": "b49ef8be",
   "metadata": {},
   "source": [
    "Variable names should not start with numbers or special symbols. Use lowercase letters, and to chain together multiple words, use underscores."
   ]
  },
  {
   "cell_type": "code",
   "execution_count": 3,
   "id": "d06c5356",
   "metadata": {},
   "outputs": [],
   "source": [
    "#12var = 12\n",
    "#$var = 5\n",
    "name_of_var = 10"
   ]
  },
  {
   "cell_type": "markdown",
   "id": "c281df4a",
   "metadata": {},
   "source": [
    "Strings in Python\n",
    "Strings can be created using single or double quotes. You can also wrap double quotes around single quotes if you need to include a quote inside the string."
   ]
  },
  {
   "cell_type": "code",
   "execution_count": 4,
   "id": "53515dbe",
   "metadata": {},
   "outputs": [
    {
     "data": {
      "text/plain": [
       "\"I can't go\""
      ]
     },
     "execution_count": 4,
     "metadata": {},
     "output_type": "execute_result"
    }
   ],
   "source": [
    "'hello'\n",
    "\"hello\"\n",
    "\"I can't go\""
   ]
  },
  {
   "cell_type": "markdown",
   "id": "d575a8be",
   "metadata": {},
   "source": [
    "Printing Strings and Print Formatting\n",
    "Assign a string to a variable and print it. In Jupyter Notebook, typing the variable name displays the value, but to officially display output in Python, use the print statement."
   ]
  },
  {
   "cell_type": "code",
   "execution_count": 5,
   "id": "9a3c1723",
   "metadata": {},
   "outputs": [
    {
     "name": "stdout",
     "output_type": "stream",
     "text": [
      "hello\n"
     ]
    }
   ],
   "source": [
    "x = 'hello'\n",
    "print(x)"
   ]
  },
  {
   "cell_type": "markdown",
   "id": "38af441f",
   "metadata": {},
   "source": [
    "Print Formatting with .format()\n",
    "You can format print statements by inserting curly brackets in your string and using the .format() method to fill them with variable values."
   ]
  },
  {
   "cell_type": "code",
   "execution_count": 6,
   "id": "6dfdbcfd",
   "metadata": {},
   "outputs": [],
   "source": [
    "num = 12\n",
    "name = 'Sam'"
   ]
  },
  {
   "cell_type": "markdown",
   "id": "d63e6d04",
   "metadata": {},
   "source": [
    "print('My number is {} and my name is {}'.format(num, name))\n",
    "You can also use named placeholders inside the curly brackets and specify which variable fills each placeholder in the .format() call."
   ]
  },
  {
   "cell_type": "code",
   "execution_count": 7,
   "id": "73021f0a",
   "metadata": {},
   "outputs": [
    {
     "name": "stdout",
     "output_type": "stream",
     "text": [
      "My number is 12 and my name is Sam. More: 12\n"
     ]
    }
   ],
   "source": [
    "print('My number is {one} and my name is {two}. More: {one}'.format(one=num, two=name))"
   ]
  },
  {
   "cell_type": "markdown",
   "id": "b8f80a6c",
   "metadata": {},
   "source": [
    "Indexing and Slicing Strings\n",
    "Strings are sequences of characters. You can access specific elements using square bracket notation. Python indexing starts at zero."
   ]
  },
  {
   "cell_type": "code",
   "execution_count": 8,
   "id": "57a85778",
   "metadata": {},
   "outputs": [
    {
     "data": {
      "text/plain": [
       "'o'"
      ]
     },
     "execution_count": 8,
     "metadata": {},
     "output_type": "execute_result"
    }
   ],
   "source": [
    "s = 'hello'\n",
    "s[0]\n",
    "s[4]"
   ]
  },
  {
   "cell_type": "markdown",
   "id": "d508e580",
   "metadata": {},
   "source": [
    "Slice notation allows you to grab parts of a string. Use a colon to specify the start and end indices. The end index is not included."
   ]
  },
  {
   "cell_type": "code",
   "execution_count": 9,
   "id": "9e0d1cdd",
   "metadata": {},
   "outputs": [
    {
     "data": {
      "text/plain": [
       "'def'"
      ]
     },
     "execution_count": 9,
     "metadata": {},
     "output_type": "execute_result"
    }
   ],
   "source": [
    "s = 'abcdefghijk'\n",
    "s[0:]\n",
    "s[:3]\n",
    "s[3:6]"
   ]
  },
  {
   "cell_type": "markdown",
   "id": "46b54e9f",
   "metadata": {},
   "source": [
    "Lists in Python\n",
    "Lists are sequences of elements in square brackets, separated by commas. Lists can contain any data type, including other lists."
   ]
  },
  {
   "cell_type": "code",
   "execution_count": 10,
   "id": "75a4a711",
   "metadata": {},
   "outputs": [],
   "source": [
    "my_list = ['a', 'b', 'c']\n",
    "my_list.append('d')\n",
    "my_list[0]\n",
    "my_list[1:3]\n",
    "my_list[0] = 'NEW'"
   ]
  },
  {
   "cell_type": "markdown",
   "id": "58593d30",
   "metadata": {},
   "source": [
    "Lists can be nested inside each other. You can access elements in nested lists by chaining square brackets."
   ]
  },
  {
   "cell_type": "code",
   "execution_count": 11,
   "id": "43507acb",
   "metadata": {},
   "outputs": [
    {
     "data": {
      "text/plain": [
       "4"
      ]
     },
     "execution_count": 11,
     "metadata": {},
     "output_type": "execute_result"
    }
   ],
   "source": [
    "lst = [1, 2, [3, 4]]\n",
    "lst[2][1]"
   ]
  },
  {
   "cell_type": "markdown",
   "id": "690316d5",
   "metadata": {},
   "source": [
    "For deeper nesting, continue stacking brackets to access the desired element."
   ]
  },
  {
   "cell_type": "code",
   "execution_count": 12,
   "id": "05080fa4",
   "metadata": {},
   "outputs": [
    {
     "name": "stdout",
     "output_type": "stream",
     "text": [
      "target\n"
     ]
    }
   ],
   "source": [
    "nest = [1, 2, 3, [4, 5, ['target']]]\n",
    "nest[3][2][0]\n",
    "print(nest[3][2][0])"
   ]
  },
  {
   "cell_type": "markdown",
   "id": "d1937861",
   "metadata": {},
   "source": [
    "Conclusion\n",
    "In this lecture, we covered lists, slice notation, how to grab things from an index, strings, print formatting, basic variable assignments, and basic arithmetic.\n",
    "\n",
    "Key Takeaways\n",
    "Python supports basic arithmetic operations and variable assignments using intuitive syntax.\n",
    "Strings can be created with single or double quotes and support indexing and slicing.\n",
    "Print formatting allows dynamic insertion of variables into strings using the .format() method.\n",
    "Lists are ordered sequences that support indexing, slicing, appending, and nesting.\n",
    "\n",
    "```{bibliography}\n",
    "```"
   ]
  }
 ],
 "metadata": {
  "display_name": "Python (ipykernel)",
  "jupytext": {
   "formats": "md:myst",
   "text_representation": {
    "extension": ".md",
    "format_name": "myst",
    "format_version": 0.13,
    "jupytext_version": "1.17.2"
   }
  },
  "kernelspec": {
   "display_name": "python3",
   "language": "python",
   "name": "python3"
  },
  "language_info": {
   "codemirror_mode": {
    "name": "ipython",
    "version": 3
   },
   "file_extension": ".py",
   "mimetype": "text/x-python",
   "name": "python",
   "nbconvert_exporter": "python",
   "pygments_lexer": "ipython3",
   "version": "3.13.3"
  },
  "source_map": [
   15,
   59,
   63,
   68,
   74,
   78,
   82,
   87,
   91,
   96,
   99,
   104,
   107,
   112,
   114,
   119,
   123,
   127,
   132,
   137,
   143,
   147,
   150,
   153,
   157
  ]
 },
 "nbformat": 4,
 "nbformat_minor": 5
}