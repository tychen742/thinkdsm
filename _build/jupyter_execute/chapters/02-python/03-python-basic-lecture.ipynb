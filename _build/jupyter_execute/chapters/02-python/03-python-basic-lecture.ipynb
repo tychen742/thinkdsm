{
 "cells": [
  {
   "cell_type": "markdown",
   "id": "1cac545c",
   "metadata": {},
   "source": [
    "# Lecture Notebook"
   ]
  },
  {
   "cell_type": "markdown",
   "id": "6618bdea",
   "metadata": {},
   "source": [
    "## Variable Assignment"
   ]
  },
  {
   "cell_type": "code",
   "execution_count": null,
   "id": "63a910ed",
   "metadata": {
    "jupyter": {
     "outputs_hidden": true
    }
   },
   "outputs": [],
   "source": [
    "# Can not start with number or special characters\n",
    "name_of_var = 2"
   ]
  },
  {
   "cell_type": "code",
   "execution_count": null,
   "id": "4bc555b5",
   "metadata": {
    "jupyter": {
     "outputs_hidden": true
    }
   },
   "outputs": [],
   "source": [
    "x = 2\n",
    "y = 3"
   ]
  },
  {
   "cell_type": "code",
   "execution_count": null,
   "id": "1be9cf13",
   "metadata": {
    "jupyter": {
     "outputs_hidden": true
    }
   },
   "outputs": [],
   "source": [
    "z = x + y"
   ]
  },
  {
   "cell_type": "code",
   "execution_count": null,
   "id": "2ece9ee4",
   "metadata": {},
   "outputs": [],
   "source": [
    "z"
   ]
  },
  {
   "cell_type": "markdown",
   "id": "73476bb1",
   "metadata": {},
   "source": [
    "## Operators\n",
    "### Comparison Operators"
   ]
  },
  {
   "cell_type": "code",
   "execution_count": null,
   "id": "9f1bcae6",
   "metadata": {},
   "outputs": [],
   "source": [
    "1 > 2"
   ]
  },
  {
   "cell_type": "code",
   "execution_count": null,
   "id": "95b3ee9f",
   "metadata": {},
   "outputs": [],
   "source": [
    "1 < 2"
   ]
  },
  {
   "cell_type": "code",
   "execution_count": null,
   "id": "2e170322",
   "metadata": {},
   "outputs": [],
   "source": [
    "1 >= 1"
   ]
  },
  {
   "cell_type": "code",
   "execution_count": null,
   "id": "4fc5ab6d",
   "metadata": {},
   "outputs": [],
   "source": [
    "1 <= 4"
   ]
  },
  {
   "cell_type": "code",
   "execution_count": null,
   "id": "6ea769a9",
   "metadata": {},
   "outputs": [],
   "source": [
    "1 == 1"
   ]
  },
  {
   "cell_type": "code",
   "execution_count": null,
   "id": "339ddf47",
   "metadata": {},
   "outputs": [],
   "source": [
    "'hi' == 'bye'"
   ]
  },
  {
   "cell_type": "markdown",
   "id": "cb3a1074",
   "metadata": {},
   "source": [
    "### Logic Operators"
   ]
  },
  {
   "cell_type": "code",
   "execution_count": null,
   "id": "1a67ca14",
   "metadata": {},
   "outputs": [],
   "source": [
    "(1 > 2) and (2 < 3)"
   ]
  },
  {
   "cell_type": "code",
   "execution_count": null,
   "id": "970ef9e4",
   "metadata": {},
   "outputs": [],
   "source": [
    "(1 > 2) or (2 < 3)"
   ]
  },
  {
   "cell_type": "code",
   "execution_count": null,
   "id": "171b3730",
   "metadata": {},
   "outputs": [],
   "source": [
    "(1 == 2) or (2 == 3) or (4 == 4)"
   ]
  },
  {
   "cell_type": "markdown",
   "id": "d25bd3d6",
   "metadata": {},
   "source": [
    "## Printing"
   ]
  },
  {
   "cell_type": "code",
   "execution_count": null,
   "id": "49250644",
   "metadata": {
    "jupyter": {
     "outputs_hidden": true
    }
   },
   "outputs": [],
   "source": [
    "x = 'hello'"
   ]
  },
  {
   "cell_type": "code",
   "execution_count": null,
   "id": "02b41570",
   "metadata": {},
   "outputs": [],
   "source": [
    "x"
   ]
  },
  {
   "cell_type": "code",
   "execution_count": null,
   "id": "512ce28e",
   "metadata": {},
   "outputs": [],
   "source": [
    "print(x)"
   ]
  },
  {
   "cell_type": "code",
   "execution_count": null,
   "id": "514f5954",
   "metadata": {
    "jupyter": {
     "outputs_hidden": true
    }
   },
   "outputs": [],
   "source": [
    "num = 12\n",
    "name = 'Sam'"
   ]
  },
  {
   "cell_type": "code",
   "execution_count": null,
   "id": "ddde3c4a",
   "metadata": {},
   "outputs": [],
   "source": [
    "print('My number is: {one}, and my name is: {two}'.format(one=num,two=name))"
   ]
  },
  {
   "cell_type": "code",
   "execution_count": null,
   "id": "bc7e9dd2",
   "metadata": {},
   "outputs": [],
   "source": [
    "print('My number is: {}, and my name is: {}'.format(num,name))"
   ]
  },
  {
   "cell_type": "markdown",
   "id": "550a01a9",
   "metadata": {},
   "source": [
    "### Data types\n",
    "\n",
    "#### Numbers"
   ]
  },
  {
   "cell_type": "code",
   "execution_count": null,
   "id": "5ffaf96a",
   "metadata": {},
   "outputs": [],
   "source": [
    "1 + 1"
   ]
  },
  {
   "cell_type": "code",
   "execution_count": null,
   "id": "c7735288",
   "metadata": {},
   "outputs": [],
   "source": [
    "1 * 3"
   ]
  },
  {
   "cell_type": "code",
   "execution_count": null,
   "id": "0c251c95",
   "metadata": {},
   "outputs": [],
   "source": [
    "1 / 2"
   ]
  },
  {
   "cell_type": "code",
   "execution_count": null,
   "id": "428d3ae6",
   "metadata": {},
   "outputs": [],
   "source": [
    "2 ** 4"
   ]
  },
  {
   "cell_type": "code",
   "execution_count": null,
   "id": "ec226fc9",
   "metadata": {},
   "outputs": [],
   "source": [
    "4 % 2"
   ]
  },
  {
   "cell_type": "code",
   "execution_count": null,
   "id": "70296cbd",
   "metadata": {},
   "outputs": [],
   "source": [
    "5 % 2"
   ]
  },
  {
   "cell_type": "code",
   "execution_count": null,
   "id": "455c4bed",
   "metadata": {},
   "outputs": [],
   "source": [
    "(2 + 3) * (5 + 5)"
   ]
  },
  {
   "cell_type": "markdown",
   "id": "4116dc38",
   "metadata": {},
   "source": [
    "#### Strings"
   ]
  },
  {
   "cell_type": "code",
   "execution_count": null,
   "id": "29903666",
   "metadata": {},
   "outputs": [],
   "source": [
    "'single quotes'"
   ]
  },
  {
   "cell_type": "code",
   "execution_count": null,
   "id": "42a218d1",
   "metadata": {},
   "outputs": [],
   "source": [
    "\"double quotes\""
   ]
  },
  {
   "cell_type": "code",
   "execution_count": null,
   "id": "715ffe5b",
   "metadata": {},
   "outputs": [],
   "source": [
    "\" wrap lot's of other quotes\""
   ]
  },
  {
   "cell_type": "markdown",
   "id": "f1d58b2f",
   "metadata": {},
   "source": [
    "#### Lists"
   ]
  },
  {
   "cell_type": "code",
   "execution_count": null,
   "id": "4ea2d6bb",
   "metadata": {},
   "outputs": [],
   "source": [
    "[1,2,3]"
   ]
  },
  {
   "cell_type": "code",
   "execution_count": null,
   "id": "a6a61887",
   "metadata": {},
   "outputs": [],
   "source": [
    "['hi',1,[1,2]]"
   ]
  },
  {
   "cell_type": "code",
   "execution_count": null,
   "id": "fa87884c",
   "metadata": {
    "jupyter": {
     "outputs_hidden": true
    }
   },
   "outputs": [],
   "source": [
    "my_list = ['a','b','c']"
   ]
  },
  {
   "cell_type": "code",
   "execution_count": null,
   "id": "5699c8de",
   "metadata": {
    "jupyter": {
     "outputs_hidden": true
    }
   },
   "outputs": [],
   "source": [
    "my_list.append('d')"
   ]
  },
  {
   "cell_type": "code",
   "execution_count": null,
   "id": "8b096d2c",
   "metadata": {},
   "outputs": [],
   "source": [
    "my_list"
   ]
  },
  {
   "cell_type": "code",
   "execution_count": null,
   "id": "752282fd",
   "metadata": {},
   "outputs": [],
   "source": [
    "my_list[0]"
   ]
  },
  {
   "cell_type": "code",
   "execution_count": null,
   "id": "f1b87e69",
   "metadata": {},
   "outputs": [],
   "source": [
    "my_list[1]"
   ]
  },
  {
   "cell_type": "code",
   "execution_count": null,
   "id": "bf559be5",
   "metadata": {},
   "outputs": [],
   "source": [
    "my_list[1:]"
   ]
  },
  {
   "cell_type": "code",
   "execution_count": null,
   "id": "a7857947",
   "metadata": {},
   "outputs": [],
   "source": [
    "my_list[:1]"
   ]
  },
  {
   "cell_type": "code",
   "execution_count": null,
   "id": "89f11945",
   "metadata": {
    "jupyter": {
     "outputs_hidden": true
    }
   },
   "outputs": [],
   "source": [
    "my_list[0] = 'NEW'"
   ]
  },
  {
   "cell_type": "code",
   "execution_count": null,
   "id": "15a29999",
   "metadata": {},
   "outputs": [],
   "source": [
    "my_list"
   ]
  },
  {
   "cell_type": "code",
   "execution_count": null,
   "id": "38805b93",
   "metadata": {
    "jupyter": {
     "outputs_hidden": true
    }
   },
   "outputs": [],
   "source": [
    "nest = [1,2,3,[4,5,['target']]]"
   ]
  },
  {
   "cell_type": "code",
   "execution_count": null,
   "id": "0e282a49",
   "metadata": {},
   "outputs": [],
   "source": [
    "nest[3]"
   ]
  },
  {
   "cell_type": "code",
   "execution_count": null,
   "id": "4b44b1c1",
   "metadata": {},
   "outputs": [],
   "source": [
    "nest[3][2]"
   ]
  },
  {
   "cell_type": "code",
   "execution_count": null,
   "id": "de4bcb33",
   "metadata": {},
   "outputs": [],
   "source": [
    "nest[3][2][0]"
   ]
  },
  {
   "cell_type": "markdown",
   "id": "dd9e6ac2",
   "metadata": {},
   "source": [
    "#### Dictionaries"
   ]
  },
  {
   "cell_type": "code",
   "execution_count": null,
   "id": "610abc71",
   "metadata": {
    "jupyter": {
     "outputs_hidden": true
    }
   },
   "outputs": [],
   "source": [
    "d = {'key1':'item1','key2':'item2'}"
   ]
  },
  {
   "cell_type": "code",
   "execution_count": null,
   "id": "3bfc3b3e",
   "metadata": {},
   "outputs": [],
   "source": [
    "d"
   ]
  },
  {
   "cell_type": "code",
   "execution_count": null,
   "id": "4ac871e8",
   "metadata": {},
   "outputs": [],
   "source": [
    "d['key1']"
   ]
  },
  {
   "cell_type": "markdown",
   "id": "e7f922b0",
   "metadata": {},
   "source": [
    "#### Tuples"
   ]
  },
  {
   "cell_type": "code",
   "execution_count": null,
   "id": "63da5972",
   "metadata": {
    "jupyter": {
     "outputs_hidden": true
    }
   },
   "outputs": [],
   "source": [
    "t = (1,2,3)"
   ]
  },
  {
   "cell_type": "code",
   "execution_count": null,
   "id": "0f905191",
   "metadata": {},
   "outputs": [],
   "source": [
    "t[0]"
   ]
  },
  {
   "cell_type": "code",
   "execution_count": null,
   "id": "eb62540c",
   "metadata": {},
   "outputs": [],
   "source": [
    "# t[0] = 'NEW'"
   ]
  },
  {
   "cell_type": "markdown",
   "id": "01248129",
   "metadata": {},
   "source": [
    "#### Sets"
   ]
  },
  {
   "cell_type": "code",
   "execution_count": null,
   "id": "0e675a90",
   "metadata": {},
   "outputs": [],
   "source": [
    "{1,2,3}"
   ]
  },
  {
   "cell_type": "code",
   "execution_count": null,
   "id": "b0fc07cd",
   "metadata": {},
   "outputs": [],
   "source": [
    "{1,2,3,1,2,1,2,3,3,3,3,2,2,2,1,1,2}"
   ]
  },
  {
   "cell_type": "markdown",
   "id": "abe555d3",
   "metadata": {},
   "source": [
    "#### Booleans"
   ]
  },
  {
   "cell_type": "code",
   "execution_count": null,
   "id": "52f876a9",
   "metadata": {},
   "outputs": [],
   "source": [
    "True"
   ]
  },
  {
   "cell_type": "code",
   "execution_count": null,
   "id": "dff74d0c",
   "metadata": {},
   "outputs": [],
   "source": [
    "False"
   ]
  },
  {
   "cell_type": "markdown",
   "id": "d770a544",
   "metadata": {},
   "source": [
    "#### range()"
   ]
  },
  {
   "cell_type": "code",
   "execution_count": null,
   "id": "0fa62e4e",
   "metadata": {},
   "outputs": [],
   "source": [
    "range(5)"
   ]
  },
  {
   "cell_type": "code",
   "execution_count": null,
   "id": "82f7baeb",
   "metadata": {},
   "outputs": [],
   "source": [
    "for i in range(5):\n",
    "    print(i)"
   ]
  },
  {
   "cell_type": "code",
   "execution_count": null,
   "id": "bf59b6ff",
   "metadata": {},
   "outputs": [],
   "source": [
    "list(range(5))"
   ]
  },
  {
   "cell_type": "markdown",
   "id": "efb752a6",
   "metadata": {},
   "source": [
    "#### list comprehension"
   ]
  },
  {
   "cell_type": "code",
   "execution_count": null,
   "id": "3bba8034",
   "metadata": {
    "jupyter": {
     "outputs_hidden": true
    }
   },
   "outputs": [],
   "source": [
    "x = [1,2,3,4]"
   ]
  },
  {
   "cell_type": "code",
   "execution_count": null,
   "id": "b4776d78",
   "metadata": {},
   "outputs": [],
   "source": [
    "out = []\n",
    "for item in x:\n",
    "    out.append(item**2)\n",
    "print(out)"
   ]
  },
  {
   "cell_type": "code",
   "execution_count": null,
   "id": "ba6f4dca",
   "metadata": {},
   "outputs": [],
   "source": [
    "[item**2 for item in x]"
   ]
  },
  {
   "cell_type": "markdown",
   "id": "a8dd8672",
   "metadata": {},
   "source": [
    "### functions"
   ]
  },
  {
   "cell_type": "code",
   "execution_count": null,
   "id": "31bbd7f7",
   "metadata": {
    "jupyter": {
     "outputs_hidden": true
    }
   },
   "outputs": [],
   "source": [
    "def my_func(param1='default'):\n",
    "    \"\"\"\n",
    "    Docstring goes here.\n",
    "    \"\"\"\n",
    "    print(param1)"
   ]
  },
  {
   "cell_type": "code",
   "execution_count": null,
   "id": "0e450fa3",
   "metadata": {},
   "outputs": [],
   "source": [
    "my_func"
   ]
  },
  {
   "cell_type": "code",
   "execution_count": null,
   "id": "c1e586ca",
   "metadata": {},
   "outputs": [],
   "source": [
    "my_func()"
   ]
  },
  {
   "cell_type": "code",
   "execution_count": null,
   "id": "ed06c5e7",
   "metadata": {},
   "outputs": [],
   "source": [
    "my_func('new param')"
   ]
  },
  {
   "cell_type": "code",
   "execution_count": null,
   "id": "f14eff05",
   "metadata": {},
   "outputs": [],
   "source": [
    "my_func(param1='new param')"
   ]
  },
  {
   "cell_type": "code",
   "execution_count": null,
   "id": "b10ef14a",
   "metadata": {
    "jupyter": {
     "outputs_hidden": true
    }
   },
   "outputs": [],
   "source": [
    "def square(x):\n",
    "    return x**2"
   ]
  },
  {
   "cell_type": "code",
   "execution_count": null,
   "id": "75fad815",
   "metadata": {
    "jupyter": {
     "outputs_hidden": true
    }
   },
   "outputs": [],
   "source": [
    "out = square(2)"
   ]
  },
  {
   "cell_type": "code",
   "execution_count": null,
   "id": "bf907c6b",
   "metadata": {},
   "outputs": [],
   "source": [
    "print(out)"
   ]
  },
  {
   "cell_type": "markdown",
   "id": "338c04e3",
   "metadata": {},
   "source": [
    "### lambda expressions"
   ]
  },
  {
   "cell_type": "code",
   "execution_count": null,
   "id": "e4f2dfe4",
   "metadata": {
    "jupyter": {
     "outputs_hidden": true
    }
   },
   "outputs": [],
   "source": [
    "def times2(var):\n",
    "    return var*2"
   ]
  },
  {
   "cell_type": "code",
   "execution_count": null,
   "id": "a93273f6",
   "metadata": {},
   "outputs": [],
   "source": [
    "times2(2)"
   ]
  },
  {
   "cell_type": "code",
   "execution_count": null,
   "id": "5b2de78a",
   "metadata": {},
   "outputs": [],
   "source": [
    "lambda var: var*2"
   ]
  },
  {
   "cell_type": "markdown",
   "id": "5450e0a4",
   "metadata": {},
   "source": [
    "### map and filter"
   ]
  },
  {
   "cell_type": "code",
   "execution_count": null,
   "id": "679684ce",
   "metadata": {
    "jupyter": {
     "outputs_hidden": true
    }
   },
   "outputs": [],
   "source": [
    "seq = [1,2,3,4,5]"
   ]
  },
  {
   "cell_type": "code",
   "execution_count": null,
   "id": "fc1d7cf4",
   "metadata": {},
   "outputs": [],
   "source": [
    "map(times2,seq)"
   ]
  },
  {
   "cell_type": "code",
   "execution_count": null,
   "id": "829ac5a9",
   "metadata": {},
   "outputs": [],
   "source": [
    "list(map(times2,seq))"
   ]
  },
  {
   "cell_type": "code",
   "execution_count": null,
   "id": "f45cc524",
   "metadata": {},
   "outputs": [],
   "source": [
    "list(map(lambda var: var*2,seq))"
   ]
  },
  {
   "cell_type": "code",
   "execution_count": null,
   "id": "540d4689",
   "metadata": {},
   "outputs": [],
   "source": [
    "filter(lambda item: item%2 == 0,seq)"
   ]
  },
  {
   "cell_type": "code",
   "execution_count": null,
   "id": "250e18e5",
   "metadata": {},
   "outputs": [],
   "source": [
    "list(filter(lambda item: item%2 == 0,seq))"
   ]
  },
  {
   "cell_type": "markdown",
   "id": "e1200772",
   "metadata": {},
   "source": [
    "### methods"
   ]
  },
  {
   "cell_type": "code",
   "execution_count": null,
   "id": "cff143ae",
   "metadata": {
    "jupyter": {
     "outputs_hidden": true
    }
   },
   "outputs": [],
   "source": [
    "st = 'hello my name is Sam'"
   ]
  },
  {
   "cell_type": "code",
   "execution_count": null,
   "id": "3fd49226",
   "metadata": {},
   "outputs": [],
   "source": [
    "st.lower()"
   ]
  },
  {
   "cell_type": "code",
   "execution_count": null,
   "id": "97ec2219",
   "metadata": {},
   "outputs": [],
   "source": [
    "st.upper()"
   ]
  },
  {
   "cell_type": "code",
   "execution_count": null,
   "id": "57d2aa47",
   "metadata": {},
   "outputs": [],
   "source": [
    "st.split()"
   ]
  },
  {
   "cell_type": "code",
   "execution_count": null,
   "id": "7f229b3d",
   "metadata": {
    "jupyter": {
     "outputs_hidden": true
    }
   },
   "outputs": [],
   "source": [
    "tweet = 'Go Sports! #Sports'"
   ]
  },
  {
   "cell_type": "code",
   "execution_count": null,
   "id": "1e21f12a",
   "metadata": {},
   "outputs": [],
   "source": [
    "tweet.split('#')"
   ]
  },
  {
   "cell_type": "code",
   "execution_count": null,
   "id": "13a672aa",
   "metadata": {},
   "outputs": [],
   "source": [
    "tweet.split('#')[1]"
   ]
  },
  {
   "cell_type": "code",
   "execution_count": null,
   "id": "8c82ef1b",
   "metadata": {},
   "outputs": [],
   "source": [
    "d"
   ]
  },
  {
   "cell_type": "code",
   "execution_count": null,
   "id": "2643d4e7",
   "metadata": {},
   "outputs": [],
   "source": [
    "d.keys()"
   ]
  },
  {
   "cell_type": "code",
   "execution_count": null,
   "id": "11f206a5",
   "metadata": {},
   "outputs": [],
   "source": [
    "d.items()"
   ]
  },
  {
   "cell_type": "code",
   "execution_count": null,
   "id": "a35ce169",
   "metadata": {
    "jupyter": {
     "outputs_hidden": true
    }
   },
   "outputs": [],
   "source": [
    "lst = [1,2,3]"
   ]
  },
  {
   "cell_type": "code",
   "execution_count": null,
   "id": "851451ea",
   "metadata": {},
   "outputs": [],
   "source": [
    "lst.pop()"
   ]
  },
  {
   "cell_type": "code",
   "execution_count": null,
   "id": "889ae49c",
   "metadata": {},
   "outputs": [],
   "source": [
    "lst"
   ]
  },
  {
   "cell_type": "code",
   "execution_count": null,
   "id": "c86a3e28",
   "metadata": {},
   "outputs": [],
   "source": [
    "'x' in [1,2,3]"
   ]
  },
  {
   "cell_type": "code",
   "execution_count": null,
   "id": "4361cc91",
   "metadata": {},
   "outputs": [],
   "source": [
    "'x' in ['x','y','z']"
   ]
  }
 ],
 "metadata": {
  "jupytext": {
   "text_representation": {
    "extension": ".md",
    "format_name": "myst",
    "format_version": 0.13,
    "jupytext_version": "1.17.2"
   }
  },
  "kernelspec": {
   "display_name": ".venv",
   "language": "python",
   "name": "python3"
  },
  "source_map": [
   12,
   16,
   20,
   29,
   38,
   46,
   48,
   54,
   58,
   62,
   66,
   70,
   74,
   76,
   80,
   84,
   88,
   90,
   94,
   102,
   106,
   110,
   119,
   123,
   125,
   135,
   139,
   143,
   147,
   151,
   155,
   159,
   161,
   167,
   171,
   175,
   177,
   181,
   185,
   189,
   197,
   205,
   209,
   213,
   217,
   221,
   225,
   233,
   237,
   245,
   249,
   253,
   255,
   259,
   267,
   271,
   273,
   278,
   286,
   290,
   292,
   296,
   300,
   302,
   306,
   310,
   312,
   316,
   320,
   325,
   327,
   331,
   339,
   346,
   348,
   352,
   364,
   368,
   372,
   376,
   380,
   389,
   397,
   399,
   403,
   412,
   416,
   418,
   422,
   430,
   434,
   438,
   442,
   446,
   448,
   452,
   460,
   464,
   468,
   472,
   480,
   484,
   488,
   492,
   496,
   500,
   508,
   512,
   516,
   520
  ]
 },
 "nbformat": 4,
 "nbformat_minor": 5
}