{
 "cells": [
  {
   "cell_type": "markdown",
   "id": "91a4908d",
   "metadata": {},
   "source": [
    "# Lecture Notebook"
   ]
  },
  {
   "cell_type": "markdown",
   "id": "3d451bfa",
   "metadata": {},
   "source": [
    "## Variable Assignment"
   ]
  },
  {
   "cell_type": "code",
   "execution_count": null,
   "id": "c340d921",
   "metadata": {
    "jupyter": {
     "outputs_hidden": true
    }
   },
   "outputs": [],
   "source": [
    "# Can not start with number or special characters\n",
    "name_of_var = 2"
   ]
  },
  {
   "cell_type": "code",
   "execution_count": null,
   "id": "ad0c4536",
   "metadata": {
    "jupyter": {
     "outputs_hidden": true
    }
   },
   "outputs": [],
   "source": [
    "x = 2\n",
    "y = 3"
   ]
  },
  {
   "cell_type": "code",
   "execution_count": null,
   "id": "7ed2d76a",
   "metadata": {
    "jupyter": {
     "outputs_hidden": true
    }
   },
   "outputs": [],
   "source": [
    "z = x + y"
   ]
  },
  {
   "cell_type": "code",
   "execution_count": null,
   "id": "139ce83d",
   "metadata": {},
   "outputs": [],
   "source": [
    "z"
   ]
  },
  {
   "cell_type": "markdown",
   "id": "a204bae8",
   "metadata": {},
   "source": [
    "## Operators\n",
    "### Comparison Operators"
   ]
  },
  {
   "cell_type": "code",
   "execution_count": null,
   "id": "093d2fe1",
   "metadata": {},
   "outputs": [],
   "source": [
    "1 > 2"
   ]
  },
  {
   "cell_type": "code",
   "execution_count": null,
   "id": "e14be85a",
   "metadata": {},
   "outputs": [],
   "source": [
    "1 < 2"
   ]
  },
  {
   "cell_type": "code",
   "execution_count": null,
   "id": "ee104643",
   "metadata": {},
   "outputs": [],
   "source": [
    "1 >= 1"
   ]
  },
  {
   "cell_type": "code",
   "execution_count": null,
   "id": "5c2d56a9",
   "metadata": {},
   "outputs": [],
   "source": [
    "1 <= 4"
   ]
  },
  {
   "cell_type": "code",
   "execution_count": null,
   "id": "401ceb76",
   "metadata": {},
   "outputs": [],
   "source": [
    "1 == 1"
   ]
  },
  {
   "cell_type": "code",
   "execution_count": null,
   "id": "68d1eeca",
   "metadata": {},
   "outputs": [],
   "source": [
    "'hi' == 'bye'"
   ]
  },
  {
   "cell_type": "markdown",
   "id": "fcf60cde",
   "metadata": {},
   "source": [
    "### Logic Operators"
   ]
  },
  {
   "cell_type": "code",
   "execution_count": null,
   "id": "536e9496",
   "metadata": {},
   "outputs": [],
   "source": [
    "(1 > 2) and (2 < 3)"
   ]
  },
  {
   "cell_type": "code",
   "execution_count": null,
   "id": "547db379",
   "metadata": {},
   "outputs": [],
   "source": [
    "(1 > 2) or (2 < 3)"
   ]
  },
  {
   "cell_type": "code",
   "execution_count": null,
   "id": "f1b2d967",
   "metadata": {},
   "outputs": [],
   "source": [
    "(1 == 2) or (2 == 3) or (4 == 4)"
   ]
  },
  {
   "cell_type": "markdown",
   "id": "35a92dc6",
   "metadata": {},
   "source": [
    "## Printing"
   ]
  },
  {
   "cell_type": "code",
   "execution_count": null,
   "id": "da4c3df1",
   "metadata": {
    "jupyter": {
     "outputs_hidden": true
    }
   },
   "outputs": [],
   "source": [
    "x = 'hello'"
   ]
  },
  {
   "cell_type": "code",
   "execution_count": null,
   "id": "2ffc8c05",
   "metadata": {},
   "outputs": [],
   "source": [
    "x"
   ]
  },
  {
   "cell_type": "code",
   "execution_count": null,
   "id": "65296de4",
   "metadata": {},
   "outputs": [],
   "source": [
    "print(x)"
   ]
  },
  {
   "cell_type": "code",
   "execution_count": null,
   "id": "6c280c86",
   "metadata": {
    "jupyter": {
     "outputs_hidden": true
    }
   },
   "outputs": [],
   "source": [
    "num = 12\n",
    "name = 'Sam'"
   ]
  },
  {
   "cell_type": "code",
   "execution_count": null,
   "id": "bfcd20d5",
   "metadata": {},
   "outputs": [],
   "source": [
    "print('My number is: {one}, and my name is: {two}'.format(one=num,two=name))"
   ]
  },
  {
   "cell_type": "code",
   "execution_count": null,
   "id": "9cf7bd31",
   "metadata": {},
   "outputs": [],
   "source": [
    "print('My number is: {}, and my name is: {}'.format(num,name))"
   ]
  },
  {
   "cell_type": "markdown",
   "id": "a3feb556",
   "metadata": {},
   "source": [
    "### Data types\n",
    "\n",
    "#### Numbers"
   ]
  },
  {
   "cell_type": "code",
   "execution_count": null,
   "id": "bbba267a",
   "metadata": {},
   "outputs": [],
   "source": [
    "1 + 1"
   ]
  },
  {
   "cell_type": "code",
   "execution_count": null,
   "id": "54cc2e88",
   "metadata": {},
   "outputs": [],
   "source": [
    "1 * 3"
   ]
  },
  {
   "cell_type": "code",
   "execution_count": null,
   "id": "30cc509d",
   "metadata": {},
   "outputs": [],
   "source": [
    "1 / 2"
   ]
  },
  {
   "cell_type": "code",
   "execution_count": null,
   "id": "232c0725",
   "metadata": {},
   "outputs": [],
   "source": [
    "2 ** 4"
   ]
  },
  {
   "cell_type": "code",
   "execution_count": null,
   "id": "a2132b9f",
   "metadata": {},
   "outputs": [],
   "source": [
    "4 % 2"
   ]
  },
  {
   "cell_type": "code",
   "execution_count": null,
   "id": "628dea1e",
   "metadata": {},
   "outputs": [],
   "source": [
    "5 % 2"
   ]
  },
  {
   "cell_type": "code",
   "execution_count": null,
   "id": "b0c1e7ed",
   "metadata": {},
   "outputs": [],
   "source": [
    "(2 + 3) * (5 + 5)"
   ]
  },
  {
   "cell_type": "markdown",
   "id": "7e966819",
   "metadata": {},
   "source": [
    "#### Strings"
   ]
  },
  {
   "cell_type": "code",
   "execution_count": null,
   "id": "64de1201",
   "metadata": {},
   "outputs": [],
   "source": [
    "'single quotes'"
   ]
  },
  {
   "cell_type": "code",
   "execution_count": null,
   "id": "71976da2",
   "metadata": {},
   "outputs": [],
   "source": [
    "\"double quotes\""
   ]
  },
  {
   "cell_type": "code",
   "execution_count": null,
   "id": "2ab60123",
   "metadata": {},
   "outputs": [],
   "source": [
    "\" wrap lot's of other quotes\""
   ]
  },
  {
   "cell_type": "markdown",
   "id": "1d0e87c5",
   "metadata": {},
   "source": [
    "#### Lists"
   ]
  },
  {
   "cell_type": "code",
   "execution_count": null,
   "id": "c93d5025",
   "metadata": {},
   "outputs": [],
   "source": [
    "[1,2,3]"
   ]
  },
  {
   "cell_type": "code",
   "execution_count": null,
   "id": "841e8c95",
   "metadata": {},
   "outputs": [],
   "source": [
    "['hi',1,[1,2]]"
   ]
  },
  {
   "cell_type": "code",
   "execution_count": null,
   "id": "31de2f2f",
   "metadata": {
    "jupyter": {
     "outputs_hidden": true
    }
   },
   "outputs": [],
   "source": [
    "my_list = ['a','b','c']"
   ]
  },
  {
   "cell_type": "code",
   "execution_count": null,
   "id": "80024a1b",
   "metadata": {
    "jupyter": {
     "outputs_hidden": true
    }
   },
   "outputs": [],
   "source": [
    "my_list.append('d')"
   ]
  },
  {
   "cell_type": "code",
   "execution_count": null,
   "id": "7ef9b352",
   "metadata": {},
   "outputs": [],
   "source": [
    "my_list"
   ]
  },
  {
   "cell_type": "code",
   "execution_count": null,
   "id": "bc9cfe94",
   "metadata": {},
   "outputs": [],
   "source": [
    "my_list[0]"
   ]
  },
  {
   "cell_type": "code",
   "execution_count": null,
   "id": "abac561d",
   "metadata": {},
   "outputs": [],
   "source": [
    "my_list[1]"
   ]
  },
  {
   "cell_type": "code",
   "execution_count": null,
   "id": "201c0b56",
   "metadata": {},
   "outputs": [],
   "source": [
    "my_list[1:]"
   ]
  },
  {
   "cell_type": "code",
   "execution_count": null,
   "id": "8161ecc8",
   "metadata": {},
   "outputs": [],
   "source": [
    "my_list[:1]"
   ]
  },
  {
   "cell_type": "code",
   "execution_count": null,
   "id": "496311e7",
   "metadata": {
    "jupyter": {
     "outputs_hidden": true
    }
   },
   "outputs": [],
   "source": [
    "my_list[0] = 'NEW'"
   ]
  },
  {
   "cell_type": "code",
   "execution_count": null,
   "id": "8f128839",
   "metadata": {},
   "outputs": [],
   "source": [
    "my_list"
   ]
  },
  {
   "cell_type": "code",
   "execution_count": null,
   "id": "c4ccba7d",
   "metadata": {
    "jupyter": {
     "outputs_hidden": true
    }
   },
   "outputs": [],
   "source": [
    "nest = [1,2,3,[4,5,['target']]]"
   ]
  },
  {
   "cell_type": "code",
   "execution_count": null,
   "id": "a45e0c06",
   "metadata": {},
   "outputs": [],
   "source": [
    "nest[3]"
   ]
  },
  {
   "cell_type": "code",
   "execution_count": null,
   "id": "b7945fea",
   "metadata": {},
   "outputs": [],
   "source": [
    "nest[3][2]"
   ]
  },
  {
   "cell_type": "code",
   "execution_count": null,
   "id": "6841469b",
   "metadata": {},
   "outputs": [],
   "source": [
    "nest[3][2][0]"
   ]
  },
  {
   "cell_type": "markdown",
   "id": "b5551531",
   "metadata": {},
   "source": [
    "#### Dictionaries"
   ]
  },
  {
   "cell_type": "code",
   "execution_count": null,
   "id": "1115ff41",
   "metadata": {
    "jupyter": {
     "outputs_hidden": true
    }
   },
   "outputs": [],
   "source": [
    "d = {'key1':'item1','key2':'item2'}"
   ]
  },
  {
   "cell_type": "code",
   "execution_count": null,
   "id": "ff3f3b01",
   "metadata": {},
   "outputs": [],
   "source": [
    "d"
   ]
  },
  {
   "cell_type": "code",
   "execution_count": null,
   "id": "7c5b24b9",
   "metadata": {},
   "outputs": [],
   "source": [
    "d['key1']"
   ]
  },
  {
   "cell_type": "markdown",
   "id": "d5c99f32",
   "metadata": {},
   "source": [
    "#### Tuples"
   ]
  },
  {
   "cell_type": "code",
   "execution_count": null,
   "id": "75fce564",
   "metadata": {
    "jupyter": {
     "outputs_hidden": true
    }
   },
   "outputs": [],
   "source": [
    "t = (1,2,3)"
   ]
  },
  {
   "cell_type": "code",
   "execution_count": null,
   "id": "568d0d88",
   "metadata": {},
   "outputs": [],
   "source": [
    "t[0]"
   ]
  },
  {
   "cell_type": "code",
   "execution_count": null,
   "id": "186d26c0",
   "metadata": {},
   "outputs": [],
   "source": [
    "# t[0] = 'NEW'"
   ]
  },
  {
   "cell_type": "markdown",
   "id": "27b1e0f5",
   "metadata": {},
   "source": [
    "#### Sets"
   ]
  },
  {
   "cell_type": "code",
   "execution_count": null,
   "id": "b62e86b0",
   "metadata": {},
   "outputs": [],
   "source": [
    "{1,2,3}"
   ]
  },
  {
   "cell_type": "code",
   "execution_count": null,
   "id": "f00dc22b",
   "metadata": {},
   "outputs": [],
   "source": [
    "{1,2,3,1,2,1,2,3,3,3,3,2,2,2,1,1,2}"
   ]
  },
  {
   "cell_type": "markdown",
   "id": "1a7c3606",
   "metadata": {},
   "source": [
    "#### Booleans"
   ]
  },
  {
   "cell_type": "code",
   "execution_count": null,
   "id": "53ba5ca5",
   "metadata": {},
   "outputs": [],
   "source": [
    "True"
   ]
  },
  {
   "cell_type": "code",
   "execution_count": null,
   "id": "e6fd6066",
   "metadata": {},
   "outputs": [],
   "source": [
    "False"
   ]
  },
  {
   "cell_type": "markdown",
   "id": "52146f2d",
   "metadata": {},
   "source": [
    "#### range()"
   ]
  },
  {
   "cell_type": "code",
   "execution_count": null,
   "id": "5741bca4",
   "metadata": {},
   "outputs": [],
   "source": [
    "range(5)"
   ]
  },
  {
   "cell_type": "code",
   "execution_count": null,
   "id": "2b0d7144",
   "metadata": {},
   "outputs": [],
   "source": [
    "for i in range(5):\n",
    "    print(i)"
   ]
  },
  {
   "cell_type": "code",
   "execution_count": null,
   "id": "5a2efd56",
   "metadata": {},
   "outputs": [],
   "source": [
    "list(range(5))"
   ]
  },
  {
   "cell_type": "markdown",
   "id": "cf533b5d",
   "metadata": {},
   "source": [
    "#### list comprehension"
   ]
  },
  {
   "cell_type": "code",
   "execution_count": null,
   "id": "d2e72d76",
   "metadata": {
    "jupyter": {
     "outputs_hidden": true
    }
   },
   "outputs": [],
   "source": [
    "x = [1,2,3,4]"
   ]
  },
  {
   "cell_type": "code",
   "execution_count": null,
   "id": "43d62852",
   "metadata": {},
   "outputs": [],
   "source": [
    "out = []\n",
    "for item in x:\n",
    "    out.append(item**2)\n",
    "print(out)"
   ]
  },
  {
   "cell_type": "code",
   "execution_count": null,
   "id": "0f4c88d5",
   "metadata": {},
   "outputs": [],
   "source": [
    "[item**2 for item in x]"
   ]
  },
  {
   "cell_type": "markdown",
   "id": "2640a8ea",
   "metadata": {},
   "source": [
    "### functions"
   ]
  },
  {
   "cell_type": "code",
   "execution_count": null,
   "id": "7af5fd2e",
   "metadata": {
    "jupyter": {
     "outputs_hidden": true
    }
   },
   "outputs": [],
   "source": [
    "def my_func(param1='default'):\n",
    "    \"\"\"\n",
    "    Docstring goes here.\n",
    "    \"\"\"\n",
    "    print(param1)"
   ]
  },
  {
   "cell_type": "code",
   "execution_count": null,
   "id": "965c0a9a",
   "metadata": {},
   "outputs": [],
   "source": [
    "my_func"
   ]
  },
  {
   "cell_type": "code",
   "execution_count": null,
   "id": "e527a934",
   "metadata": {},
   "outputs": [],
   "source": [
    "my_func()"
   ]
  },
  {
   "cell_type": "code",
   "execution_count": null,
   "id": "78924ff3",
   "metadata": {},
   "outputs": [],
   "source": [
    "my_func('new param')"
   ]
  },
  {
   "cell_type": "code",
   "execution_count": null,
   "id": "b2c502a3",
   "metadata": {},
   "outputs": [],
   "source": [
    "my_func(param1='new param')"
   ]
  },
  {
   "cell_type": "code",
   "execution_count": null,
   "id": "3f2584e2",
   "metadata": {
    "jupyter": {
     "outputs_hidden": true
    }
   },
   "outputs": [],
   "source": [
    "def square(x):\n",
    "    return x**2"
   ]
  },
  {
   "cell_type": "code",
   "execution_count": null,
   "id": "749f4fc5",
   "metadata": {
    "jupyter": {
     "outputs_hidden": true
    }
   },
   "outputs": [],
   "source": [
    "out = square(2)"
   ]
  },
  {
   "cell_type": "code",
   "execution_count": null,
   "id": "713e11fb",
   "metadata": {},
   "outputs": [],
   "source": [
    "print(out)"
   ]
  },
  {
   "cell_type": "markdown",
   "id": "403297ee",
   "metadata": {},
   "source": [
    "### lambda expressions"
   ]
  },
  {
   "cell_type": "code",
   "execution_count": null,
   "id": "fa5415c8",
   "metadata": {
    "jupyter": {
     "outputs_hidden": true
    }
   },
   "outputs": [],
   "source": [
    "def times2(var):\n",
    "    return var*2"
   ]
  },
  {
   "cell_type": "code",
   "execution_count": null,
   "id": "dabf189c",
   "metadata": {},
   "outputs": [],
   "source": [
    "times2(2)"
   ]
  },
  {
   "cell_type": "code",
   "execution_count": null,
   "id": "8eddaa04",
   "metadata": {},
   "outputs": [],
   "source": [
    "lambda var: var*2"
   ]
  },
  {
   "cell_type": "markdown",
   "id": "da6eca82",
   "metadata": {},
   "source": [
    "### map and filter"
   ]
  },
  {
   "cell_type": "code",
   "execution_count": null,
   "id": "ab5a2d0d",
   "metadata": {
    "jupyter": {
     "outputs_hidden": true
    }
   },
   "outputs": [],
   "source": [
    "seq = [1,2,3,4,5]"
   ]
  },
  {
   "cell_type": "code",
   "execution_count": null,
   "id": "90e91f15",
   "metadata": {},
   "outputs": [],
   "source": [
    "map(times2,seq)"
   ]
  },
  {
   "cell_type": "code",
   "execution_count": null,
   "id": "111853d8",
   "metadata": {},
   "outputs": [],
   "source": [
    "list(map(times2,seq))"
   ]
  },
  {
   "cell_type": "code",
   "execution_count": null,
   "id": "887f4ba7",
   "metadata": {},
   "outputs": [],
   "source": [
    "list(map(lambda var: var*2,seq))"
   ]
  },
  {
   "cell_type": "code",
   "execution_count": null,
   "id": "deb42572",
   "metadata": {},
   "outputs": [],
   "source": [
    "filter(lambda item: item%2 == 0,seq)"
   ]
  },
  {
   "cell_type": "code",
   "execution_count": null,
   "id": "17ae59c8",
   "metadata": {},
   "outputs": [],
   "source": [
    "list(filter(lambda item: item%2 == 0,seq))"
   ]
  },
  {
   "cell_type": "markdown",
   "id": "8e850f86",
   "metadata": {},
   "source": [
    "### methods"
   ]
  },
  {
   "cell_type": "code",
   "execution_count": null,
   "id": "4ba901eb",
   "metadata": {
    "jupyter": {
     "outputs_hidden": true
    }
   },
   "outputs": [],
   "source": [
    "st = 'hello my name is Sam'"
   ]
  },
  {
   "cell_type": "code",
   "execution_count": null,
   "id": "8d662b19",
   "metadata": {},
   "outputs": [],
   "source": [
    "st.lower()"
   ]
  },
  {
   "cell_type": "code",
   "execution_count": null,
   "id": "c1d758cc",
   "metadata": {},
   "outputs": [],
   "source": [
    "st.upper()"
   ]
  },
  {
   "cell_type": "code",
   "execution_count": null,
   "id": "3a273092",
   "metadata": {},
   "outputs": [],
   "source": [
    "st.split()"
   ]
  },
  {
   "cell_type": "code",
   "execution_count": null,
   "id": "4faa58e6",
   "metadata": {
    "jupyter": {
     "outputs_hidden": true
    }
   },
   "outputs": [],
   "source": [
    "tweet = 'Go Sports! #Sports'"
   ]
  },
  {
   "cell_type": "code",
   "execution_count": null,
   "id": "bc2ebecf",
   "metadata": {},
   "outputs": [],
   "source": [
    "tweet.split('#')"
   ]
  },
  {
   "cell_type": "code",
   "execution_count": null,
   "id": "10e4fc31",
   "metadata": {},
   "outputs": [],
   "source": [
    "tweet.split('#')[1]"
   ]
  },
  {
   "cell_type": "code",
   "execution_count": null,
   "id": "51f4869b",
   "metadata": {},
   "outputs": [],
   "source": [
    "d"
   ]
  },
  {
   "cell_type": "code",
   "execution_count": null,
   "id": "9b6a7cb7",
   "metadata": {},
   "outputs": [],
   "source": [
    "d.keys()"
   ]
  },
  {
   "cell_type": "code",
   "execution_count": null,
   "id": "44af7ef7",
   "metadata": {},
   "outputs": [],
   "source": [
    "d.items()"
   ]
  },
  {
   "cell_type": "code",
   "execution_count": null,
   "id": "913218b5",
   "metadata": {
    "jupyter": {
     "outputs_hidden": true
    }
   },
   "outputs": [],
   "source": [
    "lst = [1,2,3]"
   ]
  },
  {
   "cell_type": "code",
   "execution_count": null,
   "id": "df5e5201",
   "metadata": {},
   "outputs": [],
   "source": [
    "lst.pop()"
   ]
  },
  {
   "cell_type": "code",
   "execution_count": null,
   "id": "30ea4ede",
   "metadata": {},
   "outputs": [],
   "source": [
    "lst"
   ]
  },
  {
   "cell_type": "code",
   "execution_count": null,
   "id": "713ce66b",
   "metadata": {},
   "outputs": [],
   "source": [
    "'x' in [1,2,3]"
   ]
  },
  {
   "cell_type": "code",
   "execution_count": null,
   "id": "4e88e1b6",
   "metadata": {},
   "outputs": [],
   "source": [
    "'x' in ['x','y','z']"
   ]
  }
 ],
 "metadata": {
  "jupytext": {
   "text_representation": {
    "extension": ".md",
    "format_name": "myst",
    "format_version": 0.13,
    "jupytext_version": "1.17.2"
   }
  },
  "kernelspec": {
   "display_name": ".venv",
   "language": "python",
   "name": "python3"
  },
  "source_map": [
   12,
   16,
   20,
   29,
   38,
   46,
   48,
   54,
   58,
   62,
   66,
   70,
   74,
   76,
   80,
   84,
   88,
   90,
   94,
   102,
   106,
   110,
   119,
   123,
   125,
   135,
   139,
   143,
   147,
   151,
   155,
   159,
   161,
   167,
   171,
   175,
   177,
   181,
   185,
   189,
   197,
   205,
   209,
   213,
   217,
   221,
   225,
   233,
   237,
   245,
   249,
   253,
   255,
   259,
   267,
   271,
   273,
   278,
   286,
   290,
   292,
   296,
   300,
   302,
   306,
   310,
   312,
   316,
   320,
   325,
   327,
   331,
   339,
   346,
   348,
   352,
   364,
   368,
   372,
   376,
   380,
   389,
   397,
   399,
   403,
   412,
   416,
   418,
   422,
   430,
   434,
   438,
   442,
   446,
   448,
   452,
   460,
   464,
   468,
   472,
   480,
   484,
   488,
   492,
   496,
   500,
   508,
   512,
   516,
   520
  ]
 },
 "nbformat": 4,
 "nbformat_minor": 5
}