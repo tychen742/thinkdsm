{
 "cells": [
  {
   "cell_type": "markdown",
   "id": "72d9531a",
   "metadata": {},
   "source": [
    "# Lecture Notebook"
   ]
  },
  {
   "cell_type": "markdown",
   "id": "206df53f",
   "metadata": {},
   "source": [
    "## Variable Assignment"
   ]
  },
  {
   "cell_type": "code",
   "execution_count": null,
   "id": "a2b094d4",
   "metadata": {
    "jupyter": {
     "outputs_hidden": true
    }
   },
   "outputs": [],
   "source": [
    "# Can not start with number or special characters\n",
    "name_of_var = 2"
   ]
  },
  {
   "cell_type": "code",
   "execution_count": null,
   "id": "d016c895",
   "metadata": {
    "jupyter": {
     "outputs_hidden": true
    }
   },
   "outputs": [],
   "source": [
    "x = 2\n",
    "y = 3"
   ]
  },
  {
   "cell_type": "code",
   "execution_count": null,
   "id": "457d9dd2",
   "metadata": {
    "jupyter": {
     "outputs_hidden": true
    }
   },
   "outputs": [],
   "source": [
    "z = x + y"
   ]
  },
  {
   "cell_type": "code",
   "execution_count": null,
   "id": "fb821466",
   "metadata": {},
   "outputs": [],
   "source": [
    "z"
   ]
  },
  {
   "cell_type": "markdown",
   "id": "5e26b93f",
   "metadata": {},
   "source": [
    "## Operators\n",
    "### Comparison Operators"
   ]
  },
  {
   "cell_type": "code",
   "execution_count": null,
   "id": "b04edc5e",
   "metadata": {},
   "outputs": [],
   "source": [
    "1 > 2"
   ]
  },
  {
   "cell_type": "code",
   "execution_count": null,
   "id": "6f2beaa5",
   "metadata": {},
   "outputs": [],
   "source": [
    "1 < 2"
   ]
  },
  {
   "cell_type": "code",
   "execution_count": null,
   "id": "ffedf300",
   "metadata": {},
   "outputs": [],
   "source": [
    "1 >= 1"
   ]
  },
  {
   "cell_type": "code",
   "execution_count": null,
   "id": "a4174541",
   "metadata": {},
   "outputs": [],
   "source": [
    "1 <= 4"
   ]
  },
  {
   "cell_type": "code",
   "execution_count": null,
   "id": "b2fde608",
   "metadata": {},
   "outputs": [],
   "source": [
    "1 == 1"
   ]
  },
  {
   "cell_type": "code",
   "execution_count": null,
   "id": "85bbc22d",
   "metadata": {},
   "outputs": [],
   "source": [
    "'hi' == 'bye'"
   ]
  },
  {
   "cell_type": "markdown",
   "id": "4321c7cd",
   "metadata": {},
   "source": [
    "### Logic Operators"
   ]
  },
  {
   "cell_type": "code",
   "execution_count": null,
   "id": "027cfe27",
   "metadata": {},
   "outputs": [],
   "source": [
    "(1 > 2) and (2 < 3)"
   ]
  },
  {
   "cell_type": "code",
   "execution_count": null,
   "id": "2cef107c",
   "metadata": {},
   "outputs": [],
   "source": [
    "(1 > 2) or (2 < 3)"
   ]
  },
  {
   "cell_type": "code",
   "execution_count": null,
   "id": "5d0d24db",
   "metadata": {},
   "outputs": [],
   "source": [
    "(1 == 2) or (2 == 3) or (4 == 4)"
   ]
  },
  {
   "cell_type": "markdown",
   "id": "34d86e67",
   "metadata": {},
   "source": [
    "## Printing"
   ]
  },
  {
   "cell_type": "code",
   "execution_count": null,
   "id": "d8f4a5bc",
   "metadata": {
    "jupyter": {
     "outputs_hidden": true
    }
   },
   "outputs": [],
   "source": [
    "x = 'hello'"
   ]
  },
  {
   "cell_type": "code",
   "execution_count": null,
   "id": "ba2b9250",
   "metadata": {},
   "outputs": [],
   "source": [
    "x"
   ]
  },
  {
   "cell_type": "code",
   "execution_count": null,
   "id": "3172fa77",
   "metadata": {},
   "outputs": [],
   "source": [
    "print(x)"
   ]
  },
  {
   "cell_type": "code",
   "execution_count": null,
   "id": "3fef58d0",
   "metadata": {
    "jupyter": {
     "outputs_hidden": true
    }
   },
   "outputs": [],
   "source": [
    "num = 12\n",
    "name = 'Sam'"
   ]
  },
  {
   "cell_type": "code",
   "execution_count": null,
   "id": "2a388845",
   "metadata": {},
   "outputs": [],
   "source": [
    "print('My number is: {one}, and my name is: {two}'.format(one=num,two=name))"
   ]
  },
  {
   "cell_type": "code",
   "execution_count": null,
   "id": "abdfc95a",
   "metadata": {},
   "outputs": [],
   "source": [
    "print('My number is: {}, and my name is: {}'.format(num,name))"
   ]
  },
  {
   "cell_type": "markdown",
   "id": "23c9e71f",
   "metadata": {},
   "source": [
    "### Data types\n",
    "\n",
    "#### Numbers"
   ]
  },
  {
   "cell_type": "code",
   "execution_count": null,
   "id": "347b6b14",
   "metadata": {},
   "outputs": [],
   "source": [
    "1 + 1"
   ]
  },
  {
   "cell_type": "code",
   "execution_count": null,
   "id": "4c432724",
   "metadata": {},
   "outputs": [],
   "source": [
    "1 * 3"
   ]
  },
  {
   "cell_type": "code",
   "execution_count": null,
   "id": "1ecf8466",
   "metadata": {},
   "outputs": [],
   "source": [
    "1 / 2"
   ]
  },
  {
   "cell_type": "code",
   "execution_count": null,
   "id": "82dac335",
   "metadata": {},
   "outputs": [],
   "source": [
    "2 ** 4"
   ]
  },
  {
   "cell_type": "code",
   "execution_count": null,
   "id": "f3b2bc0c",
   "metadata": {},
   "outputs": [],
   "source": [
    "4 % 2"
   ]
  },
  {
   "cell_type": "code",
   "execution_count": null,
   "id": "878dadff",
   "metadata": {},
   "outputs": [],
   "source": [
    "5 % 2"
   ]
  },
  {
   "cell_type": "code",
   "execution_count": null,
   "id": "40b692fd",
   "metadata": {},
   "outputs": [],
   "source": [
    "(2 + 3) * (5 + 5)"
   ]
  },
  {
   "cell_type": "markdown",
   "id": "14b32711",
   "metadata": {},
   "source": [
    "#### Strings"
   ]
  },
  {
   "cell_type": "code",
   "execution_count": null,
   "id": "ff9787da",
   "metadata": {},
   "outputs": [],
   "source": [
    "'single quotes'"
   ]
  },
  {
   "cell_type": "code",
   "execution_count": null,
   "id": "1a064a07",
   "metadata": {},
   "outputs": [],
   "source": [
    "\"double quotes\""
   ]
  },
  {
   "cell_type": "code",
   "execution_count": null,
   "id": "9cfce1e9",
   "metadata": {},
   "outputs": [],
   "source": [
    "\" wrap lot's of other quotes\""
   ]
  },
  {
   "cell_type": "markdown",
   "id": "7cf4cb99",
   "metadata": {},
   "source": [
    "#### Lists"
   ]
  },
  {
   "cell_type": "code",
   "execution_count": null,
   "id": "acf3185e",
   "metadata": {},
   "outputs": [],
   "source": [
    "[1,2,3]"
   ]
  },
  {
   "cell_type": "code",
   "execution_count": null,
   "id": "039685af",
   "metadata": {},
   "outputs": [],
   "source": [
    "['hi',1,[1,2]]"
   ]
  },
  {
   "cell_type": "code",
   "execution_count": null,
   "id": "ac7c92a2",
   "metadata": {
    "jupyter": {
     "outputs_hidden": true
    }
   },
   "outputs": [],
   "source": [
    "my_list = ['a','b','c']"
   ]
  },
  {
   "cell_type": "code",
   "execution_count": null,
   "id": "41b1c83b",
   "metadata": {
    "jupyter": {
     "outputs_hidden": true
    }
   },
   "outputs": [],
   "source": [
    "my_list.append('d')"
   ]
  },
  {
   "cell_type": "code",
   "execution_count": null,
   "id": "7643112f",
   "metadata": {},
   "outputs": [],
   "source": [
    "my_list"
   ]
  },
  {
   "cell_type": "code",
   "execution_count": null,
   "id": "33c00586",
   "metadata": {},
   "outputs": [],
   "source": [
    "my_list[0]"
   ]
  },
  {
   "cell_type": "code",
   "execution_count": null,
   "id": "e56233c5",
   "metadata": {},
   "outputs": [],
   "source": [
    "my_list[1]"
   ]
  },
  {
   "cell_type": "code",
   "execution_count": null,
   "id": "14cf812d",
   "metadata": {},
   "outputs": [],
   "source": [
    "my_list[1:]"
   ]
  },
  {
   "cell_type": "code",
   "execution_count": null,
   "id": "aeee91b5",
   "metadata": {},
   "outputs": [],
   "source": [
    "my_list[:1]"
   ]
  },
  {
   "cell_type": "code",
   "execution_count": null,
   "id": "0c93b0f5",
   "metadata": {
    "jupyter": {
     "outputs_hidden": true
    }
   },
   "outputs": [],
   "source": [
    "my_list[0] = 'NEW'"
   ]
  },
  {
   "cell_type": "code",
   "execution_count": null,
   "id": "8c874b78",
   "metadata": {},
   "outputs": [],
   "source": [
    "my_list"
   ]
  },
  {
   "cell_type": "code",
   "execution_count": null,
   "id": "95b901bf",
   "metadata": {
    "jupyter": {
     "outputs_hidden": true
    }
   },
   "outputs": [],
   "source": [
    "nest = [1,2,3,[4,5,['target']]]"
   ]
  },
  {
   "cell_type": "code",
   "execution_count": null,
   "id": "98571949",
   "metadata": {},
   "outputs": [],
   "source": [
    "nest[3]"
   ]
  },
  {
   "cell_type": "code",
   "execution_count": null,
   "id": "2daa1073",
   "metadata": {},
   "outputs": [],
   "source": [
    "nest[3][2]"
   ]
  },
  {
   "cell_type": "code",
   "execution_count": null,
   "id": "b3833fe2",
   "metadata": {},
   "outputs": [],
   "source": [
    "nest[3][2][0]"
   ]
  },
  {
   "cell_type": "markdown",
   "id": "4b86192b",
   "metadata": {},
   "source": [
    "#### Dictionaries"
   ]
  },
  {
   "cell_type": "code",
   "execution_count": null,
   "id": "99668309",
   "metadata": {
    "jupyter": {
     "outputs_hidden": true
    }
   },
   "outputs": [],
   "source": [
    "d = {'key1':'item1','key2':'item2'}"
   ]
  },
  {
   "cell_type": "code",
   "execution_count": null,
   "id": "f1d4bdf6",
   "metadata": {},
   "outputs": [],
   "source": [
    "d"
   ]
  },
  {
   "cell_type": "code",
   "execution_count": null,
   "id": "e33663cf",
   "metadata": {},
   "outputs": [],
   "source": [
    "d['key1']"
   ]
  },
  {
   "cell_type": "markdown",
   "id": "37b46bac",
   "metadata": {},
   "source": [
    "#### Tuples"
   ]
  },
  {
   "cell_type": "code",
   "execution_count": null,
   "id": "4a449817",
   "metadata": {
    "jupyter": {
     "outputs_hidden": true
    }
   },
   "outputs": [],
   "source": [
    "t = (1,2,3)"
   ]
  },
  {
   "cell_type": "code",
   "execution_count": null,
   "id": "f70157ce",
   "metadata": {},
   "outputs": [],
   "source": [
    "t[0]"
   ]
  },
  {
   "cell_type": "code",
   "execution_count": null,
   "id": "74633c57",
   "metadata": {},
   "outputs": [],
   "source": [
    "# t[0] = 'NEW'"
   ]
  },
  {
   "cell_type": "markdown",
   "id": "618bc166",
   "metadata": {},
   "source": [
    "#### Sets"
   ]
  },
  {
   "cell_type": "code",
   "execution_count": null,
   "id": "d12e9247",
   "metadata": {},
   "outputs": [],
   "source": [
    "{1,2,3}"
   ]
  },
  {
   "cell_type": "code",
   "execution_count": null,
   "id": "9b8cd564",
   "metadata": {},
   "outputs": [],
   "source": [
    "{1,2,3,1,2,1,2,3,3,3,3,2,2,2,1,1,2}"
   ]
  },
  {
   "cell_type": "markdown",
   "id": "6ed05c6d",
   "metadata": {},
   "source": [
    "#### Booleans"
   ]
  },
  {
   "cell_type": "code",
   "execution_count": null,
   "id": "a5b0cef4",
   "metadata": {},
   "outputs": [],
   "source": [
    "True"
   ]
  },
  {
   "cell_type": "code",
   "execution_count": null,
   "id": "5354e007",
   "metadata": {},
   "outputs": [],
   "source": [
    "False"
   ]
  },
  {
   "cell_type": "markdown",
   "id": "5a939ab9",
   "metadata": {},
   "source": [
    "#### range()"
   ]
  },
  {
   "cell_type": "code",
   "execution_count": null,
   "id": "345104a5",
   "metadata": {},
   "outputs": [],
   "source": [
    "range(5)"
   ]
  },
  {
   "cell_type": "code",
   "execution_count": null,
   "id": "e913fdd1",
   "metadata": {},
   "outputs": [],
   "source": [
    "for i in range(5):\n",
    "    print(i)"
   ]
  },
  {
   "cell_type": "code",
   "execution_count": null,
   "id": "841fb554",
   "metadata": {},
   "outputs": [],
   "source": [
    "list(range(5))"
   ]
  },
  {
   "cell_type": "markdown",
   "id": "bac07431",
   "metadata": {},
   "source": [
    "#### list comprehension"
   ]
  },
  {
   "cell_type": "code",
   "execution_count": null,
   "id": "e982d18c",
   "metadata": {
    "jupyter": {
     "outputs_hidden": true
    }
   },
   "outputs": [],
   "source": [
    "x = [1,2,3,4]"
   ]
  },
  {
   "cell_type": "code",
   "execution_count": null,
   "id": "9fe2c655",
   "metadata": {},
   "outputs": [],
   "source": [
    "out = []\n",
    "for item in x:\n",
    "    out.append(item**2)\n",
    "print(out)"
   ]
  },
  {
   "cell_type": "code",
   "execution_count": null,
   "id": "65f38fad",
   "metadata": {},
   "outputs": [],
   "source": [
    "[item**2 for item in x]"
   ]
  },
  {
   "cell_type": "markdown",
   "id": "4fe83ecf",
   "metadata": {},
   "source": [
    "### functions"
   ]
  },
  {
   "cell_type": "code",
   "execution_count": null,
   "id": "9ce28fcb",
   "metadata": {
    "jupyter": {
     "outputs_hidden": true
    }
   },
   "outputs": [],
   "source": [
    "def my_func(param1='default'):\n",
    "    \"\"\"\n",
    "    Docstring goes here.\n",
    "    \"\"\"\n",
    "    print(param1)"
   ]
  },
  {
   "cell_type": "code",
   "execution_count": null,
   "id": "fbdfd4bb",
   "metadata": {},
   "outputs": [],
   "source": [
    "my_func"
   ]
  },
  {
   "cell_type": "code",
   "execution_count": null,
   "id": "ad4afca4",
   "metadata": {},
   "outputs": [],
   "source": [
    "my_func()"
   ]
  },
  {
   "cell_type": "code",
   "execution_count": null,
   "id": "ba03bb66",
   "metadata": {},
   "outputs": [],
   "source": [
    "my_func('new param')"
   ]
  },
  {
   "cell_type": "code",
   "execution_count": null,
   "id": "5bb82385",
   "metadata": {},
   "outputs": [],
   "source": [
    "my_func(param1='new param')"
   ]
  },
  {
   "cell_type": "code",
   "execution_count": null,
   "id": "1d0ac5f8",
   "metadata": {
    "jupyter": {
     "outputs_hidden": true
    }
   },
   "outputs": [],
   "source": [
    "def square(x):\n",
    "    return x**2"
   ]
  },
  {
   "cell_type": "code",
   "execution_count": null,
   "id": "03f1333a",
   "metadata": {
    "jupyter": {
     "outputs_hidden": true
    }
   },
   "outputs": [],
   "source": [
    "out = square(2)"
   ]
  },
  {
   "cell_type": "code",
   "execution_count": null,
   "id": "ffdcd91a",
   "metadata": {},
   "outputs": [],
   "source": [
    "print(out)"
   ]
  },
  {
   "cell_type": "markdown",
   "id": "c94ed743",
   "metadata": {},
   "source": [
    "### lambda expressions"
   ]
  },
  {
   "cell_type": "code",
   "execution_count": null,
   "id": "399182f1",
   "metadata": {
    "jupyter": {
     "outputs_hidden": true
    }
   },
   "outputs": [],
   "source": [
    "def times2(var):\n",
    "    return var*2"
   ]
  },
  {
   "cell_type": "code",
   "execution_count": null,
   "id": "4eda0805",
   "metadata": {},
   "outputs": [],
   "source": [
    "times2(2)"
   ]
  },
  {
   "cell_type": "code",
   "execution_count": null,
   "id": "79b7a95b",
   "metadata": {},
   "outputs": [],
   "source": [
    "lambda var: var*2"
   ]
  },
  {
   "cell_type": "markdown",
   "id": "b3a75765",
   "metadata": {},
   "source": [
    "### map and filter"
   ]
  },
  {
   "cell_type": "code",
   "execution_count": null,
   "id": "ccb84f48",
   "metadata": {
    "jupyter": {
     "outputs_hidden": true
    }
   },
   "outputs": [],
   "source": [
    "seq = [1,2,3,4,5]"
   ]
  },
  {
   "cell_type": "code",
   "execution_count": null,
   "id": "603b35b2",
   "metadata": {},
   "outputs": [],
   "source": [
    "map(times2,seq)"
   ]
  },
  {
   "cell_type": "code",
   "execution_count": null,
   "id": "ac19e075",
   "metadata": {},
   "outputs": [],
   "source": [
    "list(map(times2,seq))"
   ]
  },
  {
   "cell_type": "code",
   "execution_count": null,
   "id": "517956e5",
   "metadata": {},
   "outputs": [],
   "source": [
    "list(map(lambda var: var*2,seq))"
   ]
  },
  {
   "cell_type": "code",
   "execution_count": null,
   "id": "e3e7c8e1",
   "metadata": {},
   "outputs": [],
   "source": [
    "filter(lambda item: item%2 == 0,seq)"
   ]
  },
  {
   "cell_type": "code",
   "execution_count": null,
   "id": "2825b655",
   "metadata": {},
   "outputs": [],
   "source": [
    "list(filter(lambda item: item%2 == 0,seq))"
   ]
  },
  {
   "cell_type": "markdown",
   "id": "007eaa86",
   "metadata": {},
   "source": [
    "### methods"
   ]
  },
  {
   "cell_type": "code",
   "execution_count": null,
   "id": "36bcb9e9",
   "metadata": {
    "jupyter": {
     "outputs_hidden": true
    }
   },
   "outputs": [],
   "source": [
    "st = 'hello my name is Sam'"
   ]
  },
  {
   "cell_type": "code",
   "execution_count": null,
   "id": "70ecc50c",
   "metadata": {},
   "outputs": [],
   "source": [
    "st.lower()"
   ]
  },
  {
   "cell_type": "code",
   "execution_count": null,
   "id": "271d4cf9",
   "metadata": {},
   "outputs": [],
   "source": [
    "st.upper()"
   ]
  },
  {
   "cell_type": "code",
   "execution_count": null,
   "id": "0005b835",
   "metadata": {},
   "outputs": [],
   "source": [
    "st.split()"
   ]
  },
  {
   "cell_type": "code",
   "execution_count": null,
   "id": "ae911a3d",
   "metadata": {
    "jupyter": {
     "outputs_hidden": true
    }
   },
   "outputs": [],
   "source": [
    "tweet = 'Go Sports! #Sports'"
   ]
  },
  {
   "cell_type": "code",
   "execution_count": null,
   "id": "edc90c28",
   "metadata": {},
   "outputs": [],
   "source": [
    "tweet.split('#')"
   ]
  },
  {
   "cell_type": "code",
   "execution_count": null,
   "id": "5a19c85c",
   "metadata": {},
   "outputs": [],
   "source": [
    "tweet.split('#')[1]"
   ]
  },
  {
   "cell_type": "code",
   "execution_count": null,
   "id": "25799190",
   "metadata": {},
   "outputs": [],
   "source": [
    "d"
   ]
  },
  {
   "cell_type": "code",
   "execution_count": null,
   "id": "6859df69",
   "metadata": {},
   "outputs": [],
   "source": [
    "d.keys()"
   ]
  },
  {
   "cell_type": "code",
   "execution_count": null,
   "id": "de212d8a",
   "metadata": {},
   "outputs": [],
   "source": [
    "d.items()"
   ]
  },
  {
   "cell_type": "code",
   "execution_count": null,
   "id": "a7b51458",
   "metadata": {
    "jupyter": {
     "outputs_hidden": true
    }
   },
   "outputs": [],
   "source": [
    "lst = [1,2,3]"
   ]
  },
  {
   "cell_type": "code",
   "execution_count": null,
   "id": "71a4270f",
   "metadata": {},
   "outputs": [],
   "source": [
    "lst.pop()"
   ]
  },
  {
   "cell_type": "code",
   "execution_count": null,
   "id": "0dcd8a85",
   "metadata": {},
   "outputs": [],
   "source": [
    "lst"
   ]
  },
  {
   "cell_type": "code",
   "execution_count": null,
   "id": "087843aa",
   "metadata": {},
   "outputs": [],
   "source": [
    "'x' in [1,2,3]"
   ]
  },
  {
   "cell_type": "code",
   "execution_count": null,
   "id": "51c3ee81",
   "metadata": {},
   "outputs": [],
   "source": [
    "'x' in ['x','y','z']"
   ]
  }
 ],
 "metadata": {
  "jupytext": {
   "text_representation": {
    "extension": ".md",
    "format_name": "myst",
    "format_version": 0.13,
    "jupytext_version": "1.17.2"
   }
  },
  "kernelspec": {
   "display_name": ".venv",
   "language": "python",
   "name": "python3"
  },
  "source_map": [
   12,
   16,
   20,
   29,
   38,
   46,
   48,
   54,
   58,
   62,
   66,
   70,
   74,
   76,
   80,
   84,
   88,
   90,
   94,
   102,
   106,
   110,
   119,
   123,
   125,
   135,
   139,
   143,
   147,
   151,
   155,
   159,
   161,
   167,
   171,
   175,
   177,
   181,
   185,
   189,
   197,
   205,
   209,
   213,
   217,
   221,
   225,
   233,
   237,
   245,
   249,
   253,
   255,
   259,
   267,
   271,
   273,
   278,
   286,
   290,
   292,
   296,
   300,
   302,
   306,
   310,
   312,
   316,
   320,
   325,
   327,
   331,
   339,
   346,
   348,
   352,
   364,
   368,
   372,
   376,
   380,
   389,
   397,
   399,
   403,
   412,
   416,
   418,
   422,
   430,
   434,
   438,
   442,
   446,
   448,
   452,
   460,
   464,
   468,
   472,
   480,
   484,
   488,
   492,
   496,
   500,
   508,
   512,
   516,
   520
  ]
 },
 "nbformat": 4,
 "nbformat_minor": 5
}