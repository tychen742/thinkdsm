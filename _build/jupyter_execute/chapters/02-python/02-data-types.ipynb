{
 "cells": [
  {
   "cell_type": "markdown",
   "id": "dcb3f746",
   "metadata": {
    "vscode": {
     "languageId": "plaintext"
    }
   },
   "source": [
    "# Python Data Types\n",
    "\n",
    "In this lecture, we begin our discussion of Python by going over basic data types. The lecture demonstrates where to find the Jupyter notebooks for this series and how to access the Python crash course notebook."
   ]
  },
  {
   "cell_type": "markdown",
   "id": "7a846329",
   "metadata": {
    "vscode": {
     "languageId": "plaintext"
    }
   },
   "source": [
    "## 1. Numbers\n",
    "Python has two basic number types: the integer (e.g., 1) and the floating point number (e.g., 1.0). With either of these numbers, you can perform basic arithmetic as expected.\n",
    "Python Code Sample"
   ]
  },
  {
   "cell_type": "code",
   "execution_count": 1,
   "id": "8d293883",
   "metadata": {},
   "outputs": [
    {
     "data": {
      "text/plain": [
       "16"
      ]
     },
     "execution_count": 1,
     "metadata": {},
     "output_type": "execute_result"
    }
   ],
   "source": [
    "1 + 1\n",
    "1 * 3\n",
    "1 / 2\n",
    "2 ** 4"
   ]
  },
  {
   "cell_type": "markdown",
   "id": "348475b2",
   "metadata": {},
   "source": [
    "For addition, use the plus sign. For multiplication, use the asterisk. Division is performed with a forward slash. Note that dividing two integers results in a floating point number. For exponents, use two asterisks together. Python follows the order of operations, and you can use parentheses to clarify the order.\n",
    "Python Code Sample"
   ]
  },
  {
   "cell_type": "code",
   "execution_count": 2,
   "id": "13bfb5cd",
   "metadata": {},
   "outputs": [
    {
     "data": {
      "text/plain": [
       "32"
      ]
     },
     "execution_count": 2,
     "metadata": {},
     "output_type": "execute_result"
    }
   ],
   "source": [
    "2 + 3 * 5 + 5\n",
    "2 + 3 * (5 + 5)"
   ]
  },
  {
   "cell_type": "markdown",
   "id": "75db2bc5",
   "metadata": {},
   "source": [
    "The modulus operation (also known as the mod function) is represented by the percent sign in Python. It returns what remains after the division.\n",
    "Python Code Sample"
   ]
  },
  {
   "cell_type": "code",
   "execution_count": 3,
   "id": "08e8138c",
   "metadata": {},
   "outputs": [
    {
     "data": {
      "text/plain": [
       "0"
      ]
     },
     "execution_count": 3,
     "metadata": {},
     "output_type": "execute_result"
    }
   ],
   "source": [
    "4 % 2\n",
    "5 % 2\n",
    "8 % 2"
   ]
  },
  {
   "cell_type": "markdown",
   "id": "680fccb0",
   "metadata": {},
   "source": [
    "Variable Assignments\n",
    "Variables are assigned using the equal sign. Choose a variable name and assign an object or data type to it.\n",
    "Python Code Sample"
   ]
  },
  {
   "cell_type": "code",
   "execution_count": 4,
   "id": "b6e4bcec",
   "metadata": {},
   "outputs": [],
   "source": [
    "var = 2\n",
    "x = 2\n",
    "y = 3\n",
    "x + y\n",
    "x = x + x"
   ]
  },
  {
   "cell_type": "markdown",
   "id": "28f60cd4",
   "metadata": {},
   "source": [
    "Variable names should not start with numbers or special symbols. Use lowercase letters, and to chain together multiple words, use underscores.\n",
    "Python Code Sample"
   ]
  },
  {
   "cell_type": "code",
   "execution_count": 5,
   "id": "5da560a2",
   "metadata": {},
   "outputs": [],
   "source": [
    "#12var = 12\n",
    "#$var = 5\n",
    "name_of_var = 10"
   ]
  },
  {
   "cell_type": "markdown",
   "id": "49ffbac6",
   "metadata": {},
   "source": [
    "## 2. Strings\n",
    "Strings can be created using single or double quotes. You can also wrap double quotes around single quotes if you need to include a quote inside the string.\n",
    "Python Code Sample"
   ]
  },
  {
   "cell_type": "code",
   "execution_count": 6,
   "id": "3af08896",
   "metadata": {},
   "outputs": [
    {
     "data": {
      "text/plain": [
       "\"I can't go\""
      ]
     },
     "execution_count": 6,
     "metadata": {},
     "output_type": "execute_result"
    }
   ],
   "source": [
    "'hello'\n",
    "\"hello\"\n",
    "\"I can't go\""
   ]
  },
  {
   "cell_type": "markdown",
   "id": "904edb21",
   "metadata": {},
   "source": [
    "Printing Strings and Print Formatting\n",
    "Assign a string to a variable and print it. In Jupyter Notebook, typing the variable name displays the value, but to officially display output in Python, use the print statement."
   ]
  },
  {
   "cell_type": "code",
   "execution_count": 7,
   "id": "c5a707d8",
   "metadata": {},
   "outputs": [
    {
     "name": "stdout",
     "output_type": "stream",
     "text": [
      "hello\n"
     ]
    }
   ],
   "source": [
    "x = 'hello'\n",
    "print(x)"
   ]
  },
  {
   "cell_type": "markdown",
   "id": "c702f6aa",
   "metadata": {},
   "source": [
    "### Print Formatting with .format()\n",
    "You can format print statements by inserting curly brackets in your string and using the .format() method to fill them with variable values."
   ]
  },
  {
   "cell_type": "code",
   "execution_count": 8,
   "id": "efc3f26c",
   "metadata": {},
   "outputs": [
    {
     "name": "stdout",
     "output_type": "stream",
     "text": [
      "My number is 12 and my name is Sam\n"
     ]
    }
   ],
   "source": [
    "num = 12\n",
    "name = 'Sam'\n",
    "print('My number is {} and my name is {}'.format(num, name))"
   ]
  },
  {
   "cell_type": "markdown",
   "id": "8958c777",
   "metadata": {},
   "source": [
    "You can also use **named placeholders** inside the curly brackets and specify which variable fills each placeholder in the .format() call.\n",
    "Python Code Sample"
   ]
  },
  {
   "cell_type": "code",
   "execution_count": 9,
   "id": "08d3f0b5",
   "metadata": {},
   "outputs": [
    {
     "name": "stdout",
     "output_type": "stream",
     "text": [
      "My number is 12 and my name is Sam. More: 12\n"
     ]
    }
   ],
   "source": [
    "print('My number is {one} and my name is {two}. More: {one}'.format(one=num, two=name))"
   ]
  },
  {
   "cell_type": "markdown",
   "id": "b87001ae",
   "metadata": {},
   "source": [
    "### Indexing and Slicing Strings\n",
    "Strings are sequences of characters. You can access specific elements using square bracket notation. Python indexing starts at zero.\n",
    "Python Code Sample"
   ]
  },
  {
   "cell_type": "code",
   "execution_count": 10,
   "id": "6295c002",
   "metadata": {},
   "outputs": [
    {
     "data": {
      "text/plain": [
       "'o'"
      ]
     },
     "execution_count": 10,
     "metadata": {},
     "output_type": "execute_result"
    }
   ],
   "source": [
    "s = 'hello'\n",
    "s[0]\n",
    "s[4]"
   ]
  },
  {
   "cell_type": "markdown",
   "id": "b93f4838",
   "metadata": {},
   "source": [
    "Slice notation allows you to grab parts of a string. Use a colon to specify the start and end indices. The end index is not included.\n",
    "Python Code Sample"
   ]
  },
  {
   "cell_type": "code",
   "execution_count": 11,
   "id": "2d318c47",
   "metadata": {},
   "outputs": [
    {
     "data": {
      "text/plain": [
       "'def'"
      ]
     },
     "execution_count": 11,
     "metadata": {},
     "output_type": "execute_result"
    }
   ],
   "source": [
    "s = 'abcdefghijk'\n",
    "s[0:]\n",
    "s[:3]\n",
    "s[3:6]"
   ]
  },
  {
   "cell_type": "markdown",
   "id": "c9d4a766",
   "metadata": {},
   "source": [
    "## 3. Lists\n",
    "Lists are sequences of elements in square brackets, separated by commas. Lists can contain any data type, including other lists.\n",
    "Python Code Sample"
   ]
  },
  {
   "cell_type": "code",
   "execution_count": 12,
   "id": "1086f064",
   "metadata": {},
   "outputs": [],
   "source": [
    "my_list = ['a', 'b', 'c']\n",
    "my_list.append('d')\n",
    "my_list[0]\n",
    "my_list[1:3]\n",
    "my_list[0] = 'NEW'"
   ]
  },
  {
   "cell_type": "markdown",
   "id": "a5d4e1b8",
   "metadata": {},
   "source": [
    "Lists can be nested inside each other. You can access elements in nested lists by chaining square brackets.\n",
    "Python Code Sample"
   ]
  },
  {
   "cell_type": "code",
   "execution_count": 13,
   "id": "b2e3e839",
   "metadata": {},
   "outputs": [
    {
     "data": {
      "text/plain": [
       "4"
      ]
     },
     "execution_count": 13,
     "metadata": {},
     "output_type": "execute_result"
    }
   ],
   "source": [
    "lst = [1, 2, [3, 4]]\n",
    "lst[2][1]"
   ]
  },
  {
   "cell_type": "markdown",
   "id": "5f3d223c",
   "metadata": {},
   "source": [
    "For deeper nesting, continue stacking brackets to access the desired element.\n",
    "Python Code Sample"
   ]
  },
  {
   "cell_type": "code",
   "execution_count": 14,
   "id": "fea5d1cd",
   "metadata": {},
   "outputs": [
    {
     "name": "stdout",
     "output_type": "stream",
     "text": [
      "target\n"
     ]
    }
   ],
   "source": [
    "nest = [1, 2, 3, [4, 5, ['target']]]\n",
    "nest[3][2][0]\n",
    "print(nest[3][2][0])"
   ]
  },
  {
   "cell_type": "markdown",
   "id": "78bff074",
   "metadata": {},
   "source": [
    "## Conclusion\n",
    "In this lecture, we covered lists, slice notation, how to grab things from an index, strings, print formatting, basic variable assignments, and basic arithmetic.\n",
    "Key Takeaways\n",
    "* Python supports basic arithmetic operations and variable assignments using intuitive syntax.\n",
    "* Strings can be created with single or double quotes and support indexing and slicing.\n",
    "* Print formatting allows dynamic insertion of variables into strings using the .format() method.\n",
    "* Lists are ordered sequences that support indexing, slicing, appending, and nesting."
   ]
  },
  {
   "cell_type": "code",
   "execution_count": null,
   "id": "c249c633",
   "metadata": {},
   "outputs": [],
   "source": []
  }
 ],
 "metadata": {
  "jupytext": {
   "text_representation": {
    "extension": ".md",
    "format_name": "myst",
    "format_version": 0.13,
    "jupytext_version": "1.17.2"
   }
  },
  "kernelspec": {
   "display_name": ".venv",
   "language": "python",
   "name": "python3"
  },
  "language_info": {
   "codemirror_mode": {
    "name": "ipython",
    "version": 3
   },
   "file_extension": ".py",
   "mimetype": "text/x-python",
   "name": "python",
   "nbconvert_exporter": "python",
   "pygments_lexer": "ipython3",
   "version": "3.13.3"
  },
  "source_map": [
   14,
   20,
   26,
   31,
   36,
   39,
   44,
   48,
   54,
   60,
   65,
   69,
   75,
   79,
   84,
   87,
   92,
   96,
   101,
   103,
   109,
   113,
   118,
   123,
   129,
   135,
   140,
   143,
   148,
   152,
   162
  ]
 },
 "nbformat": 4,
 "nbformat_minor": 5
}