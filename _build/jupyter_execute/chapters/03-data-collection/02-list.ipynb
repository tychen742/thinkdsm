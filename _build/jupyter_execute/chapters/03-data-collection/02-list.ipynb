{
 "cells": [
  {
   "cell_type": "markdown",
   "id": "aea55a28",
   "metadata": {},
   "source": [
    "# Lists\n",
    "\n",
    "Lists are one of Python's most useful built-in type. In Python, a list is a **sequence**, meaning it is an ordered collection of items that can store multiple values in a single variable. Lists are extremely flexible because they can hold elements of different data types, such as numbers, strings, or even other lists, and they can be changed after creation by adding, removing, or modifying items. Like a string, a **list** is a sequence of values. In a string, the\n",
    "values are characters; in a list, they can be any type.\n",
    "The values in a list are called **elements**.\n",
    "\n",
    "Some basic properties of Python lists are as seen in {numref}`property-python-lists`.\n",
    "\n",
    "```{list-table} Properties of Python Lists\n",
    ":header-rows: 1\n",
    ":name: property-python-lists\n",
    "\n",
    "- - Property\n",
    "  - Description\n",
    "- - **Ordered**\n",
    "  - Elements maintain the order in which they were added and can be accessed by index (starting at 0).\n",
    "- - **Mutable**\n",
    "  - You can change, add, or remove elements after the list is created.\n",
    "- - **Allows Duplicates**\n",
    "  - Lists can contain repeated values without restriction.\n",
    "- - **Dynamic Size**\n",
    "  - The length of a list can grow or shrink as elements are added or removed.\n",
    "- - **Heterogeneous**\n",
    "  - A single list can hold items of different data types (e.g., integers, strings, objects).\n",
    "```\n",
    "\n",
    "## Basic Operations\n",
    "\n",
    "Basic Python list operations include:\n",
    "\n",
    "- Creating lists\n",
    "- Indexing (mylist[0], mylist[-1])\n",
    "- Slicing (mylist[1:4], mylist[::-1])\n",
    "- Length with len()\n",
    "- Iterating through lists (for loops, while loops)\n",
    "\n",
    "### Creating Lists\n",
    "\n",
    "The simplest to create a list is to enclose the elements in square brackets (`[` and `]`) and we usually assign the created list to a variable name. For example, here is a list of two integers:"
   ]
  },
  {
   "cell_type": "code",
   "execution_count": null,
   "id": "a0374de3",
   "metadata": {},
   "outputs": [],
   "source": [
    "numbers = [ 1, 2, 3, 4, 5 ]"
   ]
  },
  {
   "cell_type": "markdown",
   "id": "a3d5d86d",
   "metadata": {},
   "source": [
    "And here's a list of three strings:"
   ]
  },
  {
   "cell_type": "code",
   "execution_count": null,
   "id": "a1389ca3",
   "metadata": {},
   "outputs": [],
   "source": [
    "fruits = [ 'apple', 'banana', 'cherry']"
   ]
  },
  {
   "cell_type": "markdown",
   "id": "886be803",
   "metadata": {},
   "source": [
    "The elements of a list don't have to be the same type. The following list contains a string, a float, an integer, and even another list. This list is therefore **heterogeneous**:"
   ]
  },
  {
   "cell_type": "code",
   "execution_count": null,
   "id": "4c63b659",
   "metadata": {},
   "outputs": [],
   "source": [
    "t = ['spam', 2.0, 5, [10, 20]]"
   ]
  },
  {
   "cell_type": "markdown",
   "id": "d77efba1",
   "metadata": {},
   "source": [
    "A list within another list is called a **nested** list, which are important because they let you represent more complex data structures, such as tables, matrices, and provide a stepping stone to understanding multi-dimensional arrays for advanced data science processing.\n",
    "\n",
    "A list that contains no elements is called an empty list, which can be created with empty brackets, `[]`."
   ]
  },
  {
   "cell_type": "code",
   "execution_count": null,
   "id": "2694bc17",
   "metadata": {},
   "outputs": [],
   "source": [
    "empty = []"
   ]
  },
  {
   "cell_type": "markdown",
   "id": "ac56a978",
   "metadata": {},
   "source": [
    "### Indexing\n",
    "\n",
    "In Python, list indexing is the process of accessing individual elements within a list using their position. List indices work as:\n",
    "\n",
    "- Python uses **zero-based indexing**, which means the first element has index 0, the second has index 1, and so on.\n",
    "- Any integer expression can be used as an index.\n",
    "- If you try to read or write an element that does not exist, you get\n",
    "  an `IndexError`.\n",
    "- If an index has a negative value, it counts backward from the end of\n",
    "  the list beginning with `-1`.\n",
    "\n",
    "With 0-based indexing and negative indexing, list indexing looks like {numref}`list-indexing`.\n",
    "\n",
    "```{figure} ../../images/list-indexing.png\n",
    "---\n",
    "width: 450px\n",
    "name: list-indexing\n",
    "---\n",
    "[Python List Indexing](https://www.geeksforgeeks.org/python/slicing-with-negative-numbers-in-python/)\n",
    "```\n",
    "\n",
    "\n",
    "To access an element of a list, we can use the bracket operator. The index of the first element is `0`."
   ]
  },
  {
   "cell_type": "code",
   "execution_count": null,
   "id": "58ed740a",
   "metadata": {},
   "outputs": [],
   "source": [
    "fruits = [ \"apple\", \"banana\", \"cherry\" ]\n",
    "fruits[0]                       ### 'apple'"
   ]
  },
  {
   "cell_type": "markdown",
   "id": "982d2fc1",
   "metadata": {},
   "source": [
    "Although a list can contain another list, the nested list still counts as a single element -- so in the following list, there are only four elements."
   ]
  },
  {
   "cell_type": "code",
   "execution_count": null,
   "id": "720df45f",
   "metadata": {},
   "outputs": [],
   "source": [
    "t = ['spam', 2.0, 5, [10, 20]]\n",
    "len(t)                          ### 4"
   ]
  },
  {
   "cell_type": "markdown",
   "id": "629f4d33",
   "metadata": {},
   "source": [
    "### Modifying Elements\n",
    "\n",
    "Unlike strings, lists are **mutable**. When the bracket operator appears on\n",
    "the left side of an assignment, it identifies the element of the list\n",
    "that will be assigned."
   ]
  },
  {
   "cell_type": "code",
   "execution_count": null,
   "id": "351da332",
   "metadata": {},
   "outputs": [],
   "source": [
    "fruits = [ \"apple\", \"banana\", \"cherry\" ]\n",
    "fruits[0] = \"avocado\"\n",
    "fruits[0]                                   ### is now 'avocado'"
   ]
  },
  {
   "cell_type": "markdown",
   "id": "970264b6",
   "metadata": {},
   "source": [
    "### List Slicing\n",
    "\n",
    "Things to know about list slicing:\n",
    "- Slicing makes a **new list** from a portion of the elements of the original ist.\n",
    "- The list slicing syntax uses colon(s) and index parameters inside the square brackets following the list variable name; for example, \n",
    "- The start index is inclusive but the stop index in **exclusive**; for example, nums[1:3]. would return a new list containing the elements from index[1] (inclusive) to index[3] (exclusive).\n",
    "- There are 3 index parameters in the square brackets and they are all optional: **start**, **stop**, **step**. Although we mostly only use the start index and stop index. \n",
    "\n",
    "The following example selects the second and third elements from a list of four letters."
   ]
  },
  {
   "cell_type": "code",
   "execution_count": null,
   "id": "8b52aa70",
   "metadata": {},
   "outputs": [],
   "source": [
    "letters = ['a', 'b', 'c', 'd']\n",
    "letters[1:3]                            ### ['b', 'c']"
   ]
  },
  {
   "cell_type": "markdown",
   "id": "45ca3528",
   "metadata": {},
   "source": [
    "If you omit the first index, the slice starts at the beginning."
   ]
  },
  {
   "cell_type": "code",
   "execution_count": null,
   "id": "6e114135",
   "metadata": {},
   "outputs": [],
   "source": [
    "letters[:2]                             ### ['a', 'b']"
   ]
  },
  {
   "cell_type": "markdown",
   "id": "860ada5a",
   "metadata": {},
   "source": [
    "If you omit the second, the slice goes to the end."
   ]
  },
  {
   "cell_type": "code",
   "execution_count": null,
   "id": "a5d86736",
   "metadata": {},
   "outputs": [],
   "source": [
    "letters[2:]                             ### ['c', 'd']"
   ]
  },
  {
   "cell_type": "markdown",
   "id": "cab9f1ed",
   "metadata": {},
   "source": [
    "So if you omit both, the slice is a copy of the whole list."
   ]
  },
  {
   "cell_type": "code",
   "execution_count": null,
   "id": "14d4579d",
   "metadata": {},
   "outputs": [],
   "source": [
    "letters[:]                              ### ['a', 'b', 'c', 'd']"
   ]
  },
  {
   "cell_type": "markdown",
   "id": "b3060fe9",
   "metadata": {},
   "source": [
    "Because `list` is the name of a built-in function, you should avoid using it as a variable name.\n",
    "\n",
    "\n",
    "### List Functions\n",
    "\n",
    "Some Python built-in functions are useful when working with lists:\n",
    "\n",
    "- len()\n",
    "- min()\n",
    "- max()\n",
    "- sum()\n",
    "\n",
    "The `len` function returns the length of a list."
   ]
  },
  {
   "cell_type": "code",
   "execution_count": null,
   "id": "82bfe9c2",
   "metadata": {},
   "outputs": [],
   "source": [
    "cheeses = ['Cheddar', 'Edam', 'Gouda']\n",
    "len(cheeses)"
   ]
  },
  {
   "cell_type": "markdown",
   "id": "78612dce",
   "metadata": {},
   "source": [
    "The length of an empty list is `0`."
   ]
  },
  {
   "cell_type": "code",
   "execution_count": null,
   "id": "dffb5a88",
   "metadata": {},
   "outputs": [],
   "source": [
    ">>> empty = []\n",
    ">>> empty\n",
    "[]\n",
    ">>> len(empty)\n",
    "0"
   ]
  },
  {
   "cell_type": "markdown",
   "id": "872cda5c",
   "metadata": {},
   "source": [
    "No other mathematical operators work with lists, but the built-in function `sum` adds up the elements."
   ]
  },
  {
   "cell_type": "code",
   "execution_count": null,
   "id": "d01ff601",
   "metadata": {},
   "outputs": [],
   "source": [
    "t1 = [1, 2]\n",
    "sum(t1)                         ### 3"
   ]
  },
  {
   "cell_type": "markdown",
   "id": "dd7841c0",
   "metadata": {},
   "source": [
    "And `min` and `max` find the smallest and largest elements."
   ]
  },
  {
   "cell_type": "code",
   "execution_count": null,
   "id": "2a297f85",
   "metadata": {},
   "outputs": [],
   "source": [
    "t1 = [1, 2]\n",
    "min(t1)                         ### 1"
   ]
  },
  {
   "cell_type": "code",
   "execution_count": null,
   "id": "d6ff58b2",
   "metadata": {},
   "outputs": [],
   "source": [
    "t1 = [1, 2]\n",
    "max(t2)                         ### 2"
   ]
  },
  {
   "cell_type": "markdown",
   "id": "9b739cb7",
   "metadata": {},
   "source": [
    "### List Methods\n",
    "\n",
    "Python also has a set of built-in methods that you can use on lists. Commonly used list methods include:\n",
    "\n",
    "- len()\n",
    "- sum()\n",
    "- minx()\n",
    "- max()\n",
    "- append()\n",
    "- extend()\n",
    "- pop()\n",
    "- remove()\n",
    "\n",
    "#### The Dot Notation\n",
    "Use the dot notation (`.`), you can show the methods a list object has. Just type the name of the list plus `.` and hit the Tab key twice:"
   ]
  },
  {
   "cell_type": "code",
   "execution_count": null,
   "id": "d06426c3",
   "metadata": {},
   "outputs": [],
   "source": [
    ">>> nums = [ 1, 2, 3 ]\n",
    ">>> nums.\n",
    "t1.append(    t1.copy()     t1.extend(    t1.insert(    t1.remove(    t1.sort(\n",
    "t1.clear()    t1.count(     t1.index(     t1.pop(       t1.reverse()"
   ]
  },
  {
   "cell_type": "markdown",
   "id": "92fdb914",
   "metadata": {},
   "source": [
    "#### append\n",
    "Python provides methods that operate on lists. For example, `append`\n",
    "adds a new element to the end of a list:"
   ]
  },
  {
   "cell_type": "code",
   "execution_count": null,
   "id": "a2c5f9db",
   "metadata": {},
   "outputs": [],
   "source": [
    ">>> letters = ['a', 'b', 'c', 'd']\n",
    ">>> letters\n",
    "['a', 'b', 'c', 'd']\n",
    ">>> letters.append(\"e\")\n",
    ">>> letters\n",
    "['a', 'b', 'c', 'd', 'e']\n",
    "letters                         ### ['a', 'b', 'c', 'd', 'e']"
   ]
  },
  {
   "cell_type": "markdown",
   "id": "36c9c56e",
   "metadata": {},
   "source": [
    "#### extend\n",
    "`extend` takes a **list as an argument** (not values) and appends all of the elements to the original list:"
   ]
  },
  {
   "cell_type": "code",
   "execution_count": null,
   "id": "10da54c1",
   "metadata": {},
   "outputs": [],
   "source": [
    ">>> letters.extend('f', 'g')\n",
    "Traceback (most recent call last):\n",
    "  File \"<python-input-33>\", line 1, in <module>\n",
    "    letters.extend('f', 'g')\n",
    "    ~~~~~~~~~~~~~~^^^^^^^^^^\n",
    "TypeError: list.extend() takes exactly one argument (2 given)\n",
    "letters                         ### ['a', 'b', 'c', 'd', 'e']\n",
    "letters.extend(['f', 'g'])\n",
    "letters                         ### ['a', 'b', 'c', 'd', 'e', 'f', 'g']"
   ]
  },
  {
   "cell_type": "markdown",
   "id": "ee7f0f26",
   "metadata": {},
   "source": [
    "#### pop\n",
    "There are two methods that remove elements from a list: pop() and remove()\n",
    "If you know the index of the element you want, you can use `pop`: \n",
    "- If you provide an index as the argument, pop() **removes and returns** the element at that index.\n",
    "- If you do not provide an index as argument, pop() remove and return the last element in the list."
   ]
  },
  {
   "cell_type": "code",
   "execution_count": null,
   "id": "adbace48",
   "metadata": {},
   "outputs": [],
   "source": [
    ">>> nums = [1, 2, 3, 4 ,5]\n",
    ">>> nums.pop(1)                 ### pop(1) removes and returns the 2nd element in list. \n",
    "2\n",
    ">>> nums\n",
    "[1, 3, 4, 5]\n",
    ">>> nums.pop()                  ### pop() removes & returns the last element.\n",
    "5\n",
    ">>> nums\n",
    "[1, 3, 4]\n",
    ">>> "
   ]
  },
  {
   "cell_type": "markdown",
   "id": "5138502f",
   "metadata": {},
   "source": [
    "#### remove\n",
    "On the other hand, if you know the element you want to remove (but not the index), you can use `remove`:"
   ]
  },
  {
   "cell_type": "code",
   "execution_count": null,
   "id": "43cd5292",
   "metadata": {},
   "outputs": [],
   "source": [
    ">>> nums = [1, 2, 3, 4 ,5]\n",
    ">>> nums.remove(3)\n",
    ">>> nums\n",
    "[1, 2, 4, 5]"
   ]
  },
  {
   "cell_type": "markdown",
   "id": "5652a8a4",
   "metadata": {},
   "source": [
    "If the element you ask for is not in the list, that's a ValueError."
   ]
  },
  {
   "cell_type": "code",
   "execution_count": null,
   "id": "4494de9e",
   "metadata": {},
   "outputs": [],
   "source": [
    ">>> nums\n",
    "[1, 2, 4, 5]\n",
    ">>> nums.remove(6)\n",
    "Traceback (most recent call last):\n",
    "  File \"<python-input-48>\", line 1, in <module>\n",
    "    nums.remove(6)\n",
    "    ~~~~~~~~~~~^^^\n",
    "ValueError: list.remove(x): x not in list"
   ]
  },
  {
   "cell_type": "markdown",
   "id": "c1ff7ca0",
   "metadata": {},
   "source": [
    "## List operations\n",
    "\n",
    "List operators like `in`, `+`, and `*` are used on lists as well.\n",
    "\n",
    "The `in` operator works on lists -- it checks whether a given element appears anywhere in the list."
   ]
  },
  {
   "cell_type": "code",
   "execution_count": null,
   "id": "1ffe7cd4",
   "metadata": {},
   "outputs": [],
   "source": [
    "fruits = [ \"apple\", \"banana\", \"cherry\" ]\n",
    "'banana' in fruits              ### True"
   ]
  },
  {
   "cell_type": "markdown",
   "id": "8dbab402",
   "metadata": {},
   "source": [
    "And `10` is not considered to be an element of `t` because it is an element of a nested list, not `t`."
   ]
  },
  {
   "cell_type": "code",
   "execution_count": null,
   "id": "518c8daa",
   "metadata": {},
   "outputs": [],
   "source": [
    "t = ['spam', 2.0, 5, [10, 20]]\n",
    "10 in t                         ### False"
   ]
  },
  {
   "cell_type": "markdown",
   "id": "8ea0a93e",
   "metadata": {},
   "source": [
    "The `+` operator concatenates lists."
   ]
  },
  {
   "cell_type": "code",
   "execution_count": null,
   "id": "9a28bfd8",
   "metadata": {},
   "outputs": [],
   "source": [
    "t1 = [1, 2]\n",
    "t2 = [3, 4]\n",
    "t1 + t2                         ### [1, 2, 3, 4]"
   ]
  },
  {
   "cell_type": "markdown",
   "id": "94f8b60f",
   "metadata": {},
   "source": [
    "The `*` operator repeats a list a given number of times."
   ]
  },
  {
   "cell_type": "code",
   "execution_count": null,
   "id": "80d922f7",
   "metadata": {},
   "outputs": [],
   "source": [
    "['spam'] * 4                    ### ['spam', 'spam', 'spam', 'spam']\n",
    "[ 1, 2, 3 ] * 3                 ### [1, 2, 3, 1, 2, 3, 1, 2, 3]"
   ]
  },
  {
   "cell_type": "markdown",
   "id": "cf5a3290",
   "metadata": {},
   "source": [
    "## Lists and strings\n",
    "\n",
    "A string is a sequence of characters and a list is a sequence of values,\n",
    "but a list of characters is not the same as a string.\n",
    "To convert from a string to a list of characters, you can use the `list` function."
   ]
  },
  {
   "cell_type": "code",
   "execution_count": null,
   "id": "e1b81013",
   "metadata": {},
   "outputs": [],
   "source": [
    ">>> s = 'spam'\n",
    ">>> t = list(s)\n",
    ">>> t\n",
    "['s', 'p', 'a', 'm']\n",
    ">>> "
   ]
  },
  {
   "cell_type": "markdown",
   "id": "98f800d1",
   "metadata": {},
   "source": [
    "The `list` function breaks a string into individual letters.\n",
    "If you want to break a string into words, you can use the `split` method:"
   ]
  },
  {
   "cell_type": "code",
   "execution_count": null,
   "id": "dd79a1b2",
   "metadata": {},
   "outputs": [],
   "source": [
    ">>> s = 'pining for the fjords'\n",
    ">>> t = s.split()\n",
    ">>> t\n",
    "['pining', 'for', 'the', 'fjords']"
   ]
  },
  {
   "cell_type": "markdown",
   "id": "895a5265",
   "metadata": {},
   "source": [
    "The list function breaks a string into individual letters. If you want to break a string into words, you can use the `split` method:"
   ]
  },
  {
   "cell_type": "code",
   "execution_count": null,
   "id": "acd598f0",
   "metadata": {},
   "outputs": [],
   "source": [
    ">>> s = 'pining for the fjords'\n",
    ">>> t = s.split()\n",
    ">>> t\n",
    "['pining', 'for', 'the', 'fjords']"
   ]
  },
  {
   "cell_type": "markdown",
   "id": "f9bfafdb",
   "metadata": {},
   "source": [
    "An optional argument called a **delimiter** specifies which characters to use as word boundaries. The following example uses a hyphen as a delimiter."
   ]
  },
  {
   "cell_type": "code",
   "execution_count": null,
   "id": "e310193f",
   "metadata": {},
   "outputs": [],
   "source": [
    ">>> s = 'ex-parrot'\n",
    ">>> t = s.split('-')                ### note that this returns a list\n",
    ">>> t\n",
    "['ex', 'parrot']"
   ]
  },
  {
   "cell_type": "markdown",
   "id": "8a33cc9d",
   "metadata": {},
   "source": [
    "If you have a list of strings, you can concatenate them into a single string using `join`.\n",
    "`join` is a string method, so you have to invoke it on the delimiter and pass the list as an argument."
   ]
  },
  {
   "cell_type": "code",
   "execution_count": null,
   "id": "3f8a8d30",
   "metadata": {},
   "outputs": [],
   "source": [
    ">>> delimiter = ' '\n",
    ">>> t = ['pining', 'for', 'the', 'fjords']\n",
    ">>> s = delimiter.join(t)\n",
    ">>> s\n",
    "'pining for the fjords'"
   ]
  },
  {
   "cell_type": "markdown",
   "id": "fce6c5cf",
   "metadata": {},
   "source": [
    "In this case the delimiter is a space character, so `join` puts a space\n",
    "between words. To join strings without spaces, you can use the empty string, `''`, as a delimiter.\n",
    "\n",
    "\n",
    "## Sorting lists\n",
    "\n",
    "Python provides a built-in function called `sorted` that sorts the elements of a list."
   ]
  },
  {
   "cell_type": "code",
   "execution_count": null,
   "id": "0c23b14c",
   "metadata": {},
   "outputs": [],
   "source": [
    ">>> scramble = ['c', 'a', 'b']\n",
    ">>> sorted(scramble)\n",
    "['a', 'b', 'c']"
   ]
  },
  {
   "cell_type": "markdown",
   "id": "0769ca0f",
   "metadata": {},
   "source": [
    "The original list is unchanged."
   ]
  },
  {
   "cell_type": "code",
   "execution_count": null,
   "id": "ddad0af0",
   "metadata": {},
   "outputs": [],
   "source": [
    ">>> scramble\n",
    "['c', 'a', 'b']"
   ]
  },
  {
   "cell_type": "markdown",
   "id": "9c0b7e10",
   "metadata": {},
   "source": [
    "`sorted` works with any kind of sequence, not just lists. So we can sort the letters in a string like this.\n",
    "\n",
    "<!-- ```{code-cell} ipython3\n",
    "sorted('letters')\n",
    "```\n",
    "\n",
    "The result is a list.\n",
    "To convert the list to a string, we can use `join`.\n",
    "\n",
    "```{code-cell} ipython3\n",
    "''.join(sorted('letters'))\n",
    "```\n",
    "\n",
    "With an empty string as the delimiter, the elements of the list are joined with nothing between them.\n",
    "\n",
    "+++ -->\n",
    "\n",
    "## Objects and Values\n",
    "\n",
    "If we run these assignment statements:"
   ]
  },
  {
   "cell_type": "code",
   "execution_count": null,
   "id": "c0b9c892",
   "metadata": {},
   "outputs": [],
   "source": [
    "a = 'banana'\n",
    "b = 'banana'"
   ]
  },
  {
   "cell_type": "markdown",
   "id": "4ea303f3",
   "metadata": {},
   "source": [
    "We know that `a` and `b` both refer to a string, but we don't know whether they refer to the _same_ string. There are two possible states, shown in the following figure."
   ]
  },
  {
   "cell_type": "code",
   "execution_count": null,
   "id": "2560c808",
   "metadata": {},
   "outputs": [],
   "source": [
    ">>> a = 'banana'\n",
    ">>> b = 'banana'\n",
    ">>> a == b\n",
    "True\n",
    ">>> a is b\n",
    "True"
   ]
  },
  {
   "cell_type": "markdown",
   "id": "5ecda097",
   "metadata": {},
   "source": [
    "In this example, Python only created one string object, and both `a`\n",
    "and `b` refer to it. But when you create two lists, you get two objects."
   ]
  },
  {
   "cell_type": "code",
   "execution_count": null,
   "id": "744a035d",
   "metadata": {},
   "outputs": [],
   "source": [
    ">>> a = [ 1, 2, 3 ]\n",
    ">>> b = [ 1, 2 ,3 ]\n",
    ">>> a == b\n",
    "True\n",
    ">>> a is b\n",
    "False\n",
    ">>> "
   ]
  },
  {
   "cell_type": "markdown",
   "id": "84563ed8",
   "metadata": {},
   "source": [
    "In this case we would say that the two lists are **equivalent**, because they have the same elements, but not **identical**, because they are not the same object.\n",
    "If two objects are identical, they are also equivalent, but if they are equivalent, they are not necessarily identical.\n",
    "\n",
    "## Aliasing\n",
    "\n",
    "If `num_a` refers to an object and you assign `num_b = num_a`, then both variables refer to the **same object**."
   ]
  },
  {
   "cell_type": "code",
   "execution_count": null,
   "id": "f98a7fb8",
   "metadata": {},
   "outputs": [],
   "source": [
    ">>> nums_a = [ 1, 2, 3, 4, 5 ]\n",
    ">>> nums_b = nums_a\n",
    ">>> nums_a == nums_b\n",
    "True\n",
    ">>> nums_a is nums_b\n",
    "True\n"
   ]
  },
  {
   "cell_type": "markdown",
   "id": "91cddbec",
   "metadata": {},
   "source": [
    "The association of a variable with an object is called a **reference**. In this example, there are two references to the same object.\n",
    "\n",
    "An object with more than one reference has more than one name, so we say the object is **aliased**. If the aliased object is mutable, changes made with one name affect the other. In this example, if we change the object `nums_a` refers to, we are also changing the object `nums_a` refers to."
   ]
  },
  {
   "cell_type": "code",
   "execution_count": null,
   "id": "29de11e4",
   "metadata": {},
   "outputs": [],
   "source": [
    ">>> nums_a = [ 1, 2, 3, 4, 5 ]\n",
    ">>> nums_a[0] = 1000\n",
    ">>> nums_a\n",
    "[1000, 2, 3, 4, 5]"
   ]
  },
  {
   "cell_type": "markdown",
   "id": "19284eaa",
   "metadata": {},
   "source": [
    "<!-- So we would say that `nums_a` \"sees\" this change. Although this behavior can be useful, it is error-prone. In general, it is safer to avoid aliasing when you are working with mutable objects. -->\n",
    "\n",
    "<!-- For immutable objects like strings, aliasing is not as much of a problem.\n",
    "In this example:\n",
    "\n",
    "```{code-cell} ipython3\n",
    "string_a = 'banana'\n",
    "string_b = 'banana'\n",
    "```\n",
    "\n",
    "It almost never makes a difference whether `a` and `b` refer to the same\n",
    "string or not.\n",
    "\n",
    "+++ -->\n",
    "\n",
    "\n",
    "<!-- ## Making a word list\n",
    "\n",
    "In the previous chapter, we read the file `words.txt` and searched for words with certain properties, like using the letter `e`.\n",
    "But we read the entire file many times, which is not efficient.\n",
    "It is better to read the file once and put the words in a list.\n",
    "The following loop shows how.\n",
    "\n",
    "```{code-cell} ipython3\n",
    "download('https://raw.githubusercontent.com/AllenDowney/ThinkPython/v3/words.txt');\n",
    "```\n",
    "\n",
    "```{code-cell} ipython3\n",
    "word_list = []\n",
    "\n",
    "for line in open('words.txt'):\n",
    "    word = line.strip()\n",
    "    word_list.append(word)\n",
    "\n",
    "len(word_list)\n",
    "```\n",
    "\n",
    "Before the loop, `word_list` is initialized with an empty list.\n",
    "Each time through the loop, the `append` method adds a word to the end.\n",
    "When the loop is done, there are more than 113,000 words in the list.\n",
    "\n",
    "Another way to do the same thing is to use `read` to read the entire file into a string.\n",
    "\n",
    "```{code-cell} ipython3\n",
    "string = open('words.txt').read()\n",
    "len(string)\n",
    "```\n",
    "\n",
    "The result is a single string with more than a million characters.\n",
    "We can use the `split` method to split it into a list of words.\n",
    "\n",
    "```{code-cell} ipython3\n",
    "word_list = string.split()\n",
    "len(word_list)\n",
    "```\n",
    "\n",
    "Now, to check whether a string appears in the list, we can use the `in` operator.\n",
    "For example, `'demotic'` is in the list.\n",
    "\n",
    "```{code-cell} ipython3\n",
    "'demotic' in word_list\n",
    "```\n",
    "\n",
    "But `'contrafibularities'` is not.\n",
    "\n",
    "```{code-cell} ipython3\n",
    "'contrafibularities' in word_list\n",
    "```\n",
    "\n",
    "And I have to say, I'm anaspeptic about it.\n",
    "\n",
    "## Debugging\n",
    "\n",
    "Note that most list methods modify the argument and return `None`.\n",
    "This is the opposite of the string methods, which return a new string and leave the original alone.\n",
    "\n",
    "If you are used to writing string code like this:\n",
    "\n",
    "```{code-cell} ipython3\n",
    "word = 'plumage!'\n",
    "word = word.strip('!')\n",
    "word\n",
    "```\n",
    "\n",
    "It is tempting to write list code like this:\n",
    "\n",
    "```{code-cell} ipython3\n",
    "t = [1, 2, 3]\n",
    "t = t.remove(3)           # WRONG!\n",
    "```\n",
    "\n",
    "`remove` modifies the list and returns `None`, so next operation you perform with `t` is likely to fail.\n",
    "\n",
    "```{code-cell} ipython3\n",
    "%%expect AttributeError\n",
    "\n",
    "t.remove(2)\n",
    "```\n",
    "\n",
    "This error message takes some explaining.\n",
    "An **attribute** of an object is a variable or method associated with it.\n",
    "In this case, the value of `t` is `None`, which is a `NoneType` object, which does not have a attribute named `remove`, so the result is an `AttributeError`.\n",
    "\n",
    "If you see an error message like this, you should look backward through the program and see if you might have called a list method incorrectly.\n",
    "\n",
    "+++ -->\n",
    "\n",
    "## Glossary\n",
    "\n",
    "**list:**\n",
    "An object that contains a sequence of values.\n",
    "\n",
    "**element:**\n",
    "One of the values in a list or other sequence.\n",
    "\n",
    "**nested list:**\n",
    "A list that is an element of another list.\n",
    "\n",
    "**delimiter:**\n",
    "A character or string used to indicate where a string should be split.\n",
    "\n",
    "**equivalent:**\n",
    "Having the same value.\n",
    "\n",
    "**identical:**\n",
    "Being the same object (which implies equivalence).\n",
    "\n",
    "**reference:**\n",
    "The association between a variable and its value.\n",
    "\n",
    "**aliased:**\n",
    "If there is more than one variable that refers to an object, the object is aliased.\n",
    "\n",
    "**attribute:**\n",
    "One of the named values associated with an object.\n",
    "\n",
    "\n",
    "<!-- ## Exercises\n",
    "\n",
    "```{code-cell} ipython3\n",
    "# This cell tells Jupyter to provide detailed debugging information\n",
    "# when a runtime error occurs. Run it before working on the exercises.\n",
    "\n",
    "%xmode Verbose\n",
    "```\n",
    "\n",
    "### Ask a virtual assistant\n",
    "\n",
    "In this chapter, I used the words \"contrafibularities\" and \"anaspeptic\", but they are not actually English words.\n",
    "They were used in the British television show _Black Adder_, Season 3, Episode 2, \"Ink and Incapability\".\n",
    "\n",
    "However, when I asked ChatGPT 3.5 (August 3, 2023 version) where those words came from, it initially claimed they are from Monty Python, and later claimed they are from the Tom Stoppard play _Rosencrantz and Guildenstern Are Dead_.\n",
    "\n",
    "If you ask now, you might get different results.\n",
    "But this example is a reminder that virtual assistants are not always accurate, so you should check whether the results are correct.\n",
    "As you gain experience, you will get a sense of which questions virtual assistants can answer reliably.\n",
    "In this example, a conventional web search can identify the source of these words quickly.\n",
    "\n",
    "If you get stuck on any of the exercises in this chapter, consider asking a virtual assistant for help.\n",
    "If you get a result that uses features we haven't learned yet, you can assign the VA a \"role\".\n",
    "\n",
    "For example, before you ask a question try typing \"Role: Basic Python Programming Instructor\".\n",
    "After that, the responses you get should use only basic features.\n",
    "If you still see features we you haven't learned, you can follow up with \"Can you write that using only basic Python features?\"\n",
    "\n",
    "+++ -->\n",
    "\n",
    "<!-- ### Exercise\n",
    "\n",
    "Two words are anagrams if you can rearrange the letters from one to spell the other.\n",
    "For example, `tops` is an anagram of `stop`.\n",
    "\n",
    "One way to check whether two words are anagrams is to sort the letters in both words.\n",
    "If the lists of sorted letters are the same, the words are anagrams.\n",
    "\n",
    "Write a function called `is_anagram` that takes two strings and returns `True` if they are anagrams.\n",
    "\n",
    "+++\n",
    "\n",
    "To get you started, here's an outline of the function with doctests.\n",
    "\n",
    "```{code-cell} ipython3\n",
    "def is_anagram(word1, word2):\n",
    "    \"\"\"Checks whether two words are anagrams.\n",
    "\n",
    "    >>> is_anagram('tops', 'stop')\n",
    "    True\n",
    "    >>> is_anagram('skate', 'takes')\n",
    "    True\n",
    "    >>> is_anagram('tops', 'takes')\n",
    "    False\n",
    "    >>> is_anagram('skate', 'stop')\n",
    "    False\n",
    "    \"\"\"\n",
    "    return None\n",
    "```\n",
    "\n",
    "```{code-cell} ipython3\n",
    "# Solution goes here\n",
    "```\n",
    "\n",
    "You can use `doctest` to test your function.\n",
    "\n",
    "```{code-cell} ipython3\n",
    "from doctest import run_docstring_examples\n",
    "\n",
    "def run_doctests(func):\n",
    "    run_docstring_examples(func, globals(), name=func.__name__)\n",
    "\n",
    "run_doctests(is_anagram)\n",
    "```\n",
    "\n",
    "Using your function and the word list, find all the anagrams of `takes`.\n",
    "\n",
    "```{code-cell} ipython3\n",
    "# Solution goes here\n",
    "```\n",
    "\n",
    "### Exercise\n",
    "\n",
    "Python provides a built-in function called `reversed` that takes as an argument a sequence of elements -- like a list or string -- and returns a `reversed` object that contains the elements in reverse order.\n",
    "\n",
    "```{code-cell} ipython3\n",
    "reversed('parrot')\n",
    "```\n",
    "\n",
    "If you want the reversed elements in a list, you can use the `list` function.\n",
    "\n",
    "```{code-cell} ipython3\n",
    "list(reversed('parrot'))\n",
    "```\n",
    "\n",
    "Or if you want them in a string, you can use the `join` method.\n",
    "\n",
    "```{code-cell} ipython3\n",
    "''.join(reversed('parrot'))\n",
    "```\n",
    "\n",
    "So we can write a function that reverses a word like this.\n",
    "\n",
    "```{code-cell} ipython3\n",
    "def reverse_word(word):\n",
    "    return ''.join(reversed(word))\n",
    "```\n",
    "\n",
    "A palindrome is a word that is spelled the same backward and forward, like \"noon\" and \"rotator\".\n",
    "Write a function called `is_palindrome` that takes a string argument and returns `True` if it is a palindrome and `False` otherwise.\n",
    "\n",
    "+++\n",
    "\n",
    "Here's an outline of the function with doctests you can use to check your function.\n",
    "\n",
    "```{code-cell} ipython3\n",
    "def is_palindrome(word):\n",
    "    \"\"\"Check if a word is a palindrome.\n",
    "\n",
    "    >>> is_palindrome('bob')\n",
    "    True\n",
    "    >>> is_palindrome('alice')\n",
    "    False\n",
    "    >>> is_palindrome('a')\n",
    "    True\n",
    "    >>> is_palindrome('')\n",
    "    True\n",
    "    \"\"\"\n",
    "    return False\n",
    "```\n",
    "\n",
    "```{code-cell} ipython3\n",
    "# Solution goes here\n",
    "```\n",
    "\n",
    "```{code-cell} ipython3\n",
    "run_doctests(is_palindrome)\n",
    "```\n",
    "\n",
    "You can use the following loop to find all of the palindromes in the word list with at least 7 letters.\n",
    "\n",
    "```{code-cell} ipython3\n",
    "for word in word_list:\n",
    "    if len(word) >= 7 and is_palindrome(word):\n",
    "        print(word)\n",
    "```\n",
    "\n",
    "### Exercise\n",
    "\n",
    "Write a function called `reverse_sentence` that takes as an argument a string that contains any number of words separated by spaces.\n",
    "It should return a new string that contains the same words in reverse order.\n",
    "For example, if the argument is \"Reverse this sentence\", the result should be \"Sentence this reverse\".\n",
    "\n",
    "Hint: You can use the `capitalize` methods to capitalize the first word and convert the other words to lowercase.\n",
    "\n",
    "+++\n",
    "\n",
    "To get you started, here's an outline of the function with doctests.\n",
    "\n",
    "```{code-cell} ipython3\n",
    "def reverse_sentence(input_string):\n",
    "    '''Reverse the words in a string and capitalize the first.\n",
    "\n",
    "    >>> reverse_sentence('Reverse this sentence')\n",
    "    'Sentence this reverse'\n",
    "\n",
    "    >>> reverse_sentence('Python')\n",
    "    'Python'\n",
    "\n",
    "    >>> reverse_sentence('')\n",
    "    ''\n",
    "\n",
    "    >>> reverse_sentence('One for all and all for one')\n",
    "    'One for all and all for one'\n",
    "    '''\n",
    "    return None\n",
    "```\n",
    "\n",
    "```{code-cell} ipython3\n",
    "# Solution goes here\n",
    "```\n",
    "\n",
    "```{code-cell} ipython3\n",
    "run_doctests(reverse_sentence)\n",
    "```\n",
    "\n",
    "### Exercise\n",
    "\n",
    "Write a function called `total_length` that takes a list of strings and returns the total length of the strings.\n",
    "The total length of the words in `word_list` should be $902{,}728$.\n",
    "\n",
    "```{code-cell} ipython3\n",
    "# Solution goes here\n",
    "```\n",
    "\n",
    "```{code-cell} ipython3\n",
    "# Solution goes here\n",
    "```\n",
    "\n",
    "```{code-cell} ipython3\n",
    "\n",
    "``` -->"
   ]
  }
 ],
 "metadata": {
  "jupytext": {
   "text_representation": {
    "extension": ".md",
    "format_name": "myst",
    "format_version": 0.13,
    "jupytext_version": "1.17.2"
   }
  },
  "kernelspec": {
   "display_name": "Python 3 (ipykernel)",
   "language": "python",
   "name": "python3"
  },
  "source_map": [
   12,
   54,
   56,
   60,
   62,
   66,
   68,
   74,
   76,
   102,
   105,
   109,
   112,
   120,
   124,
   136,
   139,
   143,
   145,
   149,
   151,
   155,
   157,
   173,
   176,
   180,
   186,
   190,
   193,
   197,
   202,
   205,
   223,
   228,
   234,
   242,
   247,
   257,
   265,
   276,
   281,
   286,
   290,
   299,
   307,
   310,
   314,
   317,
   321,
   325,
   329,
   332,
   340,
   346,
   351,
   356,
   360,
   365,
   369,
   374,
   379,
   385,
   395,
   399,
   403,
   406,
   429,
   432,
   436,
   443,
   448,
   456,
   465,
   473,
   479,
   484
  ]
 },
 "nbformat": 4,
 "nbformat_minor": 5
}