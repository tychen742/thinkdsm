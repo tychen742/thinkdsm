{
 "cells": [
  {
   "cell_type": "markdown",
   "id": "a1199938",
   "metadata": {},
   "source": [
    "You can order print and ebook versions of *Think Python 3e* from\n",
    "[Bookshop.org](https://bookshop.org/a/98697/9781098155438) and\n",
    "[Amazon](https://www.amazon.com/_/dp/1098155432?smid=ATVPDKIKX0DER&_encoding=UTF8&tag=oreilly20-20&_encoding=UTF8&tag=greenteapre01-20&linkCode=ur2&linkId=e2a529f94920295d27ec8a06e757dc7c&camp=1789&creative=9325)."
   ]
  },
  {
   "cell_type": "code",
   "execution_count": null,
   "id": "9d161b84",
   "metadata": {},
   "outputs": [],
   "source": [
    "from os.path import basename, exists\n",
    "\n",
    "def download(url):\n",
    "    filename = basename(url)\n",
    "    if not exists(filename):\n",
    "        from urllib.request import urlretrieve\n",
    "\n",
    "        local, _ = urlretrieve(url, filename)\n",
    "        print(\"Downloaded \" + str(local))\n",
    "    return filename\n",
    "\n",
    "download('https://github.com/AllenDowney/ThinkPython/raw/v3/thinkpython.py');\n",
    "download('https://github.com/AllenDowney/ThinkPython/raw/v3/diagram.py');\n",
    "\n",
    "import thinkpython"
   ]
  },
  {
   "cell_type": "markdown",
   "id": "bb4a0073",
   "metadata": {},
   "source": [
    "# Tuples\n",
    "\n",
    "This chapter introduces one more built-in type, the tuple, and then shows how lists, dictionaries, and tuples work together.\n",
    "It also presents tuple assignment and a useful feature for functions with variable-length argument lists: the packing and unpacking operators.\n",
    "\n",
    "In the exercises, we'll use tuples, along with lists and dictionaries, to solve more word puzzles and implement efficient algorithms.\n",
    "\n",
    "One note: There are two ways to pronounce \"tuple\".\n",
    "Some people say \"tuh-ple\", which rhymes with \"supple\".\n",
    "But in the context of programming, most people say \"too-ple\", which rhymes with \"quadruple\"."
   ]
  },
  {
   "cell_type": "markdown",
   "id": "b19a753a",
   "metadata": {},
   "source": [
    "## Tuples are like lists\n",
    "\n",
    "A tuple is a sequence of values. The values can be any type, and they are indexed by integers, so tuples are a lot like lists.\n",
    "The important difference is that tuples are immutable.\n",
    "\n",
    "To create a tuple, you can write a comma-separated list of values."
   ]
  },
  {
   "cell_type": "code",
   "execution_count": null,
   "id": "f0055965",
   "metadata": {},
   "outputs": [],
   "source": [
    "t = 'l', 'u', 'p', 'i', 'n'\n",
    "type(t)"
   ]
  },
  {
   "cell_type": "markdown",
   "id": "8f2017aa",
   "metadata": {},
   "source": [
    "Although it is not necessary, it is common to enclose tuples in parentheses."
   ]
  },
  {
   "cell_type": "code",
   "execution_count": null,
   "id": "030b0133",
   "metadata": {},
   "outputs": [],
   "source": [
    "t = ('l', 'u', 'p', 'i', 'n')\n",
    "type(t)"
   ]
  },
  {
   "cell_type": "markdown",
   "id": "ab5b97c6",
   "metadata": {},
   "source": [
    "To create a tuple with a single element, you have to include a final comma."
   ]
  },
  {
   "cell_type": "code",
   "execution_count": null,
   "id": "90a28cb3",
   "metadata": {},
   "outputs": [],
   "source": [
    "t1 = 'p',\n",
    "type(t1)"
   ]
  },
  {
   "cell_type": "markdown",
   "id": "294dea43",
   "metadata": {},
   "source": [
    "A single value in parentheses is not a tuple."
   ]
  },
  {
   "cell_type": "code",
   "execution_count": null,
   "id": "7d6c1bfe",
   "metadata": {},
   "outputs": [],
   "source": [
    "t2 = ('p')\n",
    "type(t2)"
   ]
  },
  {
   "cell_type": "markdown",
   "id": "c654b187",
   "metadata": {},
   "source": [
    "Another way to create a tuple is the built-in function `tuple`. With no\n",
    "argument, it creates an empty tuple."
   ]
  },
  {
   "cell_type": "code",
   "execution_count": null,
   "id": "eda56662",
   "metadata": {},
   "outputs": [],
   "source": [
    "t = tuple()\n",
    "t"
   ]
  },
  {
   "cell_type": "markdown",
   "id": "6de6de04",
   "metadata": {},
   "source": [
    "If the argument is a sequence (string, list or tuple), the result is a\n",
    "tuple with the elements of the sequence."
   ]
  },
  {
   "cell_type": "code",
   "execution_count": null,
   "id": "3fbf999e",
   "metadata": {},
   "outputs": [],
   "source": [
    "t = tuple('lupin')\n",
    "t"
   ]
  },
  {
   "cell_type": "markdown",
   "id": "6c8a066c",
   "metadata": {},
   "source": [
    "Because `tuple` is the name of a built-in function, you should avoid using it as a variable name.\n",
    "\n",
    "Most list operators also work with tuples.\n",
    "For example, the bracket operator indexes an element."
   ]
  },
  {
   "cell_type": "code",
   "execution_count": null,
   "id": "498a1971",
   "metadata": {},
   "outputs": [],
   "source": [
    "t[0]"
   ]
  },
  {
   "cell_type": "markdown",
   "id": "18b5612d",
   "metadata": {},
   "source": [
    "And the slice operator selects a range of elements."
   ]
  },
  {
   "cell_type": "code",
   "execution_count": null,
   "id": "d35a47fb",
   "metadata": {},
   "outputs": [],
   "source": [
    "t[1:3]"
   ]
  },
  {
   "cell_type": "markdown",
   "id": "f8538754",
   "metadata": {},
   "source": [
    "The `+` operator concatenates tuples."
   ]
  },
  {
   "cell_type": "code",
   "execution_count": null,
   "id": "de960497",
   "metadata": {},
   "outputs": [],
   "source": [
    "tuple('lup') + ('i', 'n')"
   ]
  },
  {
   "cell_type": "markdown",
   "id": "faa22281",
   "metadata": {},
   "source": [
    "And the `*` operator duplicates a tuple a given number of times."
   ]
  },
  {
   "cell_type": "code",
   "execution_count": null,
   "id": "bdcdbe9d",
   "metadata": {},
   "outputs": [],
   "source": [
    "tuple('spam') * 2 "
   ]
  },
  {
   "cell_type": "markdown",
   "id": "bfd6ea37",
   "metadata": {},
   "source": [
    "The `sorted` function works with tuples -- but the result is a list, not a tuple."
   ]
  },
  {
   "cell_type": "code",
   "execution_count": null,
   "id": "318ec035",
   "metadata": {},
   "outputs": [],
   "source": [
    "sorted(t)"
   ]
  },
  {
   "cell_type": "markdown",
   "id": "c9812965",
   "metadata": {},
   "source": [
    "The `reversed` function also works with tuples."
   ]
  },
  {
   "cell_type": "code",
   "execution_count": null,
   "id": "607b06af",
   "metadata": {},
   "outputs": [],
   "source": [
    "reversed(t)"
   ]
  },
  {
   "cell_type": "markdown",
   "id": "2020f2be",
   "metadata": {},
   "source": [
    "The result is a `reversed` object, which we can convert to a list or tuple."
   ]
  },
  {
   "cell_type": "code",
   "execution_count": null,
   "id": "daccf442",
   "metadata": {},
   "outputs": [],
   "source": [
    "tuple(reversed(t))"
   ]
  },
  {
   "cell_type": "markdown",
   "id": "97e1a52b",
   "metadata": {},
   "source": [
    "Based on the examples so far, it might seem like tuples are the same as lists."
   ]
  },
  {
   "cell_type": "markdown",
   "id": "3b5294e0",
   "metadata": {},
   "source": [
    "## But tuples are immutable\n",
    "\n",
    "If you try to modify a tuple with the bracket operator, you get a `TypeError`."
   ]
  },
  {
   "cell_type": "code",
   "execution_count": null,
   "id": "033849e7",
   "metadata": {},
   "outputs": [],
   "source": [
    "%%expect TypeError\n",
    "t[0] = 'L'"
   ]
  },
  {
   "cell_type": "markdown",
   "id": "f75599ca",
   "metadata": {},
   "source": [
    "And tuples don't have any of the methods that modify lists, like `append` and `remove`."
   ]
  },
  {
   "cell_type": "code",
   "execution_count": null,
   "id": "42954826",
   "metadata": {},
   "outputs": [],
   "source": [
    "%%expect AttributeError\n",
    "\n",
    "t.remove('l')"
   ]
  },
  {
   "cell_type": "markdown",
   "id": "3118c31d",
   "metadata": {},
   "source": [
    "Recall that an \"attribute\" is a variable or method associated with an object -- this error message means that tuples don't have a method named `remove`.\n",
    "\n",
    "Because tuples are immutable, they are hashable, which means they can be used as keys in a dictionary.\n",
    "For example, the following dictionary contains two tuples as keys that map to integers."
   ]
  },
  {
   "cell_type": "code",
   "execution_count": null,
   "id": "045de263",
   "metadata": {},
   "outputs": [],
   "source": [
    "d = {}\n",
    "d[1, 2] = 3\n",
    "d[3, 4] = 7"
   ]
  },
  {
   "cell_type": "markdown",
   "id": "fc2474f5",
   "metadata": {},
   "source": [
    "We can look up a tuple in a dictionary like this:"
   ]
  },
  {
   "cell_type": "code",
   "execution_count": null,
   "id": "fb12d0a1",
   "metadata": {},
   "outputs": [],
   "source": [
    "d[1, 2]"
   ]
  },
  {
   "cell_type": "markdown",
   "id": "169ce39f",
   "metadata": {},
   "source": [
    "Or if we have a variable that refers to a tuple, we can use it as a key."
   ]
  },
  {
   "cell_type": "code",
   "execution_count": null,
   "id": "e4866c22",
   "metadata": {},
   "outputs": [],
   "source": [
    "t = (3, 4)\n",
    "d[t]"
   ]
  },
  {
   "cell_type": "markdown",
   "id": "bd13ae9c",
   "metadata": {},
   "source": [
    "Tuples can also appear as values in a dictionary."
   ]
  },
  {
   "cell_type": "code",
   "execution_count": null,
   "id": "af0a71a0",
   "metadata": {},
   "outputs": [],
   "source": [
    "t = tuple('abc')\n",
    "d = {'key': t}\n",
    "d"
   ]
  },
  {
   "cell_type": "markdown",
   "id": "dc7c515b",
   "metadata": {},
   "source": [
    "## Tuple assignment\n",
    "\n",
    "You can put a tuple of variables on the left side of an assignment, and a tuple of values on the right."
   ]
  },
  {
   "cell_type": "code",
   "execution_count": null,
   "id": "2792f5e7",
   "metadata": {},
   "outputs": [],
   "source": [
    "a, b = 1, 2"
   ]
  },
  {
   "cell_type": "markdown",
   "id": "4a65a6eb",
   "metadata": {},
   "source": [
    "The values are assigned to the variables from left to right -- in this example, `a` gets the value `1` and `b` gets the value `2`.\n",
    "We can display the results like this:"
   ]
  },
  {
   "cell_type": "code",
   "execution_count": null,
   "id": "3c95ed14",
   "metadata": {},
   "outputs": [],
   "source": [
    "a, b"
   ]
  },
  {
   "cell_type": "markdown",
   "id": "82db65e8",
   "metadata": {},
   "source": [
    "More generally, if the left side of an assignment is a tuple, the right side can be any kind of sequence -- string, list or tuple. \n",
    "For example, to split an email address into a user name and a domain, you could write:"
   ]
  },
  {
   "cell_type": "code",
   "execution_count": null,
   "id": "90765d75",
   "metadata": {},
   "outputs": [],
   "source": [
    "email = 'monty@python.org'\n",
    "username, domain = email.split('@')"
   ]
  },
  {
   "cell_type": "markdown",
   "id": "4417898c",
   "metadata": {},
   "source": [
    "The return value from `split` is a list with two elements -- the first element is assigned to `username`, the second to `domain`."
   ]
  },
  {
   "cell_type": "code",
   "execution_count": null,
   "id": "90dc5e78",
   "metadata": {},
   "outputs": [],
   "source": [
    "username, domain"
   ]
  },
  {
   "cell_type": "markdown",
   "id": "f88eae2a",
   "metadata": {},
   "source": [
    "The number of variables on the left and the number of values on the\n",
    "right have to be the same -- otherwise you get a `ValueError`."
   ]
  },
  {
   "cell_type": "code",
   "execution_count": null,
   "id": "4fa86f3f",
   "metadata": {},
   "outputs": [],
   "source": [
    "%%expect ValueError\n",
    "a, b = 1, 2, 3"
   ]
  },
  {
   "cell_type": "markdown",
   "id": "a86d74c2",
   "metadata": {},
   "source": [
    "Tuple assignment is useful if you want to swap the values of two variables.\n",
    "With conventional assignments, you have to use a temporary variable, like this:"
   ]
  },
  {
   "cell_type": "code",
   "execution_count": null,
   "id": "265b5129",
   "metadata": {},
   "outputs": [],
   "source": [
    "temp = a\n",
    "a = b\n",
    "b = temp"
   ]
  },
  {
   "cell_type": "markdown",
   "id": "98dd6046",
   "metadata": {},
   "source": [
    "That works, but with tuple assignment we can do the same thing without a temporary variable."
   ]
  },
  {
   "cell_type": "code",
   "execution_count": null,
   "id": "d28fa58f",
   "metadata": {},
   "outputs": [],
   "source": [
    "a, b = b, a"
   ]
  },
  {
   "cell_type": "markdown",
   "id": "9ad77822",
   "metadata": {},
   "source": [
    "This works because all of the expressions on the right side are evaluated before any of the assignments.\n",
    "\n",
    "We can also use tuple assignment in a `for` statement.\n",
    "For example, to loop through the items in a dictionary, we can use the `items` method."
   ]
  },
  {
   "cell_type": "code",
   "execution_count": null,
   "id": "590964bf",
   "metadata": {},
   "outputs": [],
   "source": [
    "d = {'one': 1, 'two': 2}\n",
    "\n",
    "for item in d.items():\n",
    "    key, value = item\n",
    "    print(key, '->', value)"
   ]
  },
  {
   "cell_type": "markdown",
   "id": "2f360240",
   "metadata": {},
   "source": [
    "Each time through the loop, `item` is assigned a tuple that contains a key and the corresponding value.\n",
    "\n",
    "We can write this loop more concisely, like this:"
   ]
  },
  {
   "cell_type": "code",
   "execution_count": null,
   "id": "4d2120c7",
   "metadata": {},
   "outputs": [],
   "source": [
    "for key, value in d.items():\n",
    "    print(key, '->', value)"
   ]
  },
  {
   "cell_type": "markdown",
   "id": "cf3d70d2",
   "metadata": {},
   "source": [
    "Each time through the loop, a key and the corresponding value are assigned directly to `key` and `value`."
   ]
  },
  {
   "cell_type": "markdown",
   "id": "c58aa0fc",
   "metadata": {},
   "source": [
    "## Tuples as return values\n",
    "\n",
    "Strictly speaking, a function can only return one value, but if the\n",
    "value is a tuple, the effect is the same as returning multiple values.\n",
    "For example, if you want to divide two integers and compute the quotient\n",
    "and remainder, it is inefficient to compute `x//y` and then `x%y`. It is\n",
    "better to compute them both at the same time.\n",
    "\n",
    "The built-in function `divmod` takes two arguments and returns a tuple\n",
    "of two values, the quotient and remainder."
   ]
  },
  {
   "cell_type": "code",
   "execution_count": null,
   "id": "10f99fa4",
   "metadata": {},
   "outputs": [],
   "source": [
    "divmod(7, 3)"
   ]
  },
  {
   "cell_type": "markdown",
   "id": "d915c808",
   "metadata": {},
   "source": [
    "We can use tuple assignment to store the elements of the tuple in two variables."
   ]
  },
  {
   "cell_type": "code",
   "execution_count": null,
   "id": "997e7857",
   "metadata": {},
   "outputs": [],
   "source": [
    "quotient, remainder = divmod(7, 3)\n",
    "quotient"
   ]
  },
  {
   "cell_type": "code",
   "execution_count": null,
   "id": "d18e0414",
   "metadata": {},
   "outputs": [],
   "source": [
    "remainder"
   ]
  },
  {
   "cell_type": "markdown",
   "id": "d3713c2f",
   "metadata": {},
   "source": [
    "Here is an example of a function that returns a tuple."
   ]
  },
  {
   "cell_type": "code",
   "execution_count": null,
   "id": "5d7ad520",
   "metadata": {},
   "outputs": [],
   "source": [
    "def min_max(t):\n",
    "    return min(t), max(t)"
   ]
  },
  {
   "cell_type": "markdown",
   "id": "3ebf5fe7",
   "metadata": {},
   "source": [
    "`max` and `min` are built-in functions that find the largest and smallest elements of a sequence. \n",
    "`min_max` computes both and returns a tuple of two values."
   ]
  },
  {
   "cell_type": "code",
   "execution_count": null,
   "id": "a6113470",
   "metadata": {},
   "outputs": [],
   "source": [
    "min_max([2, 4, 1, 3])"
   ]
  },
  {
   "cell_type": "markdown",
   "id": "e906566b",
   "metadata": {},
   "source": [
    "We can assign the results to variables like this:"
   ]
  },
  {
   "cell_type": "code",
   "execution_count": null,
   "id": "b1e919dc",
   "metadata": {},
   "outputs": [],
   "source": [
    "low, high = min_max([2, 4, 1, 3])\n",
    "low, high"
   ]
  },
  {
   "cell_type": "markdown",
   "id": "d35b2d87",
   "metadata": {},
   "source": [
    "## Argument packing\n",
    "\n",
    "Functions can take a variable number of arguments. \n",
    "A parameter name that begins with the `*` operator **packs** arguments into a tuple.\n",
    "For example, the following function takes any number of arguments and computes their arithmetic mean -- that is, their sum divided by the number of arguments."
   ]
  },
  {
   "cell_type": "code",
   "execution_count": null,
   "id": "5fb69157",
   "metadata": {},
   "outputs": [],
   "source": [
    "def mean(*args):\n",
    "    return sum(args) / len(args)"
   ]
  },
  {
   "cell_type": "markdown",
   "id": "5e386444",
   "metadata": {},
   "source": [
    "The parameter can have any name you like, but `args` is conventional.\n",
    "We can call the function like this:"
   ]
  },
  {
   "cell_type": "code",
   "execution_count": null,
   "id": "23330ab5",
   "metadata": {},
   "outputs": [],
   "source": [
    "mean(1, 2, 3)"
   ]
  },
  {
   "cell_type": "markdown",
   "id": "98dd7349",
   "metadata": {},
   "source": [
    "If you have a sequence of values and you want to pass them to a function as multiple arguments, you can use the `*` operator to **unpack** the tuple.\n",
    "For example, `divmod` takes exactly two arguments -- if you pass a tuple as a parameter, you get an error."
   ]
  },
  {
   "cell_type": "code",
   "execution_count": null,
   "id": "4af0d9b1",
   "metadata": {},
   "outputs": [],
   "source": [
    "%%expect TypeError\n",
    "t = (7, 3)\n",
    "divmod(t)"
   ]
  },
  {
   "cell_type": "markdown",
   "id": "a271293a",
   "metadata": {},
   "source": [
    "Even though the tuple contains two elements, it counts as a single argument.\n",
    "But if you unpack the tuple, it is treated as two arguments."
   ]
  },
  {
   "cell_type": "code",
   "execution_count": null,
   "id": "82e4c1a0",
   "metadata": {},
   "outputs": [],
   "source": [
    "divmod(*t)"
   ]
  },
  {
   "cell_type": "markdown",
   "id": "f15d8c93",
   "metadata": {},
   "source": [
    "Packing and unpacking can be useful if you want to adapt the behavior of an existing function.\n",
    "For example, this function takes any number of arguments, removes the lowest and highest, and computes the mean of the rest."
   ]
  },
  {
   "cell_type": "code",
   "execution_count": null,
   "id": "9c2a1896",
   "metadata": {},
   "outputs": [],
   "source": [
    "def trimmed_mean(*args):\n",
    "    low, high = min_max(args)\n",
    "    trimmed = list(args)\n",
    "    trimmed.remove(low)\n",
    "    trimmed.remove(high)\n",
    "    return mean(*trimmed)"
   ]
  },
  {
   "cell_type": "markdown",
   "id": "30c7321c",
   "metadata": {},
   "source": [
    "First it uses `min_max` to find the lowest and highest elements.\n",
    "Then it converts `args` to a list so it can use the `remove` method.\n",
    "Finally it unpacks the list so the elements are passed to `mean` as separate arguments, rather than as a single list.\n",
    "\n",
    "Here's an example that shows the effect."
   ]
  },
  {
   "cell_type": "code",
   "execution_count": null,
   "id": "a5b2acc6",
   "metadata": {},
   "outputs": [],
   "source": [
    "mean(1, 2, 3, 10)"
   ]
  },
  {
   "cell_type": "code",
   "execution_count": null,
   "id": "059f1561",
   "metadata": {},
   "outputs": [],
   "source": [
    "trimmed_mean(1, 2, 3, 10)"
   ]
  },
  {
   "cell_type": "markdown",
   "id": "b6615982",
   "metadata": {},
   "source": [
    "This kind of \"trimmed\" mean is used in some sports with subjective judging -- like diving and gymnastics -- to reduce the effect of a judge whose score deviates from the others."
   ]
  },
  {
   "cell_type": "markdown",
   "id": "5f8099e0",
   "metadata": {},
   "source": [
    "## Zip\n",
    "\n",
    "Tuples are useful for looping through the elements of two sequences and performing operations on corresponding elements.\n",
    "For example, suppose two teams play a series of seven games, and we record their scores in two lists, one for each team."
   ]
  },
  {
   "cell_type": "code",
   "execution_count": null,
   "id": "17827347",
   "metadata": {},
   "outputs": [],
   "source": [
    "scores1 = [1, 2, 4, 5, 1, 5, 2]\n",
    "scores2 = [5, 5, 2, 2, 5, 2, 3]"
   ]
  },
  {
   "cell_type": "markdown",
   "id": "be9425a9",
   "metadata": {},
   "source": [
    "Let's see how many games each team won.\n",
    "We'll use `zip`, which is a built-in function that takes two or more sequences and returns a **zip object**, so-called because it pairs up the elements of the sequences like the teeth of a zipper."
   ]
  },
  {
   "cell_type": "code",
   "execution_count": null,
   "id": "bde43924",
   "metadata": {},
   "outputs": [],
   "source": [
    "zip(scores1, scores2)"
   ]
  },
  {
   "cell_type": "markdown",
   "id": "11e8d688",
   "metadata": {},
   "source": [
    "We can use the zip object to loop through the values in the sequences pairwise."
   ]
  },
  {
   "cell_type": "code",
   "execution_count": null,
   "id": "563b0b8d",
   "metadata": {},
   "outputs": [],
   "source": [
    "for pair in zip(scores1, scores2):\n",
    "     print(pair)"
   ]
  },
  {
   "cell_type": "markdown",
   "id": "e537bd90",
   "metadata": {},
   "source": [
    "Each time through the loop, `pair` gets assigned a tuple of scores.\n",
    "So we can assign the scores to variables, and count the victories for the first team, like this:"
   ]
  },
  {
   "cell_type": "code",
   "execution_count": null,
   "id": "25fbc433",
   "metadata": {},
   "outputs": [],
   "source": [
    "wins = 0\n",
    "for team1, team2 in zip(scores1, scores2):\n",
    "    if team1 > team2:\n",
    "        wins += 1\n",
    "        \n",
    "wins"
   ]
  },
  {
   "cell_type": "markdown",
   "id": "b3a83ff0",
   "metadata": {},
   "source": [
    "Sadly, the first team won only three games and lost the series.\n",
    "\n",
    "If you have two lists and you want a list of pairs, you can use `zip` and `list`."
   ]
  },
  {
   "cell_type": "code",
   "execution_count": null,
   "id": "ad09a43b",
   "metadata": {},
   "outputs": [],
   "source": [
    "t = list(zip(scores1, scores2))\n",
    "t"
   ]
  },
  {
   "cell_type": "markdown",
   "id": "51b1a2e7",
   "metadata": {},
   "source": [
    "The result is a list of tuples, so we can get the result of the last game like this:"
   ]
  },
  {
   "cell_type": "code",
   "execution_count": null,
   "id": "f8b59ef2",
   "metadata": {},
   "outputs": [],
   "source": [
    "t[-1]"
   ]
  },
  {
   "cell_type": "markdown",
   "id": "39006f73",
   "metadata": {},
   "source": [
    "If you have a list of keys and a list of values, you can use `zip` and `dict` to make a dictionary.\n",
    "For example, here's how we can make a dictionary that maps from each letter to its position in the alphabet."
   ]
  },
  {
   "cell_type": "code",
   "execution_count": null,
   "id": "d60120c2",
   "metadata": {},
   "outputs": [],
   "source": [
    "letters = 'abcdefghijklmnopqrstuvwxyz'\n",
    "numbers = range(len(letters))\n",
    "letter_map = dict(zip(letters, numbers))"
   ]
  },
  {
   "cell_type": "markdown",
   "id": "bb4f82d6",
   "metadata": {},
   "source": [
    "Now we can look up a letter and get its index in the alphabet."
   ]
  },
  {
   "cell_type": "code",
   "execution_count": null,
   "id": "85c26f66",
   "metadata": {},
   "outputs": [],
   "source": [
    "letter_map['a'], letter_map['z']"
   ]
  },
  {
   "cell_type": "markdown",
   "id": "ab4afa02",
   "metadata": {},
   "source": [
    "In this mapping, the index of `'a'` is `0` and the index of `'z'` is `25`.\n",
    "\n",
    "If you need to loop through the elements of a sequence and their indices, you can use the built-in function `enumerate`."
   ]
  },
  {
   "cell_type": "code",
   "execution_count": null,
   "id": "e3068ab0",
   "metadata": {},
   "outputs": [],
   "source": [
    "enumerate('abc')"
   ]
  },
  {
   "cell_type": "markdown",
   "id": "b2278d8d",
   "metadata": {},
   "source": [
    "The result is an **enumerate object** that loops through a sequence of pairs, where each pair contains an index (starting from 0) and an element from the given sequence."
   ]
  },
  {
   "cell_type": "code",
   "execution_count": null,
   "id": "7f8af7e6",
   "metadata": {},
   "outputs": [],
   "source": [
    "for index, element in enumerate('abc'):\n",
    "    print(index, element)"
   ]
  },
  {
   "cell_type": "markdown",
   "id": "5beb7e8d",
   "metadata": {},
   "source": [
    "## Comparing and Sorting\n",
    "\n",
    "The relational operators work with tuples and other sequences.\n",
    "For example, if you use the `<` operator with tuples, it starts by comparing the first element from each sequence.\n",
    "If they are equal, it goes on to the next pair of elements, and so on, until it finds a pair that differ."
   ]
  },
  {
   "cell_type": "code",
   "execution_count": null,
   "id": "25be0136",
   "metadata": {},
   "outputs": [],
   "source": [
    "(0, 1, 2) < (0, 3, 4)"
   ]
  },
  {
   "cell_type": "markdown",
   "id": "5ef45eb3",
   "metadata": {},
   "source": [
    "Subsequent elements are not considered -- even if they are really big."
   ]
  },
  {
   "cell_type": "code",
   "execution_count": null,
   "id": "913f0966",
   "metadata": {},
   "outputs": [],
   "source": [
    "(0, 1, 2000000) < (0, 3, 4)"
   ]
  },
  {
   "cell_type": "markdown",
   "id": "5c1745ca",
   "metadata": {},
   "source": [
    "This way of comparing tuples is useful for sorting a list of tuples, or finding the minimum or maximum.\n",
    "As an example, let's find the most common letter in a word.\n",
    "In the previous chapter, we wrote `value_counts`, which takes a string and returns a dictionary that maps from each letter to the number of times it appears."
   ]
  },
  {
   "cell_type": "code",
   "execution_count": null,
   "id": "54d4e670",
   "metadata": {},
   "outputs": [],
   "source": [
    "def value_counts(string):\n",
    "    counter = {}\n",
    "    for letter in string:\n",
    "        if letter not in counter:\n",
    "            counter[letter] = 1\n",
    "        else:\n",
    "            counter[letter] += 1\n",
    "    return counter"
   ]
  },
  {
   "cell_type": "markdown",
   "id": "09c38173",
   "metadata": {},
   "source": [
    "Here is the result for the string `'banana'`."
   ]
  },
  {
   "cell_type": "code",
   "execution_count": null,
   "id": "f0b4a5d1",
   "metadata": {},
   "outputs": [],
   "source": [
    "counter = value_counts('banana')\n",
    "counter"
   ]
  },
  {
   "cell_type": "markdown",
   "id": "4854f3d3",
   "metadata": {},
   "source": [
    "With only three items, we can easily see that the most frequent letter is `'a'`, which appears three times.\n",
    "But if there were more items, it would be useful to sort them automatically.\n",
    "\n",
    "We can get the items from `counter` like this."
   ]
  },
  {
   "cell_type": "code",
   "execution_count": null,
   "id": "213ea86c",
   "metadata": {},
   "outputs": [],
   "source": [
    "items = counter.items()\n",
    "items"
   ]
  },
  {
   "cell_type": "markdown",
   "id": "5965edd1",
   "metadata": {},
   "source": [
    "The result is a `dict_items` object that behaves like a list of tuples, so we can sort it like this."
   ]
  },
  {
   "cell_type": "code",
   "execution_count": null,
   "id": "aa06c0cb",
   "metadata": {},
   "outputs": [],
   "source": [
    "sorted(items)"
   ]
  },
  {
   "cell_type": "markdown",
   "id": "7f21270a",
   "metadata": {},
   "source": [
    "The default behavior is to use the first element from each tuple to sort the list, and use the second element to break ties.\n",
    "\n",
    "However, to find the items with the highest counts, we want to use the second element to sort the list.\n",
    "We can do that by writing a function that takes a tuple and returns the second element."
   ]
  },
  {
   "cell_type": "code",
   "execution_count": null,
   "id": "ce36091d",
   "metadata": {},
   "outputs": [],
   "source": [
    "def second_element(t):\n",
    "    return t[1]"
   ]
  },
  {
   "cell_type": "markdown",
   "id": "cc90a08b",
   "metadata": {},
   "source": [
    "Then we can pass that function to `sorted` as an optional argument called `key`, which indicates that this function should be used to compute the **sort key** for each item."
   ]
  },
  {
   "cell_type": "code",
   "execution_count": null,
   "id": "949b67bf",
   "metadata": {},
   "outputs": [],
   "source": [
    "sorted_items = sorted(items, key=second_element)\n",
    "sorted_items"
   ]
  },
  {
   "cell_type": "markdown",
   "id": "bf15c5a7",
   "metadata": {},
   "source": [
    "The sort key determines the order of the items in the list.\n",
    "The letter with the lowest count appears first, and the letter with the highest count appears last.\n",
    "So we can find the most common letter like this."
   ]
  },
  {
   "cell_type": "code",
   "execution_count": null,
   "id": "c57fd4ff",
   "metadata": {},
   "outputs": [],
   "source": [
    "sorted_items[-1]"
   ]
  },
  {
   "cell_type": "markdown",
   "id": "7b3bee65",
   "metadata": {},
   "source": [
    "If we only want the maximum, we don't have to sort the list.\n",
    "We can use `max`, which also takes `key` as an optional argument."
   ]
  },
  {
   "cell_type": "code",
   "execution_count": null,
   "id": "34b11d13",
   "metadata": {},
   "outputs": [],
   "source": [
    "max(items, key=second_element)"
   ]
  },
  {
   "cell_type": "markdown",
   "id": "63857713",
   "metadata": {},
   "source": [
    "To find the letter with the lowest count, we could use `min` the same way."
   ]
  },
  {
   "cell_type": "markdown",
   "id": "baf574e1",
   "metadata": {},
   "source": [
    "## Inverting a dictionary\n",
    "\n",
    "Suppose you want to invert a dictionary so you can look up a value and get the corresponding key.\n",
    "For example, if you have a word counter that maps from each word to the number of times it appears, you could make a dictionary that maps from integers to the words that appear that number of times.\n",
    "\n",
    "But there's a problem -- the keys in a dictionary have to be unique, but the values don't. For example, in a word counter, there could be many words with the same count.\n",
    "\n",
    "So one way to invert a dictionary is to create a new dictionary where the values are lists of keys from the original.\n",
    "As an example, let's count the letters in `parrot`."
   ]
  },
  {
   "cell_type": "code",
   "execution_count": null,
   "id": "f076b3e2",
   "metadata": {},
   "outputs": [],
   "source": [
    "d =  value_counts('parrot')\n",
    "d"
   ]
  },
  {
   "cell_type": "markdown",
   "id": "dde1a288",
   "metadata": {},
   "source": [
    "If we invert this dictionary, the result should be `{1: ['p', 'a', 'o', 't'], 2: ['r']}`, which indicates that the letters that appear once are `'p'`, `'a'`, `'o'`, and `'t'`, and the letter than appears twice is `'r'`.\n",
    "\n",
    "The following function takes a dictionary and returns its inverse as a new dictionary."
   ]
  },
  {
   "cell_type": "code",
   "execution_count": null,
   "id": "80387708",
   "metadata": {},
   "outputs": [],
   "source": [
    "def invert_dict(d):\n",
    "    new = {}\n",
    "    for key, value in d.items():\n",
    "        if value not in new:\n",
    "            new[value] = [key]\n",
    "        else:\n",
    "            new[value].append(key)\n",
    "    return new"
   ]
  },
  {
   "cell_type": "markdown",
   "id": "a05eff4f",
   "metadata": {},
   "source": [
    "The `for` statement loops through the keys and values in `d`.\n",
    "If the value is not already in the new dictionary, it is added and associated with a list that contains a single element.\n",
    "Otherwise it is appended to the existing list.\n",
    "\n",
    "We can test it like this:"
   ]
  },
  {
   "cell_type": "code",
   "execution_count": null,
   "id": "4174c885",
   "metadata": {},
   "outputs": [],
   "source": [
    "invert_dict(d)"
   ]
  },
  {
   "cell_type": "markdown",
   "id": "e4a09edf",
   "metadata": {},
   "source": [
    "And we get the result we expected.\n",
    "\n",
    "This is the first example we've seen where the values in the dictionary are lists.\n",
    "We will see more!"
   ]
  },
  {
   "cell_type": "markdown",
   "id": "230b89df",
   "metadata": {},
   "source": [
    "## Debugging\n",
    "\n",
    "Lists, dictionaries and tuples are **data structures**.\n",
    "In this chapter we are starting to see compound data structures, like lists of tuples, or dictionaries that contain tuples as keys and lists as values.\n",
    "Compound data structures are useful, but they are prone to errors caused when a data structure has the wrong type, size, or structure.\n",
    "For example, if a function expects a list of integers and you give it a plain old integer\n",
    "(not in a list), it probably won't work.\n",
    "\n",
    "To help debug these kinds of errors, I wrote a module called `structshape` that provides a function, also called `structshape`, that takes any kind of data structure as an argument and returns a string that summarizes its structure.\n",
    "You can download it from\n",
    "<https://raw.githubusercontent.com/AllenDowney/ThinkPython/v3/structshape.py>."
   ]
  },
  {
   "cell_type": "code",
   "execution_count": null,
   "id": "cbb87ef5",
   "metadata": {},
   "outputs": [],
   "source": [
    "download('https://raw.githubusercontent.com/AllenDowney/ThinkPython/v3/structshape.py');"
   ]
  },
  {
   "cell_type": "markdown",
   "id": "24ca0578",
   "metadata": {},
   "source": [
    "We can import it like this."
   ]
  },
  {
   "cell_type": "code",
   "execution_count": null,
   "id": "a941a822",
   "metadata": {},
   "outputs": [],
   "source": [
    "from structshape import structshape"
   ]
  },
  {
   "cell_type": "markdown",
   "id": "ff88bf3e",
   "metadata": {},
   "source": [
    "Here's an example with a simple list."
   ]
  },
  {
   "cell_type": "code",
   "execution_count": null,
   "id": "373d558a",
   "metadata": {},
   "outputs": [],
   "source": [
    "t = [1, 2, 3]\n",
    "structshape(t)"
   ]
  },
  {
   "cell_type": "markdown",
   "id": "e14b6340",
   "metadata": {},
   "source": [
    "Here's a list of lists."
   ]
  },
  {
   "cell_type": "code",
   "execution_count": null,
   "id": "734247c9",
   "metadata": {},
   "outputs": [],
   "source": [
    "t2 = [[1,2], [3,4], [5,6]]\n",
    "structshape(t2)"
   ]
  },
  {
   "cell_type": "markdown",
   "id": "5fd00cfc",
   "metadata": {},
   "source": [
    "If the elements of the list are not the same type, `structshape` groups\n",
    "them by type."
   ]
  },
  {
   "cell_type": "code",
   "execution_count": null,
   "id": "31478569",
   "metadata": {},
   "outputs": [],
   "source": [
    "t3 = [1, 2, 3, 4.0, '5', '6', [7], [8], 9]\n",
    "structshape(t3)"
   ]
  },
  {
   "cell_type": "markdown",
   "id": "70182996",
   "metadata": {},
   "source": [
    "Here's a list of tuples."
   ]
  },
  {
   "cell_type": "code",
   "execution_count": null,
   "id": "11322129",
   "metadata": {},
   "outputs": [],
   "source": [
    "s = 'abc'\n",
    "lt = list(zip(t, s))\n",
    "structshape(lt)"
   ]
  },
  {
   "cell_type": "markdown",
   "id": "ef22e29a",
   "metadata": {},
   "source": [
    "And here's a dictionary with three items that map integers to strings."
   ]
  },
  {
   "cell_type": "code",
   "execution_count": null,
   "id": "d9c030e5",
   "metadata": {},
   "outputs": [],
   "source": [
    "d = dict(lt) \n",
    "structshape(d)"
   ]
  },
  {
   "cell_type": "markdown",
   "id": "51d1fc4b",
   "metadata": {},
   "source": [
    "If you are having trouble keeping track of your data structures,\n",
    "`structshape` can help."
   ]
  },
  {
   "cell_type": "markdown",
   "id": "8e2c078b",
   "metadata": {},
   "source": [
    "## Glossary\n",
    "\n",
    "**pack:**\n",
    "Collect multiple arguments into a tuple.\n",
    "\n",
    "**unpack:**\n",
    "Treat a tuple (or other sequence) as multiple arguments.\n",
    "\n",
    "**zip object:**\n",
    "The result of calling the built-in function `zip`, can be used to loop through a sequence of tuples.\n",
    "\n",
    "**enumerate object:**\n",
    "The result of calling the built-in function `enumerate`, can be used to loop through a sequence of tuples.\n",
    "\n",
    "**sort key:**\n",
    "A value, or function that computes a value, used to sort the elements of a collection.\n",
    "\n",
    "**data structure:**\n",
    "A collection of values, organized to perform certain operations efficiently."
   ]
  },
  {
   "cell_type": "markdown",
   "id": "ac8a4a9e",
   "metadata": {},
   "source": [
    "## Exercises"
   ]
  },
  {
   "cell_type": "code",
   "execution_count": null,
   "id": "ecd3d046",
   "metadata": {},
   "outputs": [],
   "source": [
    "# This cell tells Jupyter to provide detailed debugging information\n",
    "# when a runtime error occurs. Run it before working on the exercises.\n",
    "\n",
    "%xmode Verbose"
   ]
  },
  {
   "cell_type": "markdown",
   "id": "bed4f82f",
   "metadata": {},
   "source": [
    "### Ask a virtual assistant\n",
    "\n",
    "The exercises in this chapter might be more difficult than exercises in previous chapters, so I encourage you to get help from a virtual assistant.\n",
    "When you pose more difficult questions, you might find that the answers are not correct on the first attempt, so this is a chance to practice crafting good prompts and following up with good refinements.\n",
    "\n",
    "One strategy you might consider is to break a big problems into pieces that can be solved with simple functions.\n",
    "Ask the virtual assistant to write the functions and test them.\n",
    "Then, once they are working, ask for a solution to the original problem.\n",
    "\n",
    "For some of the exercises below, I make suggestions about which data structures and algorithms to use.\n",
    "You might find these suggestions useful when you work on the problems, but they are also good prompts to pass along to a virtual assistant."
   ]
  },
  {
   "cell_type": "markdown",
   "id": "746106b3",
   "metadata": {},
   "source": [
    "### Exercise\n",
    "\n",
    "In this chapter I said that tuples can be used as keys in dictionaries because they are hashable, and they are hashable because they are immutable.\n",
    "But that is not always true.\n",
    "\n",
    "If a tuple contains a mutable value, like a list or a dictionary, the tuple is no longer hashable because it contains elements that are not hashable. As an example, here's a tuple that contains two lists of integers."
   ]
  },
  {
   "cell_type": "code",
   "execution_count": null,
   "id": "5960b91f",
   "metadata": {},
   "outputs": [],
   "source": [
    "list0 = [1, 2, 3]\n",
    "list1 = [4, 5]\n",
    "\n",
    "t = (list0, list1)\n",
    "t"
   ]
  },
  {
   "cell_type": "markdown",
   "id": "3c4945ad",
   "metadata": {},
   "source": [
    "Write a line of code that appends the value `6` to the end of the second list in `t`. If you display `t`, the result should be `([1, 2, 3], [4, 5, 6])`."
   ]
  },
  {
   "cell_type": "code",
   "execution_count": null,
   "id": "e5161c09",
   "metadata": {},
   "outputs": [],
   "source": [
    "# Solution goes here"
   ]
  },
  {
   "cell_type": "markdown",
   "id": "c4c4bf6d",
   "metadata": {},
   "source": [
    "Try to create a dictionary that maps from `t` to a string, and confirm that you get a `TypeError`."
   ]
  },
  {
   "cell_type": "code",
   "execution_count": null,
   "id": "ea876f17",
   "metadata": {},
   "outputs": [],
   "source": [
    "# Solution goes here"
   ]
  },
  {
   "cell_type": "markdown",
   "id": "1138f3b1",
   "metadata": {},
   "source": [
    "For more on this topic, ask a virtual assistant, \"Are Python tuples always hashable?\""
   ]
  },
  {
   "cell_type": "markdown",
   "id": "939d942e",
   "metadata": {},
   "source": [
    "### Exercise\n",
    "\n",
    "In this chapter we made a dictionary that maps from each letter to its index in the alphabet."
   ]
  },
  {
   "cell_type": "code",
   "execution_count": null,
   "id": "3f518d84",
   "metadata": {},
   "outputs": [],
   "source": [
    "letters = 'abcdefghijklmnopqrstuvwxyz'\n",
    "numbers = range(len(letters))\n",
    "letter_map = dict(zip(letters, numbers))"
   ]
  },
  {
   "cell_type": "markdown",
   "id": "a41d9afb",
   "metadata": {},
   "source": [
    "For example, the index of `'a'` is `0`."
   ]
  },
  {
   "cell_type": "code",
   "execution_count": null,
   "id": "af6e6854",
   "metadata": {},
   "outputs": [],
   "source": [
    "letter_map['a']"
   ]
  },
  {
   "cell_type": "markdown",
   "id": "51b4f833",
   "metadata": {},
   "source": [
    "To go in the other direction, we can use list indexing.\n",
    "For example, the letter at index `1` is `'b'`."
   ]
  },
  {
   "cell_type": "code",
   "execution_count": null,
   "id": "dbef40b8",
   "metadata": {},
   "outputs": [],
   "source": [
    "letters[1]"
   ]
  },
  {
   "cell_type": "markdown",
   "id": "02b21c4a",
   "metadata": {},
   "source": [
    "We can use `letter_map` and `letters` to encode and decode words using a Caesar cipher.\n",
    "\n",
    "A Caesar cipher is a weak form of encryption that involves shifting each letter\n",
    "by a fixed number of places in the alphabet, wrapping around to the beginning if necessary. For example, `'a'` shifted by 2 is `'c'` and `'z'` shifted by 1 is `'a'`.\n",
    "\n",
    "Write a function called `shift_word` that takes as parameters a string and an integer, and returns a new string that contains the letters from the string shifted by the given number of places.\n",
    "\n",
    "To test your function, confirm that \"cheer\" shifted by 7 is \"jolly\" and \"melon\" shifted by 16 is \"cubed\".\n",
    "\n",
    "Hints: Use the modulus operator to wrap around from `'z'` back to `'a'`. \n",
    "Loop through the letters of the word, shift each one, and append the result to a list of letters.\n",
    "Then use `join` to concatenate the letters into a string."
   ]
  },
  {
   "cell_type": "markdown",
   "id": "b5cac3d4",
   "metadata": {},
   "source": [
    "You can use this outline to get started."
   ]
  },
  {
   "cell_type": "code",
   "execution_count": null,
   "id": "42922857",
   "metadata": {},
   "outputs": [],
   "source": [
    "def shift_word(word, n):\n",
    "    \"\"\"Shift the letters of `word` by `n` places.\n",
    "    \n",
    "    >>> shift_word('cheer', 7)\n",
    "    'jolly'\n",
    "    >>> shift_word('melon', 16)\n",
    "    'cubed'\n",
    "    \"\"\"\n",
    "    return None"
   ]
  },
  {
   "cell_type": "code",
   "execution_count": null,
   "id": "d1099ecb",
   "metadata": {},
   "outputs": [],
   "source": [
    "# Solution goes here"
   ]
  },
  {
   "cell_type": "code",
   "execution_count": null,
   "id": "65f35bce",
   "metadata": {},
   "outputs": [],
   "source": [
    "shift_word('cheer', 7)"
   ]
  },
  {
   "cell_type": "code",
   "execution_count": null,
   "id": "cfb35efa",
   "metadata": {},
   "outputs": [],
   "source": [
    "shift_word('melon', 16)"
   ]
  },
  {
   "cell_type": "markdown",
   "id": "a9abc97e",
   "metadata": {},
   "source": [
    "You can use `doctest` to test your function."
   ]
  },
  {
   "cell_type": "code",
   "execution_count": null,
   "id": "9056db08",
   "metadata": {},
   "outputs": [],
   "source": [
    "from doctest import run_docstring_examples\n",
    "\n",
    "def run_doctests(func):\n",
    "    run_docstring_examples(func, globals(), name=func.__name__)\n",
    "\n",
    "run_doctests(shift_word)"
   ]
  },
  {
   "cell_type": "markdown",
   "id": "124e8451",
   "metadata": {},
   "source": [
    "### Exercise\n",
    "\n",
    "Write a function called `most_frequent_letters` that takes a string and prints the letters in decreasing order of frequency.\n",
    "\n",
    "To get the items in decreasing order, you can use `reversed` along with `sorted` or you can pass `reverse=True` as a keyword parameter to `sorted`."
   ]
  },
  {
   "cell_type": "markdown",
   "id": "17e2503a",
   "metadata": {},
   "source": [
    "You can use this outline of the function to get started."
   ]
  },
  {
   "cell_type": "code",
   "execution_count": null,
   "id": "00820674",
   "metadata": {},
   "outputs": [],
   "source": [
    "def most_frequent_letters(string):\n",
    "    return None"
   ]
  },
  {
   "cell_type": "code",
   "execution_count": null,
   "id": "8db8d952",
   "metadata": {},
   "outputs": [],
   "source": [
    "# Solution goes here"
   ]
  },
  {
   "cell_type": "markdown",
   "id": "ee6f4c51",
   "metadata": {},
   "source": [
    "And this example to test your function."
   ]
  },
  {
   "cell_type": "code",
   "execution_count": null,
   "id": "aaa4a52e",
   "metadata": {},
   "outputs": [],
   "source": [
    "most_frequent_letters('brontosaurus')"
   ]
  },
  {
   "cell_type": "markdown",
   "id": "da030945",
   "metadata": {},
   "source": [
    "Once your function is working, you can use the following code to print the most common letters in *Dracula*, which we can download from Project Gutenberg."
   ]
  },
  {
   "cell_type": "code",
   "execution_count": null,
   "id": "c63fa4c0",
   "metadata": {},
   "outputs": [],
   "source": [
    "download('https://www.gutenberg.org/cache/epub/345/pg345.txt');"
   ]
  },
  {
   "cell_type": "code",
   "execution_count": null,
   "id": "d9384ccf",
   "metadata": {},
   "outputs": [],
   "source": [
    "string = open('pg345.txt').read()\n",
    "most_frequent_letters(string)"
   ]
  },
  {
   "cell_type": "markdown",
   "id": "1c0fcb46",
   "metadata": {},
   "source": [
    "According to Zim's \"Codes and Secret Writing\", the sequence of letters in decreasing order of frequency in English starts with \"ETAONRISH\".\n",
    "How does this sequence compare with the results from *Dracula*?"
   ]
  },
  {
   "cell_type": "markdown",
   "id": "e6773009",
   "metadata": {},
   "source": [
    "### Exercise\n",
    "\n",
    "In a previous exercise, we tested whether two strings are anagrams by sorting the letters in both words and checking whether the sorted letters are the same.\n",
    "Now let's make the problem a little more challenging.\n",
    "\n",
    "We'll write a program that takes a list of words and prints all the sets of words that are anagrams.\n",
    "Here is an example of what the output might look like:\n",
    "\n",
    "    ['deltas', 'desalt', 'lasted', 'salted', 'slated', 'staled']\n",
    "    ['retainers', 'ternaries']\n",
    "    ['generating', 'greatening']\n",
    "    ['resmelts', 'smelters', 'termless']\n",
    "\n",
    "Hint: For each word in the word list, sort the letters and join them back into a string. Make a dictionary that maps from this sorted string to a list of words that are anagrams of it."
   ]
  },
  {
   "cell_type": "markdown",
   "id": "2a1fd675",
   "metadata": {},
   "source": [
    "The following cells download `words.txt` and read the words into a list."
   ]
  },
  {
   "cell_type": "code",
   "execution_count": null,
   "id": "81328b04",
   "metadata": {},
   "outputs": [],
   "source": [
    "download('https://raw.githubusercontent.com/AllenDowney/ThinkPython/v3/words.txt');"
   ]
  },
  {
   "cell_type": "code",
   "execution_count": null,
   "id": "480a12eb",
   "metadata": {},
   "outputs": [],
   "source": [
    "word_list = open('words.txt').read().split()"
   ]
  },
  {
   "cell_type": "markdown",
   "id": "b9f3a87e",
   "metadata": {},
   "source": [
    "Here's the `sort_word` function we've used before."
   ]
  },
  {
   "cell_type": "code",
   "execution_count": null,
   "id": "7159f503",
   "metadata": {},
   "outputs": [],
   "source": [
    "def sort_word(word):\n",
    "    return ''.join(sorted(word))"
   ]
  },
  {
   "cell_type": "code",
   "execution_count": null,
   "id": "4e805668",
   "metadata": {},
   "outputs": [],
   "source": [
    "# Solution goes here"
   ]
  },
  {
   "cell_type": "markdown",
   "id": "43585f4f",
   "metadata": {},
   "source": [
    "To find the longest list of anagrams, you can use the following function, which takes a key-value pair where the key is a string and the value is a list of words.\n",
    "It returns the length of the list."
   ]
  },
  {
   "cell_type": "code",
   "execution_count": null,
   "id": "9924c321",
   "metadata": {},
   "outputs": [],
   "source": [
    "def value_length(pair):\n",
    "    key, value = pair\n",
    "    return len(value)"
   ]
  },
  {
   "cell_type": "markdown",
   "id": "cd7d3ed3",
   "metadata": {},
   "source": [
    "We can use this function as a sort key to find the longest lists of anagrams."
   ]
  },
  {
   "cell_type": "code",
   "execution_count": null,
   "id": "9266034c",
   "metadata": {},
   "outputs": [],
   "source": [
    "anagram_items = sorted(anagram_dict.items(), key=value_length)\n",
    "for key, value in anagram_items[-10:]:\n",
    "    print(value)"
   ]
  },
  {
   "cell_type": "markdown",
   "id": "7cc13f92",
   "metadata": {},
   "source": [
    "If you want to know the longest words that have anagrams, you can use the following loop to print some of them."
   ]
  },
  {
   "cell_type": "code",
   "execution_count": null,
   "id": "3084be6c",
   "metadata": {},
   "outputs": [],
   "source": [
    "longest = 7\n",
    "\n",
    "for key, value in anagram_items:\n",
    "    if len(value) > 1:\n",
    "        word_len = len(value[0])\n",
    "        if word_len > longest:\n",
    "            longest = word_len\n",
    "            print(value)"
   ]
  },
  {
   "cell_type": "markdown",
   "id": "0688b3c9",
   "metadata": {},
   "source": [
    "### Exercise\n",
    "\n",
    "Write a function called `word_distance` that takes two words with the same length and returns the number of places where the two words differ.\n",
    "\n",
    "Hint: Use `zip` to loop through the corresponding letters of the words."
   ]
  },
  {
   "cell_type": "markdown",
   "id": "8eac72eb",
   "metadata": {},
   "source": [
    "Here's an outline of the function with doctests you can use to check your function."
   ]
  },
  {
   "cell_type": "code",
   "execution_count": null,
   "id": "8961c5e8",
   "metadata": {},
   "outputs": [],
   "source": [
    "def word_distance(word1, word2):\n",
    "    \"\"\"Computes the number of places where two word differ.\n",
    "\n",
    "    >>> word_distance(\"hello\", \"hxllo\")\n",
    "    1\n",
    "    >>> word_distance(\"ample\", \"apply\")\n",
    "    2\n",
    "    >>> word_distance(\"kitten\", \"mutton\")\n",
    "    3\n",
    "    \"\"\"\n",
    "    return None"
   ]
  },
  {
   "cell_type": "code",
   "execution_count": null,
   "id": "adbe09f8",
   "metadata": {},
   "outputs": [],
   "source": [
    "# Solution goes here"
   ]
  },
  {
   "cell_type": "code",
   "execution_count": null,
   "id": "0cd3a962",
   "metadata": {},
   "outputs": [],
   "source": [
    "from doctest import run_docstring_examples\n",
    "\n",
    "def run_doctests(func):\n",
    "    run_docstring_examples(func, globals(), name=func.__name__)\n",
    "    \n",
    "run_doctests(word_distance)"
   ]
  },
  {
   "cell_type": "markdown",
   "id": "d77ee51c",
   "metadata": {},
   "source": [
    "### Exercise\n",
    "\n",
    "\"Metathesis\" is the transposition of letters in a word.\n",
    "Two words form a \"metathesis pair\" if you can transform one into the other by swapping two letters, like `converse` and `conserve`.\n",
    "Write a program that finds all of the metathesis pairs in the word list. \n",
    "\n",
    "Hint: The words in a metathesis pair must be anagrams of each other.\n",
    "\n",
    "Credit: This exercise is inspired by an example at <http://puzzlers.org>."
   ]
  },
  {
   "cell_type": "code",
   "execution_count": null,
   "id": "36517d90",
   "metadata": {},
   "outputs": [],
   "source": [
    "# Solution goes here"
   ]
  },
  {
   "cell_type": "markdown",
   "id": "8e25dd98",
   "metadata": {},
   "source": [
    "### Exercise\n",
    "\n",
    "This is a bonus exercise that is not in the book.\n",
    "It is more challenging than the other exercises in this chapter, so you might want to ask a virtual assistant for help, or come back to it after you've read a few more chapters.\n",
    "\n",
    "Here's another Car Talk Puzzler\n",
    "(<http://www.cartalk.com/content/puzzlers>):\n",
    "\n",
    "> What is the longest English word, that remains a valid English word,\n",
    "> as you remove its letters one at a time?\n",
    ">\n",
    "> Now, letters can be removed from either end, or the middle, but you\n",
    "> can't rearrange any of the letters. Every time you drop a letter, you\n",
    "> wind up with another English word. If you do that, you're eventually\n",
    "> going to wind up with one letter and that too is going to be an\n",
    "> English word---one that's found in the dictionary. I want to know\n",
    "> what's the longest word and how many letters does it have?\n",
    ">\n",
    "> I'm going to give you a little modest example: Sprite. Ok? You start\n",
    "> off with sprite, you take a letter off, one from the interior of the\n",
    "> word, take the r away, and we're left with the word spite, then we\n",
    "> take the e off the end, we're left with spit, we take the s off, we're\n",
    "> left with pit, it, and I.\n",
    "\n",
    "Write a program to find all words that can be reduced in this way, and\n",
    "then find the longest one.\n",
    "\n",
    "This exercise is a little more challenging than most, so here are some\n",
    "suggestions:\n",
    "\n",
    "1.  You might want to write a function that takes a word and computes a\n",
    "    list of all the words that can be formed by removing one letter.\n",
    "    These are the \"children\" of the word.\n",
    "\n",
    "2.  Recursively, a word is reducible if any of its children are\n",
    "    reducible. As a base case, you can consider the empty string\n",
    "    reducible.\n",
    "\n",
    "3.  The word list we've been using doesn't contain single letter\n",
    "    words. So you might have to add \"I\" and \"a\".\n",
    "\n",
    "4.  To improve the performance of your program, you might want to\n",
    "    memoize the words that are known to be reducible."
   ]
  },
  {
   "cell_type": "code",
   "execution_count": null,
   "id": "129d9786",
   "metadata": {},
   "outputs": [],
   "source": [
    "# Solution goes here"
   ]
  },
  {
   "cell_type": "code",
   "execution_count": null,
   "id": "99406272",
   "metadata": {},
   "outputs": [],
   "source": [
    "# Solution goes here"
   ]
  },
  {
   "cell_type": "code",
   "execution_count": null,
   "id": "b1dca84a",
   "metadata": {},
   "outputs": [],
   "source": [
    "# Solution goes here"
   ]
  },
  {
   "cell_type": "code",
   "execution_count": null,
   "id": "5f0031d6",
   "metadata": {},
   "outputs": [],
   "source": [
    "# Solution goes here"
   ]
  },
  {
   "cell_type": "code",
   "execution_count": null,
   "id": "082206d9",
   "metadata": {},
   "outputs": [],
   "source": [
    "# Solution goes here"
   ]
  },
  {
   "cell_type": "markdown",
   "id": "66017efc",
   "metadata": {},
   "source": [
    "[Think Python: 3rd Edition](https://allendowney.github.io/ThinkPython/index.html)\n",
    "\n",
    "Copyright 2024 [Allen B. Downey](https://allendowney.com)\n",
    "\n",
    "Code license: [MIT License](https://mit-license.org/)\n",
    "\n",
    "Text license: [Creative Commons Attribution-NonCommercial-ShareAlike 4.0 International](https://creativecommons.org/licenses/by-nc-sa/4.0/)"
   ]
  }
 ],
 "metadata": {
  "jupytext": {
   "text_representation": {
    "extension": ".md",
    "format_name": "myst",
    "format_version": 0.13,
    "jupytext_version": "1.17.2"
   }
  },
  "kernelspec": {
   "display_name": "Python 3 (ipykernel)",
   "language": "python",
   "name": "python3"
  },
  "source_map": [
   12,
   18,
   34,
   47,
   56,
   59,
   63,
   66,
   70,
   73,
   77,
   80,
   85,
   88,
   93,
   96,
   103,
   105,
   109,
   111,
   115,
   117,
   121,
   123,
   127,
   129,
   133,
   135,
   139,
   141,
   145,
   151,
   154,
   158,
   162,
   169,
   173,
   177,
   179,
   183,
   186,
   190,
   194,
   200,
   202,
   207,
   209,
   214,
   217,
   221,
   223,
   228,
   231,
   236,
   240,
   244,
   246,
   253,
   259,
   265,
   268,
   272,
   285,
   287,
   291,
   296,
   298,
   302,
   305,
   310,
   312,
   316,
   319,
   327,
   330,
   335,
   337,
   342,
   346,
   351,
   353,
   358,
   365,
   373,
   377,
   379,
   383,
   390,
   393,
   398,
   400,
   404,
   407,
   412,
   419,
   425,
   428,
   432,
   434,
   439,
   443,
   447,
   449,
   455,
   457,
   461,
   464,
   472,
   474,
   478,
   480,
   486,
   495,
   499,
   502,
   509,
   512,
   516,
   518,
   525,
   528,
   532,
   535,
   541,
   543,
   548,
   550,
   554,
   566,
   569,
   575,
   584,
   592,
   594,
   601,
   615,
   617,
   621,
   623,
   627,
   630,
   634,
   637,
   642,
   645,
   649,
   653,
   657,
   660,
   665,
   687,
   691,
   696,
   710,
   719,
   725,
   729,
   731,
   735,
   737,
   741,
   747,
   751,
   755,
   757,
   762,
   764,
   779,
   783,
   795,
   799,
   803,
   805,
   809,
   816,
   824,
   828,
   833,
   835,
   839,
   841,
   845,
   849,
   852,
   857,
   874,
   878,
   882,
   884,
   888,
   893,
   895,
   900,
   904,
   908,
   912,
   916,
   925,
   933,
   937,
   951,
   955,
   962,
   974,
   976,
   1022,
   1026,
   1030,
   1034,
   1038,
   1040
  ]
 },
 "nbformat": 4,
 "nbformat_minor": 5
}