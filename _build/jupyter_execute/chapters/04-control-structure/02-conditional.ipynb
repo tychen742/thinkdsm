{
 "cells": [
  {
   "cell_type": "code",
   "execution_count": null,
   "id": "a5030f3c",
   "metadata": {},
   "outputs": [],
   "source": []
  },
  {
   "cell_type": "markdown",
   "id": "a2b7bfa1",
   "metadata": {},
   "source": [
    "# Conditionals and Recursion\n",
    "\n",
    "The main topic of this chapter is the `if` statement, which executes different code depending on the state of the program.\n",
    "And with the `if` statement we'll be able to explore one of the most powerful ideas in computing, **recursion**.\n",
    "\n",
    "But we'll start with three new features: the modulus operator, boolean expressions, and logical operators."
   ]
  },
  {
   "cell_type": "markdown",
   "id": "b01e2ffc",
   "metadata": {},
   "source": [
    "## Integer division and modulus\n",
    "\n",
    "Recall that the integer division operator, `//`, divides two numbers and rounds\n",
    "down to an integer.\n",
    "For example, suppose the run time of a movie is 105 minutes. \n",
    "You might want to know how long that is in hours.\n",
    "Conventional division returns a floating-point number:"
   ]
  },
  {
   "cell_type": "code",
   "execution_count": null,
   "id": "d8f12420",
   "metadata": {},
   "outputs": [],
   "source": []
  },
  {
   "cell_type": "markdown",
   "id": "3c8425a4",
   "metadata": {},
   "source": [
    "But we don't normally write hours with decimal points.\n",
    "Integer division returns the integer number of hours, rounding down:"
   ]
  },
  {
   "cell_type": "code",
   "execution_count": null,
   "id": "adf892ae",
   "metadata": {},
   "outputs": [],
   "source": []
  },
  {
   "cell_type": "markdown",
   "id": "5e039ce6",
   "metadata": {},
   "source": [
    "To get the remainder, you could subtract off one hour in minutes:"
   ]
  },
  {
   "cell_type": "code",
   "execution_count": null,
   "id": "1fe74cee",
   "metadata": {},
   "outputs": [],
   "source": []
  },
  {
   "cell_type": "markdown",
   "id": "fa7ff952",
   "metadata": {},
   "source": [
    "Or you could use the **modulus operator**, `%`, which divides two numbers and returns the remainder."
   ]
  },
  {
   "cell_type": "code",
   "execution_count": null,
   "id": "59821390",
   "metadata": {},
   "outputs": [],
   "source": []
  },
  {
   "cell_type": "markdown",
   "id": "ea940f46",
   "metadata": {},
   "source": [
    "The modulus operator is more useful than it might seem.\n",
    "For example, it can check whether one number is divisible by another -- if `x % y` is zero, then `x` is divisible by `y`.\n",
    "\n",
    "Also, it can extract the right-most digit or digits from a number.\n",
    "For example, `x % 10` yields the right-most digit of `x` (in base 10).\n",
    "Similarly, `x % 100` yields the last two digits."
   ]
  },
  {
   "cell_type": "code",
   "execution_count": null,
   "id": "e1e79555",
   "metadata": {},
   "outputs": [],
   "source": []
  },
  {
   "cell_type": "code",
   "execution_count": null,
   "id": "04b125ac",
   "metadata": {},
   "outputs": [],
   "source": []
  },
  {
   "cell_type": "markdown",
   "id": "6cb77793",
   "metadata": {},
   "source": [
    "Finally, the modulus operator can do \"clock arithmetic\".\n",
    "For example, if an event starts at 11 AM and lasts three hours, we can use the modulus operator to figure out what time it ends."
   ]
  },
  {
   "cell_type": "code",
   "execution_count": null,
   "id": "5457d7fd",
   "metadata": {},
   "outputs": [],
   "source": []
  },
  {
   "cell_type": "markdown",
   "id": "fadd7fde",
   "metadata": {},
   "source": [
    "The event would end at 2 PM."
   ]
  },
  {
   "cell_type": "markdown",
   "id": "3d724d7e",
   "metadata": {},
   "source": [
    "## Boolean Expressions\n",
    "\n",
    "A **boolean expression** is an expression that is either true or false.\n",
    "For example, the following expressions use the equals operator, `==`, which compares two values and produces `True` if they are equal and `False` otherwise:"
   ]
  },
  {
   "cell_type": "code",
   "execution_count": null,
   "id": "18aa451b",
   "metadata": {},
   "outputs": [],
   "source": []
  },
  {
   "cell_type": "code",
   "execution_count": null,
   "id": "7ea52328",
   "metadata": {},
   "outputs": [],
   "source": []
  },
  {
   "cell_type": "markdown",
   "id": "b9dba2ec",
   "metadata": {},
   "source": [
    "A common error is to use a single equal sign (`=`) instead of a double equal sign (`==`).\n",
    "Remember that `=` assigns a value to a variable and `==` compares two values."
   ]
  },
  {
   "cell_type": "code",
   "execution_count": null,
   "id": "24f45c2e",
   "metadata": {},
   "outputs": [],
   "source": []
  },
  {
   "cell_type": "code",
   "execution_count": null,
   "id": "baf46265",
   "metadata": {},
   "outputs": [],
   "source": []
  },
  {
   "cell_type": "markdown",
   "id": "28a0a43f",
   "metadata": {},
   "source": [
    "`True` and `False` are special values that belong to the type `bool`;\n",
    "they are not strings:"
   ]
  },
  {
   "cell_type": "code",
   "execution_count": null,
   "id": "83dcc893",
   "metadata": {},
   "outputs": [],
   "source": []
  },
  {
   "cell_type": "code",
   "execution_count": null,
   "id": "43b19a5e",
   "metadata": {},
   "outputs": [],
   "source": []
  },
  {
   "cell_type": "markdown",
   "id": "08d5f845",
   "metadata": {},
   "source": [
    "The `==` operator is one of the **relational operators**; the others are:"
   ]
  },
  {
   "cell_type": "code",
   "execution_count": null,
   "id": "19c7c57e",
   "metadata": {},
   "outputs": [],
   "source": []
  },
  {
   "cell_type": "code",
   "execution_count": null,
   "id": "6e744772",
   "metadata": {},
   "outputs": [],
   "source": []
  },
  {
   "cell_type": "code",
   "execution_count": null,
   "id": "29bc1bbc",
   "metadata": {},
   "outputs": [],
   "source": []
  },
  {
   "cell_type": "code",
   "execution_count": null,
   "id": "a52240b6",
   "metadata": {},
   "outputs": [],
   "source": []
  },
  {
   "cell_type": "code",
   "execution_count": null,
   "id": "85082ed2",
   "metadata": {},
   "outputs": [],
   "source": []
  },
  {
   "cell_type": "markdown",
   "id": "d2e3d330",
   "metadata": {},
   "source": [
    "## Logical operators\n",
    "\n",
    "To combine boolean values into expressions, we can use **logical operators**.\n",
    "The most common are `and`, ` or`, and `not`.\n",
    "The meaning of these operators is similar to their meaning in English.\n",
    "For example, the value of the following expression is `True` only if `x` is greater than `0` *and* less than `10`."
   ]
  },
  {
   "cell_type": "code",
   "execution_count": null,
   "id": "d4ab2221",
   "metadata": {},
   "outputs": [],
   "source": []
  },
  {
   "cell_type": "markdown",
   "id": "7227ed5e",
   "metadata": {},
   "source": [
    "The following expression is `True` if *either or both* of the conditions is true, that is, if the number is divisible by 2 *or* 3:"
   ]
  },
  {
   "cell_type": "code",
   "execution_count": null,
   "id": "5bbf5616",
   "metadata": {},
   "outputs": [],
   "source": []
  },
  {
   "cell_type": "markdown",
   "id": "8acc5850",
   "metadata": {},
   "source": [
    "Finally, the `not` operator negates a boolean expression, so the following expression is `True` if `x > y` is `False`."
   ]
  },
  {
   "cell_type": "code",
   "execution_count": null,
   "id": "c1122fe4",
   "metadata": {},
   "outputs": [],
   "source": []
  },
  {
   "cell_type": "markdown",
   "id": "fb7965ee",
   "metadata": {},
   "source": [
    "Strictly speaking, the operands of a logical operator should be boolean expressions, but Python is not very strict.\n",
    "Any nonzero number is interpreted as `True`:"
   ]
  },
  {
   "cell_type": "code",
   "execution_count": null,
   "id": "10adf8e5",
   "metadata": {},
   "outputs": [],
   "source": []
  },
  {
   "cell_type": "markdown",
   "id": "46a66735",
   "metadata": {},
   "source": [
    "This flexibility can be useful, but there are some subtleties to it that can be confusing.\n",
    "You might want to avoid it."
   ]
  },
  {
   "cell_type": "markdown",
   "id": "745bb0e5",
   "metadata": {},
   "source": [
    "## if statements\n",
    "\n",
    "In order to write useful programs, we almost always need the ability to\n",
    "check conditions and change the behavior of the program accordingly.\n",
    "**Conditional statements** give us this ability. The simplest form is\n",
    "the `if` statement:"
   ]
  },
  {
   "cell_type": "code",
   "execution_count": null,
   "id": "500ce6d1",
   "metadata": {},
   "outputs": [],
   "source": []
  },
  {
   "cell_type": "markdown",
   "id": "e47c515b",
   "metadata": {},
   "source": [
    "`if` is a Python keyword.\n",
    "`if` statements have the same structure as function definitions: a\n",
    "header followed by an indented statement or sequence of statements called a **block**.\n",
    "\n",
    "The boolean expression after `if` is called the **condition**.\n",
    "If it is true, the statements in the indented block run. If not, they don't.\n",
    "\n",
    "There is no limit to the number of statements that can appear in the block, but there has to be at least one.\n",
    "Occasionally, it is useful to have a block that does nothing -- usually as a place keeper for code you haven't written yet.\n",
    "In that case, you can use the `pass` statement, which does nothing."
   ]
  },
  {
   "cell_type": "code",
   "execution_count": null,
   "id": "b0450abb",
   "metadata": {},
   "outputs": [],
   "source": [
    "if 1 < 2:\n",
    "    print('Yep!')             ###"
   ]
  },
  {
   "cell_type": "code",
   "execution_count": null,
   "id": "a2262cb5",
   "metadata": {},
   "outputs": [],
   "source": [
    "if 1 < 2:\n",
    "    print('yep!')             ### yep"
   ]
  },
  {
   "cell_type": "markdown",
   "id": "29a94b95",
   "metadata": {},
   "source": [
    "### The `else` clause\n",
    "\n",
    "An `if` statement can have a second part, called an `else` clause.\n",
    "\n",
    "If the condition is true, the first indented statement runs; otherwise, the second indented statement runs. For example:"
   ]
  },
  {
   "cell_type": "code",
   "execution_count": null,
   "id": "459cd23d",
   "metadata": {},
   "outputs": [],
   "source": [
    ">>> num = int(input(\"Please enter an integer: \"))\n",
    "Please enter an integer: \n",
    "\n",
    ">>> if num % 2 == 0:\n",
    "...     print(\"num is even\")\n",
    "... else:\n",
    "...     print(\"num is odd\")"
   ]
  },
  {
   "cell_type": "markdown",
   "id": "d47aec63",
   "metadata": {},
   "source": [
    "In this example, if `num` is even, the remainder when `num` is divided by `2` is `0`, so the condition is `True` and the program displays `num is even`. If `num` is odd, the remainder is `1`, so the condition is false, and the program displays `num is odd`.\n",
    "\n",
    "Since the condition must be true or false, exactly one of the alternatives will run. \n",
    "\n",
    "The alternatives are called **branches**."
   ]
  },
  {
   "cell_type": "code",
   "execution_count": null,
   "id": "e761a434",
   "metadata": {},
   "outputs": [],
   "source": [
    "if 1 < 2:\n",
    "    print('first')\n",
    "else:\n",
    "    print('last')"
   ]
  },
  {
   "cell_type": "code",
   "execution_count": null,
   "id": "5b389b38",
   "metadata": {},
   "outputs": [],
   "source": [
    "if 1 > 2:\n",
    "    print('first')\n",
    "else:\n",
    "    print('last')"
   ]
  },
  {
   "cell_type": "markdown",
   "id": "b5d89849",
   "metadata": {},
   "source": [
    "## Chained Conditional: `elif`\n",
    "Sometimes there are more than two possibilities and we need more than two branches. One way to express a computation like that is a **chained conditional**, which includes an `elif` clause.\n",
    "\n",
    "`elif` is an abbreviation of \"else if\" and is used to add multiple conditions inside an `if` block. Observe the following example:"
   ]
  },
  {
   "cell_type": "code",
   "execution_count": null,
   "id": "d1f4b617",
   "metadata": {},
   "outputs": [],
   "source": [
    ">>> num = int(input(\"Please enter an integer: \"))\n",
    "Please enter an integer: [an integer]\n",
    "\n",
    ">>> if num > 0:\n",
    "...     print(\"positive\")\n",
    "... elif num == 0:\n",
    "...     print(\"neither positive or negative\")\n",
    "... elif num < 0:\n",
    "...     print(\"negative\")"
   ]
  },
  {
   "cell_type": "markdown",
   "id": "2c2b647e",
   "metadata": {},
   "source": [
    "We can see that the `elif` keyword allows us to add multiple conditional tests.\n",
    "\n",
    "## The `else`\n",
    "If there is an `else` clause, it has to be at the end, but there doesn't have to be one.\n",
    "\n",
    "Each condition is checked in order.\n",
    "If the first is false, the next is checked, and so on.\n",
    "If one of them is true, the corresponding branch runs and the `if` statement ends.\n",
    "Even if more than one condition is true, only the first true branch runs.\n",
    "\n",
    "\n",
    "\n",
    "## Nested Conditionals\n",
    "\n",
    "One conditional can also be nested within another.\n",
    "We could have written the example in the previous section like this:"
   ]
  },
  {
   "cell_type": "code",
   "execution_count": null,
   "id": "687c0538",
   "metadata": {},
   "outputs": [],
   "source": []
  },
  {
   "cell_type": "markdown",
   "id": "2eb063c6",
   "metadata": {},
   "source": [
    "The outer `if` statement contains two branches. \n",
    "The first branch contains a simple statement. The second branch contains another `if` statement, which has two branches of its own.\n",
    "Those two branches are both simple statements, although they could have been conditional statements as well.\n",
    "\n",
    "Although the indentation of the statements makes the structure apparent, **nested conditionals** can be difficult to read.\n",
    "I suggest you avoid them when you can.\n",
    "\n",
    "Logical operators often provide a way to simplify nested conditional statements.\n",
    "Here's an example with a nested conditional."
   ]
  },
  {
   "cell_type": "code",
   "execution_count": null,
   "id": "2bbf98cc",
   "metadata": {},
   "outputs": [],
   "source": []
  },
  {
   "cell_type": "markdown",
   "id": "3b69002f",
   "metadata": {},
   "source": [
    "The `print` statement runs only if we make it past both conditionals, so we get the same effect with the `and` operator."
   ]
  },
  {
   "cell_type": "code",
   "execution_count": null,
   "id": "f55f9fcf",
   "metadata": {},
   "outputs": [],
   "source": []
  },
  {
   "cell_type": "markdown",
   "id": "7b2e5a14",
   "metadata": {},
   "source": [
    "For this kind of condition, Python provides a more concise option:"
   ]
  },
  {
   "cell_type": "code",
   "execution_count": null,
   "id": "b37e92d9",
   "metadata": {},
   "outputs": [],
   "source": []
  },
  {
   "cell_type": "markdown",
   "id": "f03018b6",
   "metadata": {},
   "source": [
    "## Recursion\n",
    "\n",
    "It is legal for a function to call itself.\n",
    "It may not be obvious why that is a good thing, but it turns out to be one of the most magical things a program can do.\n",
    "Here's an example."
   ]
  },
  {
   "cell_type": "code",
   "execution_count": null,
   "id": "9edc26bb",
   "metadata": {},
   "outputs": [],
   "source": []
  },
  {
   "cell_type": "markdown",
   "id": "46f2ccb0",
   "metadata": {},
   "source": [
    "If `n` is 0 or negative, `countdown` outputs the word, \"Blastoff!\" Otherwise, it\n",
    "outputs `n` and then calls itself, passing `n-1` as an argument.\n",
    "\n",
    "Here's what happens when we call this function with the argument `3`."
   ]
  },
  {
   "cell_type": "code",
   "execution_count": null,
   "id": "450b57c8",
   "metadata": {},
   "outputs": [],
   "source": []
  },
  {
   "cell_type": "markdown",
   "id": "93c6f7a6",
   "metadata": {},
   "source": [
    "The execution of `countdown` begins with `n=3`, and since `n` is greater\n",
    "than `0`, it displays `3`, and then calls itself\\...\n",
    "\n",
    "> The execution of `countdown` begins with `n=2`, and since `n` is\n",
    "> greater than `0`, it displays `2`, and then calls itself\\...\n",
    ">\n",
    "> > The execution of `countdown` begins with `n=1`, and since `n` is\n",
    "> > greater than `0`, it displays `1`, and then calls itself\\...\n",
    "> >\n",
    "> > > The execution of `countdown` begins with `n=0`, and since `n` is\n",
    "> > > not greater than `0`, it displays \"Blastoff!\" and returns.\n",
    "> >\n",
    "> > The `countdown` that got `n=1` returns.\n",
    ">\n",
    "> The `countdown` that got `n=2` returns.\n",
    "\n",
    "The `countdown` that got `n=3` returns."
   ]
  },
  {
   "cell_type": "markdown",
   "id": "1f00c9fb",
   "metadata": {},
   "source": [
    "A function that calls itself is **recursive**.\n",
    "As another example, we can write a function that prints a string `n` times."
   ]
  },
  {
   "cell_type": "code",
   "execution_count": null,
   "id": "d44913ca",
   "metadata": {},
   "outputs": [],
   "source": []
  },
  {
   "cell_type": "markdown",
   "id": "d078c3b9",
   "metadata": {},
   "source": [
    "If `n` is positive, `print_n_times` displays the value of `string` and then calls itself, passing along `string` and `n-1` as arguments.\n",
    "\n",
    "If `n` is `0` or negative, the condition is false and `print_n_times` does nothing.\n",
    "\n",
    "Here's how it works."
   ]
  },
  {
   "cell_type": "code",
   "execution_count": null,
   "id": "a3dfd1ff",
   "metadata": {},
   "outputs": [],
   "source": []
  },
  {
   "cell_type": "markdown",
   "id": "bb6af00f",
   "metadata": {},
   "source": [
    "For simple examples like this, it is probably easier to use a `for`\n",
    "loop. But we will see examples later that are hard to write with a `for`\n",
    "loop and easy to write with recursion, so it is good to start early."
   ]
  },
  {
   "cell_type": "markdown",
   "id": "a7191e07",
   "metadata": {},
   "source": [
    "## Stack diagrams for recursive functions\n",
    "\n",
    "Here's a stack diagram that shows the frames created when we called `countdown` with `n = 3`."
   ]
  },
  {
   "cell_type": "code",
   "execution_count": null,
   "id": "8c086e33",
   "metadata": {},
   "outputs": [],
   "source": []
  },
  {
   "cell_type": "code",
   "execution_count": null,
   "id": "a6eb2f7f",
   "metadata": {},
   "outputs": [],
   "source": []
  },
  {
   "cell_type": "markdown",
   "id": "8334d2d8",
   "metadata": {},
   "source": [
    "The four `countdown` frames have different values for the parameter `n`.\n",
    "The bottom of the stack, where `n=0`, is called the **base case**.\n",
    "It does not make a recursive call, so there are no more frames."
   ]
  },
  {
   "cell_type": "code",
   "execution_count": null,
   "id": "d2a8c12f",
   "metadata": {},
   "outputs": [],
   "source": []
  },
  {
   "cell_type": "markdown",
   "id": "823a40b6",
   "metadata": {},
   "source": [
    "## Infinite recursion\n",
    "\n",
    "If a recursion never reaches a base case, it goes on making recursive\n",
    "calls forever, and the program never terminates. This is known as\n",
    "**infinite recursion**, and it is generally not a good idea.\n",
    "Here's a minimal function with an infinite recursion."
   ]
  },
  {
   "cell_type": "code",
   "execution_count": null,
   "id": "b2cc368a",
   "metadata": {},
   "outputs": [],
   "source": []
  },
  {
   "cell_type": "markdown",
   "id": "bc6e10de",
   "metadata": {},
   "source": [
    "Every time `recurse` is called, it calls itself, which creates another frame.\n",
    "In Python, there is a limit to the number of frames that can be on the stack at the same time.\n",
    "If a program exceeds the limit, it causes a runtime error."
   ]
  },
  {
   "cell_type": "code",
   "execution_count": null,
   "id": "35fe359b",
   "metadata": {},
   "outputs": [],
   "source": []
  },
  {
   "cell_type": "code",
   "execution_count": null,
   "id": "4b84a883",
   "metadata": {},
   "outputs": [],
   "source": []
  },
  {
   "cell_type": "markdown",
   "id": "142e1ce0",
   "metadata": {},
   "source": [
    "The traceback indicates that there were almost 3000 frames on the stack when the error occurred.\n",
    "\n",
    "If you encounter an infinite recursion by accident, review your function to confirm that there is a base case that does not make a recursive call. And if there is a base case, check whether you are guaranteed to reach it."
   ]
  },
  {
   "cell_type": "markdown",
   "id": "858d3c2a",
   "metadata": {},
   "source": [
    "## Keyboard input\n",
    "\n",
    "The programs we have written so far accept no input from the user. They\n",
    "just do the same thing every time.\n",
    "\n",
    "Python provides a built-in function called `input` that stops the\n",
    "program and waits for the user to type something. When the user presses\n",
    "*Return* or *Enter*, the program resumes and `input` returns what the user\n",
    "typed as a string."
   ]
  },
  {
   "cell_type": "code",
   "execution_count": null,
   "id": "a0c52e62",
   "metadata": {},
   "outputs": [],
   "source": []
  },
  {
   "cell_type": "code",
   "execution_count": null,
   "id": "85a17a1f",
   "metadata": {},
   "outputs": [],
   "source": []
  },
  {
   "cell_type": "markdown",
   "id": "30bc8e08",
   "metadata": {},
   "source": [
    "Before getting input from the user, you might want to display a prompt\n",
    "telling the user what to type. `input` can take a prompt as an argument:"
   ]
  },
  {
   "cell_type": "code",
   "execution_count": null,
   "id": "e5ee483d",
   "metadata": {},
   "outputs": [],
   "source": []
  },
  {
   "cell_type": "code",
   "execution_count": null,
   "id": "56869172",
   "metadata": {},
   "outputs": [],
   "source": []
  },
  {
   "cell_type": "markdown",
   "id": "d467f100",
   "metadata": {},
   "source": [
    "The sequence `\\n` at the end of the prompt represents a **newline**, which is a special character that causes a line break -- that way the user's input appears below the prompt.\n",
    "\n",
    "If you expect the user to type an integer, you can use the `int` function to convert the return value to `int`."
   ]
  },
  {
   "cell_type": "code",
   "execution_count": null,
   "id": "b79cab8c",
   "metadata": {},
   "outputs": [],
   "source": []
  },
  {
   "cell_type": "code",
   "execution_count": null,
   "id": "2839460f",
   "metadata": {},
   "outputs": [],
   "source": []
  },
  {
   "cell_type": "markdown",
   "id": "9bdbc0f6",
   "metadata": {},
   "source": [
    "But if they type something that's not an integer, you'll get a runtime error."
   ]
  },
  {
   "cell_type": "code",
   "execution_count": null,
   "id": "08addcbc",
   "metadata": {},
   "outputs": [],
   "source": []
  },
  {
   "cell_type": "code",
   "execution_count": null,
   "id": "6e8559f1",
   "metadata": {},
   "outputs": [],
   "source": []
  },
  {
   "cell_type": "markdown",
   "id": "14ce5d49",
   "metadata": {},
   "source": [
    "We will see how to handle this kind of error later."
   ]
  },
  {
   "cell_type": "markdown",
   "id": "8dcd119d",
   "metadata": {},
   "source": [
    "## Debugging\n",
    "\n",
    "When a syntax or runtime error occurs, the error message contains a lot\n",
    "of information, but it can be overwhelming. The most useful parts are\n",
    "usually:\n",
    "\n",
    "-   What kind of error it was, and\n",
    "\n",
    "-   Where it occurred.\n",
    "\n",
    "Syntax errors are usually easy to find, but there are a few gotchas.\n",
    "Errors related to spaces and tabs can be tricky because they are invisible\n",
    "and we are used to ignoring them."
   ]
  },
  {
   "cell_type": "code",
   "execution_count": null,
   "id": "2dfc6a59",
   "metadata": {},
   "outputs": [],
   "source": []
  },
  {
   "cell_type": "markdown",
   "id": "38b7ba60",
   "metadata": {},
   "source": [
    "In this example, the problem is that the second line is indented by one space.\n",
    "But the error message points to `y`, which is misleading.\n",
    "Error messages indicate where the problem was discovered, but the actual error might be earlier in the code.\n",
    "\n",
    "The same is true of runtime errors. \n",
    "For example, suppose you are trying to convert a ratio to decibels, like this:"
   ]
  },
  {
   "cell_type": "code",
   "execution_count": null,
   "id": "4f820ad8",
   "metadata": {},
   "outputs": [],
   "source": []
  },
  {
   "cell_type": "code",
   "execution_count": null,
   "id": "be3b2cf0",
   "metadata": {},
   "outputs": [],
   "source": []
  },
  {
   "cell_type": "markdown",
   "id": "aa40dc9a",
   "metadata": {},
   "source": [
    "The error message indicates line 5, but there is nothing wrong with that line.\n",
    "The problem is in line 4, which uses integer division instead of floating-point division -- as a result, the value of `ratio` is `0`.\n",
    "When we call `math.log10`, we get a `ValueError` with the message `math domain error`, because `0` is not in the \"domain\" of valid arguments for `math.log10`, because the logarithm of `0` is undefined.\n",
    "\n",
    "In general, you should take the time to read error messages carefully, but don't assume that everything they say is correct."
   ]
  },
  {
   "cell_type": "markdown",
   "id": "faf2c450",
   "metadata": {},
   "source": [
    "## Glossary\n",
    "\n",
    "**recursion:**\n",
    "The process of calling the function that is currently executing.\n",
    "\n",
    "**modulus operator:**\n",
    "An operator, `%`, that works on integers and returns the remainder when one number is divided by another.\n",
    "\n",
    "**boolean expression:**\n",
    "An expression whose value is either `True` or `False`.\n",
    "\n",
    "**relational operator:**\n",
    "One of the operators that compares its operands: `==`, `!=`, `>`, `<`, `>=`, and `<=`.\n",
    "\n",
    "**logical operator:**\n",
    "One of the operators that combines boolean expressions, including `and`, `or`, and `not`.\n",
    "\n",
    "**conditional statement:**\n",
    "A statement that controls the flow of execution depending on some condition.\n",
    "\n",
    "**condition:**\n",
    "The boolean expression in a conditional statement that determines which branch runs.\n",
    "\n",
    "**block:**\n",
    "One or more statements indented to indicate they are part of another statement.\n",
    "\n",
    "**branch:**\n",
    "One of the alternative sequences of statements in a conditional statement.\n",
    "\n",
    "**chained conditional:**\n",
    "A conditional statement with a series of alternative branches.\n",
    "\n",
    "**nested conditional:**\n",
    "A conditional statement that appears in one of the branches of another conditional statement.\n",
    "\n",
    "**recursive:**\n",
    "A function that calls itself is recursive.\n",
    "\n",
    "**base case:**\n",
    "A conditional branch in a recursive function that does not make a recursive call.\n",
    "\n",
    "**infinite recursion:**\n",
    "A recursion that doesn't have a base case, or never reaches it.\n",
    "Eventually, an infinite recursion causes a runtime error.\n",
    "\n",
    "**newline:**\n",
    "A character that creates a line break between two parts of a string."
   ]
  },
  {
   "cell_type": "markdown",
   "id": "f8fa120f",
   "metadata": {},
   "source": [
    "## Exercises"
   ]
  },
  {
   "cell_type": "code",
   "execution_count": null,
   "id": "d39dd2f3",
   "metadata": {},
   "outputs": [],
   "source": []
  },
  {
   "cell_type": "markdown",
   "id": "4c704ad2",
   "metadata": {},
   "source": [
    "### Ask a virtual assistant\n",
    "\n",
    "* Ask a virtual assistant, \"What are some uses of the modulus operator?\"\n",
    "\n",
    "* Python provides operators to compute the logical operations `and`, `or`, and `not`, but it doesn't have an operator that computes the exclusive `or` operation, usually written `xor`. Ask an assistant \"What is the logical xor operation and how do I compute it in Python?\"\n",
    "\n",
    "In this chapter, we saw two ways to write an `if` statement with three branches, using a chained conditional or a nested conditional.\n",
    "You can use a virtual assistant to convert from one to the other.\n",
    "For example, ask a VA, \"Convert this statement to a chained conditional.\""
   ]
  },
  {
   "cell_type": "code",
   "execution_count": null,
   "id": "fecfde77",
   "metadata": {},
   "outputs": [],
   "source": []
  },
  {
   "cell_type": "code",
   "execution_count": null,
   "id": "ee362341",
   "metadata": {},
   "outputs": [],
   "source": []
  },
  {
   "cell_type": "markdown",
   "id": "fea361be",
   "metadata": {},
   "source": [
    "Ask a VA, \"Rewrite this statement with a single conditional.\""
   ]
  },
  {
   "cell_type": "code",
   "execution_count": null,
   "id": "0761a1a7",
   "metadata": {},
   "outputs": [],
   "source": []
  },
  {
   "cell_type": "markdown",
   "id": "c9872d1e",
   "metadata": {},
   "source": [
    "See if a VA can simplify this unnecessary complexity."
   ]
  },
  {
   "cell_type": "code",
   "execution_count": null,
   "id": "f803a9ce",
   "metadata": {},
   "outputs": [],
   "source": []
  },
  {
   "cell_type": "markdown",
   "id": "56ee489b",
   "metadata": {},
   "source": [
    "Here's an attempt at a recursive function that counts down by two."
   ]
  },
  {
   "cell_type": "code",
   "execution_count": null,
   "id": "0193ddfa",
   "metadata": {},
   "outputs": [],
   "source": []
  },
  {
   "cell_type": "markdown",
   "id": "0d9bc11b",
   "metadata": {},
   "source": [
    "It seems to work."
   ]
  },
  {
   "cell_type": "code",
   "execution_count": null,
   "id": "86470346",
   "metadata": {},
   "outputs": [],
   "source": []
  },
  {
   "cell_type": "markdown",
   "id": "58209cd4",
   "metadata": {},
   "source": [
    "But it has an error. Ask a virtual assistant what's wrong and how to fix it.\n",
    "Paste the solution it provides back here and test it."
   ]
  },
  {
   "cell_type": "markdown",
   "id": "59268579",
   "metadata": {},
   "source": [
    "### Exercise\n",
    "\n",
    "The `time` module provides a function, also called `time`, that returns\n",
    "returns the number of seconds since the \"Unix epoch\", which is January 1, 1970, 00:00:00 UTC (Coordinated Universal Time)."
   ]
  },
  {
   "cell_type": "code",
   "execution_count": null,
   "id": "df0d9f7f",
   "metadata": {},
   "outputs": [],
   "source": []
  },
  {
   "cell_type": "markdown",
   "id": "6e13edd9",
   "metadata": {},
   "source": [
    "Use integer division and the modulus operator to compute the number of days since January 1, 1970 and the current time of day in hours, minutes, and seconds."
   ]
  },
  {
   "cell_type": "markdown",
   "id": "aff9e5e7",
   "metadata": {},
   "source": [
    "You can read more about the `time` module at <https://docs.python.org/3/library/time.html>."
   ]
  },
  {
   "cell_type": "code",
   "execution_count": null,
   "id": "e256746b",
   "metadata": {},
   "outputs": [],
   "source": []
  },
  {
   "cell_type": "code",
   "execution_count": null,
   "id": "13392f01",
   "metadata": {},
   "outputs": [],
   "source": []
  },
  {
   "cell_type": "code",
   "execution_count": null,
   "id": "f6a48b47",
   "metadata": {},
   "outputs": [],
   "source": []
  },
  {
   "cell_type": "code",
   "execution_count": null,
   "id": "48ce606e",
   "metadata": {},
   "outputs": [],
   "source": []
  },
  {
   "cell_type": "markdown",
   "id": "8d2f78f1",
   "metadata": {},
   "source": [
    "### Exercise\n",
    "\n",
    "If you are given three sticks, you may or may not be able to arrange\n",
    "them in a triangle. For example, if one of the sticks is 12 inches long\n",
    "and the other two are one inch long, you will not be able to get the\n",
    "short sticks to meet in the middle. For any three lengths, there is a\n",
    "test to see if it is possible to form a triangle:\n",
    "\n",
    "> If any of the three lengths is greater than the sum of the other two,\n",
    "> then you cannot form a triangle. Otherwise, you can. (If the sum of\n",
    "> two lengths equals the third, they form what is called a \"degenerate\"\n",
    "> triangle.)\n",
    "\n",
    "Write a function named `is_triangle` that takes three integers as\n",
    "arguments, and that prints either \"Yes\" or \"No\", depending on\n",
    "whether you can or cannot form a triangle from sticks with the given\n",
    "lengths. Hint: Use a chained conditional."
   ]
  },
  {
   "cell_type": "code",
   "execution_count": null,
   "id": "068de291",
   "metadata": {},
   "outputs": [],
   "source": []
  },
  {
   "cell_type": "markdown",
   "id": "226eb833",
   "metadata": {},
   "source": [
    "Test your function with the following cases."
   ]
  },
  {
   "cell_type": "code",
   "execution_count": null,
   "id": "a5e59743",
   "metadata": {},
   "outputs": [],
   "source": []
  },
  {
   "cell_type": "code",
   "execution_count": null,
   "id": "e7b20026",
   "metadata": {},
   "outputs": [],
   "source": []
  },
  {
   "cell_type": "code",
   "execution_count": null,
   "id": "b062f3bc",
   "metadata": {},
   "outputs": [],
   "source": []
  },
  {
   "cell_type": "code",
   "execution_count": null,
   "id": "a0f3a929",
   "metadata": {},
   "outputs": [],
   "source": []
  },
  {
   "cell_type": "markdown",
   "id": "bf60fa8b",
   "metadata": {},
   "source": [
    "### Exercise\n",
    "\n",
    "What is the output of the following program? Draw a stack diagram that\n",
    "shows the state of the program when it prints the result."
   ]
  },
  {
   "cell_type": "code",
   "execution_count": null,
   "id": "b31b9742",
   "metadata": {},
   "outputs": [],
   "source": []
  },
  {
   "cell_type": "code",
   "execution_count": null,
   "id": "b30dccd7",
   "metadata": {},
   "outputs": [],
   "source": []
  },
  {
   "cell_type": "code",
   "execution_count": null,
   "id": "db50bf40",
   "metadata": {},
   "outputs": [],
   "source": []
  },
  {
   "cell_type": "markdown",
   "id": "ddae2a8a",
   "metadata": {},
   "source": [
    "### Exercise\n",
    "\n",
    "The following exercises use the `jupyturtle` module, described in Chapter 4.\n",
    "\n",
    "Read the following function and see if you can figure out what it does.\n",
    "Then run it and see if you got it right.\n",
    "Adjust the values of `length`, `angle` and `factor` and see what effect they have on the result.\n",
    "If you are not sure you understand how it works, try asking a virtual assistant."
   ]
  },
  {
   "cell_type": "code",
   "execution_count": null,
   "id": "a501028b",
   "metadata": {},
   "outputs": [],
   "source": []
  },
  {
   "cell_type": "code",
   "execution_count": null,
   "id": "e0f31bf9",
   "metadata": {},
   "outputs": [],
   "source": []
  },
  {
   "cell_type": "markdown",
   "id": "92a23084",
   "metadata": {},
   "source": [
    "### Exercise\n",
    "\n",
    "Ask a virtual assistant \"What is the Koch curve?\"\n",
    "\n",
    "To draw a Koch curve with length `x`, all you\n",
    "have to do is\n",
    "\n",
    "1.  Draw a Koch curve with length `x/3`.\n",
    "\n",
    "2.  Turn left 60 degrees.\n",
    "\n",
    "3.  Draw a Koch curve with length `x/3`.\n",
    "\n",
    "4.  Turn right 120 degrees.\n",
    "\n",
    "5.  Draw a Koch curve with length `x/3`.\n",
    "\n",
    "6.  Turn left 60 degrees.\n",
    "\n",
    "7.  Draw a Koch curve with length `x/3`.\n",
    "\n",
    "The exception is if `x` is less than `5` -- in that case, you can just draw a straight line with length `x`.\n",
    "\n",
    "Write a function called `koch` that takes `x` as an argument and draws a Koch curve with the given length."
   ]
  },
  {
   "cell_type": "code",
   "execution_count": null,
   "id": "df1e69ae",
   "metadata": {},
   "outputs": [],
   "source": []
  },
  {
   "cell_type": "markdown",
   "id": "f2f8e176",
   "metadata": {},
   "source": [
    "The result should look like this:"
   ]
  },
  {
   "cell_type": "code",
   "execution_count": null,
   "id": "a17b4916",
   "metadata": {},
   "outputs": [],
   "source": []
  },
  {
   "cell_type": "markdown",
   "id": "0718c872",
   "metadata": {},
   "source": [
    "Once you have koch working, you can use this loop to draw three Koch curves in the shape of a snowflake."
   ]
  },
  {
   "cell_type": "code",
   "execution_count": null,
   "id": "7d6b22d0",
   "metadata": {},
   "outputs": [],
   "source": []
  },
  {
   "cell_type": "markdown",
   "id": "3cf8d7a3",
   "metadata": {},
   "source": [
    "### Exercise\n",
    "\n",
    "Virtual assistants know about the functions in the `jupyturtle` module, but there are many versions of these functions, with different names, so a VA might not know which one you are talking about.\n",
    "\n",
    "To solve this problem, you can provide additional information before you ask a question.\n",
    "For example, you could start a prompt with \"Here's a program that uses the `jupyturtle` module,\" and then paste in one of the examples from this chapter.\n",
    "After that, the VA should be able to generate code that uses this module.\n",
    "\n",
    "As an example, ask a VA for a program that draws a Sierpiński triangle.\n",
    "The code you get should be a good starting place, but you might have to do some debugging.\n",
    "If the first attempt doesn't work, you can tell the VA what happened and ask for help -- or you can debug it yourself."
   ]
  },
  {
   "cell_type": "code",
   "execution_count": null,
   "id": "7606ae54",
   "metadata": {},
   "outputs": [],
   "source": []
  },
  {
   "cell_type": "markdown",
   "id": "2ca3af35",
   "metadata": {},
   "source": [
    "Here's what the result might look like, although the version you get might be different."
   ]
  },
  {
   "cell_type": "code",
   "execution_count": null,
   "id": "d463c4da",
   "metadata": {},
   "outputs": [],
   "source": []
  },
  {
   "cell_type": "code",
   "execution_count": null,
   "id": "5bfb6108",
   "metadata": {},
   "outputs": [],
   "source": []
  },
  {
   "cell_type": "markdown",
   "id": "65c3c7ba",
   "metadata": {},
   "source": [
    "[Think Python: 3rd Edition](https://allendowney.github.io/ThinkPython/index.html)\n",
    "\n",
    "Copyright 2024 [Allen B. Downey](https://allendowney.com)\n",
    "\n",
    "Code license: [MIT License](https://mit-license.org/)\n",
    "\n",
    "Text license: [Creative Commons Attribution-NonCommercial-ShareAlike 4.0 International](https://creativecommons.org/licenses/by-nc-sa/4.0/)"
   ]
  }
 ],
 "metadata": {
  "jupytext": {
   "text_representation": {
    "extension": ".md",
    "format_name": "myst",
    "format_version": 0.13,
    "jupytext_version": "1.17.2"
   }
  },
  "kernelspec": {
   "display_name": "Python 3 (ipykernel)",
   "language": "python",
   "name": "python3"
  },
  "source_map": [
   15,
   17,
   26,
   36,
   38,
   43,
   45,
   49,
   51,
   55,
   57,
   66,
   70,
   72,
   77,
   79,
   83,
   90,
   94,
   96,
   101,
   105,
   107,
   112,
   116,
   118,
   122,
   126,
   130,
   134,
   138,
   140,
   149,
   151,
   155,
   157,
   161,
   163,
   168,
   170,
   175,
   184,
   186,
   199,
   204,
   207,
   216,
   224,
   233,
   240,
   245,
   252,
   262,
   281,
   283,
   295,
   297,
   301,
   303,
   307,
   309,
   317,
   319,
   326,
   328,
   348,
   353,
   355,
   363,
   365,
   371,
   377,
   381,
   383,
   389,
   391,
   400,
   402,
   408,
   412,
   414,
   420,
   432,
   436,
   438,
   443,
   447,
   449,
   455,
   459,
   461,
   465,
   469,
   471,
   475,
   491,
   493,
   502,
   506,
   508,
   516,
   566,
   570,
   572,
   584,
   588,
   590,
   594,
   596,
   600,
   602,
   606,
   608,
   612,
   614,
   619,
   626,
   628,
   632,
   636,
   640,
   644,
   648,
   650,
   671,
   673,
   677,
   681,
   685,
   689,
   691,
   698,
   702,
   706,
   708,
   719,
   723,
   725,
   752,
   754,
   758,
   760,
   764,
   766,
   780,
   782,
   786,
   790,
   792
  ]
 },
 "nbformat": 4,
 "nbformat_minor": 5
}