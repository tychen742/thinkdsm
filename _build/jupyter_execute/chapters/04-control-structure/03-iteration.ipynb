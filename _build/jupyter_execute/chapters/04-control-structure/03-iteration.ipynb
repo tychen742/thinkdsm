{
 "cells": [
  {
   "cell_type": "markdown",
   "id": "4a1d903c",
   "metadata": {},
   "source": [
    "# Iteration\n",
    "\n",
    "## Looping through a list\n",
    "\n",
    "You can use a `for` statement to loop through the elements of a list."
   ]
  },
  {
   "cell_type": "code",
   "execution_count": null,
   "id": "14d225ab",
   "metadata": {},
   "outputs": [],
   "source": [
    "fruits = [\"apple\", \"banana\", \"cherry\"]\n",
    "for fruit in fruits:\n",
    "    print(fruit, end=\" \")                   ### apple banana cherry"
   ]
  },
  {
   "cell_type": "markdown",
   "id": "effa7a32",
   "metadata": {},
   "source": [
    "<!-- >>> fruits = [\"apple\", \"banana\", \"cherry\"]\n",
    ">>> for fruit in fruits:\n",
    "...     print(fruit)\n",
    "...     \n",
    "apple\n",
    "banana\n",
    "cherry -->\n",
    "\n",
    "For example, after using `split` to make a list of words, we can use `for` to loop through them."
   ]
  },
  {
   "cell_type": "code",
   "execution_count": null,
   "id": "c926927d",
   "metadata": {},
   "outputs": [],
   "source": [
    "s = 'pining for the fjords'\n",
    "\n",
    "for word in s.split():\n",
    "    print(word)"
   ]
  },
  {
   "cell_type": "markdown",
   "id": "aa80c4f1",
   "metadata": {},
   "source": [
    "A `for` loop over an empty list never runs the indented statements."
   ]
  },
  {
   "cell_type": "code",
   "execution_count": null,
   "id": "fe8bc40e",
   "metadata": {},
   "outputs": [],
   "source": [
    "for x in []:\n",
    "    print('This never happens.')"
   ]
  },
  {
   "cell_type": "markdown",
   "id": "08ba7320",
   "metadata": {},
   "source": [
    "In 1939 Ernest Vincent Wright published a 50,000 word novel called *Gadsby* that does not contain the letter \"e\". Since \"e\" is the most common letter in English, writing even a few words without using it is difficult.\n",
    "To get a sense of how difficult, in this chapter we'll compute the fraction of English words have at least one \"e\".\n",
    "\n",
    "For that, we'll use `for` statements to loop through the letters in a string and the words in a file, and we'll update variables in a loop to count the number of words that contain an \"e\".\n",
    "We'll use the `in` operator to check whether a letter appears in a word, and you'll learn a programming pattern called a \"linear search\".\n",
    "\n",
    "As an exercise, you'll use these tools to solve a word puzzle called \"Spelling Bee\"."
   ]
  },
  {
   "cell_type": "markdown",
   "id": "e811cec4",
   "metadata": {},
   "source": [
    "## Loops and strings\n",
    "\n",
    "In Chapter 3 we saw a `for` loop that uses the `range` function to display a sequence of numbers."
   ]
  },
  {
   "cell_type": "code",
   "execution_count": null,
   "id": "263d8a21",
   "metadata": {},
   "outputs": [],
   "source": [
    "for i in range(3):\n",
    "    print(i, end=' ')"
   ]
  },
  {
   "cell_type": "markdown",
   "id": "43d2f4cc",
   "metadata": {},
   "source": [
    "This version uses the keyword argument `end` so the `print` function puts a space after each number rather than a newline.\n",
    "\n",
    "We can also use a `for` loop to display the letters in a string."
   ]
  },
  {
   "cell_type": "code",
   "execution_count": null,
   "id": "c7a880c0",
   "metadata": {},
   "outputs": [],
   "source": [
    "for letter in 'Gadsby':\n",
    "    print(letter, end=' ')"
   ]
  },
  {
   "cell_type": "markdown",
   "id": "3586d230",
   "metadata": {},
   "source": [
    "Notice that I changed the name of the variable from `i` to `letter`, which provides more information about the value it refers to.\n",
    "The variable defined in a `for` loop is called the **loop variable**.\n",
    "\n",
    "Now that we can loop through the letters in a word, we can check whether it contains the letter \"e\"."
   ]
  },
  {
   "cell_type": "code",
   "execution_count": null,
   "id": "d5b7db3a",
   "metadata": {},
   "outputs": [],
   "source": [
    "for letter in \"Gadsby\":\n",
    "    if letter == 'E' or letter == 'e':\n",
    "        print('This word has an \"e\"')"
   ]
  },
  {
   "cell_type": "markdown",
   "id": "09460b96",
   "metadata": {},
   "source": [
    "Before we go on, let's encapsulate that loop in a function."
   ]
  },
  {
   "cell_type": "code",
   "execution_count": null,
   "id": "0f6906c9",
   "metadata": {},
   "outputs": [],
   "source": [
    "def has_e():\n",
    "    for letter in \"Gadsby\":\n",
    "        if letter == 'E' or letter == 'e':\n",
    "            print('This word has an \"e\"')"
   ]
  },
  {
   "cell_type": "markdown",
   "id": "7f1d82bc",
   "metadata": {},
   "source": [
    "And let's make it a pure function that return `True` if the word contains an \"e\" and `False` otherwise."
   ]
  },
  {
   "cell_type": "code",
   "execution_count": null,
   "id": "bb0768f7",
   "metadata": {},
   "outputs": [],
   "source": [
    "def has_e():\n",
    "    for letter in \"Gadsby\":\n",
    "        if letter == 'E' or letter == 'e':\n",
    "            return True\n",
    "    return False"
   ]
  },
  {
   "cell_type": "markdown",
   "id": "a9861581",
   "metadata": {},
   "source": [
    "We can generalize it to take the word as a parameter."
   ]
  },
  {
   "cell_type": "code",
   "execution_count": null,
   "id": "3d6eb57f",
   "metadata": {},
   "outputs": [],
   "source": [
    "def has_e(word):\n",
    "    for letter in word:\n",
    "        if letter == 'E' or letter == 'e':\n",
    "            return True\n",
    "    return False"
   ]
  },
  {
   "cell_type": "markdown",
   "id": "81bba26c",
   "metadata": {},
   "source": [
    "Now we can test it like this:"
   ]
  },
  {
   "cell_type": "code",
   "execution_count": null,
   "id": "91daf71f",
   "metadata": {},
   "outputs": [],
   "source": [
    "has_e('Gadsby')"
   ]
  },
  {
   "cell_type": "code",
   "execution_count": null,
   "id": "6090e3cd",
   "metadata": {},
   "outputs": [],
   "source": [
    "has_e('Emma')"
   ]
  },
  {
   "cell_type": "markdown",
   "id": "95838a98",
   "metadata": {},
   "source": [
    "## Reading the word list\n",
    "\n",
    "To see how many words contain an \"e\", we'll need a word list.\n",
    "The one we'll use is a list of about 114,000 official crosswords; that is, words that are considered valid in crossword puzzles and other word games."
   ]
  },
  {
   "cell_type": "markdown",
   "id": "16766a44",
   "metadata": {},
   "source": [
    "The following cell downloads the word list, which is a modified version of a list collected and contributed to the public domain by Grady Ward as part of the Moby lexicon project (see <http://wikipedia.org/wiki/Moby_Project>)."
   ]
  },
  {
   "cell_type": "code",
   "execution_count": null,
   "id": "e5090078",
   "metadata": {},
   "outputs": [],
   "source": [
    "download('https://raw.githubusercontent.com/AllenDowney/ThinkPython/v3/words.txt');"
   ]
  },
  {
   "cell_type": "markdown",
   "id": "2ac4dc43",
   "metadata": {},
   "source": [
    "The word list is in a file called `words.txt`, which is downloaded in the notebook for this chapter.\n",
    "To read it, we'll use the built-in function `open`, which takes the name of the file as a parameter and returns a **file object** we can use to read the file."
   ]
  },
  {
   "cell_type": "code",
   "execution_count": null,
   "id": "291cf565",
   "metadata": {},
   "outputs": [],
   "source": [
    "file_object = open('words.txt')"
   ]
  },
  {
   "cell_type": "markdown",
   "id": "9db76089",
   "metadata": {},
   "source": [
    "The file object provides a function called `readline`, which reads characters from the file until it gets to a newline and returns the result as a string:"
   ]
  },
  {
   "cell_type": "code",
   "execution_count": null,
   "id": "c659a35c",
   "metadata": {},
   "outputs": [],
   "source": [
    "file_object.readline()"
   ]
  },
  {
   "cell_type": "markdown",
   "id": "15719235",
   "metadata": {},
   "source": [
    "Notice that the syntax for calling `readline` is different from functions we've seen so far. That's because it is a **method**, which is a function associated with an object.\n",
    "In this case `readline` is associated with the file object, so we call it using the name of the object, the dot operator, and the name of the method.\n",
    "\n",
    "The first word in the list is \"aa\", which is a kind of lava.\n",
    "The sequence `\\n` represents the newline character that separates this word from the next.\n",
    "\n",
    "The file object keeps track of where it is in the file, so if you call\n",
    "`readline` again, you get the next word:"
   ]
  },
  {
   "cell_type": "code",
   "execution_count": null,
   "id": "d2db3625",
   "metadata": {},
   "outputs": [],
   "source": [
    "line = file_object.readline()\n",
    "line"
   ]
  },
  {
   "cell_type": "markdown",
   "id": "d216e334",
   "metadata": {},
   "source": [
    "To remove the newline from the end of the word, we can use `strip`, which is a method associated with strings, so we can call it like this."
   ]
  },
  {
   "cell_type": "code",
   "execution_count": null,
   "id": "2f70039d",
   "metadata": {},
   "outputs": [],
   "source": [
    "word = line.strip()\n",
    "word"
   ]
  },
  {
   "cell_type": "markdown",
   "id": "2cf2fd17",
   "metadata": {},
   "source": [
    "`strip` removes whitespace characters -- including spaces, tabs, and newlines -- from the beginning and end of the string.\n",
    "\n",
    "You can also use a file object as part of a `for` loop. \n",
    "This program reads `words.txt` and prints each word, one per line:"
   ]
  },
  {
   "cell_type": "code",
   "execution_count": null,
   "id": "991e7eda",
   "metadata": {},
   "outputs": [],
   "source": [
    "for line in open('words.txt'):\n",
    "    word = line.strip()\n",
    "    print(word)"
   ]
  },
  {
   "cell_type": "markdown",
   "id": "f6c607ab",
   "metadata": {},
   "source": [
    "Now that we can read the word list, the next step is to count them.\n",
    "For that, we will need the ability to update variables."
   ]
  },
  {
   "cell_type": "markdown",
   "id": "5e16433e",
   "metadata": {},
   "source": [
    "## Updating variables\n",
    "\n",
    "As you may have discovered, it is legal to make more than one assignment\n",
    "to the same variable.\n",
    "A new assignment makes an existing variable refer to a new value (and stop referring to the old value).\n",
    "\n",
    "For example, here is an initial assignment that creates a variable."
   ]
  },
  {
   "cell_type": "code",
   "execution_count": null,
   "id": "4ee58e30",
   "metadata": {},
   "outputs": [],
   "source": [
    "x = 5\n",
    "x"
   ]
  },
  {
   "cell_type": "markdown",
   "id": "e9e46f49",
   "metadata": {},
   "source": [
    "And here is an assignment that changes the value of a variable."
   ]
  },
  {
   "cell_type": "code",
   "execution_count": null,
   "id": "dae8ecd5",
   "metadata": {},
   "outputs": [],
   "source": [
    "x = 7\n",
    "x"
   ]
  },
  {
   "cell_type": "markdown",
   "id": "1c7c841b",
   "metadata": {},
   "source": [
    "The following figure shows what these assignments looks like in a state diagram."
   ]
  },
  {
   "cell_type": "code",
   "execution_count": null,
   "id": "e3d9f966",
   "metadata": {},
   "outputs": [],
   "source": [
    "from diagram import make_rebind, draw_bindings\n",
    "\n",
    "bindings = make_rebind('x', [5, 7])"
   ]
  },
  {
   "cell_type": "code",
   "execution_count": null,
   "id": "60f91d25",
   "metadata": {},
   "outputs": [],
   "source": [
    "from diagram import diagram, adjust\n",
    "\n",
    "width, height, x, y = [0.54, 0.61, 0.07, 0.45]\n",
    "ax = diagram(width, height)\n",
    "bbox = draw_bindings(bindings, ax, x, y)\n",
    "# adjust(x, y, bbox)"
   ]
  },
  {
   "cell_type": "markdown",
   "id": "7c2e458e",
   "metadata": {},
   "source": [
    "The dotted arrow indicates that `x` no longer refers to `5`.\n",
    "The solid arrow indicates that it now refers to `7`.\n",
    "\n",
    "A common kind of assignment is an **update**, where the new value of\n",
    "the variable depends on the old."
   ]
  },
  {
   "cell_type": "code",
   "execution_count": null,
   "id": "553fa51d",
   "metadata": {},
   "outputs": [],
   "source": [
    "x = 7"
   ]
  },
  {
   "cell_type": "code",
   "execution_count": null,
   "id": "8ba5aab6",
   "metadata": {},
   "outputs": [],
   "source": [
    "x = x + 1\n",
    "x"
   ]
  },
  {
   "cell_type": "markdown",
   "id": "5bd90281",
   "metadata": {},
   "source": [
    "This statement means \"get the current value of `x`, add one, and assign the result back to `x`.\"\n",
    "\n",
    "If you try to update a variable that doesn't exist, you get an error, because Python evaluates the expression on the right before it assigns a value to the variable on the left."
   ]
  },
  {
   "cell_type": "code",
   "execution_count": null,
   "id": "f220036b",
   "metadata": {},
   "outputs": [],
   "source": [
    "%%expect NameError\n",
    "\n",
    "z = z + 1"
   ]
  },
  {
   "cell_type": "markdown",
   "id": "c35ce798",
   "metadata": {},
   "source": [
    "Before you can update a variable, you have to **initialize** it, usually\n",
    "with a simple assignment:"
   ]
  },
  {
   "cell_type": "code",
   "execution_count": null,
   "id": "2d278030",
   "metadata": {},
   "outputs": [],
   "source": [
    "z = 0\n",
    "z = z + 1\n",
    "z"
   ]
  },
  {
   "cell_type": "markdown",
   "id": "8a300091",
   "metadata": {},
   "source": [
    "Increasing the value of a variable is called an **increment**; decreasing the value is called a **decrement**.\n",
    "Because these operations are so common, Python provides **augmented assignment operators** that update a variable more concisely.\n",
    "For example, the `+=` operator increments a variable by the given amount."
   ]
  },
  {
   "cell_type": "code",
   "execution_count": null,
   "id": "e450a7c0",
   "metadata": {},
   "outputs": [],
   "source": [
    "z += 2\n",
    "z"
   ]
  },
  {
   "cell_type": "markdown",
   "id": "97e7b34c",
   "metadata": {},
   "source": [
    "There are augmented assignment operators for the other arithmetic operators, including `-=` and `*=`."
   ]
  },
  {
   "cell_type": "markdown",
   "id": "80610771",
   "metadata": {},
   "source": [
    "## Looping and counting\n",
    "\n",
    "The following program counts the number of words in the word list."
   ]
  },
  {
   "cell_type": "code",
   "execution_count": null,
   "id": "339a98df",
   "metadata": {},
   "outputs": [],
   "source": [
    "total = 0\n",
    "\n",
    "for line in open('words.txt'):\n",
    "    word = line.strip()\n",
    "    total += 1"
   ]
  },
  {
   "cell_type": "markdown",
   "id": "fcd5304f",
   "metadata": {},
   "source": [
    "It starts by initializing `total` to `0`.\n",
    "Each time through the loop, it increments `total` by `1`.\n",
    "So when the loop exits, `total` refers to the total number of words."
   ]
  },
  {
   "cell_type": "code",
   "execution_count": null,
   "id": "fec7eedd",
   "metadata": {},
   "outputs": [],
   "source": [
    "total"
   ]
  },
  {
   "cell_type": "markdown",
   "id": "2fdc9ad3",
   "metadata": {},
   "source": [
    "A variable like this, used to count the number of times something happens, is called a **counter**.\n",
    "\n",
    "We can add a second counter to the program to keep track of the number of words that contain an \"e\"."
   ]
  },
  {
   "cell_type": "code",
   "execution_count": null,
   "id": "93557172",
   "metadata": {},
   "outputs": [],
   "source": [
    "total = 0\n",
    "count = 0\n",
    "\n",
    "for line in open('words.txt'):\n",
    "    word = line.strip()\n",
    "    total = total + 1\n",
    "    if has_e(word):\n",
    "        count += 1"
   ]
  },
  {
   "cell_type": "markdown",
   "id": "a18a9194",
   "metadata": {},
   "source": [
    "Let's see how many words contain an \"e\"."
   ]
  },
  {
   "cell_type": "code",
   "execution_count": null,
   "id": "3232b652",
   "metadata": {},
   "outputs": [],
   "source": [
    "count"
   ]
  },
  {
   "cell_type": "markdown",
   "id": "227bb26a",
   "metadata": {},
   "source": [
    "As a percentage of `total`, about two-thirds of the words use the letter \"e\"."
   ]
  },
  {
   "cell_type": "code",
   "execution_count": null,
   "id": "a06cc83b",
   "metadata": {},
   "outputs": [],
   "source": [
    "count / total * 100"
   ]
  },
  {
   "cell_type": "markdown",
   "id": "55793d49",
   "metadata": {},
   "source": [
    "So you can understand why it's difficult to craft a book without using any such words."
   ]
  },
  {
   "cell_type": "markdown",
   "id": "804ed445",
   "metadata": {},
   "source": [
    "## The in operator\n",
    "\n",
    "The version of `has_e` we wrote in this chapter is more complicated than it needs to be.\n",
    "Python provides an operator, `in`,  that checks whether a character appears in a string."
   ]
  },
  {
   "cell_type": "code",
   "execution_count": null,
   "id": "4652e9e5",
   "metadata": {},
   "outputs": [],
   "source": [
    "word = 'Gadsby'\n",
    "'e' in word"
   ]
  },
  {
   "cell_type": "markdown",
   "id": "4d56d9e1",
   "metadata": {},
   "source": [
    "So we can rewrite `has_e` like this."
   ]
  },
  {
   "cell_type": "code",
   "execution_count": null,
   "id": "6b7e75bd",
   "metadata": {},
   "outputs": [],
   "source": [
    "def has_e(word):\n",
    "    if 'E' in word or 'e' in word:\n",
    "        return True\n",
    "    else:\n",
    "        return False"
   ]
  },
  {
   "cell_type": "markdown",
   "id": "4fb23877",
   "metadata": {},
   "source": [
    "And because the conditional of the `if` statement has a boolean value, we can eliminate the `if` statement and return the boolean directly."
   ]
  },
  {
   "cell_type": "code",
   "execution_count": null,
   "id": "aec224be",
   "metadata": {},
   "outputs": [],
   "source": [
    "def has_e(word):\n",
    "    return 'E' in word or 'e' in word"
   ]
  },
  {
   "cell_type": "markdown",
   "id": "29a374fa",
   "metadata": {},
   "source": [
    "We can simplify this function even more using the method `lower`, which converts the letters in a string to lowercase.\n",
    "Here's an example."
   ]
  },
  {
   "cell_type": "code",
   "execution_count": null,
   "id": "d48d376a",
   "metadata": {},
   "outputs": [],
   "source": [
    "word.lower()"
   ]
  },
  {
   "cell_type": "markdown",
   "id": "77b9634f",
   "metadata": {},
   "source": [
    "`lower` makes a new string -- it does not modify the existing string -- so the value of `word` is unchanged."
   ]
  },
  {
   "cell_type": "code",
   "execution_count": null,
   "id": "b0e7a684",
   "metadata": {},
   "outputs": [],
   "source": [
    "word"
   ]
  },
  {
   "cell_type": "markdown",
   "id": "fe47e1cf",
   "metadata": {},
   "source": [
    "Here's how we can use `lower` in `has_e`."
   ]
  },
  {
   "cell_type": "code",
   "execution_count": null,
   "id": "a0f3e885",
   "metadata": {},
   "outputs": [],
   "source": [
    "def has_e(word):\n",
    "    return 'e' in word.lower()"
   ]
  },
  {
   "cell_type": "code",
   "execution_count": null,
   "id": "238abe3c",
   "metadata": {},
   "outputs": [],
   "source": [
    "has_e('Gadsby')"
   ]
  },
  {
   "cell_type": "code",
   "execution_count": null,
   "id": "6e3df917",
   "metadata": {},
   "outputs": [],
   "source": [
    "has_e('Emma')"
   ]
  },
  {
   "cell_type": "markdown",
   "id": "1c246c66",
   "metadata": {},
   "source": [
    "## Search\n",
    "\n",
    "Based on this simpler version of `has_e`, let's write a more general function called `uses_any` that takes a second parameter that is a string of letters.\n",
    "It returns `True` if the word uses any of the letters and `False` otherwise."
   ]
  },
  {
   "cell_type": "code",
   "execution_count": null,
   "id": "f65211ac",
   "metadata": {},
   "outputs": [],
   "source": [
    "def uses_any(word, letters):\n",
    "    for letter in word.lower():\n",
    "        if letter in letters.lower():\n",
    "            return True\n",
    "    return False"
   ]
  },
  {
   "cell_type": "markdown",
   "id": "a7b4ff00",
   "metadata": {},
   "source": [
    "Here's an example where the result is `True`."
   ]
  },
  {
   "cell_type": "code",
   "execution_count": null,
   "id": "d75e803d",
   "metadata": {},
   "outputs": [],
   "source": [
    "uses_any('banana', 'aeiou')"
   ]
  },
  {
   "cell_type": "markdown",
   "id": "b281597c",
   "metadata": {},
   "source": [
    "And another where it is `False`."
   ]
  },
  {
   "cell_type": "code",
   "execution_count": null,
   "id": "67c65c06",
   "metadata": {},
   "outputs": [],
   "source": [
    "uses_any('apple', 'xyz')"
   ]
  },
  {
   "cell_type": "markdown",
   "id": "67c86252",
   "metadata": {},
   "source": [
    "`uses_any` converts `word` and `letters` to lowercase, so it works with any combination of cases."
   ]
  },
  {
   "cell_type": "code",
   "execution_count": null,
   "id": "da596f10",
   "metadata": {},
   "outputs": [],
   "source": [
    "uses_any('Banana', 'AEIOU')"
   ]
  },
  {
   "cell_type": "markdown",
   "id": "ab7c523e",
   "metadata": {},
   "source": [
    "The structure of `uses_any` is similar to `has_e`.\n",
    "It loops through the letters in `word` and checks them one at a time.\n",
    "If it finds one that appears in `letters`, it returns `True` immediately.\n",
    "If it gets all the way through the loop without finding any, it returns `False`.\n",
    "\n",
    "This pattern is called a **linear search**.\n",
    "In the exercises at the end of this chapter, you'll write more functions that use this pattern."
   ]
  },
  {
   "cell_type": "markdown",
   "id": "4715c923",
   "metadata": {},
   "source": [
    "## Doctest\n",
    "\n",
    "In [Chapter 4](section_docstring) we used a docstring to document a function -- that is, to explain what it does.\n",
    "It is also possible to use a docstring to *test* a function.\n",
    "Here's a version of `uses_any` with a docstring that includes tests."
   ]
  },
  {
   "cell_type": "code",
   "execution_count": null,
   "id": "dccb2693",
   "metadata": {},
   "outputs": [],
   "source": [
    "def uses_any(word, letters):\n",
    "    \"\"\"Checks if a word uses any of a list of letters.\n",
    "    \n",
    "    >>> uses_any('banana', 'aeiou')\n",
    "    True\n",
    "    >>> uses_any('apple', 'xyz')\n",
    "    False\n",
    "    \"\"\"\n",
    "    for letter in word.lower():\n",
    "        if letter in letters.lower():\n",
    "            return True\n",
    "    return False"
   ]
  },
  {
   "cell_type": "markdown",
   "id": "83682812",
   "metadata": {},
   "source": [
    "Each test begins with `>>>`, which is used as a prompt in some Python environments to indicate where the user can type code.\n",
    "In a doctest, the prompt is followed by an expression, usually a function call.\n",
    "The following line indicates the value the expression should have if the function works correctly.\n",
    "\n",
    "In the first example, `'banana'` uses `'a'`, so the result should be `True`.\n",
    "In the second example, `'apple'` does not use any of `'xyz'`, so the result should be `False`.\n",
    "\n",
    "To run these tests, we have to import the `doctest` module and run a function called `run_docstring_examples`.\n",
    "To make this function easier to use, I wrote the following function, which takes a function object as an argument."
   ]
  },
  {
   "cell_type": "code",
   "execution_count": null,
   "id": "48dbe73d",
   "metadata": {},
   "outputs": [],
   "source": [
    "from doctest import run_docstring_examples\n",
    "\n",
    "def run_doctests(func):\n",
    "    run_docstring_examples(func, globals(), name=func.__name__)"
   ]
  },
  {
   "cell_type": "markdown",
   "id": "53f548ed",
   "metadata": {},
   "source": [
    "We haven't learned about `globals` and `__name__` yet -- you can ignore them.\n",
    "Now we can test `uses_any` like this."
   ]
  },
  {
   "cell_type": "code",
   "execution_count": null,
   "id": "5dec53a0",
   "metadata": {},
   "outputs": [],
   "source": [
    "run_doctests(uses_any)"
   ]
  },
  {
   "cell_type": "markdown",
   "id": "d80e607a",
   "metadata": {},
   "source": [
    "`run_doctests` finds the expressions in the docstring and evaluates them.\n",
    "If the result is the expected value, the test **passes**.\n",
    "Otherwise it **fails**.\n",
    "\n",
    "If all tests pass, `run_doctests` displays no output -- in that case, no news is good news.\n",
    "To see what happens when a test fails, here's an incorrect version of `uses_any`."
   ]
  },
  {
   "cell_type": "code",
   "execution_count": null,
   "id": "2898bd18",
   "metadata": {},
   "outputs": [],
   "source": [
    "def uses_any_incorrect(word, letters):\n",
    "    \"\"\"Checks if a word uses any of a list of letters.\n",
    "    \n",
    "    >>> uses_any_incorrect('banana', 'aeiou')\n",
    "    True\n",
    "    >>> uses_any_incorrect('apple', 'xyz')\n",
    "    False\n",
    "    \"\"\"\n",
    "    for letter in word.lower():\n",
    "        if letter in letters.lower():\n",
    "            return True\n",
    "        else:\n",
    "            return False     # INCORRECT!"
   ]
  },
  {
   "cell_type": "markdown",
   "id": "d019740c",
   "metadata": {},
   "source": [
    "And here's what happens when we test it."
   ]
  },
  {
   "cell_type": "code",
   "execution_count": null,
   "id": "ba0fcc03",
   "metadata": {},
   "outputs": [],
   "source": [
    "run_doctests(uses_any_incorrect)"
   ]
  },
  {
   "cell_type": "markdown",
   "id": "f5f44f7b",
   "metadata": {},
   "source": [
    "The output includes the example that failed, the value the function was expected to produce, and the value the function actually produced.\n",
    "\n",
    "If you are not sure why this test failed, you'll have a chance to debug it as an exercise."
   ]
  },
  {
   "cell_type": "markdown",
   "id": "51a9ef92",
   "metadata": {},
   "source": [
    "## Glossary\n",
    "\n",
    "**loop variable:**\n",
    "A variable defined in the header of a `for` loop.\n",
    "\n",
    "**file object:**\n",
    "An object that represents an open file and keeps track of which parts of the file have been read or written.\n",
    "\n",
    "**method:**\n",
    " A function that is associated with an object and called using the dot operator.\n",
    "\n",
    "**update:**\n",
    "An assignment statement that give a new value to a variable that already exists, rather than creating a new variables.\n",
    "\n",
    "**initialize:**\n",
    "Create a new variable and give it a value.\n",
    "\n",
    "**increment:**\n",
    "Increase the value of a variable.\n",
    "\n",
    "**decrement:**\n",
    "Decrease the value of a variable.\n",
    "\n",
    "**counter:**\n",
    " A variable used to count something, usually initialized to zero and then incremented.\n",
    "\n",
    "**linear search:**\n",
    "A computational pattern that searches through a sequence of elements and stops when it finds what it is looking for.\n",
    "\n",
    "**pass:**\n",
    "If a test runs and the result is as expected, the test passes.\n",
    "\n",
    "**fail:**\n",
    "If a test runs and the result is not as expected, the test fails."
   ]
  },
  {
   "cell_type": "markdown",
   "id": "a1dbe215",
   "metadata": {},
   "source": [
    "## Exercises"
   ]
  },
  {
   "cell_type": "code",
   "execution_count": null,
   "id": "5e118291",
   "metadata": {},
   "outputs": [],
   "source": [
    "# This cell tells Jupyter to provide detailed debugging information\n",
    "# when a runtime error occurs. Run it before working on the exercises.\n",
    "\n",
    "%xmode Verbose"
   ]
  },
  {
   "cell_type": "markdown",
   "id": "67fe621b",
   "metadata": {},
   "source": [
    "### Ask a virtual assistant\n",
    "\n",
    "In `uses_any`, you might have noticed that the first `return` statement is inside the loop and the second is outside."
   ]
  },
  {
   "cell_type": "code",
   "execution_count": null,
   "id": "18a66a1a",
   "metadata": {},
   "outputs": [],
   "source": [
    "def uses_any(word, letters):\n",
    "    for letter in word.lower():\n",
    "        if letter in letters.lower():\n",
    "            return True\n",
    "    return False"
   ]
  },
  {
   "cell_type": "markdown",
   "id": "fae043dd",
   "metadata": {},
   "source": [
    "When people first write functions like this, it is a common error to put both `return` statements inside the loop, like this."
   ]
  },
  {
   "cell_type": "code",
   "execution_count": null,
   "id": "18e1f344",
   "metadata": {},
   "outputs": [],
   "source": [
    "def uses_any_incorrect(word, letters):\n",
    "    for letter in word.lower():\n",
    "        if letter in letters.lower():\n",
    "            return True\n",
    "        else:\n",
    "            return False     # INCORRECT!"
   ]
  },
  {
   "cell_type": "markdown",
   "id": "78f187d4",
   "metadata": {},
   "source": [
    "Ask a virtual assistant what's wrong with this version."
   ]
  },
  {
   "cell_type": "markdown",
   "id": "4914e0bf",
   "metadata": {},
   "source": [
    "### Exercise\n",
    "\n",
    "Write a function named `uses_none` that takes a word and a string of forbidden letters, and returns `True` if the word does not use any of the forbidden letters.\n",
    "\n",
    "Here's an outline of the function that includes two doctests.\n",
    "Fill in the function so it passes these tests, and add at least one more doctest."
   ]
  },
  {
   "cell_type": "code",
   "execution_count": null,
   "id": "66287d3e",
   "metadata": {},
   "outputs": [],
   "source": [
    "def uses_none(word, forbidden):\n",
    "    \"\"\"Checks whether a word avoid forbidden letters.\n",
    "    \n",
    "    >>> uses_none('banana', 'xyz')\n",
    "    True\n",
    "    >>> uses_none('apple', 'efg')\n",
    "    False\n",
    "    \"\"\"\n",
    "    return None"
   ]
  },
  {
   "cell_type": "code",
   "execution_count": null,
   "id": "9dc46782",
   "metadata": {},
   "outputs": [],
   "source": [
    "# Solution goes here"
   ]
  },
  {
   "cell_type": "code",
   "execution_count": null,
   "id": "792be7b9",
   "metadata": {},
   "outputs": [],
   "source": [
    "run_doctests(uses_none)"
   ]
  },
  {
   "cell_type": "markdown",
   "id": "d24a8d4c",
   "metadata": {},
   "source": [
    "### Exercise\n",
    "\n",
    "Write a function called `uses_only` that takes a word and a string of letters, and that returns `True` if the word contains only letters in the string.\n",
    "\n",
    "Here's an outline of the function that includes two doctests.\n",
    "Fill in the function so it passes these tests, and add at least one more doctest."
   ]
  },
  {
   "cell_type": "code",
   "execution_count": null,
   "id": "fce29133",
   "metadata": {},
   "outputs": [],
   "source": [
    "def uses_only(word, available):\n",
    "    \"\"\"Checks whether a word uses only the available letters.\n",
    "    \n",
    "    >>> uses_only('banana', 'ban')\n",
    "    True\n",
    "    >>> uses_only('apple', 'apl')\n",
    "    False\n",
    "    \"\"\"\n",
    "    return None"
   ]
  },
  {
   "cell_type": "code",
   "execution_count": null,
   "id": "133f5fbb",
   "metadata": {},
   "outputs": [],
   "source": [
    "# Solution goes here"
   ]
  },
  {
   "cell_type": "code",
   "execution_count": null,
   "id": "ec4fff3a",
   "metadata": {},
   "outputs": [],
   "source": [
    "run_doctests(uses_only)"
   ]
  },
  {
   "cell_type": "markdown",
   "id": "77698f2c",
   "metadata": {},
   "source": [
    "### Exercise\n",
    "\n",
    "Write a function called `uses_all` that takes a word and a string of letters, and that returns `True` if the word contains all of the letters in the string at least once.\n",
    "\n",
    "Here's an outline of the function that includes two doctests.\n",
    "Fill in the function so it passes these tests, and add at least one more doctest."
   ]
  },
  {
   "cell_type": "code",
   "execution_count": null,
   "id": "49f69e16",
   "metadata": {},
   "outputs": [],
   "source": [
    "def uses_all(word, required):\n",
    "    \"\"\"Checks whether a word uses all required letters.\n",
    "    \n",
    "    >>> uses_all('banana', 'ban')\n",
    "    True\n",
    "    >>> uses_all('apple', 'api')\n",
    "    False\n",
    "    \"\"\"\n",
    "    return None"
   ]
  },
  {
   "cell_type": "code",
   "execution_count": null,
   "id": "50b18d84",
   "metadata": {},
   "outputs": [],
   "source": [
    "# Solution goes here"
   ]
  },
  {
   "cell_type": "code",
   "execution_count": null,
   "id": "7e6f7e06",
   "metadata": {},
   "outputs": [],
   "source": [
    "run_doctests(uses_all)"
   ]
  },
  {
   "cell_type": "markdown",
   "id": "d5626fa6",
   "metadata": {},
   "source": [
    "### Exercise\n",
    "\n",
    "*The New York Times* publishes a daily puzzle called \"Spelling Bee\" that challenges readers to spell as many words as possible using only seven letters, where one of the letters is required.\n",
    "The words must have at least four letters.\n",
    "\n",
    "For example, on the day I wrote this, the letters were `ACDLORT`, with `R` as the required letter.\n",
    "So \"color\" is an acceptable word, but \"told\" is not, because it does not use `R`, and \"rat\" is not because it has only three letters.\n",
    "Letters can be repeated, so \"ratatat\" is acceptable.\n",
    "\n",
    "Write a function called `check_word` that checks whether a given word is acceptable.\n",
    "It should take as parameters the word to check, a string of seven available letters, and a string containing the single required letter.\n",
    "You can use the functions you wrote in previous exercises.\n",
    "\n",
    "Here's an outline of the function that includes doctests.\n",
    "Fill in the function and then check that all tests pass."
   ]
  },
  {
   "cell_type": "code",
   "execution_count": null,
   "id": "ca027e4b",
   "metadata": {},
   "outputs": [],
   "source": [
    "def check_word(word, available, required):\n",
    "    \"\"\"Check whether a word is acceptable.\n",
    "    \n",
    "    >>> check_word('color', 'ACDLORT', 'R')\n",
    "    True\n",
    "    >>> check_word('ratatat', 'ACDLORT', 'R')\n",
    "    True\n",
    "    >>> check_word('rat', 'ACDLORT', 'R')\n",
    "    False\n",
    "    >>> check_word('told', 'ACDLORT', 'R')\n",
    "    False\n",
    "    >>> check_word('bee', 'ACDLORT', 'R')\n",
    "    False\n",
    "    \"\"\"\n",
    "    return False"
   ]
  },
  {
   "cell_type": "code",
   "execution_count": null,
   "id": "ee82fbc5",
   "metadata": {},
   "outputs": [],
   "source": [
    "# Solution goes here"
   ]
  },
  {
   "cell_type": "code",
   "execution_count": null,
   "id": "2b991250",
   "metadata": {},
   "outputs": [],
   "source": [
    "run_doctests(check_word)"
   ]
  },
  {
   "cell_type": "markdown",
   "id": "0ba4d303",
   "metadata": {},
   "source": [
    "According to the \"Spelling Bee\" rules,\n",
    "\n",
    "* Four-letter words are worth 1 point each.\n",
    "\n",
    "* Longer words earn 1 point per letter.\n",
    "\n",
    "* Each puzzle includes at least one \"pangram\" which uses every letter. These are worth 7 extra points!\n",
    "\n",
    "Write a function called `score_word` that takes a word and a string of available letters and returns its score.\n",
    "You can assume that the word is acceptable.\n",
    "\n",
    "Again, here's an outline of the function with doctests."
   ]
  },
  {
   "cell_type": "code",
   "execution_count": null,
   "id": "75777163",
   "metadata": {},
   "outputs": [],
   "source": [
    "def word_score(word, available):\n",
    "    \"\"\"Compute the score for an acceptable word.\n",
    "    \n",
    "    >>> word_score('card', 'ACDLORT')\n",
    "    1\n",
    "    >>> word_score('color', 'ACDLORT')\n",
    "    5\n",
    "    >>> word_score('cartload', 'ACDLORT')\n",
    "    15\n",
    "    \"\"\"\n",
    "    return 0"
   ]
  },
  {
   "cell_type": "code",
   "execution_count": null,
   "id": "4acd219f",
   "metadata": {},
   "outputs": [],
   "source": [
    "# Solution goes here"
   ]
  },
  {
   "cell_type": "code",
   "execution_count": null,
   "id": "5f9d1cae",
   "metadata": {},
   "outputs": [],
   "source": [
    "run_doctests(word_score)"
   ]
  },
  {
   "cell_type": "markdown",
   "id": "698ad7b1",
   "metadata": {},
   "source": [
    "When all of your functions pass their tests, use the following loop to search the word list for acceptable words and add up their scores."
   ]
  },
  {
   "cell_type": "code",
   "execution_count": null,
   "id": "d5260c40",
   "metadata": {},
   "outputs": [],
   "source": [
    "available = 'ACDLORT'\n",
    "required = 'R'\n",
    "\n",
    "total = 0\n",
    "\n",
    "file_object = open('words.txt')\n",
    "for line in file_object:\n",
    "    word = line.strip()    \n",
    "    if check_word(word, available, required):\n",
    "        score = word_score(word, available)\n",
    "        total = total + score\n",
    "        print(word, score)\n",
    "        \n",
    "print(\"Total score\", total)"
   ]
  },
  {
   "cell_type": "markdown",
   "id": "fb824bc6",
   "metadata": {},
   "source": [
    "Visit the \"Spelling Bee\" page at <https://www.nytimes.com/puzzles/spelling-bee> and type in the available letters for the day. The letter in the middle is required.\n",
    "\n",
    "I found a set of letters that spells words with a total score of 5820. Can you beat that? Finding the best set of letters might be too hard -- you have to be a realist."
   ]
  },
  {
   "cell_type": "markdown",
   "id": "859cf12f",
   "metadata": {},
   "source": [
    "### Exercise\n",
    "\n",
    "You might have noticed that the functions you wrote in the previous exercises had a lot in common.\n",
    "In fact, they are so similar you can often use one function to write another.\n",
    "\n",
    "For example, if a word uses none of a set forbidden letters, that means it doesn't use any. So we can write a version of `uses_none` like this."
   ]
  },
  {
   "cell_type": "code",
   "execution_count": null,
   "id": "15ae5797",
   "metadata": {},
   "outputs": [],
   "source": [
    "def uses_none(word, forbidden):\n",
    "    \"\"\"Checks whether a word avoids forbidden letters.\n",
    "    \n",
    "    >>> uses_none('banana', 'xyz')\n",
    "    True\n",
    "    >>> uses_none('apple', 'efg')\n",
    "    False\n",
    "    >>> uses_none('', 'abc')\n",
    "    True\n",
    "    \"\"\"\n",
    "    return not uses_any(word, forbidden)"
   ]
  },
  {
   "cell_type": "code",
   "execution_count": null,
   "id": "dd71a576",
   "metadata": {},
   "outputs": [],
   "source": [
    "run_doctests(uses_none)"
   ]
  },
  {
   "cell_type": "markdown",
   "id": "db5e3bcc",
   "metadata": {},
   "source": [
    "There is also a similarity between `uses_only` and `uses_all` that you can take advantage of.\n",
    "If you have a working version of `uses_only`, see if you can write a version of `uses_all` that calls `uses_only`."
   ]
  },
  {
   "cell_type": "markdown",
   "id": "7746255c",
   "metadata": {},
   "source": [
    "### Exercise\n",
    "\n",
    "If you got stuck on the previous question, try asking a virtual assistant, \"Given a function, `uses_only`, which takes two strings and checks that the first uses only the letters in the second, use it to write `uses_all`, which takes two strings and checks whether the first uses all the letters in the second, allowing repeats.\"\n",
    "\n",
    "Use `run_doctests` to check the answer."
   ]
  },
  {
   "cell_type": "code",
   "execution_count": null,
   "id": "f956905a",
   "metadata": {},
   "outputs": [],
   "source": [
    "# Solution goes here"
   ]
  },
  {
   "cell_type": "code",
   "execution_count": null,
   "id": "8321fe16",
   "metadata": {},
   "outputs": [],
   "source": [
    "run_doctests(uses_all)"
   ]
  },
  {
   "cell_type": "markdown",
   "id": "e3f22a5f",
   "metadata": {},
   "source": [
    "### Exercise\n",
    "\n",
    "Now let's see if we can write `uses_all` based on `uses_any`.\n",
    "\n",
    "Ask a virtual assistant, \"Given a function, `uses_any`, which takes two strings and checks whether the first uses any of the letters in the second, can you use it to write `uses_all`, which takes two strings and checks whether the first uses all the letters in the second, allowing repeats.\"\n",
    "\n",
    "If it says it can, be sure to test the result!"
   ]
  },
  {
   "cell_type": "code",
   "execution_count": null,
   "id": "df5361ae",
   "metadata": {},
   "outputs": [],
   "source": [
    "# Solution goes here"
   ]
  },
  {
   "cell_type": "code",
   "execution_count": null,
   "id": "4a405432",
   "metadata": {},
   "outputs": [],
   "source": [
    "# Here's what I got from ChatGPT 4o December 26, 2024\n",
    "# It's correct, but it makes multiple calls to uses_any \n",
    "\n",
    "def uses_all(s1, s2):\n",
    "    \"\"\"Checks if all characters in s2 are in s1, allowing repeats.\"\"\"\n",
    "    for char in s2:\n",
    "        if not uses_any(s1, char):\n",
    "            return False\n",
    "    return True"
   ]
  },
  {
   "cell_type": "code",
   "execution_count": null,
   "id": "7a35819a",
   "metadata": {},
   "outputs": [],
   "source": [
    "# Solution goes here"
   ]
  },
  {
   "cell_type": "markdown",
   "id": "20b08a31",
   "metadata": {},
   "source": [
    "[Think Python: 3rd Edition](https://allendowney.github.io/ThinkPython/index.html)\n",
    "\n",
    "Copyright 2024 [Allen B. Downey](https://allendowney.com)\n",
    "\n",
    "Code license: [MIT License](https://mit-license.org/)\n",
    "\n",
    "Text license: [Creative Commons Attribution-NonCommercial-ShareAlike 4.0 International](https://creativecommons.org/licenses/by-nc-sa/4.0/)"
   ]
  }
 ],
 "metadata": {
  "jupytext": {
   "text_representation": {
    "extension": ".md",
    "format_name": "myst",
    "format_version": 0.13,
    "jupytext_version": "1.17.2"
   }
  },
  "kernelspec": {
   "display_name": "Python 3 (ipykernel)",
   "language": "python",
   "name": "python3"
  },
  "source_map": [
   12,
   20,
   24,
   35,
   40,
   44,
   47,
   57,
   63,
   66,
   72,
   75,
   82,
   86,
   90,
   95,
   99,
   105,
   109,
   115,
   119,
   123,
   125,
   132,
   136,
   138,
   143,
   145,
   149,
   151,
   162,
   165,
   169,
   172,
   179,
   183,
   188,
   198,
   201,
   205,
   208,
   212,
   218,
   225,
   233,
   237,
   240,
   246,
   250,
   255,
   259,
   265,
   268,
   272,
   278,
   284,
   290,
   292,
   298,
   307,
   311,
   313,
   317,
   319,
   323,
   330,
   333,
   337,
   343,
   347,
   350,
   355,
   357,
   361,
   363,
   367,
   372,
   376,
   378,
   385,
   391,
   395,
   397,
   401,
   403,
   407,
   409,
   419,
   427,
   440,
   452,
   457,
   462,
   464,
   473,
   487,
   491,
   493,
   499,
   536,
   540,
   545,
   551,
   557,
   561,
   568,
   572,
   581,
   593,
   597,
   599,
   608,
   620,
   624,
   626,
   635,
   647,
   651,
   653,
   671,
   689,
   693,
   695,
   710,
   724,
   728,
   730,
   734,
   749,
   755,
   764,
   778,
   780,
   785,
   793,
   797,
   799,
   809,
   813,
   825,
   827
  ]
 },
 "nbformat": 4,
 "nbformat_minor": 5
}