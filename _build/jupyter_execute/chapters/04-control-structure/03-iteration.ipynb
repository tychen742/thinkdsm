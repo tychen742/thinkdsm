{
 "cells": [
  {
   "cell_type": "code",
   "execution_count": null,
   "id": "b9bed0a6",
   "metadata": {},
   "outputs": [],
   "source": [
    "from os.path import basename, exists\n",
    "\n",
    "def download(url):\n",
    "    filename = basename(url)\n",
    "    if not exists(filename):\n",
    "        from urllib.request import urlretrieve\n",
    "\n",
    "        local, _ = urlretrieve(url, filename)\n",
    "        print(\"Downloaded \" + str(local))\n",
    "    return filename\n",
    "\n",
    "download('https://github.com/AllenDowney/ThinkPython/raw/v3/thinkpython.py');\n",
    "download('https://github.com/AllenDowney/ThinkPython/raw/v3/diagram.py');\n",
    "\n",
    "import thinkpython"
   ]
  },
  {
   "cell_type": "markdown",
   "id": "49ba041d",
   "metadata": {},
   "source": [
    "# Iteration and Search\n",
    "\n",
    "## Looping through a list\n",
    "\n",
    "You can use a `for` statement to loop through the elements of a list."
   ]
  },
  {
   "cell_type": "code",
   "execution_count": null,
   "id": "b723caa6",
   "metadata": {},
   "outputs": [],
   "source": [
    "fruits = [\"apple\", \"banana\", \"cherry\"]\n",
    "for fruit in fruits:\n",
    "    print(fruit, end=\" \")                   ### apple banana cherry"
   ]
  },
  {
   "cell_type": "markdown",
   "id": "ab236a66",
   "metadata": {},
   "source": [
    "<!-- >>> fruits = [\"apple\", \"banana\", \"cherry\"]\n",
    ">>> for fruit in fruits:\n",
    "...     print(fruit)\n",
    "...     \n",
    "apple\n",
    "banana\n",
    "cherry -->\n",
    "\n",
    "For example, after using `split` to make a list of words, we can use `for` to loop through them."
   ]
  },
  {
   "cell_type": "code",
   "execution_count": null,
   "id": "9e9cf314",
   "metadata": {},
   "outputs": [],
   "source": [
    "s = 'pining for the fjords'\n",
    "\n",
    "for word in s.split():\n",
    "    print(word)"
   ]
  },
  {
   "cell_type": "markdown",
   "id": "b134d841",
   "metadata": {},
   "source": [
    "A `for` loop over an empty list never runs the indented statements."
   ]
  },
  {
   "cell_type": "code",
   "execution_count": null,
   "id": "4b20ba98",
   "metadata": {},
   "outputs": [],
   "source": [
    "for x in []:\n",
    "    print('This never happens.')"
   ]
  },
  {
   "cell_type": "markdown",
   "id": "ddd4ae76",
   "metadata": {},
   "source": [
    "In 1939 Ernest Vincent Wright published a 50,000 word novel called *Gadsby* that does not contain the letter \"e\". Since \"e\" is the most common letter in English, writing even a few words without using it is difficult.\n",
    "To get a sense of how difficult, in this chapter we'll compute the fraction of English words have at least one \"e\".\n",
    "\n",
    "For that, we'll use `for` statements to loop through the letters in a string and the words in a file, and we'll update variables in a loop to count the number of words that contain an \"e\".\n",
    "We'll use the `in` operator to check whether a letter appears in a word, and you'll learn a programming pattern called a \"linear search\".\n",
    "\n",
    "As an exercise, you'll use these tools to solve a word puzzle called \"Spelling Bee\"."
   ]
  },
  {
   "cell_type": "markdown",
   "id": "adff0a8a",
   "metadata": {},
   "source": [
    "## Loops and strings\n",
    "\n",
    "In Chapter 3 we saw a `for` loop that uses the `range` function to display a sequence of numbers."
   ]
  },
  {
   "cell_type": "code",
   "execution_count": null,
   "id": "da935b88",
   "metadata": {},
   "outputs": [],
   "source": [
    "for i in range(3):\n",
    "    print(i, end=' ')"
   ]
  },
  {
   "cell_type": "markdown",
   "id": "0a84af4a",
   "metadata": {},
   "source": [
    "This version uses the keyword argument `end` so the `print` function puts a space after each number rather than a newline.\n",
    "\n",
    "We can also use a `for` loop to display the letters in a string."
   ]
  },
  {
   "cell_type": "code",
   "execution_count": null,
   "id": "bf9dcf2d",
   "metadata": {},
   "outputs": [],
   "source": [
    "for letter in 'Gadsby':\n",
    "    print(letter, end=' ')"
   ]
  },
  {
   "cell_type": "markdown",
   "id": "4c4abf4a",
   "metadata": {},
   "source": [
    "Notice that I changed the name of the variable from `i` to `letter`, which provides more information about the value it refers to.\n",
    "The variable defined in a `for` loop is called the **loop variable**.\n",
    "\n",
    "Now that we can loop through the letters in a word, we can check whether it contains the letter \"e\"."
   ]
  },
  {
   "cell_type": "code",
   "execution_count": null,
   "id": "fd8dd1bb",
   "metadata": {},
   "outputs": [],
   "source": [
    "for letter in \"Gadsby\":\n",
    "    if letter == 'E' or letter == 'e':\n",
    "        print('This word has an \"e\"')"
   ]
  },
  {
   "cell_type": "markdown",
   "id": "acbbebb6",
   "metadata": {},
   "source": [
    "Before we go on, let's encapsulate that loop in a function."
   ]
  },
  {
   "cell_type": "code",
   "execution_count": null,
   "id": "07379aeb",
   "metadata": {},
   "outputs": [],
   "source": [
    "def has_e():\n",
    "    for letter in \"Gadsby\":\n",
    "        if letter == 'E' or letter == 'e':\n",
    "            print('This word has an \"e\"')"
   ]
  },
  {
   "cell_type": "markdown",
   "id": "df729187",
   "metadata": {},
   "source": [
    "And let's make it a pure function that return `True` if the word contains an \"e\" and `False` otherwise."
   ]
  },
  {
   "cell_type": "code",
   "execution_count": null,
   "id": "d016db2b",
   "metadata": {},
   "outputs": [],
   "source": [
    "def has_e():\n",
    "    for letter in \"Gadsby\":\n",
    "        if letter == 'E' or letter == 'e':\n",
    "            return True\n",
    "    return False"
   ]
  },
  {
   "cell_type": "markdown",
   "id": "d310ec12",
   "metadata": {},
   "source": [
    "We can generalize it to take the word as a parameter."
   ]
  },
  {
   "cell_type": "code",
   "execution_count": null,
   "id": "4abda1e6",
   "metadata": {},
   "outputs": [],
   "source": [
    "def has_e(word):\n",
    "    for letter in word:\n",
    "        if letter == 'E' or letter == 'e':\n",
    "            return True\n",
    "    return False"
   ]
  },
  {
   "cell_type": "markdown",
   "id": "c58f3e3d",
   "metadata": {},
   "source": [
    "Now we can test it like this:"
   ]
  },
  {
   "cell_type": "code",
   "execution_count": null,
   "id": "d032c899",
   "metadata": {},
   "outputs": [],
   "source": [
    "has_e('Gadsby')"
   ]
  },
  {
   "cell_type": "code",
   "execution_count": null,
   "id": "bde6bf1b",
   "metadata": {},
   "outputs": [],
   "source": [
    "has_e('Emma')"
   ]
  },
  {
   "cell_type": "markdown",
   "id": "454646a9",
   "metadata": {},
   "source": [
    "## Reading the word list\n",
    "\n",
    "To see how many words contain an \"e\", we'll need a word list.\n",
    "The one we'll use is a list of about 114,000 official crosswords; that is, words that are considered valid in crossword puzzles and other word games."
   ]
  },
  {
   "cell_type": "markdown",
   "id": "b6fd435f",
   "metadata": {},
   "source": [
    "The following cell downloads the word list, which is a modified version of a list collected and contributed to the public domain by Grady Ward as part of the Moby lexicon project (see <http://wikipedia.org/wiki/Moby_Project>)."
   ]
  },
  {
   "cell_type": "code",
   "execution_count": null,
   "id": "6c6cd336",
   "metadata": {},
   "outputs": [],
   "source": [
    "download('https://raw.githubusercontent.com/AllenDowney/ThinkPython/v3/words.txt');"
   ]
  },
  {
   "cell_type": "markdown",
   "id": "28fa8aa6",
   "metadata": {},
   "source": [
    "The word list is in a file called `words.txt`, which is downloaded in the notebook for this chapter.\n",
    "To read it, we'll use the built-in function `open`, which takes the name of the file as a parameter and returns a **file object** we can use to read the file."
   ]
  },
  {
   "cell_type": "code",
   "execution_count": null,
   "id": "66642ffb",
   "metadata": {},
   "outputs": [],
   "source": [
    "file_object = open('words.txt')"
   ]
  },
  {
   "cell_type": "markdown",
   "id": "576dd0c0",
   "metadata": {},
   "source": [
    "The file object provides a function called `readline`, which reads characters from the file until it gets to a newline and returns the result as a string:"
   ]
  },
  {
   "cell_type": "code",
   "execution_count": null,
   "id": "56b32948",
   "metadata": {},
   "outputs": [],
   "source": [
    "file_object.readline()"
   ]
  },
  {
   "cell_type": "markdown",
   "id": "75abcde9",
   "metadata": {},
   "source": [
    "Notice that the syntax for calling `readline` is different from functions we've seen so far. That's because it is a **method**, which is a function associated with an object.\n",
    "In this case `readline` is associated with the file object, so we call it using the name of the object, the dot operator, and the name of the method.\n",
    "\n",
    "The first word in the list is \"aa\", which is a kind of lava.\n",
    "The sequence `\\n` represents the newline character that separates this word from the next.\n",
    "\n",
    "The file object keeps track of where it is in the file, so if you call\n",
    "`readline` again, you get the next word:"
   ]
  },
  {
   "cell_type": "code",
   "execution_count": null,
   "id": "3417ed66",
   "metadata": {},
   "outputs": [],
   "source": [
    "line = file_object.readline()\n",
    "line"
   ]
  },
  {
   "cell_type": "markdown",
   "id": "f0adfb75",
   "metadata": {},
   "source": [
    "To remove the newline from the end of the word, we can use `strip`, which is a method associated with strings, so we can call it like this."
   ]
  },
  {
   "cell_type": "code",
   "execution_count": null,
   "id": "32ea2b29",
   "metadata": {},
   "outputs": [],
   "source": [
    "word = line.strip()\n",
    "word"
   ]
  },
  {
   "cell_type": "markdown",
   "id": "9fe45fe9",
   "metadata": {},
   "source": [
    "`strip` removes whitespace characters -- including spaces, tabs, and newlines -- from the beginning and end of the string.\n",
    "\n",
    "You can also use a file object as part of a `for` loop. \n",
    "This program reads `words.txt` and prints each word, one per line:"
   ]
  },
  {
   "cell_type": "code",
   "execution_count": null,
   "id": "80cac96d",
   "metadata": {},
   "outputs": [],
   "source": [
    "for line in open('words.txt'):\n",
    "    word = line.strip()\n",
    "    print(word)"
   ]
  },
  {
   "cell_type": "markdown",
   "id": "0f2fad73",
   "metadata": {},
   "source": [
    "Now that we can read the word list, the next step is to count them.\n",
    "For that, we will need the ability to update variables."
   ]
  },
  {
   "cell_type": "markdown",
   "id": "64bb2213",
   "metadata": {},
   "source": [
    "## Updating variables\n",
    "\n",
    "As you may have discovered, it is legal to make more than one assignment\n",
    "to the same variable.\n",
    "A new assignment makes an existing variable refer to a new value (and stop referring to the old value).\n",
    "\n",
    "For example, here is an initial assignment that creates a variable."
   ]
  },
  {
   "cell_type": "code",
   "execution_count": null,
   "id": "8bf2a246",
   "metadata": {},
   "outputs": [],
   "source": [
    "x = 5\n",
    "x"
   ]
  },
  {
   "cell_type": "markdown",
   "id": "5a627d5a",
   "metadata": {},
   "source": [
    "And here is an assignment that changes the value of a variable."
   ]
  },
  {
   "cell_type": "code",
   "execution_count": null,
   "id": "b51fb667",
   "metadata": {},
   "outputs": [],
   "source": [
    "x = 7\n",
    "x"
   ]
  },
  {
   "cell_type": "markdown",
   "id": "5c1cf0e7",
   "metadata": {},
   "source": [
    "The following figure shows what these assignments looks like in a state diagram."
   ]
  },
  {
   "cell_type": "code",
   "execution_count": null,
   "id": "ac7830ca",
   "metadata": {},
   "outputs": [],
   "source": [
    "from diagram import make_rebind, draw_bindings\n",
    "\n",
    "bindings = make_rebind('x', [5, 7])"
   ]
  },
  {
   "cell_type": "code",
   "execution_count": null,
   "id": "4b878c1f",
   "metadata": {},
   "outputs": [],
   "source": [
    "from diagram import diagram, adjust\n",
    "\n",
    "width, height, x, y = [0.54, 0.61, 0.07, 0.45]\n",
    "ax = diagram(width, height)\n",
    "bbox = draw_bindings(bindings, ax, x, y)\n",
    "# adjust(x, y, bbox)"
   ]
  },
  {
   "cell_type": "markdown",
   "id": "6d41ab8d",
   "metadata": {},
   "source": [
    "The dotted arrow indicates that `x` no longer refers to `5`.\n",
    "The solid arrow indicates that it now refers to `7`.\n",
    "\n",
    "A common kind of assignment is an **update**, where the new value of\n",
    "the variable depends on the old."
   ]
  },
  {
   "cell_type": "code",
   "execution_count": null,
   "id": "dcf4a0c0",
   "metadata": {},
   "outputs": [],
   "source": [
    "x = 7"
   ]
  },
  {
   "cell_type": "code",
   "execution_count": null,
   "id": "fbc2e202",
   "metadata": {},
   "outputs": [],
   "source": [
    "x = x + 1\n",
    "x"
   ]
  },
  {
   "cell_type": "markdown",
   "id": "8fea825e",
   "metadata": {},
   "source": [
    "This statement means \"get the current value of `x`, add one, and assign the result back to `x`.\"\n",
    "\n",
    "If you try to update a variable that doesn't exist, you get an error, because Python evaluates the expression on the right before it assigns a value to the variable on the left."
   ]
  },
  {
   "cell_type": "code",
   "execution_count": null,
   "id": "abb727bf",
   "metadata": {},
   "outputs": [],
   "source": [
    "%%expect NameError\n",
    "\n",
    "z = z + 1"
   ]
  },
  {
   "cell_type": "markdown",
   "id": "cacd698d",
   "metadata": {},
   "source": [
    "Before you can update a variable, you have to **initialize** it, usually\n",
    "with a simple assignment:"
   ]
  },
  {
   "cell_type": "code",
   "execution_count": null,
   "id": "4c7a6af2",
   "metadata": {},
   "outputs": [],
   "source": [
    "z = 0\n",
    "z = z + 1\n",
    "z"
   ]
  },
  {
   "cell_type": "markdown",
   "id": "b18862d4",
   "metadata": {},
   "source": [
    "Increasing the value of a variable is called an **increment**; decreasing the value is called a **decrement**.\n",
    "Because these operations are so common, Python provides **augmented assignment operators** that update a variable more concisely.\n",
    "For example, the `+=` operator increments a variable by the given amount."
   ]
  },
  {
   "cell_type": "code",
   "execution_count": null,
   "id": "a948360b",
   "metadata": {},
   "outputs": [],
   "source": [
    "z += 2\n",
    "z"
   ]
  },
  {
   "cell_type": "markdown",
   "id": "2a6b9e09",
   "metadata": {},
   "source": [
    "There are augmented assignment operators for the other arithmetic operators, including `-=` and `*=`."
   ]
  },
  {
   "cell_type": "markdown",
   "id": "0044488b",
   "metadata": {},
   "source": [
    "## Looping and counting\n",
    "\n",
    "The following program counts the number of words in the word list."
   ]
  },
  {
   "cell_type": "code",
   "execution_count": null,
   "id": "1e5cd91b",
   "metadata": {},
   "outputs": [],
   "source": [
    "total = 0\n",
    "\n",
    "for line in open('words.txt'):\n",
    "    word = line.strip()\n",
    "    total += 1"
   ]
  },
  {
   "cell_type": "markdown",
   "id": "e3c79eae",
   "metadata": {},
   "source": [
    "It starts by initializing `total` to `0`.\n",
    "Each time through the loop, it increments `total` by `1`.\n",
    "So when the loop exits, `total` refers to the total number of words."
   ]
  },
  {
   "cell_type": "code",
   "execution_count": null,
   "id": "531d0595",
   "metadata": {},
   "outputs": [],
   "source": [
    "total"
   ]
  },
  {
   "cell_type": "markdown",
   "id": "8a779bf9",
   "metadata": {},
   "source": [
    "A variable like this, used to count the number of times something happens, is called a **counter**.\n",
    "\n",
    "We can add a second counter to the program to keep track of the number of words that contain an \"e\"."
   ]
  },
  {
   "cell_type": "code",
   "execution_count": null,
   "id": "b0583904",
   "metadata": {},
   "outputs": [],
   "source": [
    "total = 0\n",
    "count = 0\n",
    "\n",
    "for line in open('words.txt'):\n",
    "    word = line.strip()\n",
    "    total = total + 1\n",
    "    if has_e(word):\n",
    "        count += 1"
   ]
  },
  {
   "cell_type": "markdown",
   "id": "3d80a37c",
   "metadata": {},
   "source": [
    "Let's see how many words contain an \"e\"."
   ]
  },
  {
   "cell_type": "code",
   "execution_count": null,
   "id": "6dcf6656",
   "metadata": {},
   "outputs": [],
   "source": [
    "count"
   ]
  },
  {
   "cell_type": "markdown",
   "id": "ac732c75",
   "metadata": {},
   "source": [
    "As a percentage of `total`, about two-thirds of the words use the letter \"e\"."
   ]
  },
  {
   "cell_type": "code",
   "execution_count": null,
   "id": "7a8a2b62",
   "metadata": {},
   "outputs": [],
   "source": [
    "count / total * 100"
   ]
  },
  {
   "cell_type": "markdown",
   "id": "f3eccaef",
   "metadata": {},
   "source": [
    "So you can understand why it's difficult to craft a book without using any such words."
   ]
  },
  {
   "cell_type": "markdown",
   "id": "126459f5",
   "metadata": {},
   "source": [
    "## The in operator\n",
    "\n",
    "The version of `has_e` we wrote in this chapter is more complicated than it needs to be.\n",
    "Python provides an operator, `in`,  that checks whether a character appears in a string."
   ]
  },
  {
   "cell_type": "code",
   "execution_count": null,
   "id": "0cd4b1a0",
   "metadata": {},
   "outputs": [],
   "source": [
    "word = 'Gadsby'\n",
    "'e' in word"
   ]
  },
  {
   "cell_type": "markdown",
   "id": "29aa8746",
   "metadata": {},
   "source": [
    "So we can rewrite `has_e` like this."
   ]
  },
  {
   "cell_type": "code",
   "execution_count": null,
   "id": "91908873",
   "metadata": {},
   "outputs": [],
   "source": [
    "def has_e(word):\n",
    "    if 'E' in word or 'e' in word:\n",
    "        return True\n",
    "    else:\n",
    "        return False"
   ]
  },
  {
   "cell_type": "markdown",
   "id": "b93d84b4",
   "metadata": {},
   "source": [
    "And because the conditional of the `if` statement has a boolean value, we can eliminate the `if` statement and return the boolean directly."
   ]
  },
  {
   "cell_type": "code",
   "execution_count": null,
   "id": "a083ef48",
   "metadata": {},
   "outputs": [],
   "source": [
    "def has_e(word):\n",
    "    return 'E' in word or 'e' in word"
   ]
  },
  {
   "cell_type": "markdown",
   "id": "a889913c",
   "metadata": {},
   "source": [
    "We can simplify this function even more using the method `lower`, which converts the letters in a string to lowercase.\n",
    "Here's an example."
   ]
  },
  {
   "cell_type": "code",
   "execution_count": null,
   "id": "066e0456",
   "metadata": {},
   "outputs": [],
   "source": [
    "word.lower()"
   ]
  },
  {
   "cell_type": "markdown",
   "id": "1bba0804",
   "metadata": {},
   "source": [
    "`lower` makes a new string -- it does not modify the existing string -- so the value of `word` is unchanged."
   ]
  },
  {
   "cell_type": "code",
   "execution_count": null,
   "id": "08e39f03",
   "metadata": {},
   "outputs": [],
   "source": [
    "word"
   ]
  },
  {
   "cell_type": "markdown",
   "id": "79a7109f",
   "metadata": {},
   "source": [
    "Here's how we can use `lower` in `has_e`."
   ]
  },
  {
   "cell_type": "code",
   "execution_count": null,
   "id": "52a5ef9b",
   "metadata": {},
   "outputs": [],
   "source": [
    "def has_e(word):\n",
    "    return 'e' in word.lower()"
   ]
  },
  {
   "cell_type": "code",
   "execution_count": null,
   "id": "864d69cb",
   "metadata": {},
   "outputs": [],
   "source": [
    "has_e('Gadsby')"
   ]
  },
  {
   "cell_type": "code",
   "execution_count": null,
   "id": "08f9277a",
   "metadata": {},
   "outputs": [],
   "source": [
    "has_e('Emma')"
   ]
  },
  {
   "cell_type": "markdown",
   "id": "1eae53c1",
   "metadata": {},
   "source": [
    "## Search\n",
    "\n",
    "Based on this simpler version of `has_e`, let's write a more general function called `uses_any` that takes a second parameter that is a string of letters.\n",
    "It returns `True` if the word uses any of the letters and `False` otherwise."
   ]
  },
  {
   "cell_type": "code",
   "execution_count": null,
   "id": "3ce151a8",
   "metadata": {},
   "outputs": [],
   "source": [
    "def uses_any(word, letters):\n",
    "    for letter in word.lower():\n",
    "        if letter in letters.lower():\n",
    "            return True\n",
    "    return False"
   ]
  },
  {
   "cell_type": "markdown",
   "id": "5dc1e206",
   "metadata": {},
   "source": [
    "Here's an example where the result is `True`."
   ]
  },
  {
   "cell_type": "code",
   "execution_count": null,
   "id": "9f33e14d",
   "metadata": {},
   "outputs": [],
   "source": [
    "uses_any('banana', 'aeiou')"
   ]
  },
  {
   "cell_type": "markdown",
   "id": "ec5b1a48",
   "metadata": {},
   "source": [
    "And another where it is `False`."
   ]
  },
  {
   "cell_type": "code",
   "execution_count": null,
   "id": "7628737d",
   "metadata": {},
   "outputs": [],
   "source": [
    "uses_any('apple', 'xyz')"
   ]
  },
  {
   "cell_type": "markdown",
   "id": "cf8c87c2",
   "metadata": {},
   "source": [
    "`uses_any` converts `word` and `letters` to lowercase, so it works with any combination of cases."
   ]
  },
  {
   "cell_type": "code",
   "execution_count": null,
   "id": "75f2bd88",
   "metadata": {},
   "outputs": [],
   "source": [
    "uses_any('Banana', 'AEIOU')"
   ]
  },
  {
   "cell_type": "markdown",
   "id": "a787db03",
   "metadata": {},
   "source": [
    "The structure of `uses_any` is similar to `has_e`.\n",
    "It loops through the letters in `word` and checks them one at a time.\n",
    "If it finds one that appears in `letters`, it returns `True` immediately.\n",
    "If it gets all the way through the loop without finding any, it returns `False`.\n",
    "\n",
    "This pattern is called a **linear search**.\n",
    "In the exercises at the end of this chapter, you'll write more functions that use this pattern."
   ]
  },
  {
   "cell_type": "markdown",
   "id": "979bb7df",
   "metadata": {},
   "source": [
    "## Doctest\n",
    "\n",
    "In [Chapter 4](section_docstring) we used a docstring to document a function -- that is, to explain what it does.\n",
    "It is also possible to use a docstring to *test* a function.\n",
    "Here's a version of `uses_any` with a docstring that includes tests."
   ]
  },
  {
   "cell_type": "code",
   "execution_count": null,
   "id": "1c2f9fac",
   "metadata": {},
   "outputs": [],
   "source": [
    "def uses_any(word, letters):\n",
    "    \"\"\"Checks if a word uses any of a list of letters.\n",
    "    \n",
    "    >>> uses_any('banana', 'aeiou')\n",
    "    True\n",
    "    >>> uses_any('apple', 'xyz')\n",
    "    False\n",
    "    \"\"\"\n",
    "    for letter in word.lower():\n",
    "        if letter in letters.lower():\n",
    "            return True\n",
    "    return False"
   ]
  },
  {
   "cell_type": "markdown",
   "id": "184f4e13",
   "metadata": {},
   "source": [
    "Each test begins with `>>>`, which is used as a prompt in some Python environments to indicate where the user can type code.\n",
    "In a doctest, the prompt is followed by an expression, usually a function call.\n",
    "The following line indicates the value the expression should have if the function works correctly.\n",
    "\n",
    "In the first example, `'banana'` uses `'a'`, so the result should be `True`.\n",
    "In the second example, `'apple'` does not use any of `'xyz'`, so the result should be `False`.\n",
    "\n",
    "To run these tests, we have to import the `doctest` module and run a function called `run_docstring_examples`.\n",
    "To make this function easier to use, I wrote the following function, which takes a function object as an argument."
   ]
  },
  {
   "cell_type": "code",
   "execution_count": null,
   "id": "46ece0a2",
   "metadata": {},
   "outputs": [],
   "source": [
    "from doctest import run_docstring_examples\n",
    "\n",
    "def run_doctests(func):\n",
    "    run_docstring_examples(func, globals(), name=func.__name__)"
   ]
  },
  {
   "cell_type": "markdown",
   "id": "ea5b08b4",
   "metadata": {},
   "source": [
    "We haven't learned about `globals` and `__name__` yet -- you can ignore them.\n",
    "Now we can test `uses_any` like this."
   ]
  },
  {
   "cell_type": "code",
   "execution_count": null,
   "id": "0d68ab49",
   "metadata": {},
   "outputs": [],
   "source": [
    "run_doctests(uses_any)"
   ]
  },
  {
   "cell_type": "markdown",
   "id": "79ae4bd0",
   "metadata": {},
   "source": [
    "`run_doctests` finds the expressions in the docstring and evaluates them.\n",
    "If the result is the expected value, the test **passes**.\n",
    "Otherwise it **fails**.\n",
    "\n",
    "If all tests pass, `run_doctests` displays no output -- in that case, no news is good news.\n",
    "To see what happens when a test fails, here's an incorrect version of `uses_any`."
   ]
  },
  {
   "cell_type": "code",
   "execution_count": null,
   "id": "777dc8bc",
   "metadata": {},
   "outputs": [],
   "source": [
    "def uses_any_incorrect(word, letters):\n",
    "    \"\"\"Checks if a word uses any of a list of letters.\n",
    "    \n",
    "    >>> uses_any_incorrect('banana', 'aeiou')\n",
    "    True\n",
    "    >>> uses_any_incorrect('apple', 'xyz')\n",
    "    False\n",
    "    \"\"\"\n",
    "    for letter in word.lower():\n",
    "        if letter in letters.lower():\n",
    "            return True\n",
    "        else:\n",
    "            return False     # INCORRECT!"
   ]
  },
  {
   "cell_type": "markdown",
   "id": "56ffc5a4",
   "metadata": {},
   "source": [
    "And here's what happens when we test it."
   ]
  },
  {
   "cell_type": "code",
   "execution_count": null,
   "id": "60d9f987",
   "metadata": {},
   "outputs": [],
   "source": [
    "run_doctests(uses_any_incorrect)"
   ]
  },
  {
   "cell_type": "markdown",
   "id": "e9f4f1cf",
   "metadata": {},
   "source": [
    "The output includes the example that failed, the value the function was expected to produce, and the value the function actually produced.\n",
    "\n",
    "If you are not sure why this test failed, you'll have a chance to debug it as an exercise."
   ]
  },
  {
   "cell_type": "markdown",
   "id": "c72fbf31",
   "metadata": {},
   "source": [
    "## Glossary\n",
    "\n",
    "**loop variable:**\n",
    "A variable defined in the header of a `for` loop.\n",
    "\n",
    "**file object:**\n",
    "An object that represents an open file and keeps track of which parts of the file have been read or written.\n",
    "\n",
    "**method:**\n",
    " A function that is associated with an object and called using the dot operator.\n",
    "\n",
    "**update:**\n",
    "An assignment statement that give a new value to a variable that already exists, rather than creating a new variables.\n",
    "\n",
    "**initialize:**\n",
    "Create a new variable and give it a value.\n",
    "\n",
    "**increment:**\n",
    "Increase the value of a variable.\n",
    "\n",
    "**decrement:**\n",
    "Decrease the value of a variable.\n",
    "\n",
    "**counter:**\n",
    " A variable used to count something, usually initialized to zero and then incremented.\n",
    "\n",
    "**linear search:**\n",
    "A computational pattern that searches through a sequence of elements and stops when it finds what it is looking for.\n",
    "\n",
    "**pass:**\n",
    "If a test runs and the result is as expected, the test passes.\n",
    "\n",
    "**fail:**\n",
    "If a test runs and the result is not as expected, the test fails."
   ]
  },
  {
   "cell_type": "markdown",
   "id": "3b61c47e",
   "metadata": {},
   "source": [
    "## Exercises"
   ]
  },
  {
   "cell_type": "code",
   "execution_count": null,
   "id": "0d76ac44",
   "metadata": {},
   "outputs": [],
   "source": [
    "# This cell tells Jupyter to provide detailed debugging information\n",
    "# when a runtime error occurs. Run it before working on the exercises.\n",
    "\n",
    "%xmode Verbose"
   ]
  },
  {
   "cell_type": "markdown",
   "id": "3abfedc3",
   "metadata": {},
   "source": [
    "### Ask a virtual assistant\n",
    "\n",
    "In `uses_any`, you might have noticed that the first `return` statement is inside the loop and the second is outside."
   ]
  },
  {
   "cell_type": "code",
   "execution_count": null,
   "id": "779037d9",
   "metadata": {},
   "outputs": [],
   "source": [
    "def uses_any(word, letters):\n",
    "    for letter in word.lower():\n",
    "        if letter in letters.lower():\n",
    "            return True\n",
    "    return False"
   ]
  },
  {
   "cell_type": "markdown",
   "id": "c166cf72",
   "metadata": {},
   "source": [
    "When people first write functions like this, it is a common error to put both `return` statements inside the loop, like this."
   ]
  },
  {
   "cell_type": "code",
   "execution_count": null,
   "id": "279ede2c",
   "metadata": {},
   "outputs": [],
   "source": [
    "def uses_any_incorrect(word, letters):\n",
    "    for letter in word.lower():\n",
    "        if letter in letters.lower():\n",
    "            return True\n",
    "        else:\n",
    "            return False     # INCORRECT!"
   ]
  },
  {
   "cell_type": "markdown",
   "id": "260102e9",
   "metadata": {},
   "source": [
    "Ask a virtual assistant what's wrong with this version."
   ]
  },
  {
   "cell_type": "markdown",
   "id": "23036257",
   "metadata": {},
   "source": [
    "### Exercise\n",
    "\n",
    "Write a function named `uses_none` that takes a word and a string of forbidden letters, and returns `True` if the word does not use any of the forbidden letters.\n",
    "\n",
    "Here's an outline of the function that includes two doctests.\n",
    "Fill in the function so it passes these tests, and add at least one more doctest."
   ]
  },
  {
   "cell_type": "code",
   "execution_count": null,
   "id": "59a6221a",
   "metadata": {},
   "outputs": [],
   "source": [
    "def uses_none(word, forbidden):\n",
    "    \"\"\"Checks whether a word avoid forbidden letters.\n",
    "    \n",
    "    >>> uses_none('banana', 'xyz')\n",
    "    True\n",
    "    >>> uses_none('apple', 'efg')\n",
    "    False\n",
    "    \"\"\"\n",
    "    return None"
   ]
  },
  {
   "cell_type": "code",
   "execution_count": null,
   "id": "638aaeae",
   "metadata": {},
   "outputs": [],
   "source": [
    "# Solution goes here"
   ]
  },
  {
   "cell_type": "code",
   "execution_count": null,
   "id": "480d2f7c",
   "metadata": {},
   "outputs": [],
   "source": [
    "run_doctests(uses_none)"
   ]
  },
  {
   "cell_type": "markdown",
   "id": "29e8cd5a",
   "metadata": {},
   "source": [
    "### Exercise\n",
    "\n",
    "Write a function called `uses_only` that takes a word and a string of letters, and that returns `True` if the word contains only letters in the string.\n",
    "\n",
    "Here's an outline of the function that includes two doctests.\n",
    "Fill in the function so it passes these tests, and add at least one more doctest."
   ]
  },
  {
   "cell_type": "code",
   "execution_count": null,
   "id": "5bb07168",
   "metadata": {},
   "outputs": [],
   "source": [
    "def uses_only(word, available):\n",
    "    \"\"\"Checks whether a word uses only the available letters.\n",
    "    \n",
    "    >>> uses_only('banana', 'ban')\n",
    "    True\n",
    "    >>> uses_only('apple', 'apl')\n",
    "    False\n",
    "    \"\"\"\n",
    "    return None"
   ]
  },
  {
   "cell_type": "code",
   "execution_count": null,
   "id": "21bc4348",
   "metadata": {},
   "outputs": [],
   "source": [
    "# Solution goes here"
   ]
  },
  {
   "cell_type": "code",
   "execution_count": null,
   "id": "8991d24a",
   "metadata": {},
   "outputs": [],
   "source": [
    "run_doctests(uses_only)"
   ]
  },
  {
   "cell_type": "markdown",
   "id": "dd660a93",
   "metadata": {},
   "source": [
    "### Exercise\n",
    "\n",
    "Write a function called `uses_all` that takes a word and a string of letters, and that returns `True` if the word contains all of the letters in the string at least once.\n",
    "\n",
    "Here's an outline of the function that includes two doctests.\n",
    "Fill in the function so it passes these tests, and add at least one more doctest."
   ]
  },
  {
   "cell_type": "code",
   "execution_count": null,
   "id": "d0ed943f",
   "metadata": {},
   "outputs": [],
   "source": [
    "def uses_all(word, required):\n",
    "    \"\"\"Checks whether a word uses all required letters.\n",
    "    \n",
    "    >>> uses_all('banana', 'ban')\n",
    "    True\n",
    "    >>> uses_all('apple', 'api')\n",
    "    False\n",
    "    \"\"\"\n",
    "    return None"
   ]
  },
  {
   "cell_type": "code",
   "execution_count": null,
   "id": "dbf10eaa",
   "metadata": {},
   "outputs": [],
   "source": [
    "# Solution goes here"
   ]
  },
  {
   "cell_type": "code",
   "execution_count": null,
   "id": "f2401146",
   "metadata": {},
   "outputs": [],
   "source": [
    "run_doctests(uses_all)"
   ]
  },
  {
   "cell_type": "markdown",
   "id": "93803eca",
   "metadata": {},
   "source": [
    "### Exercise\n",
    "\n",
    "*The New York Times* publishes a daily puzzle called \"Spelling Bee\" that challenges readers to spell as many words as possible using only seven letters, where one of the letters is required.\n",
    "The words must have at least four letters.\n",
    "\n",
    "For example, on the day I wrote this, the letters were `ACDLORT`, with `R` as the required letter.\n",
    "So \"color\" is an acceptable word, but \"told\" is not, because it does not use `R`, and \"rat\" is not because it has only three letters.\n",
    "Letters can be repeated, so \"ratatat\" is acceptable.\n",
    "\n",
    "Write a function called `check_word` that checks whether a given word is acceptable.\n",
    "It should take as parameters the word to check, a string of seven available letters, and a string containing the single required letter.\n",
    "You can use the functions you wrote in previous exercises.\n",
    "\n",
    "Here's an outline of the function that includes doctests.\n",
    "Fill in the function and then check that all tests pass."
   ]
  },
  {
   "cell_type": "code",
   "execution_count": null,
   "id": "b432dc12",
   "metadata": {},
   "outputs": [],
   "source": [
    "def check_word(word, available, required):\n",
    "    \"\"\"Check whether a word is acceptable.\n",
    "    \n",
    "    >>> check_word('color', 'ACDLORT', 'R')\n",
    "    True\n",
    "    >>> check_word('ratatat', 'ACDLORT', 'R')\n",
    "    True\n",
    "    >>> check_word('rat', 'ACDLORT', 'R')\n",
    "    False\n",
    "    >>> check_word('told', 'ACDLORT', 'R')\n",
    "    False\n",
    "    >>> check_word('bee', 'ACDLORT', 'R')\n",
    "    False\n",
    "    \"\"\"\n",
    "    return False"
   ]
  },
  {
   "cell_type": "code",
   "execution_count": null,
   "id": "6c6892b1",
   "metadata": {},
   "outputs": [],
   "source": [
    "# Solution goes here"
   ]
  },
  {
   "cell_type": "code",
   "execution_count": null,
   "id": "75ad9b7c",
   "metadata": {},
   "outputs": [],
   "source": [
    "run_doctests(check_word)"
   ]
  },
  {
   "cell_type": "markdown",
   "id": "6a83b4e1",
   "metadata": {},
   "source": [
    "According to the \"Spelling Bee\" rules,\n",
    "\n",
    "* Four-letter words are worth 1 point each.\n",
    "\n",
    "* Longer words earn 1 point per letter.\n",
    "\n",
    "* Each puzzle includes at least one \"pangram\" which uses every letter. These are worth 7 extra points!\n",
    "\n",
    "Write a function called `score_word` that takes a word and a string of available letters and returns its score.\n",
    "You can assume that the word is acceptable.\n",
    "\n",
    "Again, here's an outline of the function with doctests."
   ]
  },
  {
   "cell_type": "code",
   "execution_count": null,
   "id": "94c09383",
   "metadata": {},
   "outputs": [],
   "source": [
    "def word_score(word, available):\n",
    "    \"\"\"Compute the score for an acceptable word.\n",
    "    \n",
    "    >>> word_score('card', 'ACDLORT')\n",
    "    1\n",
    "    >>> word_score('color', 'ACDLORT')\n",
    "    5\n",
    "    >>> word_score('cartload', 'ACDLORT')\n",
    "    15\n",
    "    \"\"\"\n",
    "    return 0"
   ]
  },
  {
   "cell_type": "code",
   "execution_count": null,
   "id": "1545db0c",
   "metadata": {},
   "outputs": [],
   "source": [
    "# Solution goes here"
   ]
  },
  {
   "cell_type": "code",
   "execution_count": null,
   "id": "e9b2d1bf",
   "metadata": {},
   "outputs": [],
   "source": [
    "run_doctests(word_score)"
   ]
  },
  {
   "cell_type": "markdown",
   "id": "e85963bf",
   "metadata": {},
   "source": [
    "When all of your functions pass their tests, use the following loop to search the word list for acceptable words and add up their scores."
   ]
  },
  {
   "cell_type": "code",
   "execution_count": null,
   "id": "dccb32fd",
   "metadata": {},
   "outputs": [],
   "source": [
    "available = 'ACDLORT'\n",
    "required = 'R'\n",
    "\n",
    "total = 0\n",
    "\n",
    "file_object = open('words.txt')\n",
    "for line in file_object:\n",
    "    word = line.strip()    \n",
    "    if check_word(word, available, required):\n",
    "        score = word_score(word, available)\n",
    "        total = total + score\n",
    "        print(word, score)\n",
    "        \n",
    "print(\"Total score\", total)"
   ]
  },
  {
   "cell_type": "markdown",
   "id": "1e777ca6",
   "metadata": {},
   "source": [
    "Visit the \"Spelling Bee\" page at <https://www.nytimes.com/puzzles/spelling-bee> and type in the available letters for the day. The letter in the middle is required.\n",
    "\n",
    "I found a set of letters that spells words with a total score of 5820. Can you beat that? Finding the best set of letters might be too hard -- you have to be a realist."
   ]
  },
  {
   "cell_type": "markdown",
   "id": "291ba1a9",
   "metadata": {},
   "source": [
    "### Exercise\n",
    "\n",
    "You might have noticed that the functions you wrote in the previous exercises had a lot in common.\n",
    "In fact, they are so similar you can often use one function to write another.\n",
    "\n",
    "For example, if a word uses none of a set forbidden letters, that means it doesn't use any. So we can write a version of `uses_none` like this."
   ]
  },
  {
   "cell_type": "code",
   "execution_count": null,
   "id": "c0b7ca61",
   "metadata": {},
   "outputs": [],
   "source": [
    "def uses_none(word, forbidden):\n",
    "    \"\"\"Checks whether a word avoids forbidden letters.\n",
    "    \n",
    "    >>> uses_none('banana', 'xyz')\n",
    "    True\n",
    "    >>> uses_none('apple', 'efg')\n",
    "    False\n",
    "    >>> uses_none('', 'abc')\n",
    "    True\n",
    "    \"\"\"\n",
    "    return not uses_any(word, forbidden)"
   ]
  },
  {
   "cell_type": "code",
   "execution_count": null,
   "id": "7c818ffe",
   "metadata": {},
   "outputs": [],
   "source": [
    "run_doctests(uses_none)"
   ]
  },
  {
   "cell_type": "markdown",
   "id": "50acc72d",
   "metadata": {},
   "source": [
    "There is also a similarity between `uses_only` and `uses_all` that you can take advantage of.\n",
    "If you have a working version of `uses_only`, see if you can write a version of `uses_all` that calls `uses_only`."
   ]
  },
  {
   "cell_type": "markdown",
   "id": "2e3fde68",
   "metadata": {},
   "source": [
    "### Exercise\n",
    "\n",
    "If you got stuck on the previous question, try asking a virtual assistant, \"Given a function, `uses_only`, which takes two strings and checks that the first uses only the letters in the second, use it to write `uses_all`, which takes two strings and checks whether the first uses all the letters in the second, allowing repeats.\"\n",
    "\n",
    "Use `run_doctests` to check the answer."
   ]
  },
  {
   "cell_type": "code",
   "execution_count": null,
   "id": "7c7daa3f",
   "metadata": {},
   "outputs": [],
   "source": [
    "# Solution goes here"
   ]
  },
  {
   "cell_type": "code",
   "execution_count": null,
   "id": "3ebdd6e7",
   "metadata": {},
   "outputs": [],
   "source": [
    "run_doctests(uses_all)"
   ]
  },
  {
   "cell_type": "markdown",
   "id": "b0d4f0a4",
   "metadata": {},
   "source": [
    "### Exercise\n",
    "\n",
    "Now let's see if we can write `uses_all` based on `uses_any`.\n",
    "\n",
    "Ask a virtual assistant, \"Given a function, `uses_any`, which takes two strings and checks whether the first uses any of the letters in the second, can you use it to write `uses_all`, which takes two strings and checks whether the first uses all the letters in the second, allowing repeats.\"\n",
    "\n",
    "If it says it can, be sure to test the result!"
   ]
  },
  {
   "cell_type": "code",
   "execution_count": null,
   "id": "504ea4ba",
   "metadata": {},
   "outputs": [],
   "source": [
    "# Solution goes here"
   ]
  },
  {
   "cell_type": "code",
   "execution_count": null,
   "id": "4624d0a2",
   "metadata": {},
   "outputs": [],
   "source": [
    "# Here's what I got from ChatGPT 4o December 26, 2024\n",
    "# It's correct, but it makes multiple calls to uses_any \n",
    "\n",
    "def uses_all(s1, s2):\n",
    "    \"\"\"Checks if all characters in s2 are in s1, allowing repeats.\"\"\"\n",
    "    for char in s2:\n",
    "        if not uses_any(s1, char):\n",
    "            return False\n",
    "    return True"
   ]
  },
  {
   "cell_type": "code",
   "execution_count": null,
   "id": "4adc0c93",
   "metadata": {},
   "outputs": [],
   "source": [
    "# Solution goes here"
   ]
  },
  {
   "cell_type": "markdown",
   "id": "87e2da24",
   "metadata": {},
   "source": [
    "[Think Python: 3rd Edition](https://allendowney.github.io/ThinkPython/index.html)\n",
    "\n",
    "Copyright 2024 [Allen B. Downey](https://allendowney.com)\n",
    "\n",
    "Code license: [MIT License](https://mit-license.org/)\n",
    "\n",
    "Text license: [Creative Commons Attribution-NonCommercial-ShareAlike 4.0 International](https://creativecommons.org/licenses/by-nc-sa/4.0/)"
   ]
  }
 ],
 "metadata": {
  "jupytext": {
   "text_representation": {
    "extension": ".md",
    "format_name": "myst",
    "format_version": 0.13,
    "jupytext_version": "1.17.2"
   }
  },
  "kernelspec": {
   "display_name": "Python 3 (ipykernel)",
   "language": "python",
   "name": "python3"
  },
  "source_map": [
   14,
   30,
   38,
   42,
   53,
   58,
   62,
   65,
   75,
   81,
   84,
   90,
   93,
   100,
   104,
   108,
   113,
   117,
   123,
   127,
   133,
   137,
   141,
   143,
   150,
   154,
   156,
   161,
   163,
   167,
   169,
   180,
   183,
   187,
   190,
   197,
   201,
   206,
   216,
   219,
   223,
   226,
   230,
   236,
   243,
   251,
   255,
   258,
   264,
   268,
   273,
   277,
   283,
   286,
   290,
   296,
   302,
   308,
   310,
   316,
   325,
   329,
   331,
   335,
   337,
   341,
   348,
   351,
   355,
   361,
   365,
   368,
   373,
   375,
   379,
   381,
   385,
   390,
   394,
   396,
   403,
   409,
   413,
   415,
   419,
   421,
   425,
   427,
   437,
   445,
   458,
   470,
   475,
   480,
   482,
   491,
   505,
   509,
   511,
   517,
   554,
   558,
   563,
   569,
   575,
   579,
   586,
   590,
   599,
   611,
   615,
   617,
   626,
   638,
   642,
   644,
   653,
   665,
   669,
   671,
   689,
   707,
   711,
   713,
   728,
   742,
   746,
   748,
   752,
   767,
   773,
   782,
   796,
   798,
   803,
   811,
   815,
   817,
   827,
   831,
   843,
   845
  ]
 },
 "nbformat": 4,
 "nbformat_minor": 5
}