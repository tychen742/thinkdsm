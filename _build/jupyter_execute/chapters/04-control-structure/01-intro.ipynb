{
 "cells": [
  {
   "cell_type": "markdown",
   "id": "1e1cdb73",
   "metadata": {},
   "source": [
    "# Control Structures\n",
    "\n",
    "The three fundamental control structures in computer programming, dictating the order in which instructions are executed within a program are:\n",
    "\n",
    "1. Sequence logic (sequential flow)\n",
    "2. Selection logic (conditional flow)\n",
    "3. Iteration logic (repetitive flow)\n",
    "\n",
    "As a fundamental concept, programming languages executes statements sequentially by default. Lines of instructions are executed in defined order unless control structures (conditional statements), loops (for, while), or flow controls (break, continue, return, and exceptions) alter the sequential processing flow. \n",
    "\n",
    "Functions encapsulate reusable behavior, accept positional and keyword parameters, return values, and create local scope \n",
    "and modular design; \n",
    "\n",
    "Together, sequential execution, control structures, and functions let you decompose problems, control when and how operations run, avoid repetition, and express complex logic clearly and testably.\n",
    "\n",
    "\n",
    "\n",
    "## for Loops"
   ]
  },
  {
   "cell_type": "code",
   "execution_count": null,
   "id": "c2d93a38",
   "metadata": {},
   "outputs": [],
   "source": [
    "seq = [1,2,3,4,5]"
   ]
  },
  {
   "cell_type": "code",
   "execution_count": null,
   "id": "ab7c2794",
   "metadata": {},
   "outputs": [],
   "source": [
    "for item in seq:\n",
    "    print(item)"
   ]
  },
  {
   "cell_type": "code",
   "execution_count": null,
   "id": "783f82b5",
   "metadata": {},
   "outputs": [],
   "source": [
    "for item in seq:\n",
    "    print('Yep')"
   ]
  },
  {
   "cell_type": "code",
   "execution_count": null,
   "id": "1d55cbea",
   "metadata": {},
   "outputs": [],
   "source": [
    "for jelly in seq:\n",
    "    print(jelly+jelly)"
   ]
  },
  {
   "cell_type": "markdown",
   "id": "b355a74d",
   "metadata": {},
   "source": [
    "## while Loops"
   ]
  },
  {
   "cell_type": "code",
   "execution_count": null,
   "id": "d7bb39a2",
   "metadata": {},
   "outputs": [],
   "source": [
    "i = 1\n",
    "while i < 5:\n",
    "    print('i is: {}'.format(i))\n",
    "    i = i+1"
   ]
  },
  {
   "cell_type": "code",
   "execution_count": null,
   "id": "f3ea3d92",
   "metadata": {},
   "outputs": [],
   "source": []
  }
 ],
 "metadata": {
  "display_name": "Python (ipykernel)",
  "jupytext": {
   "formats": "md:myst",
   "text_representation": {
    "extension": ".md",
    "format_name": "myst",
    "format_version": 0.13,
    "jupytext_version": "1.17.2"
   }
  },
  "kernelspec": {
   "display_name": "python3",
   "language": "python",
   "name": "python3"
  },
  "source_map": [
   15,
   36,
   40,
   45,
   50,
   53,
   57,
   64
  ]
 },
 "nbformat": 4,
 "nbformat_minor": 5
}