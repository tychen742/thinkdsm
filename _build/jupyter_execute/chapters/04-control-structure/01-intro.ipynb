{
 "cells": [
  {
   "cell_type": "markdown",
   "id": "155c0b19",
   "metadata": {},
   "source": [
    "# Control Structures\n",
    "\n",
    "The three fundamental control structures in computer programming, dictating the order in which instructions are executed within a program are:\n",
    "\n",
    "1. Sequence logic (sequential flow)\n",
    "2. Selection logic (conditional flow)\n",
    "3. Iteration logic (repetitive flow)\n",
    "\n",
    "As a fundamental concept, programming languages executes statements sequentially by default. Lines of instructions are executed in defined order unless control structures (conditional statements), loops (for, while), or flow controls (break, continue, return, and exceptions) alter the sequential processing flow. \n",
    "\n",
    "Functions encapsulate reusable behavior, accept positional and keyword parameters, return values, and create local scope \n",
    "and modular design; \n",
    "\n",
    "Together, sequential execution, control structures, and functions let you decompose problems, control when and how operations run, avoid repetition, and express complex logic clearly and testably.\n",
    "\n",
    "\n",
    "\n",
    "## for Loops"
   ]
  },
  {
   "cell_type": "code",
   "execution_count": null,
   "id": "75678b9e",
   "metadata": {},
   "outputs": [],
   "source": [
    "seq = [1,2,3,4,5]"
   ]
  },
  {
   "cell_type": "code",
   "execution_count": null,
   "id": "b7cdd7af",
   "metadata": {},
   "outputs": [],
   "source": [
    "for item in seq:\n",
    "    print(item)"
   ]
  },
  {
   "cell_type": "code",
   "execution_count": null,
   "id": "010f330a",
   "metadata": {},
   "outputs": [],
   "source": [
    "for item in seq:\n",
    "    print('Yep')"
   ]
  },
  {
   "cell_type": "code",
   "execution_count": null,
   "id": "e42c2295",
   "metadata": {},
   "outputs": [],
   "source": [
    "for jelly in seq:\n",
    "    print(jelly+jelly)"
   ]
  },
  {
   "cell_type": "markdown",
   "id": "004f89df",
   "metadata": {},
   "source": [
    "## while Loops"
   ]
  },
  {
   "cell_type": "code",
   "execution_count": null,
   "id": "3d207509",
   "metadata": {},
   "outputs": [],
   "source": [
    "i = 1\n",
    "while i < 5:\n",
    "    print('i is: {}'.format(i))\n",
    "    i = i+1"
   ]
  },
  {
   "cell_type": "code",
   "execution_count": null,
   "id": "1349b9f5",
   "metadata": {},
   "outputs": [],
   "source": []
  }
 ],
 "metadata": {
  "display_name": "Python (ipykernel)",
  "jupytext": {
   "formats": "md:myst",
   "text_representation": {
    "extension": ".md",
    "format_name": "myst",
    "format_version": 0.13,
    "jupytext_version": "1.17.2"
   }
  },
  "kernelspec": {
   "display_name": "python3",
   "language": "python",
   "name": "python3"
  },
  "source_map": [
   15,
   36,
   40,
   45,
   50,
   53,
   57,
   64
  ]
 },
 "nbformat": 4,
 "nbformat_minor": 5
}